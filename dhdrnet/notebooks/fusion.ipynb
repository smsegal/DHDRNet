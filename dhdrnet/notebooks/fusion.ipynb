{
 "cells": [
  {
   "cell_type": "code",
   "execution_count": null,
   "metadata": {},
   "outputs": [],
   "source": [
    "import os\n",
    "import sys\n",
    "module_path = os.path.abspath(os.path.join('../..'))\n",
    "\n",
    "if module_path not in sys.path:\n",
    "    sys.path.append(module_path)"
   ]
  },
  {
   "cell_type": "code",
   "execution_count": null,
   "metadata": {},
   "outputs": [],
   "source": [
    "from pathlib import Path\n",
    "import colour\n",
    "import matplotlib.pyplot as plt\n",
    "import numpy\n",
    "%load_ext autoreload\n",
    "%autoreload 2\n",
    "%matplotlib inline"
   ]
  },
  {
   "cell_type": "code",
   "execution_count": null,
   "metadata": {},
   "outputs": [],
   "source": [
    "from dhdrnet import image_loader as il"
   ]
  },
  {
   "cell_type": "markdown",
   "metadata": {
    "ein.tags": "worksheet-0",
    "slideshow": {
     "slide_type": "-"
    }
   },
   "source": [
    "# Try and load and fuse some of the basic HDR Images"
   ]
  },
  {
   "cell_type": "code",
   "execution_count": null,
   "metadata": {
    "autoscroll": false,
    "ein.hycell": false,
    "ein.tags": "worksheet-0",
    "jupyter": {
     "outputs_hidden": false
    },
    "slideshow": {
     "slide_type": "-"
    }
   },
   "outputs": [],
   "source": [
    "DATA_DIR = Path(\"../../data/HDR+/dngs/\")\n",
    "\n",
    "num_imgs = 5\n",
    "loaded_images = il.read_images(DATA_DIR, limit=num_imgs)"
   ]
  },
  {
   "cell_type": "code",
   "execution_count": null,
   "metadata": {},
   "outputs": [],
   "source": [
    "for p, li in loaded_images.items():\n",
    "    fig, ax = colour.plotting.plot_image(li.read_data())\n",
    "    ax.set_title(p)\n",
    "    plt.show()"
   ]
  },
  {
   "cell_type": "markdown",
   "metadata": {
    "autoscroll": false,
    "ein.hycell": false,
    "ein.tags": "worksheet-0",
    "jupyter": {
     "outputs_hidden": false
    },
    "slideshow": {
     "slide_type": "-"
    }
   },
   "source": [
    "## Adjust the exposure\n",
    "Let's try and adjust the exposures. \n",
    "Picking 5 evenly spaced values over [0,2]"
   ]
  },
  {
   "cell_type": "code",
   "execution_count": null,
   "metadata": {
    "autoscroll": false,
    "ein.hycell": false,
    "ein.tags": "worksheet-0",
    "slideshow": {
     "slide_type": "-"
    }
   },
   "outputs": [],
   "source": [
    "multi_exposure = il.gen_multi_exposure(loaded_images)\n",
    "for name, imgs in multi_exposure.items():\n",
    "    for (md, img) in imgs:\n",
    "        fig, ax = colour.plotting.plot_image(img)\n",
    "        ax.set_title(name)\n",
    "        plt.show()\n"
   ]
  },
  {
   "cell_type": "code",
   "execution_count": null,
   "metadata": {},
   "outputs": [],
   "source": [
    "# # What about writing the images out to disk now?\n",
    "# image_list = np.random.choice(list(DATA_DIR.glob(\"*.dng\")), 5)\n",
    "# il.write_multi_exposure(image_list)"
   ]
  },
  {
   "cell_type": "code",
   "execution_count": null,
   "metadata": {},
   "outputs": [],
   "source": [
    "for name, exposures in multi_exposure.items():\n",
    "    image_stack = colour_hdri.ImageStack()\n",
    "    for image in exposures:\n",
    "        image_stack.append(image)\n",
    "    fused = colour_hdri.image_stack_to_radiance_image(image_stack)\n",
    "    colour.plotting.plot_image(fused)"
   ]
  },
  {
   "cell_type": "code",
   "execution_count": null,
   "metadata": {},
   "outputs": [],
   "source": []
  }
 ],
 "metadata": {
  "kernelspec": {
   "argv": [
    "/mnt/zfspool/development/DHDRNet/.venv/bin/python",
    "-m",
    "ipykernel_launcher",
    "-f",
    "{connection_file}"
   ],
   "display_name": "DHDRNet",
   "env": null,
   "interrupt_mode": "signal",
   "language": "python",
   "metadata": null,
   "name": "dhdrnet"
  },
  "language_info": {
   "codemirror_mode": {
    "name": "ipython",
    "version": 3
   },
   "file_extension": ".py",
   "mimetype": "text/x-python",
   "name": "python",
   "nbconvert_exporter": "python",
   "pygments_lexer": "ipython3",
   "version": "3.7.6"
  },
  "name": "fusion.ipynb"
 },
 "nbformat": 4,
 "nbformat_minor": 4
}
