{
 "cells": [
  {
   "cell_type": "code",
   "execution_count": null,
   "metadata": {
    "collapsed": false,
    "jupyter": {
     "outputs_hidden": false
    }
   },
   "outputs": [],
   "source": [
    "import os\n",
    "import sys\n",
    "module_path = os.path.abspath(os.path.join('../..'))\n",
    "\n",
    "if module_path not in sys.path:\n",
    "    sys.path.append(module_path)"
   ]
  },
  {
   "cell_type": "code",
   "execution_count": null,
   "metadata": {
    "collapsed": false,
    "jupyter": {
     "outputs_hidden": false
    }
   },
   "outputs": [],
   "source": [
    "from pathlib import Path\n",
    "import colour\n",
    "import matplotlib.pyplot as plt\n",
    "import numpy as np\n",
    "%load_ext autoreload\n",
    "%autoreload 2\n",
    "%matplotlib inline"
   ]
  },
  {
   "cell_type": "code",
   "execution_count": null,
   "metadata": {
    "collapsed": false,
    "jupyter": {
     "outputs_hidden": false
    }
   },
   "outputs": [],
   "source": [
    "from dhdrnet import image_loader as il"
   ]
  },
  {
   "cell_type": "markdown",
   "metadata": {
    "ein.tags": "worksheet-0",
    "slideshow": {
     "slide_type": "-"
    }
   },
   "source": [
    "# Try and load and fuse some of the basic HDR Images"
   ]
  },
  {
   "cell_type": "code",
   "execution_count": null,
   "metadata": {
    "autoscroll": false,
    "collapsed": false,
    "ein.hycell": false,
    "ein.tags": "worksheet-0",
    "jupyter": {
     "outputs_hidden": false
    },
    "slideshow": {
     "slide_type": "-"
    }
   },
   "outputs": [],
   "source": [
    "DATA_DIR = Path(\"../../data/\")\n",
    "\n",
    "num_imgs = 5\n",
    "loaded_images, image_paths = il.read_images(DATA_DIR / \"dngs\", limit=num_imgs)"
   ]
  },
  {
   "cell_type": "code",
   "execution_count": null,
   "metadata": {
    "collapsed": true,
    "jupyter": {
     "outputs_hidden": true
    }
   },
   "outputs": [],
   "source": [
    "for p, li in loaded_images.items():\n",
    "    fig, ax = colour.plotting.plot_image(li.read_data())\n",
    "    ax.set_title(p)\n",
    "    plt.show()"
   ]
  },
  {
   "cell_type": "markdown",
   "metadata": {
    "autoscroll": false,
    "ein.hycell": false,
    "ein.tags": "worksheet-0",
    "jupyter": {
     "outputs_hidden": false
    },
    "slideshow": {
     "slide_type": "-"
    }
   },
   "source": [
    "## Adjust the exposure\n",
    "Let's try and adjust the exposures. \n",
    "Picking 5 evenly spaced values over [-4,4]"
   ]
  },
  {
   "cell_type": "code",
   "execution_count": null,
   "metadata": {
    "autoscroll": false,
    "ein.hycell": false,
    "ein.tags": "worksheet-0",
    "slideshow": {
     "slide_type": "-"
    }
   },
   "outputs": [],
   "source": [
    "multi_exposure = il.gen_multi_exposure(loaded_images)\n",
    "for name, imgs in multi_exposure.items():\n",
    "    for (md, img) in imgs:\n",
    "#         fig, ax = colour.plotting.plot_image(img)\n",
    "        plt.imshow(img)\n",
    "        ax.set_title(name)\n",
    "#         plt.show()\n"
   ]
  },
  {
   "cell_type": "code",
   "execution_count": null,
   "metadata": {},
   "outputs": [],
   "source": [
    "multi_exposure = il.gen_multi_exposure(loaded_images)\n",
    "colour.write_image(list(multi_exposure.values())[0][1],\"./out.png\",bit_depth=\"float32\")\n",
    "colour.write_image(list(multi_exposure.values())[0][1],\"./out.bmp\",bit_depth=\"float32\")"
   ]
  },
  {
   "cell_type": "code",
   "execution_count": null,
   "metadata": {
    "collapsed": true,
    "jupyter": {
     "outputs_hidden": true
    }
   },
   "outputs": [],
   "source": [
    "# What about writing the images out to disk now?\n",
    "il.write_multi_exposure(image_paths)"
   ]
  },
  {
   "cell_type": "code",
   "execution_count": null,
   "metadata": {},
   "outputs": [],
   "source": [
    "mexp_path_dict = il.group_ldr_paths(DATA_DIR / \"processed\")\n",
    "merged = il.merge_all_test(mexp_path_dict)"
   ]
  },
  {
   "cell_type": "code",
   "execution_count": null,
   "metadata": {},
   "outputs": [],
   "source": [
    "import rawpy\n",
    "cols = 3\n",
    "fig, axs = plt.subplots(ncols=cols + 1,nrows=len(merged), squeeze=False, figsize=tuple(5*i for i in (10, 40)))\n",
    "plt.tight_layout()\n",
    "print(axs.shape)\n",
    "for row, (deb,rob,mert) in enumerate(merged):\n",
    "    name = deb.name.split(\".\")[0]\n",
    "    axs[row,0].set_xlabel(\"debevec \" + name)\n",
    "    axs[row,0].imshow(plt.imread(str(deb)))\n",
    "    \n",
    "    axs[row,1].set_xlabel(\"robertson \" + name)\n",
    "    axs[row,1].imshow(plt.imread(str(rob)))\n",
    "    \n",
    "    axs[row,2].set_xlabel(\"mertens \" + name)\n",
    "    axs[row,2].imshow(plt.imread(str(mert)))\n",
    "\n",
    "    raw_path = str(DATA_DIR/\"dngs\"/f\"{name}.dng\")\n",
    "    dng = rawpy.imread(raw_path).postprocess()\n",
    "    axs[row,3].set_xlabel(\"dng \" + name)\n",
    "    axs[row,3].imshow(dng)\n",
    "    \n",
    "    fig.show()"
   ]
  },
  {
   "cell_type": "code",
   "execution_count": null,
   "metadata": {},
   "outputs": [],
   "source": []
  }
 ],
 "metadata": {
  "kernelspec": {
   "display_name": "DHDRNet",
   "language": "python",
   "name": "dhdrnet"
  },
  "language_info": {
   "codemirror_mode": {
    "name": "ipython",
    "version": 3
   },
   "file_extension": ".py",
   "mimetype": "text/x-python",
   "name": "python",
   "nbconvert_exporter": "python",
   "pygments_lexer": "ipython3",
   "version": "3.8.3"
  },
  "name": "fusion.ipynb"
 },
 "nbformat": 4,
 "nbformat_minor": 4
}
