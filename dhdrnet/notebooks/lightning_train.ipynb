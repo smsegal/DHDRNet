{
 "cells": [
  {
   "cell_type": "code",
   "execution_count": 11,
   "metadata": {
    "collapsed": true,
    "pycharm": {
     "name": "#%%\n"
    }
   },
   "outputs": [
    {
     "name": "stdout",
     "output_type": "stream",
     "text": [
      "The autoreload extension is already loaded. To reload it, use:\n",
      "  %reload_ext autoreload\n",
      "/home/smsx/src/DHDRNet/data\n"
     ]
    }
   ],
   "source": [
    "import numpy as np\n",
    "import matplotlib.pyplot as plt\n",
    "import torch\n",
    "import pytorch_lightning\n",
    "from pytorch_lightning import loggers, Trainer\n",
    "\n",
    "from dhdrnet.lightning_model import DHDRNet\n",
    "from dhdrnet.util import DATA_DIR\n",
    "%matplotlib inline\n",
    "%load_ext autoreload\n",
    "%autoreload 2\n",
    "\n",
    "print(DATA_DIR)"
   ]
  },
  {
   "cell_type": "code",
   "execution_count": 12,
   "outputs": [
    {
     "name": "stderr",
     "output_type": "stream",
     "text": [
      "INFO:lightning:GPU available: False, used: False\n"
     ]
    }
   ],
   "source": [
    "model = DHDRNet()\n",
    "\n",
    "trainer = Trainer()\n"
   ],
   "metadata": {
    "collapsed": false,
    "pycharm": {
     "name": "#%%\n"
    }
   }
  },
  {
   "cell_type": "code",
   "execution_count": 13,
   "outputs": [
    {
     "name": "stderr",
     "output_type": "stream",
     "text": [
      "INFO:lightning:\n",
      "   | Name                               | Type            | Params\n",
      "-------------------------------------------------------------------\n",
      "0  | inc                                | DoubleConv      | 38 K  \n",
      "1  | inc.double_conv                    | Sequential      | 38 K  \n",
      "2  | inc.double_conv.0                  | Conv2d          | 1 K   \n",
      "3  | inc.double_conv.1                  | BatchNorm2d     | 128   \n",
      "4  | inc.double_conv.2                  | ReLU            | 0     \n",
      "5  | inc.double_conv.3                  | Conv2d          | 36 K  \n",
      "6  | inc.double_conv.4                  | BatchNorm2d     | 128   \n",
      "7  | inc.double_conv.5                  | ReLU            | 0     \n",
      "8  | down1                              | Down            | 221 K \n",
      "9  | down1.maxpool_conv                 | Sequential      | 221 K \n",
      "10 | down1.maxpool_conv.0               | MaxPool2d       | 0     \n",
      "11 | down1.maxpool_conv.1               | DoubleConv      | 221 K \n",
      "12 | down1.maxpool_conv.1.double_conv   | Sequential      | 221 K \n",
      "13 | down1.maxpool_conv.1.double_conv.0 | Conv2d          | 73 K  \n",
      "14 | down1.maxpool_conv.1.double_conv.1 | BatchNorm2d     | 256   \n",
      "15 | down1.maxpool_conv.1.double_conv.2 | ReLU            | 0     \n",
      "16 | down1.maxpool_conv.1.double_conv.3 | Conv2d          | 147 K \n",
      "17 | down1.maxpool_conv.1.double_conv.4 | BatchNorm2d     | 256   \n",
      "18 | down1.maxpool_conv.1.double_conv.5 | ReLU            | 0     \n",
      "19 | down2                              | Down            | 886 K \n",
      "20 | down2.maxpool_conv                 | Sequential      | 886 K \n",
      "21 | down2.maxpool_conv.0               | MaxPool2d       | 0     \n",
      "22 | down2.maxpool_conv.1               | DoubleConv      | 886 K \n",
      "23 | down2.maxpool_conv.1.double_conv   | Sequential      | 886 K \n",
      "24 | down2.maxpool_conv.1.double_conv.0 | Conv2d          | 295 K \n",
      "25 | down2.maxpool_conv.1.double_conv.1 | BatchNorm2d     | 512   \n",
      "26 | down2.maxpool_conv.1.double_conv.2 | ReLU            | 0     \n",
      "27 | down2.maxpool_conv.1.double_conv.3 | Conv2d          | 590 K \n",
      "28 | down2.maxpool_conv.1.double_conv.4 | BatchNorm2d     | 512   \n",
      "29 | down2.maxpool_conv.1.double_conv.5 | ReLU            | 0     \n",
      "30 | down3                              | Down            | 3 M   \n",
      "31 | down3.maxpool_conv                 | Sequential      | 3 M   \n",
      "32 | down3.maxpool_conv.0               | MaxPool2d       | 0     \n",
      "33 | down3.maxpool_conv.1               | DoubleConv      | 3 M   \n",
      "34 | down3.maxpool_conv.1.double_conv   | Sequential      | 3 M   \n",
      "35 | down3.maxpool_conv.1.double_conv.0 | Conv2d          | 1 M   \n",
      "36 | down3.maxpool_conv.1.double_conv.1 | BatchNorm2d     | 1 K   \n",
      "37 | down3.maxpool_conv.1.double_conv.2 | ReLU            | 0     \n",
      "38 | down3.maxpool_conv.1.double_conv.3 | Conv2d          | 2 M   \n",
      "39 | down3.maxpool_conv.1.double_conv.4 | BatchNorm2d     | 1 K   \n",
      "40 | down3.maxpool_conv.1.double_conv.5 | ReLU            | 0     \n",
      "41 | down4                              | Down            | 14 M  \n",
      "42 | down4.maxpool_conv                 | Sequential      | 14 M  \n",
      "43 | down4.maxpool_conv.0               | MaxPool2d       | 0     \n",
      "44 | down4.maxpool_conv.1               | DoubleConv      | 14 M  \n",
      "45 | down4.maxpool_conv.1.double_conv   | Sequential      | 14 M  \n",
      "46 | down4.maxpool_conv.1.double_conv.0 | Conv2d          | 4 M   \n",
      "47 | down4.maxpool_conv.1.double_conv.1 | BatchNorm2d     | 2 K   \n",
      "48 | down4.maxpool_conv.1.double_conv.2 | ReLU            | 0     \n",
      "49 | down4.maxpool_conv.1.double_conv.3 | Conv2d          | 9 M   \n",
      "50 | down4.maxpool_conv.1.double_conv.4 | BatchNorm2d     | 2 K   \n",
      "51 | down4.maxpool_conv.1.double_conv.5 | ReLU            | 0     \n",
      "52 | up1                                | Up              | 9 M   \n",
      "53 | up1.up                             | ConvTranspose2d | 2 M   \n",
      "54 | up1.conv                           | DoubleConv      | 7 M   \n",
      "55 | up1.conv.double_conv               | Sequential      | 7 M   \n",
      "56 | up1.conv.double_conv.0             | Conv2d          | 4 M   \n",
      "57 | up1.conv.double_conv.1             | BatchNorm2d     | 1 K   \n",
      "58 | up1.conv.double_conv.2             | ReLU            | 0     \n",
      "59 | up1.conv.double_conv.3             | Conv2d          | 2 M   \n",
      "60 | up1.conv.double_conv.4             | BatchNorm2d     | 1 K   \n",
      "61 | up1.conv.double_conv.5             | ReLU            | 0     \n",
      "62 | up2                                | Up              | 2 M   \n",
      "63 | up2.up                             | ConvTranspose2d | 524 K \n",
      "64 | up2.conv                           | DoubleConv      | 1 M   \n",
      "65 | up2.conv.double_conv               | Sequential      | 1 M   \n",
      "66 | up2.conv.double_conv.0             | Conv2d          | 1 M   \n",
      "67 | up2.conv.double_conv.1             | BatchNorm2d     | 512   \n",
      "68 | up2.conv.double_conv.2             | ReLU            | 0     \n",
      "69 | up2.conv.double_conv.3             | Conv2d          | 590 K \n",
      "70 | up2.conv.double_conv.4             | BatchNorm2d     | 512   \n",
      "71 | up2.conv.double_conv.5             | ReLU            | 0     \n",
      "72 | up3                                | Up              | 574 K \n",
      "73 | up3.up                             | ConvTranspose2d | 131 K \n",
      "74 | up3.conv                           | DoubleConv      | 443 K \n",
      "75 | up3.conv.double_conv               | Sequential      | 443 K \n",
      "76 | up3.conv.double_conv.0             | Conv2d          | 295 K \n",
      "77 | up3.conv.double_conv.1             | BatchNorm2d     | 256   \n",
      "78 | up3.conv.double_conv.2             | ReLU            | 0     \n",
      "79 | up3.conv.double_conv.3             | Conv2d          | 147 K \n",
      "80 | up3.conv.double_conv.4             | BatchNorm2d     | 256   \n",
      "81 | up3.conv.double_conv.5             | ReLU            | 0     \n",
      "82 | up4                                | Up              | 143 K \n",
      "83 | up4.up                             | ConvTranspose2d | 32 K  \n",
      "84 | up4.conv                           | DoubleConv      | 110 K \n",
      "85 | up4.conv.double_conv               | Sequential      | 110 K \n",
      "86 | up4.conv.double_conv.0             | Conv2d          | 73 K  \n",
      "87 | up4.conv.double_conv.1             | BatchNorm2d     | 128   \n",
      "88 | up4.conv.double_conv.2             | ReLU            | 0     \n",
      "89 | up4.conv.double_conv.3             | Conv2d          | 36 K  \n",
      "90 | up4.conv.double_conv.4             | BatchNorm2d     | 128   \n",
      "91 | up4.conv.double_conv.5             | ReLU            | 0     \n",
      "92 | outc                               | OutConv         | 260   \n",
      "93 | outc.conv                          | Conv2d          | 260   \n"
     ]
    },
    {
     "data": {
      "text/plain": "HBox(children=(FloatProgress(value=1.0, bar_style='info', description='Validation sanity check', layout=Layout…",
      "application/vnd.jupyter.widget-view+json": {
       "version_major": 2,
       "version_minor": 0,
       "model_id": "15988be6d90b4fe5a979cf48a006d1ab"
      }
     },
     "metadata": {},
     "output_type": "display_data"
    },
    {
     "ename": "TypeError",
     "evalue": "only integer tensors of a single element can be converted to an index",
     "output_type": "error",
     "traceback": [
      "\u001B[0;31m---------------------------------------------------------------------------\u001B[0m",
      "\u001B[0;31mTypeError\u001B[0m                                 Traceback (most recent call last)",
      "\u001B[0;32m<ipython-input-13-527a65914675>\u001B[0m in \u001B[0;36m<module>\u001B[0;34m\u001B[0m\n\u001B[0;32m----> 1\u001B[0;31m \u001B[0mtrainer\u001B[0m\u001B[0;34m.\u001B[0m\u001B[0mfit\u001B[0m\u001B[0;34m(\u001B[0m\u001B[0mmodel\u001B[0m\u001B[0;34m)\u001B[0m\u001B[0;34m\u001B[0m\u001B[0;34m\u001B[0m\u001B[0m\n\u001B[0m\u001B[1;32m      2\u001B[0m \u001B[0;34m\u001B[0m\u001B[0m\n\u001B[1;32m      3\u001B[0m \u001B[0;34m\u001B[0m\u001B[0m\n",
      "\u001B[0;32m~/.cache/pypoetry/virtualenvs/dhdrnet-KNUoFHXm-py3.8/lib64/python3.8/site-packages/pytorch_lightning/trainer/trainer.py\u001B[0m in \u001B[0;36mfit\u001B[0;34m(self, model, train_dataloader, val_dataloaders)\u001B[0m\n\u001B[1;32m    791\u001B[0m             \u001B[0mself\u001B[0m\u001B[0;34m.\u001B[0m\u001B[0moptimizers\u001B[0m\u001B[0;34m,\u001B[0m \u001B[0mself\u001B[0m\u001B[0;34m.\u001B[0m\u001B[0mlr_schedulers\u001B[0m\u001B[0;34m,\u001B[0m \u001B[0mself\u001B[0m\u001B[0;34m.\u001B[0m\u001B[0moptimizer_frequencies\u001B[0m \u001B[0;34m=\u001B[0m \u001B[0mself\u001B[0m\u001B[0;34m.\u001B[0m\u001B[0minit_optimizers\u001B[0m\u001B[0;34m(\u001B[0m\u001B[0mmodel\u001B[0m\u001B[0;34m)\u001B[0m\u001B[0;34m\u001B[0m\u001B[0;34m\u001B[0m\u001B[0m\n\u001B[1;32m    792\u001B[0m \u001B[0;34m\u001B[0m\u001B[0m\n\u001B[0;32m--> 793\u001B[0;31m             \u001B[0mself\u001B[0m\u001B[0;34m.\u001B[0m\u001B[0mrun_pretrain_routine\u001B[0m\u001B[0;34m(\u001B[0m\u001B[0mmodel\u001B[0m\u001B[0;34m)\u001B[0m\u001B[0;34m\u001B[0m\u001B[0;34m\u001B[0m\u001B[0m\n\u001B[0m\u001B[1;32m    794\u001B[0m \u001B[0;34m\u001B[0m\u001B[0m\n\u001B[1;32m    795\u001B[0m         \u001B[0;31m# return 1 when finished\u001B[0m\u001B[0;34m\u001B[0m\u001B[0;34m\u001B[0m\u001B[0;34m\u001B[0m\u001B[0m\n",
      "\u001B[0;32m~/.cache/pypoetry/virtualenvs/dhdrnet-KNUoFHXm-py3.8/lib64/python3.8/site-packages/pytorch_lightning/trainer/trainer.py\u001B[0m in \u001B[0;36mrun_pretrain_routine\u001B[0;34m(self, model)\u001B[0m\n\u001B[1;32m    894\u001B[0m             \u001B[0mself\u001B[0m\u001B[0;34m.\u001B[0m\u001B[0mon_sanity_check_start\u001B[0m\u001B[0;34m(\u001B[0m\u001B[0;34m)\u001B[0m\u001B[0;34m\u001B[0m\u001B[0;34m\u001B[0m\u001B[0m\n\u001B[1;32m    895\u001B[0m \u001B[0;34m\u001B[0m\u001B[0m\n\u001B[0;32m--> 896\u001B[0;31m             eval_results = self._evaluate(model,\n\u001B[0m\u001B[1;32m    897\u001B[0m                                           \u001B[0mself\u001B[0m\u001B[0;34m.\u001B[0m\u001B[0mval_dataloaders\u001B[0m\u001B[0;34m,\u001B[0m\u001B[0;34m\u001B[0m\u001B[0;34m\u001B[0m\u001B[0m\n\u001B[1;32m    898\u001B[0m                                           \u001B[0mself\u001B[0m\u001B[0;34m.\u001B[0m\u001B[0mnum_sanity_val_steps\u001B[0m\u001B[0;34m,\u001B[0m\u001B[0;34m\u001B[0m\u001B[0;34m\u001B[0m\u001B[0m\n",
      "\u001B[0;32m~/.cache/pypoetry/virtualenvs/dhdrnet-KNUoFHXm-py3.8/lib64/python3.8/site-packages/pytorch_lightning/trainer/evaluation_loop.py\u001B[0m in \u001B[0;36m_evaluate\u001B[0;34m(self, model, dataloaders, max_batches, test_mode)\u001B[0m\n\u001B[1;32m    276\u001B[0m                         \u001B[0moutput\u001B[0m \u001B[0;34m=\u001B[0m \u001B[0mself\u001B[0m\u001B[0;34m.\u001B[0m\u001B[0mevaluation_forward\u001B[0m\u001B[0;34m(\u001B[0m\u001B[0mmodel\u001B[0m\u001B[0;34m,\u001B[0m \u001B[0mbatch\u001B[0m\u001B[0;34m,\u001B[0m \u001B[0mbatch_idx\u001B[0m\u001B[0;34m,\u001B[0m \u001B[0mdataloader_idx\u001B[0m\u001B[0;34m,\u001B[0m \u001B[0mtest_mode\u001B[0m\u001B[0;34m)\u001B[0m\u001B[0;34m\u001B[0m\u001B[0;34m\u001B[0m\u001B[0m\n\u001B[1;32m    277\u001B[0m                 \u001B[0;32melse\u001B[0m\u001B[0;34m:\u001B[0m\u001B[0;34m\u001B[0m\u001B[0;34m\u001B[0m\u001B[0m\n\u001B[0;32m--> 278\u001B[0;31m                     \u001B[0moutput\u001B[0m \u001B[0;34m=\u001B[0m \u001B[0mself\u001B[0m\u001B[0;34m.\u001B[0m\u001B[0mevaluation_forward\u001B[0m\u001B[0;34m(\u001B[0m\u001B[0mmodel\u001B[0m\u001B[0;34m,\u001B[0m \u001B[0mbatch\u001B[0m\u001B[0;34m,\u001B[0m \u001B[0mbatch_idx\u001B[0m\u001B[0;34m,\u001B[0m \u001B[0mdataloader_idx\u001B[0m\u001B[0;34m,\u001B[0m \u001B[0mtest_mode\u001B[0m\u001B[0;34m)\u001B[0m\u001B[0;34m\u001B[0m\u001B[0;34m\u001B[0m\u001B[0m\n\u001B[0m\u001B[1;32m    279\u001B[0m \u001B[0;34m\u001B[0m\u001B[0m\n\u001B[1;32m    280\u001B[0m                 \u001B[0;31m# on dp / ddp2 might still want to do something with the batch parts\u001B[0m\u001B[0;34m\u001B[0m\u001B[0;34m\u001B[0m\u001B[0;34m\u001B[0m\u001B[0m\n",
      "\u001B[0;32m~/.cache/pypoetry/virtualenvs/dhdrnet-KNUoFHXm-py3.8/lib64/python3.8/site-packages/pytorch_lightning/trainer/evaluation_loop.py\u001B[0m in \u001B[0;36mevaluation_forward\u001B[0;34m(self, model, batch, batch_idx, dataloader_idx, test_mode)\u001B[0m\n\u001B[1;32m    445\u001B[0m             \u001B[0moutput\u001B[0m \u001B[0;34m=\u001B[0m \u001B[0mmodel\u001B[0m\u001B[0;34m.\u001B[0m\u001B[0mtest_step\u001B[0m\u001B[0;34m(\u001B[0m\u001B[0;34m*\u001B[0m\u001B[0margs\u001B[0m\u001B[0;34m)\u001B[0m\u001B[0;34m\u001B[0m\u001B[0;34m\u001B[0m\u001B[0m\n\u001B[1;32m    446\u001B[0m         \u001B[0;32melse\u001B[0m\u001B[0;34m:\u001B[0m\u001B[0;34m\u001B[0m\u001B[0;34m\u001B[0m\u001B[0m\n\u001B[0;32m--> 447\u001B[0;31m             \u001B[0moutput\u001B[0m \u001B[0;34m=\u001B[0m \u001B[0mmodel\u001B[0m\u001B[0;34m.\u001B[0m\u001B[0mvalidation_step\u001B[0m\u001B[0;34m(\u001B[0m\u001B[0;34m*\u001B[0m\u001B[0margs\u001B[0m\u001B[0;34m)\u001B[0m\u001B[0;34m\u001B[0m\u001B[0;34m\u001B[0m\u001B[0m\n\u001B[0m\u001B[1;32m    448\u001B[0m \u001B[0;34m\u001B[0m\u001B[0m\n\u001B[1;32m    449\u001B[0m         \u001B[0;32mreturn\u001B[0m \u001B[0moutput\u001B[0m\u001B[0;34m\u001B[0m\u001B[0;34m\u001B[0m\u001B[0m\n",
      "\u001B[0;32m~/src/DHDRNet/dhdrnet/lightning_model.py\u001B[0m in \u001B[0;36mvalidation_step\u001B[0;34m(self, batch, batch_idx)\u001B[0m\n\u001B[1;32m    101\u001B[0m         \u001B[0moutputs\u001B[0m \u001B[0;34m=\u001B[0m \u001B[0mself\u001B[0m\u001B[0;34m(\u001B[0m\u001B[0mmid_exposure\u001B[0m\u001B[0;34m)\u001B[0m\u001B[0;34m\u001B[0m\u001B[0;34m\u001B[0m\u001B[0m\n\u001B[1;32m    102\u001B[0m         \u001B[0m_\u001B[0m\u001B[0;34m,\u001B[0m \u001B[0mpreds\u001B[0m \u001B[0;34m=\u001B[0m \u001B[0mtorch\u001B[0m\u001B[0;34m.\u001B[0m\u001B[0mmax\u001B[0m\u001B[0;34m(\u001B[0m\u001B[0moutputs\u001B[0m\u001B[0;34m,\u001B[0m \u001B[0;36m1\u001B[0m\u001B[0;34m)\u001B[0m\u001B[0;34m\u001B[0m\u001B[0;34m\u001B[0m\u001B[0m\n\u001B[0;32m--> 103\u001B[0;31m         reconstructed_hdr = reconstruct_hdr_from_pred(\n\u001B[0m\u001B[1;32m    104\u001B[0m             \u001B[0mexposure_paths\u001B[0m\u001B[0;34m,\u001B[0m \u001B[0mground_truth\u001B[0m\u001B[0;34m,\u001B[0m \u001B[0mpreds\u001B[0m\u001B[0;34m\u001B[0m\u001B[0;34m\u001B[0m\u001B[0m\n\u001B[1;32m    105\u001B[0m         )\n",
      "\u001B[0;32m~/src/DHDRNet/dhdrnet/reconstruction.py\u001B[0m in \u001B[0;36mreconstruct_hdr_from_pred\u001B[0;34m(exposure_paths, ground_truth, preds)\u001B[0m\n\u001B[1;32m     39\u001B[0m \u001B[0;32mdef\u001B[0m \u001B[0mreconstruct_hdr_from_pred\u001B[0m\u001B[0;34m(\u001B[0m\u001B[0mexposure_paths\u001B[0m\u001B[0;34m,\u001B[0m \u001B[0mground_truth\u001B[0m\u001B[0;34m,\u001B[0m \u001B[0mpreds\u001B[0m\u001B[0;34m)\u001B[0m\u001B[0;34m:\u001B[0m\u001B[0;34m\u001B[0m\u001B[0;34m\u001B[0m\u001B[0m\n\u001B[1;32m     40\u001B[0m     \u001B[0;32mwith\u001B[0m \u001B[0mtorch\u001B[0m\u001B[0;34m.\u001B[0m\u001B[0mno_grad\u001B[0m\u001B[0;34m(\u001B[0m\u001B[0;34m)\u001B[0m\u001B[0;34m:\u001B[0m\u001B[0;34m\u001B[0m\u001B[0;34m\u001B[0m\u001B[0m\n\u001B[0;32m---> 41\u001B[0;31m         \u001B[0mselected_exposures\u001B[0m \u001B[0;34m=\u001B[0m \u001B[0mget_predicted_exps\u001B[0m\u001B[0;34m(\u001B[0m\u001B[0mexposure_paths\u001B[0m\u001B[0;34m,\u001B[0m \u001B[0mpreds\u001B[0m\u001B[0;34m)\u001B[0m\u001B[0;34m\u001B[0m\u001B[0;34m\u001B[0m\u001B[0m\n\u001B[0m\u001B[1;32m     42\u001B[0m         \u001B[0mfused_batch\u001B[0m \u001B[0;34m=\u001B[0m \u001B[0;34m[\u001B[0m\u001B[0;34m]\u001B[0m\u001B[0;34m\u001B[0m\u001B[0;34m\u001B[0m\u001B[0m\n\u001B[1;32m     43\u001B[0m         \u001B[0;32mfor\u001B[0m \u001B[0mpred_p\u001B[0m \u001B[0;32min\u001B[0m \u001B[0mselected_exposures\u001B[0m\u001B[0;34m:\u001B[0m\u001B[0;34m\u001B[0m\u001B[0;34m\u001B[0m\u001B[0m\n",
      "\u001B[0;32m~/src/DHDRNet/dhdrnet/reconstruction.py\u001B[0m in \u001B[0;36mget_predicted_exps\u001B[0;34m(exposures, preds)\u001B[0m\n\u001B[1;32m     24\u001B[0m     \"\"\"\n\u001B[1;32m     25\u001B[0m     \u001B[0mshifted\u001B[0m \u001B[0;34m=\u001B[0m \u001B[0mshift_preds\u001B[0m\u001B[0;34m(\u001B[0m\u001B[0mpreds\u001B[0m\u001B[0;34m)\u001B[0m\u001B[0;34m\u001B[0m\u001B[0;34m\u001B[0m\u001B[0m\n\u001B[0;32m---> 26\u001B[0;31m     \u001B[0;32mreturn\u001B[0m \u001B[0;34m[\u001B[0m\u001B[0mexposure\u001B[0m\u001B[0;34m[\u001B[0m\u001B[0mpred\u001B[0m\u001B[0;34m]\u001B[0m \u001B[0;32mfor\u001B[0m \u001B[0mexposure\u001B[0m\u001B[0;34m,\u001B[0m \u001B[0mpred\u001B[0m \u001B[0;32min\u001B[0m \u001B[0mzip\u001B[0m\u001B[0;34m(\u001B[0m\u001B[0mexposures\u001B[0m\u001B[0;34m,\u001B[0m \u001B[0mshifted\u001B[0m\u001B[0;34m)\u001B[0m\u001B[0;34m]\u001B[0m\u001B[0;34m\u001B[0m\u001B[0;34m\u001B[0m\u001B[0m\n\u001B[0m\u001B[1;32m     27\u001B[0m \u001B[0;34m\u001B[0m\u001B[0m\n\u001B[1;32m     28\u001B[0m \u001B[0;34m\u001B[0m\u001B[0m\n",
      "\u001B[0;32m~/src/DHDRNet/dhdrnet/reconstruction.py\u001B[0m in \u001B[0;36m<listcomp>\u001B[0;34m(.0)\u001B[0m\n\u001B[1;32m     24\u001B[0m     \"\"\"\n\u001B[1;32m     25\u001B[0m     \u001B[0mshifted\u001B[0m \u001B[0;34m=\u001B[0m \u001B[0mshift_preds\u001B[0m\u001B[0;34m(\u001B[0m\u001B[0mpreds\u001B[0m\u001B[0;34m)\u001B[0m\u001B[0;34m\u001B[0m\u001B[0;34m\u001B[0m\u001B[0m\n\u001B[0;32m---> 26\u001B[0;31m     \u001B[0;32mreturn\u001B[0m \u001B[0;34m[\u001B[0m\u001B[0mexposure\u001B[0m\u001B[0;34m[\u001B[0m\u001B[0mpred\u001B[0m\u001B[0;34m]\u001B[0m \u001B[0;32mfor\u001B[0m \u001B[0mexposure\u001B[0m\u001B[0;34m,\u001B[0m \u001B[0mpred\u001B[0m \u001B[0;32min\u001B[0m \u001B[0mzip\u001B[0m\u001B[0;34m(\u001B[0m\u001B[0mexposures\u001B[0m\u001B[0;34m,\u001B[0m \u001B[0mshifted\u001B[0m\u001B[0;34m)\u001B[0m\u001B[0;34m]\u001B[0m\u001B[0;34m\u001B[0m\u001B[0;34m\u001B[0m\u001B[0m\n\u001B[0m\u001B[1;32m     27\u001B[0m \u001B[0;34m\u001B[0m\u001B[0m\n\u001B[1;32m     28\u001B[0m \u001B[0;34m\u001B[0m\u001B[0m\n",
      "\u001B[0;31mTypeError\u001B[0m: only integer tensors of a single element can be converted to an index"
     ]
    }
   ],
   "source": [
    "trainer.fit(model)\n",
    "\n"
   ],
   "metadata": {
    "collapsed": false,
    "pycharm": {
     "name": "#%%\n"
    }
   }
  },
  {
   "cell_type": "code",
   "execution_count": null,
   "outputs": [],
   "source": [
    "\n"
   ],
   "metadata": {
    "collapsed": false,
    "pycharm": {
     "name": "#%%\n"
    }
   }
  }
 ],
 "metadata": {
  "kernelspec": {
   "name": "pycharm-70f6df9d",
   "language": "python",
   "display_name": "PyCharm (DHDRNet)"
  },
  "language_info": {
   "codemirror_mode": {
    "name": "ipython",
    "version": 2
   },
   "file_extension": ".py",
   "mimetype": "text/x-python",
   "name": "python",
   "nbconvert_exporter": "python",
   "pygments_lexer": "ipython2",
   "version": "2.7.6"
  }
 },
 "nbformat": 4,
 "nbformat_minor": 0
}