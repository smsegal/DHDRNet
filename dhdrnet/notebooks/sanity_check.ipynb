{
 "cells": [
  {
   "cell_type": "code",
   "execution_count": 1,
   "metadata": {
    "pycharm": {
     "name": "#%%\n"
    }
   },
   "outputs": [
    {
     "name": "stderr",
     "output_type": "stream",
     "text": [
      "/home/smsx/src/DHDRNet/.venv/lib/python3.8/site-packages/colour/utilities/verbose.py:235: ColourWarning: \"Adobe DNG Converter\" is not available on your platform!\n",
      "  warn(*args, **kwargs)\n"
     ]
    }
   ],
   "source": [
    "import matplotlib\n",
    "import matplotlib.pyplot as plt\n",
    "\n",
    "from dhdrnet.util import DATA_DIR, ROOT_DIR\n",
    "%matplotlib inline\n",
    "matplotlib.rcParams['figure.figsize'] = (20,10)\n",
    "%load_ext autoreload\n",
    "\n",
    "%autoreload 2\n"
   ]
  },
  {
   "cell_type": "markdown",
   "metadata": {
    "pycharm": {
     "name": "#%% md\n"
    }
   },
   "source": [
    "Want to check that basic assumptions make sense..\n",
    "Are more possible EV's needed? or maybe the fusion alg needs to be updated\n",
    "First step is check best possible fusion results with all available algorithms."
   ]
  },
  {
   "cell_type": "code",
   "execution_count": null,
   "metadata": {
    "pycharm": {
     "is_executing": true,
     "name": "#%%\n"
    }
   },
   "outputs": [
    {
     "name": "stderr",
     "output_type": "stream",
     "text": [
      "/home/smsx/src/DHDRNet/.venv/lib/python3.8/site-packages/colour/utilities/verbose.py:235: ColourUsageWarning: \"OpenImageIO\" related API features are not available, switching to \"Imageio\"!\n",
      "  warn(*args, **kwargs)\n",
      "/home/smsx/src/DHDRNet/.venv/lib/python3.8/site-packages/colour/utilities/verbose.py:235: ColourUsageWarning: \"OpenImageIO\" related API features are not available, switching to \"Imageio\"!\n",
      "  warn(*args, **kwargs)\n"
     ]
    }
   ],
   "source": [
    "from dhdrnet.data_gen import gen_all_fuse_options\n",
    "from dhdrnet.reconstruction import mertens_fuse\n",
    "from dhdrnet.data_gen import write_log\n",
    "\n",
    "# Let's load the dng images and adjust the exposure on the fly.\n",
    "raw_imgs = list((DATA_DIR / \"dngs\").iterdir())\n",
    "gt_imgs = list((DATA_DIR / \"merged\").iterdir())\n",
    "log = gen_all_fuse_options([mertens_fuse], raw_imgs, gt_imgs, DATA_DIR/\"all_processed\")\n",
    "\n",
    "write_log(ROOT_DIR / \"fusion_stats\", log)\n",
    "# noinspection JupyterKernel\n",
    "log"
   ]
  },
  {
   "cell_type": "code",
   "execution_count": null,
   "metadata": {},
   "outputs": [],
   "source": [
    "import json\n",
    "json.lo"
   ]
  },
  {
   "cell_type": "code",
   "execution_count": null,
   "metadata": {
    "collapsed": false,
    "jupyter": {
     "outputs_hidden": false
    },
    "pycharm": {
     "name": "#%%\n"
    }
   },
   "outputs": [],
   "source": [
    "from dhdrnet.util import ROOT_DIR\n",
    "gt_im = plt.imread(ROOT_DIR / \"individualImage.png\")\n",
    "out_im = plt.imread(ROOT_DIR / \"individualImage1.png\")\n",
    "plt.imshow(gt_im)\n",
    "plt.figure()\n",
    "plt.imshow(out_im)"
   ]
  },
  {
   "cell_type": "code",
   "execution_count": null,
   "metadata": {
    "collapsed": false,
    "jupyter": {
     "outputs_hidden": false
    },
    "pycharm": {
     "name": "#%%\n"
    }
   },
   "outputs": [],
   "source": []
  }
 ],
 "metadata": {
  "kernelspec": {
   "display_name": "Python 3",
   "language": "python",
   "name": "python3"
  },
  "language_info": {
   "codemirror_mode": {
    "name": "ipython",
    "version": 3
   },
   "file_extension": ".py",
   "mimetype": "text/x-python",
   "name": "python",
   "nbconvert_exporter": "python",
   "pygments_lexer": "ipython3",
   "version": "3.8.3"
  }
 },
 "nbformat": 4,
 "nbformat_minor": 4
}
