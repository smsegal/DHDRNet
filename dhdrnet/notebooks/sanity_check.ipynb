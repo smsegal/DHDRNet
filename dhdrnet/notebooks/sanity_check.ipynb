{
 "cells": [
  {
   "cell_type": "code",
   "execution_count": 9,
   "metadata": {
    "collapsed": true,
    "pycharm": {
     "name": "#%%\n"
    }
   },
   "outputs": [
    {
     "name": "stdout",
     "output_type": "stream",
     "text": [
      "The autoreload extension is already loaded. To reload it, use:\n",
      "  %reload_ext autoreload\n"
     ]
    }
   ],
   "source": [
    "import numpy as np\n",
    "import matplotlib.pyplot as plt\n",
    "import torch\n",
    "import pytorch_lightning\n",
    "from pytorch_lightning import loggers, Trainer\n",
    "\n",
    "from dhdrnet.lightning_model import DHDRNet\n",
    "from dhdrnet.util import DATA_DIR\n",
    "%matplotlib inline\n",
    "%load_ext autoreload\n",
    "%autoreload 2\n"
   ]
  },
  {
   "cell_type": "markdown",
   "source": [
    "Want to check that basic assumptions make sense..\n",
    "Are more possible EV's needed? or maybe the fusion alg needs to be updated\n",
    "First step is check best possible fusion results with all available algorithms."
   ],
   "metadata": {
    "collapsed": false,
    "pycharm": {
     "name": "#%% md\n"
    }
   }
  },
  {
   "cell_type": "code",
   "execution_count": 10,
   "outputs": [],
   "source": [
    "# Let's load the dng images and adjust the exposure on the fly.\n",
    "raw_imgs = DATA_DIR / \"dngs\""
   ],
   "metadata": {
    "collapsed": false,
    "pycharm": {
     "name": "#%%\n"
    }
   }
  },
  {
   "cell_type": "code",
   "execution_count": 7,
   "outputs": [],
   "source": [
    "from itertools import product\n",
    "\n",
    "# All of the data will be saved to disk here\n",
    "out_dir = DATA_DIR / \"sanity\" / \"all_fused\"\n",
    "def get_multi_exposures(dng, ev_steps):\n",
    "    pass\n",
    "\n",
    "# compute all fusion steps with different EVS and selected params --- grid search essentially\n",
    "def test_all_fuse(fuse_funcs, raw_images, gt_images, out_dir):\n",
    "    all_ev_steps = range(5, 10)\n",
    "    all_combinations = product(fuse_funcs, all_ev_steps, zip(raw_images, gt_images))\n",
    "    for ff, ev_steps, (raw, gt) in all_combinations:\n",
    "        exposures = get_multi_exposures(raw, ev_steps)\n",
    "        exp_choices = exposures[np.random.choice(range(len(exposures)), 2)]\n",
    "        fused = ff(exp_choices)\n",
    "        # save the results to disk\n",
    "        \n"
   ],
   "metadata": {
    "collapsed": false,
    "pycharm": {
     "name": "#%%\n"
    }
   }
  },
  {
   "cell_type": "code",
   "execution_count": null,
   "outputs": [],
   "source": [
    "\n"
   ],
   "metadata": {
    "collapsed": false,
    "pycharm": {
     "name": "#%%\n"
    }
   }
  }
 ],
 "metadata": {
  "kernelspec": {
   "display_name": "Python 3",
   "language": "python",
   "name": "python3"
  },
  "language_info": {
   "codemirror_mode": {
    "name": "ipython",
    "version": 2
   },
   "file_extension": ".py",
   "mimetype": "text/x-python",
   "name": "python",
   "nbconvert_exporter": "python",
   "pygments_lexer": "ipython2",
   "version": "2.7.6"
  }
 },
 "nbformat": 4,
 "nbformat_minor": 0
}