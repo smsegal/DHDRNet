{
 "cells": [
  {
   "cell_type": "code",
   "execution_count": 1,
   "metadata": {},
   "outputs": [],
   "source": [
    "import numpy as np\n",
    "import pandas as pd\n",
    "import matplotlib.pyplot as plt\n",
    "from more_itertools import flatten\n",
    "%matplotlib inline\n",
    "%load_ext autoreload\n",
    "%autoreload 2"
   ]
  },
  {
   "cell_type": "code",
   "execution_count": 2,
   "metadata": {},
   "outputs": [],
   "source": [
    "from dhdrnet.util import ROOT_DIR"
   ]
  },
  {
   "cell_type": "code",
   "execution_count": 3,
   "metadata": {},
   "outputs": [
    {
     "data": {
      "text/html": [
       "<div>\n",
       "<style scoped>\n",
       "    .dataframe tbody tr th:only-of-type {\n",
       "        vertical-align: middle;\n",
       "    }\n",
       "\n",
       "    .dataframe tbody tr th {\n",
       "        vertical-align: top;\n",
       "    }\n",
       "\n",
       "    .dataframe thead th {\n",
       "        text-align: right;\n",
       "    }\n",
       "</style>\n",
       "<table border=\"1\" class=\"dataframe\">\n",
       "  <thead>\n",
       "    <tr style=\"text-align: right;\">\n",
       "      <th></th>\n",
       "      <th>metric</th>\n",
       "      <th>ev1</th>\n",
       "      <th>ev2</th>\n",
       "      <th>score</th>\n",
       "    </tr>\n",
       "    <tr>\n",
       "      <th>name</th>\n",
       "      <th></th>\n",
       "      <th></th>\n",
       "      <th></th>\n",
       "      <th></th>\n",
       "    </tr>\n",
       "  </thead>\n",
       "  <tbody>\n",
       "    <tr>\n",
       "      <th>0006_20160728_123257_859</th>\n",
       "      <td>mse</td>\n",
       "      <td>-6.0</td>\n",
       "      <td>-5.5</td>\n",
       "      <td>21719.742980</td>\n",
       "    </tr>\n",
       "    <tr>\n",
       "      <th>0006_20160728_123257_859</th>\n",
       "      <td>ssim</td>\n",
       "      <td>-6.0</td>\n",
       "      <td>-5.5</td>\n",
       "      <td>0.010384</td>\n",
       "    </tr>\n",
       "    <tr>\n",
       "      <th>0006_20160728_123257_859</th>\n",
       "      <td>perceptual</td>\n",
       "      <td>-6.0</td>\n",
       "      <td>-5.5</td>\n",
       "      <td>0.923738</td>\n",
       "    </tr>\n",
       "    <tr>\n",
       "      <th>0006_20160728_123257_859</th>\n",
       "      <td>mse</td>\n",
       "      <td>-6.0</td>\n",
       "      <td>-5.0</td>\n",
       "      <td>21449.366655</td>\n",
       "    </tr>\n",
       "    <tr>\n",
       "      <th>0006_20160728_123257_859</th>\n",
       "      <td>ssim</td>\n",
       "      <td>-6.0</td>\n",
       "      <td>-5.0</td>\n",
       "      <td>0.016527</td>\n",
       "    </tr>\n",
       "    <tr>\n",
       "      <th>...</th>\n",
       "      <td>...</td>\n",
       "      <td>...</td>\n",
       "      <td>...</td>\n",
       "      <td>...</td>\n",
       "    </tr>\n",
       "    <tr>\n",
       "      <th>0043_20160923_122514_781</th>\n",
       "      <td>ssim</td>\n",
       "      <td>4.5</td>\n",
       "      <td>5.5</td>\n",
       "      <td>0.518569</td>\n",
       "    </tr>\n",
       "    <tr>\n",
       "      <th>0043_20160923_122514_781</th>\n",
       "      <td>perceptual</td>\n",
       "      <td>4.5</td>\n",
       "      <td>5.5</td>\n",
       "      <td>0.480811</td>\n",
       "    </tr>\n",
       "    <tr>\n",
       "      <th>0043_20160923_122514_781</th>\n",
       "      <td>mse</td>\n",
       "      <td>5.0</td>\n",
       "      <td>5.5</td>\n",
       "      <td>9053.965736</td>\n",
       "    </tr>\n",
       "    <tr>\n",
       "      <th>0043_20160923_122514_781</th>\n",
       "      <td>ssim</td>\n",
       "      <td>5.0</td>\n",
       "      <td>5.5</td>\n",
       "      <td>0.421360</td>\n",
       "    </tr>\n",
       "    <tr>\n",
       "      <th>0043_20160923_122514_781</th>\n",
       "      <td>perceptual</td>\n",
       "      <td>5.0</td>\n",
       "      <td>5.5</td>\n",
       "      <td>0.562719</td>\n",
       "    </tr>\n",
       "  </tbody>\n",
       "</table>\n",
       "<p>3017559 rows × 4 columns</p>\n",
       "</div>"
      ],
      "text/plain": [
       "                              metric   ev1   ev2         score\n",
       "name                                                          \n",
       "0006_20160728_123257_859         mse  -6.0  -5.5  21719.742980\n",
       "0006_20160728_123257_859        ssim  -6.0  -5.5      0.010384\n",
       "0006_20160728_123257_859  perceptual  -6.0  -5.5      0.923738\n",
       "0006_20160728_123257_859         mse  -6.0  -5.0  21449.366655\n",
       "0006_20160728_123257_859        ssim  -6.0  -5.0      0.016527\n",
       "...                              ...   ...   ...           ...\n",
       "0043_20160923_122514_781        ssim   4.5   5.5      0.518569\n",
       "0043_20160923_122514_781  perceptual   4.5   5.5      0.480811\n",
       "0043_20160923_122514_781         mse   5.0   5.5   9053.965736\n",
       "0043_20160923_122514_781        ssim   5.0   5.5      0.421360\n",
       "0043_20160923_122514_781  perceptual   5.0   5.5      0.562719\n",
       "\n",
       "[3017559 rows x 4 columns]"
      ]
     },
     "execution_count": 3,
     "metadata": {},
     "output_type": "execute_result"
    }
   ],
   "source": [
    "stats_df = pd.read_csv(ROOT_DIR/'precomputed_data' / 'store_perceptual.csv')\n",
    "stats_df = stats_df.set_index([\"name\"])\n",
    "stats_df"
   ]
  },
  {
   "cell_type": "code",
   "execution_count": 4,
   "metadata": {},
   "outputs": [
    {
     "data": {
      "text/html": [
       "<div>\n",
       "<style scoped>\n",
       "    .dataframe tbody tr th:only-of-type {\n",
       "        vertical-align: middle;\n",
       "    }\n",
       "\n",
       "    .dataframe tbody tr th {\n",
       "        vertical-align: top;\n",
       "    }\n",
       "\n",
       "    .dataframe thead th {\n",
       "        text-align: right;\n",
       "    }\n",
       "</style>\n",
       "<table border=\"1\" class=\"dataframe\">\n",
       "  <thead>\n",
       "    <tr style=\"text-align: right;\">\n",
       "      <th></th>\n",
       "      <th>metric</th>\n",
       "      <th>ev1</th>\n",
       "      <th>ev2</th>\n",
       "      <th>score</th>\n",
       "    </tr>\n",
       "    <tr>\n",
       "      <th>name</th>\n",
       "      <th></th>\n",
       "      <th></th>\n",
       "      <th></th>\n",
       "      <th></th>\n",
       "    </tr>\n",
       "  </thead>\n",
       "  <tbody>\n",
       "    <tr>\n",
       "      <th>0006_20160728_123257_859</th>\n",
       "      <td>mse</td>\n",
       "      <td>-6.0</td>\n",
       "      <td>-5.5</td>\n",
       "      <td>21719.742980</td>\n",
       "    </tr>\n",
       "    <tr>\n",
       "      <th>0006_20160728_123257_859</th>\n",
       "      <td>mse</td>\n",
       "      <td>-6.0</td>\n",
       "      <td>-5.0</td>\n",
       "      <td>21449.366655</td>\n",
       "    </tr>\n",
       "    <tr>\n",
       "      <th>0006_20160728_123257_859</th>\n",
       "      <td>mse</td>\n",
       "      <td>-6.0</td>\n",
       "      <td>-4.5</td>\n",
       "      <td>21026.442032</td>\n",
       "    </tr>\n",
       "    <tr>\n",
       "      <th>0006_20160728_123257_859</th>\n",
       "      <td>mse</td>\n",
       "      <td>-6.0</td>\n",
       "      <td>-4.0</td>\n",
       "      <td>20379.158538</td>\n",
       "    </tr>\n",
       "    <tr>\n",
       "      <th>0006_20160728_123257_859</th>\n",
       "      <td>mse</td>\n",
       "      <td>-6.0</td>\n",
       "      <td>-3.5</td>\n",
       "      <td>19440.085395</td>\n",
       "    </tr>\n",
       "    <tr>\n",
       "      <th>...</th>\n",
       "      <td>...</td>\n",
       "      <td>...</td>\n",
       "      <td>...</td>\n",
       "      <td>...</td>\n",
       "    </tr>\n",
       "    <tr>\n",
       "      <th>0043_20160923_122514_781</th>\n",
       "      <td>mse</td>\n",
       "      <td>4.0</td>\n",
       "      <td>5.0</td>\n",
       "      <td>5866.396298</td>\n",
       "    </tr>\n",
       "    <tr>\n",
       "      <th>0043_20160923_122514_781</th>\n",
       "      <td>mse</td>\n",
       "      <td>4.0</td>\n",
       "      <td>5.5</td>\n",
       "      <td>6147.922121</td>\n",
       "    </tr>\n",
       "    <tr>\n",
       "      <th>0043_20160923_122514_781</th>\n",
       "      <td>mse</td>\n",
       "      <td>4.5</td>\n",
       "      <td>5.0</td>\n",
       "      <td>7320.430462</td>\n",
       "    </tr>\n",
       "    <tr>\n",
       "      <th>0043_20160923_122514_781</th>\n",
       "      <td>mse</td>\n",
       "      <td>4.5</td>\n",
       "      <td>5.5</td>\n",
       "      <td>7732.809017</td>\n",
       "    </tr>\n",
       "    <tr>\n",
       "      <th>0043_20160923_122514_781</th>\n",
       "      <td>mse</td>\n",
       "      <td>5.0</td>\n",
       "      <td>5.5</td>\n",
       "      <td>9053.965736</td>\n",
       "    </tr>\n",
       "  </tbody>\n",
       "</table>\n",
       "<p>1004640 rows × 4 columns</p>\n",
       "</div>"
      ],
      "text/plain": [
       "                         metric   ev1   ev2         score\n",
       "name                                                     \n",
       "0006_20160728_123257_859    mse  -6.0  -5.5  21719.742980\n",
       "0006_20160728_123257_859    mse  -6.0  -5.0  21449.366655\n",
       "0006_20160728_123257_859    mse  -6.0  -4.5  21026.442032\n",
       "0006_20160728_123257_859    mse  -6.0  -4.0  20379.158538\n",
       "0006_20160728_123257_859    mse  -6.0  -3.5  19440.085395\n",
       "...                         ...   ...   ...           ...\n",
       "0043_20160923_122514_781    mse   4.0   5.0   5866.396298\n",
       "0043_20160923_122514_781    mse   4.0   5.5   6147.922121\n",
       "0043_20160923_122514_781    mse   4.5   5.0   7320.430462\n",
       "0043_20160923_122514_781    mse   4.5   5.5   7732.809017\n",
       "0043_20160923_122514_781    mse   5.0   5.5   9053.965736\n",
       "\n",
       "[1004640 rows x 4 columns]"
      ]
     },
     "execution_count": 4,
     "metadata": {},
     "output_type": "execute_result"
    }
   ],
   "source": [
    "stats_df.groupby(\"metric\").get_group(\"mse\")"
   ]
  },
  {
   "cell_type": "code",
   "execution_count": 6,
   "metadata": {},
   "outputs": [
    {
     "data": {
      "text/plain": [
       "array(['-4.0', '-2.0', '0.0', '2.0', '-5.0', '-2.5', '2.5', '-6.0',\n",
       "       '-3.0', '3.0', 'ev2', '4.0', '5.0', '6.0', 'score'], dtype=object)"
      ]
     },
     "execution_count": 6,
     "metadata": {},
     "output_type": "execute_result"
    }
   ],
   "source": [
    "pd.unique(stats_df[[\"ev1\", \"ev2\"]].values.ravel(\"K\"))"
   ]
  },
  {
   "cell_type": "code",
   "execution_count": 7,
   "metadata": {},
   "outputs": [
    {
     "data": {
      "text/html": [
       "<div>\n",
       "<style scoped>\n",
       "    .dataframe tbody tr th:only-of-type {\n",
       "        vertical-align: middle;\n",
       "    }\n",
       "\n",
       "    .dataframe tbody tr th {\n",
       "        vertical-align: top;\n",
       "    }\n",
       "\n",
       "    .dataframe thead th {\n",
       "        text-align: right;\n",
       "    }\n",
       "</style>\n",
       "<table border=\"1\" class=\"dataframe\">\n",
       "  <thead>\n",
       "    <tr style=\"text-align: right;\">\n",
       "      <th></th>\n",
       "      <th>metric</th>\n",
       "      <th>ev1</th>\n",
       "      <th>ev2</th>\n",
       "      <th>score</th>\n",
       "    </tr>\n",
       "    <tr>\n",
       "      <th>name</th>\n",
       "      <th></th>\n",
       "      <th></th>\n",
       "      <th></th>\n",
       "      <th></th>\n",
       "    </tr>\n",
       "  </thead>\n",
       "  <tbody>\n",
       "    <tr>\n",
       "      <th>metric</th>\n",
       "      <td>ev1</td>\n",
       "      <td>ev2</td>\n",
       "      <td>score</td>\n",
       "      <td>NaN</td>\n",
       "    </tr>\n",
       "    <tr>\n",
       "      <th>metric</th>\n",
       "      <td>ev1</td>\n",
       "      <td>ev2</td>\n",
       "      <td>score</td>\n",
       "      <td>NaN</td>\n",
       "    </tr>\n",
       "    <tr>\n",
       "      <th>metric</th>\n",
       "      <td>ev1</td>\n",
       "      <td>ev2</td>\n",
       "      <td>score</td>\n",
       "      <td>NaN</td>\n",
       "    </tr>\n",
       "    <tr>\n",
       "      <th>metric</th>\n",
       "      <td>ev1</td>\n",
       "      <td>ev2</td>\n",
       "      <td>score</td>\n",
       "      <td>NaN</td>\n",
       "    </tr>\n",
       "    <tr>\n",
       "      <th>metric</th>\n",
       "      <td>ev1</td>\n",
       "      <td>ev2</td>\n",
       "      <td>score</td>\n",
       "      <td>NaN</td>\n",
       "    </tr>\n",
       "    <tr>\n",
       "      <th>...</th>\n",
       "      <td>...</td>\n",
       "      <td>...</td>\n",
       "      <td>...</td>\n",
       "      <td>...</td>\n",
       "    </tr>\n",
       "    <tr>\n",
       "      <th>metric</th>\n",
       "      <td>ev1</td>\n",
       "      <td>ev2</td>\n",
       "      <td>score</td>\n",
       "      <td>NaN</td>\n",
       "    </tr>\n",
       "    <tr>\n",
       "      <th>metric</th>\n",
       "      <td>ev1</td>\n",
       "      <td>ev2</td>\n",
       "      <td>score</td>\n",
       "      <td>NaN</td>\n",
       "    </tr>\n",
       "    <tr>\n",
       "      <th>metric</th>\n",
       "      <td>ev1</td>\n",
       "      <td>ev2</td>\n",
       "      <td>score</td>\n",
       "      <td>NaN</td>\n",
       "    </tr>\n",
       "    <tr>\n",
       "      <th>metric</th>\n",
       "      <td>ev1</td>\n",
       "      <td>ev2</td>\n",
       "      <td>score</td>\n",
       "      <td>NaN</td>\n",
       "    </tr>\n",
       "    <tr>\n",
       "      <th>metric</th>\n",
       "      <td>ev1</td>\n",
       "      <td>ev2</td>\n",
       "      <td>score</td>\n",
       "      <td>NaN</td>\n",
       "    </tr>\n",
       "  </tbody>\n",
       "</table>\n",
       "<p>3639 rows × 4 columns</p>\n",
       "</div>"
      ],
      "text/plain": [
       "       metric  ev1    ev2  score\n",
       "name                            \n",
       "metric    ev1  ev2  score    NaN\n",
       "metric    ev1  ev2  score    NaN\n",
       "metric    ev1  ev2  score    NaN\n",
       "metric    ev1  ev2  score    NaN\n",
       "metric    ev1  ev2  score    NaN\n",
       "...       ...  ...    ...    ...\n",
       "metric    ev1  ev2  score    NaN\n",
       "metric    ev1  ev2  score    NaN\n",
       "metric    ev1  ev2  score    NaN\n",
       "metric    ev1  ev2  score    NaN\n",
       "metric    ev1  ev2  score    NaN\n",
       "\n",
       "[3639 rows x 4 columns]"
      ]
     },
     "execution_count": 7,
     "metadata": {},
     "output_type": "execute_result"
    }
   ],
   "source": [
    "stats_df[stats_df[\"ev1\"].isin([\"ev2\"])]"
   ]
  },
  {
   "cell_type": "code",
   "execution_count": 8,
   "metadata": {},
   "outputs": [],
   "source": [
    "bad = stats_df.loc[\"metric\"]"
   ]
  },
  {
   "cell_type": "code",
   "execution_count": 9,
   "metadata": {},
   "outputs": [],
   "source": [
    "stats_clean = stats_df.loc[stats_df.index.difference(bad.index)]\n",
    "stats_clean = stats_clean.drop_duplicates()\n",
    "stats_clean.to_csv(ROOT_DIR/\"precomputed_data\"/\"stats_clean.csv\")\n",
    "stats = stats_clean"
   ]
  },
  {
   "cell_type": "code",
   "execution_count": 10,
   "metadata": {},
   "outputs": [],
   "source": [
    "stats[[\"ev1\", \"ev2\"]] = stats[[\"ev1\", \"ev2\"]].apply(pd.to_numeric)\n",
    "bsdf = pd.concat([stats[stats[ev] == 0] for ev in [\"ev1\", \"ev2\"]])"
   ]
  },
  {
   "cell_type": "code",
   "execution_count": 11,
   "metadata": {},
   "outputs": [
    {
     "data": {
      "text/html": [
       "<div>\n",
       "<style scoped>\n",
       "    .dataframe tbody tr th:only-of-type {\n",
       "        vertical-align: middle;\n",
       "    }\n",
       "\n",
       "    .dataframe tbody tr th {\n",
       "        vertical-align: top;\n",
       "    }\n",
       "\n",
       "    .dataframe thead th {\n",
       "        text-align: right;\n",
       "    }\n",
       "</style>\n",
       "<table border=\"1\" class=\"dataframe\">\n",
       "  <thead>\n",
       "    <tr style=\"text-align: right;\">\n",
       "      <th></th>\n",
       "      <th>metric</th>\n",
       "      <th>ev1</th>\n",
       "      <th>ev2</th>\n",
       "      <th>score</th>\n",
       "    </tr>\n",
       "    <tr>\n",
       "      <th>name</th>\n",
       "      <th></th>\n",
       "      <th></th>\n",
       "      <th></th>\n",
       "      <th></th>\n",
       "    </tr>\n",
       "  </thead>\n",
       "  <tbody>\n",
       "    <tr>\n",
       "      <th>0006_20160721_163256_525</th>\n",
       "      <td>mse</td>\n",
       "      <td>0.0</td>\n",
       "      <td>2.0</td>\n",
       "      <td>163.995115</td>\n",
       "    </tr>\n",
       "    <tr>\n",
       "      <th>0006_20160721_163256_525</th>\n",
       "      <td>ssim</td>\n",
       "      <td>0.0</td>\n",
       "      <td>2.0</td>\n",
       "      <td>0.969672</td>\n",
       "    </tr>\n",
       "    <tr>\n",
       "      <th>0006_20160721_163256_525</th>\n",
       "      <td>mse</td>\n",
       "      <td>0.0</td>\n",
       "      <td>4.0</td>\n",
       "      <td>415.541140</td>\n",
       "    </tr>\n",
       "    <tr>\n",
       "      <th>0006_20160721_163256_525</th>\n",
       "      <td>ssim</td>\n",
       "      <td>0.0</td>\n",
       "      <td>4.0</td>\n",
       "      <td>0.960854</td>\n",
       "    </tr>\n",
       "    <tr>\n",
       "      <th>0006_20160721_163256_525</th>\n",
       "      <td>mse</td>\n",
       "      <td>0.0</td>\n",
       "      <td>2.5</td>\n",
       "      <td>115.394008</td>\n",
       "    </tr>\n",
       "    <tr>\n",
       "      <th>...</th>\n",
       "      <td>...</td>\n",
       "      <td>...</td>\n",
       "      <td>...</td>\n",
       "      <td>...</td>\n",
       "    </tr>\n",
       "    <tr>\n",
       "      <th>synthetic_ramp_night</th>\n",
       "      <td>ssim</td>\n",
       "      <td>-2.5</td>\n",
       "      <td>0.0</td>\n",
       "      <td>0.838293</td>\n",
       "    </tr>\n",
       "    <tr>\n",
       "      <th>synthetic_ramp_night</th>\n",
       "      <td>mse</td>\n",
       "      <td>-6.0</td>\n",
       "      <td>0.0</td>\n",
       "      <td>1527.866328</td>\n",
       "    </tr>\n",
       "    <tr>\n",
       "      <th>synthetic_ramp_night</th>\n",
       "      <td>ssim</td>\n",
       "      <td>-6.0</td>\n",
       "      <td>0.0</td>\n",
       "      <td>0.858638</td>\n",
       "    </tr>\n",
       "    <tr>\n",
       "      <th>synthetic_ramp_night</th>\n",
       "      <td>mse</td>\n",
       "      <td>-3.0</td>\n",
       "      <td>0.0</td>\n",
       "      <td>2534.350051</td>\n",
       "    </tr>\n",
       "    <tr>\n",
       "      <th>synthetic_ramp_night</th>\n",
       "      <td>ssim</td>\n",
       "      <td>-3.0</td>\n",
       "      <td>0.0</td>\n",
       "      <td>0.842918</td>\n",
       "    </tr>\n",
       "  </tbody>\n",
       "</table>\n",
       "<p>87192 rows × 4 columns</p>\n",
       "</div>"
      ],
      "text/plain": [
       "                         metric  ev1  ev2        score\n",
       "name                                                  \n",
       "0006_20160721_163256_525    mse  0.0  2.0   163.995115\n",
       "0006_20160721_163256_525   ssim  0.0  2.0     0.969672\n",
       "0006_20160721_163256_525    mse  0.0  4.0   415.541140\n",
       "0006_20160721_163256_525   ssim  0.0  4.0     0.960854\n",
       "0006_20160721_163256_525    mse  0.0  2.5   115.394008\n",
       "...                         ...  ...  ...          ...\n",
       "synthetic_ramp_night       ssim -2.5  0.0     0.838293\n",
       "synthetic_ramp_night        mse -6.0  0.0  1527.866328\n",
       "synthetic_ramp_night       ssim -6.0  0.0     0.858638\n",
       "synthetic_ramp_night        mse -3.0  0.0  2534.350051\n",
       "synthetic_ramp_night       ssim -3.0  0.0     0.842918\n",
       "\n",
       "[87192 rows x 4 columns]"
      ]
     },
     "execution_count": 11,
     "metadata": {},
     "output_type": "execute_result"
    }
   ],
   "source": [
    "bsdf"
   ]
  },
  {
   "cell_type": "code",
   "execution_count": 12,
   "metadata": {},
   "outputs": [],
   "source": [
    "ev = bsdf[[\"ev1\",\"ev2\"]].where(bsdf[[\"ev1\", \"ev2\"]] != 0, other=None)\n",
    "def replace_none(row):\n",
    "    if row.iloc[0]:\n",
    "        return row.iloc[0]\n",
    "    else:\n",
    "        return row.iloc[1]\n",
    "    \n",
    "bsdf[\"ev\"] = ev.apply(replace_none, axis=1)\n",
    "bsdf = bsdf.drop([\"ev1\", \"ev2\"],axis=1)"
   ]
  },
  {
   "cell_type": "code",
   "execution_count": 13,
   "metadata": {},
   "outputs": [],
   "source": [
    "bsdf.to_csv(ROOT_DIR/\"precomputed_data\" / \"baseline_stats.csv\")"
   ]
  },
  {
   "cell_type": "code",
   "execution_count": 14,
   "metadata": {},
   "outputs": [
    {
     "data": {
      "text/plain": [
       "array([ 2. ,  4. ,  2.5,  5. ,  3. ,  6. , -4. , -2. , -5. , -2.5, -6. ,\n",
       "       -3. ])"
      ]
     },
     "execution_count": 14,
     "metadata": {},
     "output_type": "execute_result"
    }
   ],
   "source": [
    "bsdf[\"ev\"].unique()"
   ]
  },
  {
   "cell_type": "code",
   "execution_count": 15,
   "metadata": {},
   "outputs": [],
   "source": [
    "bsdf4 = bsdf[bsdf[\"ev\"].isin(np.linspace(-4,4,5))]\n",
    "bsdf5 = bsdf[bsdf[\"ev\"].isin(np.linspace(-5,5,5))] \n",
    "bsdf6 = bsdf[bsdf[\"ev\"].isin(np.linspace(-6,6,5))]"
   ]
  },
  {
   "cell_type": "code",
   "execution_count": 16,
   "metadata": {},
   "outputs": [
    {
     "data": {
      "text/plain": [
       "<matplotlib.axes._subplots.AxesSubplot at 0x7f30688cb0d0>"
      ]
     },
     "execution_count": 16,
     "metadata": {},
     "output_type": "execute_result"
    },
    {
     "data": {
      "image/png": "[encoded data removed]",
      "text/plain": [
       "<Figure size 432x288 with 1 Axes>"
      ]
     },
     "metadata": {
      "needs_background": "light"
     },
     "output_type": "display_data"
    }
   ],
   "source": [
    "mse_opt4 = (\n",
    "    bsdf4.groupby(\"metric\")\n",
    "        .get_group(\"mse\")\n",
    "        .pivot(columns=\"ev\")\n",
    "        .drop(\"metric\", axis=1)\n",
    "        .idxmin(axis=1)\n",
    ")\n",
    "mse_opt4.value_counts().plot.bar()"
   ]
  },
  {
   "cell_type": "code",
   "execution_count": 18,
   "metadata": {},
   "outputs": [
    {
     "data": {
      "text/plain": [
       "<matplotlib.axes._subplots.AxesSubplot at 0x7f3068149c40>"
      ]
     },
     "execution_count": 18,
     "metadata": {},
     "output_type": "execute_result"
    },
    {
     "data": {
      "image/png": "[encoded data removed]",
      "text/plain": [
       "<Figure size 432x288 with 1 Axes>"
      ]
     },
     "metadata": {
      "needs_background": "light"
     },
     "output_type": "display_data"
    }
   ],
   "source": [
    "mse_opt5 = (\n",
    "    bsdf5.groupby(\"metric\")\n",
    "        .get_group(\"ssim\")\n",
    "        .pivot(columns=\"ev\")\n",
    "        .drop(\"metric\", axis=1)\n",
    "        .idxmax(axis=1)\n",
    ")\n",
    "mse_opt5.value_counts().plot.bar()"
   ]
  },
  {
   "cell_type": "code",
   "execution_count": 264,
   "metadata": {},
   "outputs": [
    {
     "data": {
      "text/plain": [
       "<matplotlib.axes._subplots.AxesSubplot at 0x7f8d3e0c0370>"
      ]
     },
     "execution_count": 264,
     "metadata": {},
     "output_type": "execute_result"
    },
    {
     "data": {
      "image/png": "[encoded data removed]",
      "text/plain": [
       "<Figure size 432x288 with 1 Axes>"
      ]
     },
     "metadata": {
      "needs_background": "light"
     },
     "output_type": "display_data"
    }
   ],
   "source": [
    "mse_opt6 = (\n",
    "    bsdf6.groupby(\"metric\")\n",
    "        .get_group(\"mse\")\n",
    "        .pivot(columns=\"ev\")\n",
    "        .drop(\"metric\", axis=1)\n",
    "        .idxmin(axis=1)\n",
    ")\n",
    "mse_opt6.value_counts().plot.bar()\n"
   ]
  },
  {
   "cell_type": "code",
   "execution_count": 307,
   "metadata": {},
   "outputs": [
    {
     "data": {
      "text/plain": [
       "<matplotlib.axes._subplots.AxesSubplot at 0x7f8d0afc0760>"
      ]
     },
     "execution_count": 307,
     "metadata": {},
     "output_type": "execute_result"
    },
    {
     "data": {
      "image/png": "[encoded data removed]",
      "text/plain": [
       "<Figure size 432x288 with 1 Axes>"
      ]
     },
     "metadata": {
      "needs_background": "light"
     },
     "output_type": "display_data"
    }
   ],
   "source": [
    "all_opt = (\n",
    "    stats.groupby(\"metric\")\n",
    "        .get_group(\"mse\")\n",
    "        .copy()\n",
    ")\n",
    "all_opt[\"ev\"] = (\n",
    "    all_opt.loc[:,[\"ev1\", \"ev2\"]]\n",
    "        .apply(lambda df: tuple(sorted((df.iloc[0], df.iloc[1]))),axis=1)\n",
    ")\n",
    "all_opt = all_opt.pivot(columns=\"ev\").drop(columns=[\"metric\", \"ev1\", \"ev2\"])\n",
    "all_opt.idxmin(axis=1).value_counts().plot.bar()"
   ]
  },
  {
   "cell_type": "code",
   "execution_count": null,
   "metadata": {},
   "outputs": [],
   "source": []
  }
 ],
 "metadata": {
  "kernelspec": {
   "display_name": "DHDRNet",
   "language": "python",
   "name": "dhdrnet"
  },
  "language_info": {
   "codemirror_mode": {
    "name": "ipython",
    "version": 3
   },
   "file_extension": ".py",
   "mimetype": "text/x-python",
   "name": "python",
   "nbconvert_exporter": "python",
   "pygments_lexer": "ipython3",
   "version": "3.8.6"
  }
 },
 "nbformat": 4,
 "nbformat_minor": 4
}
