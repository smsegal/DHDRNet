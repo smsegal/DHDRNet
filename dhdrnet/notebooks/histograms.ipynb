{
 "cells": [
  {
   "cell_type": "code",
   "execution_count": 1,
   "metadata": {},
   "outputs": [],
   "source": [
    "import numpy as np\n",
    "import matplotlib.pyplot as plt\n",
    "import pandas as pd\n",
    "%matplotlib inline\n",
    "%autoreload 2"
   ]
  },
  {
   "cell_type": "code",
   "execution_count": 2,
   "metadata": {},
   "outputs": [
    {
     "name": "stderr",
     "output_type": "stream",
     "text": [
      "/home/shane/.cache/pypoetry/virtualenvs/dhdrnet-md5k9ngR-py3.8/lib/python3.8/site-packages/colour/utilities/verbose.py:235: ColourWarning: \"Adobe DNG Converter\" is not available on your platform!\n",
      "  warn(*args, **kwargs)\n"
     ]
    }
   ],
   "source": [
    "from dhdrnet.util import DATA_DIR, ROOT_DIR\n",
    "from dhdrnet.reconstruction import read_stats_from_file"
   ]
  },
  {
   "cell_type": "code",
   "execution_count": 24,
   "metadata": {},
   "outputs": [
    {
     "data": {
      "text/html": [
       "<div>\n",
       "<style scoped>\n",
       "    .dataframe tbody tr th:only-of-type {\n",
       "        vertical-align: middle;\n",
       "    }\n",
       "\n",
       "    .dataframe tbody tr th {\n",
       "        vertical-align: top;\n",
       "    }\n",
       "\n",
       "    .dataframe thead th {\n",
       "        text-align: right;\n",
       "    }\n",
       "</style>\n",
       "<table border=\"1\" class=\"dataframe\">\n",
       "  <thead>\n",
       "    <tr style=\"text-align: right;\">\n",
       "      <th></th>\n",
       "      <th>mse_-3.5</th>\n",
       "      <th>ssim_-3.5</th>\n",
       "      <th>ms_ssim_-3.5</th>\n",
       "      <th>mse_3.5</th>\n",
       "      <th>ssim_3.5</th>\n",
       "      <th>ms_ssim_3.5</th>\n",
       "      <th>mse_7.0</th>\n",
       "      <th>ssim_7.0</th>\n",
       "      <th>ms_ssim_7.0</th>\n",
       "      <th>mse_-7.0</th>\n",
       "      <th>...</th>\n",
       "      <th>ms_ssim_5.0</th>\n",
       "      <th>mse_-5.0</th>\n",
       "      <th>ssim_-5.0</th>\n",
       "      <th>ms_ssim_-5.0</th>\n",
       "      <th>mse_-2.5</th>\n",
       "      <th>ssim_-2.5</th>\n",
       "      <th>ms_ssim_-2.5</th>\n",
       "      <th>mse_2.5</th>\n",
       "      <th>ssim_2.5</th>\n",
       "      <th>ms_ssim_2.5</th>\n",
       "    </tr>\n",
       "  </thead>\n",
       "  <tbody>\n",
       "    <tr>\n",
       "      <th>count</th>\n",
       "      <td>3232.000000</td>\n",
       "      <td>3232.000000</td>\n",
       "      <td>3232.000000</td>\n",
       "      <td>3232.000000</td>\n",
       "      <td>3232.000000</td>\n",
       "      <td>3232.000000</td>\n",
       "      <td>3232.000000</td>\n",
       "      <td>3232.000000</td>\n",
       "      <td>3232.000000</td>\n",
       "      <td>3232.000000</td>\n",
       "      <td>...</td>\n",
       "      <td>3232.000000</td>\n",
       "      <td>3232.000000</td>\n",
       "      <td>3232.000000</td>\n",
       "      <td>3232.000000</td>\n",
       "      <td>3232.000000</td>\n",
       "      <td>3232.000000</td>\n",
       "      <td>3232.000000</td>\n",
       "      <td>3232.000000</td>\n",
       "      <td>3232.000000</td>\n",
       "      <td>3232.000000</td>\n",
       "    </tr>\n",
       "    <tr>\n",
       "      <th>mean</th>\n",
       "      <td>0.000740</td>\n",
       "      <td>0.999930</td>\n",
       "      <td>0.999986</td>\n",
       "      <td>0.000743</td>\n",
       "      <td>0.999930</td>\n",
       "      <td>0.999986</td>\n",
       "      <td>0.000749</td>\n",
       "      <td>0.999929</td>\n",
       "      <td>0.999986</td>\n",
       "      <td>0.000745</td>\n",
       "      <td>...</td>\n",
       "      <td>0.999986</td>\n",
       "      <td>0.000761</td>\n",
       "      <td>0.999928</td>\n",
       "      <td>0.999986</td>\n",
       "      <td>0.000761</td>\n",
       "      <td>0.999928</td>\n",
       "      <td>0.999986</td>\n",
       "      <td>0.000761</td>\n",
       "      <td>0.999929</td>\n",
       "      <td>0.999986</td>\n",
       "    </tr>\n",
       "    <tr>\n",
       "      <th>std</th>\n",
       "      <td>0.001174</td>\n",
       "      <td>0.000166</td>\n",
       "      <td>0.000023</td>\n",
       "      <td>0.001205</td>\n",
       "      <td>0.000170</td>\n",
       "      <td>0.000023</td>\n",
       "      <td>0.001221</td>\n",
       "      <td>0.000171</td>\n",
       "      <td>0.000023</td>\n",
       "      <td>0.001227</td>\n",
       "      <td>...</td>\n",
       "      <td>0.000023</td>\n",
       "      <td>0.001203</td>\n",
       "      <td>0.000170</td>\n",
       "      <td>0.000023</td>\n",
       "      <td>0.001190</td>\n",
       "      <td>0.000168</td>\n",
       "      <td>0.000023</td>\n",
       "      <td>0.001182</td>\n",
       "      <td>0.000168</td>\n",
       "      <td>0.000023</td>\n",
       "    </tr>\n",
       "    <tr>\n",
       "      <th>min</th>\n",
       "      <td>0.000014</td>\n",
       "      <td>0.996308</td>\n",
       "      <td>0.999461</td>\n",
       "      <td>0.000014</td>\n",
       "      <td>0.996221</td>\n",
       "      <td>0.999445</td>\n",
       "      <td>0.000016</td>\n",
       "      <td>0.996034</td>\n",
       "      <td>0.999417</td>\n",
       "      <td>0.000014</td>\n",
       "      <td>...</td>\n",
       "      <td>0.999494</td>\n",
       "      <td>0.000019</td>\n",
       "      <td>0.996476</td>\n",
       "      <td>0.999484</td>\n",
       "      <td>0.000014</td>\n",
       "      <td>0.996087</td>\n",
       "      <td>0.999425</td>\n",
       "      <td>0.000014</td>\n",
       "      <td>0.996129</td>\n",
       "      <td>0.999432</td>\n",
       "    </tr>\n",
       "    <tr>\n",
       "      <th>25%</th>\n",
       "      <td>0.000175</td>\n",
       "      <td>0.999926</td>\n",
       "      <td>0.999982</td>\n",
       "      <td>0.000174</td>\n",
       "      <td>0.999925</td>\n",
       "      <td>0.999982</td>\n",
       "      <td>0.000175</td>\n",
       "      <td>0.999925</td>\n",
       "      <td>0.999982</td>\n",
       "      <td>0.000174</td>\n",
       "      <td>...</td>\n",
       "      <td>0.999982</td>\n",
       "      <td>0.000186</td>\n",
       "      <td>0.999926</td>\n",
       "      <td>0.999982</td>\n",
       "      <td>0.000187</td>\n",
       "      <td>0.999924</td>\n",
       "      <td>0.999982</td>\n",
       "      <td>0.000190</td>\n",
       "      <td>0.999924</td>\n",
       "      <td>0.999982</td>\n",
       "    </tr>\n",
       "    <tr>\n",
       "      <th>50%</th>\n",
       "      <td>0.000422</td>\n",
       "      <td>0.999982</td>\n",
       "      <td>0.999992</td>\n",
       "      <td>0.000417</td>\n",
       "      <td>0.999982</td>\n",
       "      <td>0.999992</td>\n",
       "      <td>0.000423</td>\n",
       "      <td>0.999981</td>\n",
       "      <td>0.999992</td>\n",
       "      <td>0.000423</td>\n",
       "      <td>...</td>\n",
       "      <td>0.999992</td>\n",
       "      <td>0.000436</td>\n",
       "      <td>0.999982</td>\n",
       "      <td>0.999992</td>\n",
       "      <td>0.000436</td>\n",
       "      <td>0.999981</td>\n",
       "      <td>0.999992</td>\n",
       "      <td>0.000435</td>\n",
       "      <td>0.999981</td>\n",
       "      <td>0.999992</td>\n",
       "    </tr>\n",
       "    <tr>\n",
       "      <th>75%</th>\n",
       "      <td>0.000931</td>\n",
       "      <td>0.999997</td>\n",
       "      <td>0.999997</td>\n",
       "      <td>0.000941</td>\n",
       "      <td>0.999997</td>\n",
       "      <td>0.999997</td>\n",
       "      <td>0.000940</td>\n",
       "      <td>0.999997</td>\n",
       "      <td>0.999997</td>\n",
       "      <td>0.000939</td>\n",
       "      <td>...</td>\n",
       "      <td>0.999997</td>\n",
       "      <td>0.000952</td>\n",
       "      <td>0.999997</td>\n",
       "      <td>0.999997</td>\n",
       "      <td>0.000961</td>\n",
       "      <td>0.999997</td>\n",
       "      <td>0.999997</td>\n",
       "      <td>0.000963</td>\n",
       "      <td>0.999997</td>\n",
       "      <td>0.999997</td>\n",
       "    </tr>\n",
       "    <tr>\n",
       "      <th>max</th>\n",
       "      <td>0.027954</td>\n",
       "      <td>1.000000</td>\n",
       "      <td>1.000000</td>\n",
       "      <td>0.028633</td>\n",
       "      <td>1.000000</td>\n",
       "      <td>1.000000</td>\n",
       "      <td>0.030011</td>\n",
       "      <td>1.000000</td>\n",
       "      <td>1.000000</td>\n",
       "      <td>0.030076</td>\n",
       "      <td>...</td>\n",
       "      <td>1.000000</td>\n",
       "      <td>0.026718</td>\n",
       "      <td>1.000000</td>\n",
       "      <td>1.000000</td>\n",
       "      <td>0.029615</td>\n",
       "      <td>1.000000</td>\n",
       "      <td>1.000000</td>\n",
       "      <td>0.029322</td>\n",
       "      <td>1.000000</td>\n",
       "      <td>1.000000</td>\n",
       "    </tr>\n",
       "  </tbody>\n",
       "</table>\n",
       "<p>8 rows × 48 columns</p>\n",
       "</div>"
      ],
      "text/plain": [
       "          mse_-3.5    ssim_-3.5  ms_ssim_-3.5      mse_3.5     ssim_3.5  \\\n",
       "count  3232.000000  3232.000000   3232.000000  3232.000000  3232.000000   \n",
       "mean      0.000740     0.999930      0.999986     0.000743     0.999930   \n",
       "std       0.001174     0.000166      0.000023     0.001205     0.000170   \n",
       "min       0.000014     0.996308      0.999461     0.000014     0.996221   \n",
       "25%       0.000175     0.999926      0.999982     0.000174     0.999925   \n",
       "50%       0.000422     0.999982      0.999992     0.000417     0.999982   \n",
       "75%       0.000931     0.999997      0.999997     0.000941     0.999997   \n",
       "max       0.027954     1.000000      1.000000     0.028633     1.000000   \n",
       "\n",
       "       ms_ssim_3.5      mse_7.0     ssim_7.0  ms_ssim_7.0     mse_-7.0  ...  \\\n",
       "count  3232.000000  3232.000000  3232.000000  3232.000000  3232.000000  ...   \n",
       "mean      0.999986     0.000749     0.999929     0.999986     0.000745  ...   \n",
       "std       0.000023     0.001221     0.000171     0.000023     0.001227  ...   \n",
       "min       0.999445     0.000016     0.996034     0.999417     0.000014  ...   \n",
       "25%       0.999982     0.000175     0.999925     0.999982     0.000174  ...   \n",
       "50%       0.999992     0.000423     0.999981     0.999992     0.000423  ...   \n",
       "75%       0.999997     0.000940     0.999997     0.999997     0.000939  ...   \n",
       "max       1.000000     0.030011     1.000000     1.000000     0.030076  ...   \n",
       "\n",
       "       ms_ssim_5.0     mse_-5.0    ssim_-5.0  ms_ssim_-5.0     mse_-2.5  \\\n",
       "count  3232.000000  3232.000000  3232.000000   3232.000000  3232.000000   \n",
       "mean      0.999986     0.000761     0.999928      0.999986     0.000761   \n",
       "std       0.000023     0.001203     0.000170      0.000023     0.001190   \n",
       "min       0.999494     0.000019     0.996476      0.999484     0.000014   \n",
       "25%       0.999982     0.000186     0.999926      0.999982     0.000187   \n",
       "50%       0.999992     0.000436     0.999982      0.999992     0.000436   \n",
       "75%       0.999997     0.000952     0.999997      0.999997     0.000961   \n",
       "max       1.000000     0.026718     1.000000      1.000000     0.029615   \n",
       "\n",
       "         ssim_-2.5  ms_ssim_-2.5      mse_2.5     ssim_2.5  ms_ssim_2.5  \n",
       "count  3232.000000   3232.000000  3232.000000  3232.000000  3232.000000  \n",
       "mean      0.999928      0.999986     0.000761     0.999929     0.999986  \n",
       "std       0.000168      0.000023     0.001182     0.000168     0.000023  \n",
       "min       0.996087      0.999425     0.000014     0.996129     0.999432  \n",
       "25%       0.999924      0.999982     0.000190     0.999924     0.999982  \n",
       "50%       0.999981      0.999992     0.000435     0.999981     0.999992  \n",
       "75%       0.999997      0.999997     0.000963     0.999997     0.999997  \n",
       "max       1.000000      1.000000     0.029322     1.000000     1.000000  \n",
       "\n",
       "[8 rows x 48 columns]"
      ]
     },
     "execution_count": 24,
     "metadata": {},
     "output_type": "execute_result"
    }
   ],
   "source": [
    "stats_df = pd.read_csv(DATA_DIR/\"all_processed\"/\"fusion_records_snap2.csv\")\n",
    "stats_df.describe()"
   ]
  },
  {
   "cell_type": "code",
   "execution_count": 25,
   "metadata": {},
   "outputs": [
    {
     "data": {
      "text/plain": [
       "{4: array([-4., -2.,  0.,  2.,  4.]),\n",
       " 5: array([-5. , -2.5,  0. ,  2.5,  5. ]),\n",
       " 6: array([-6., -3.,  0.,  3.,  6.]),\n",
       " 7: array([-7. , -3.5,  0. ,  3.5,  7. ])}"
      ]
     },
     "execution_count": 25,
     "metadata": {},
     "output_type": "execute_result"
    }
   ],
   "source": [
    "ev_categories = {ev_max:np.linspace(-ev_max,ev_max,5) for ev_max in range(4,8)}\n",
    "ev_categories"
   ]
  },
  {
   "cell_type": "code",
   "execution_count": 26,
   "metadata": {
    "collapsed": true,
    "jupyter": {
     "outputs_hidden": true
    }
   },
   "outputs": [
    {
     "data": {
      "text/plain": [
       "{4:                           name  mse_-4.0  ssim_-4.0  ms_ssim_-4.0  mse_-2.0  \\\n",
       " 0     0127_20161018_111029_303  0.000090   0.999999      0.999999  0.000126   \n",
       " 1     6G7M_20150321_124944_821  0.002904   0.999595      0.999945  0.002429   \n",
       " 2     0037_20160717_132116_222  0.000433   0.999982      0.999989  0.000429   \n",
       " 3     33TJ_20150820_180403_156  0.001125   0.999874      0.999982  0.001121   \n",
       " 4     33TJ_20150613_094235_247  0.000128   0.999998      0.999998  0.000127   \n",
       " ...                        ...       ...        ...           ...       ...   \n",
       " 3229  0094_20150411_151345_904  0.000114   0.999999      0.999998  0.000101   \n",
       " 3230  33TJ_20150613_091501_684  0.000151   0.999998      0.999997  0.000216   \n",
       " 3231  4KK2_20150818_172058_316  0.000360   0.999988      0.999993  0.000514   \n",
       " 3232  0006_20160721_190959_035  0.000430   0.999976      0.999993  0.000706   \n",
       " 3233  4KK2_20150906_125359_376  0.000385   0.999978      0.999993  0.000430   \n",
       " \n",
       "       ssim_-2.0  ms_ssim_-2.0   mse_2.0  ssim_2.0  ms_ssim_2.0   mse_4.0  \\\n",
       " 0      0.999999      0.999998  0.000080  1.000000     0.999999  0.000080   \n",
       " 1      0.999648      0.999953  0.002635  0.999615     0.999948  0.003529   \n",
       " 2      0.999980      0.999989  0.000793  0.999941     0.999986  0.000442   \n",
       " 3      0.999871      0.999982  0.001046  0.999891     0.999982  0.001027   \n",
       " 4      0.999998      0.999998  0.000133  0.999998     0.999998  0.000143   \n",
       " ...         ...           ...       ...       ...          ...       ...   \n",
       " 3229   0.999998      0.999999  0.000108  0.999998     0.999998  0.000105   \n",
       " 3230   0.999991      0.999996  0.000177  0.999996     0.999996  0.000213   \n",
       " 3231   0.999981      0.999990  0.000321  0.999987     0.999994  0.000420   \n",
       " 3232   0.999976      0.999986  0.000457  0.999977     0.999992  0.000528   \n",
       " 3233   0.999980      0.999992  0.000367  0.999977     0.999994  0.000506   \n",
       " \n",
       "       ssim_4.0  ms_ssim_4.0  \n",
       " 0     1.000000     0.999999  \n",
       " 1     0.999534     0.999934  \n",
       " 2     0.999986     0.999990  \n",
       " 3     0.999909     0.999981  \n",
       " 4     0.999997     0.999998  \n",
       " ...        ...          ...  \n",
       " 3229  0.999998     0.999999  \n",
       " 3230  0.999991     0.999996  \n",
       " 3231  0.999986     0.999992  \n",
       " 3232  0.999978     0.999990  \n",
       " 3233  0.999979     0.999990  \n",
       " \n",
       " [3234 rows x 13 columns],\n",
       " 5:                           name  mse_-5.0  ssim_-5.0  ms_ssim_-5.0  mse_-2.5  \\\n",
       " 0     0127_20161018_111029_303  0.000080   1.000000      0.999999  0.000130   \n",
       " 1     6G7M_20150321_124944_821  0.003075   0.999576      0.999941  0.002035   \n",
       " 2     0037_20160717_132116_222  0.000426   0.999980      0.999989  0.000557   \n",
       " 3     33TJ_20150820_180403_156  0.001123   0.999869      0.999982  0.001028   \n",
       " 4     33TJ_20150613_094235_247  0.000125   0.999998      0.999998  0.000132   \n",
       " ...                        ...       ...        ...           ...       ...   \n",
       " 3229  0094_20150411_151345_904  0.000101   0.999998      0.999999  0.000164   \n",
       " 3230  33TJ_20150613_091501_684  0.000212   0.999991      0.999996  0.000211   \n",
       " 3231  4KK2_20150818_172058_316  0.000288   0.999988      0.999995  0.000402   \n",
       " 3232  0006_20160721_190959_035  0.000494   0.999978      0.999991  0.000462   \n",
       " 3233  4KK2_20150906_125359_376  0.000359   0.999976      0.999994  0.000512   \n",
       " \n",
       "       ssim_-2.5  ms_ssim_-2.5   mse_2.5  ssim_2.5  ms_ssim_2.5   mse_5.0  \\\n",
       " 0      0.999999      0.999998  0.000079  1.000000     0.999999  0.000080   \n",
       " 1      0.999703      0.999963  0.002556  0.999625     0.999950  0.002507   \n",
       " 2      0.999975      0.999990  0.000433  0.999982     0.999989  0.000420   \n",
       " 3      0.999904      0.999981  0.001059  0.999885     0.999982  0.001123   \n",
       " 4      0.999998      0.999998  0.000175  0.999998     0.999997  0.000149   \n",
       " ...         ...           ...       ...       ...          ...       ...   \n",
       " 3229   0.999998      0.999997  0.000120  0.999998     0.999998  0.000101   \n",
       " 3230   0.999995      0.999996  0.000217  0.999996     0.999996  0.000225   \n",
       " 3231   0.999988      0.999992  0.000366  0.999988     0.999993  0.000574   \n",
       " 3232   0.999977      0.999992  0.000436  0.999976     0.999993  0.000724   \n",
       " 3233   0.999979      0.999990  0.000399  0.999980     0.999993  0.000388   \n",
       " \n",
       "       ssim_5.0  ms_ssim_5.0  \n",
       " 0     1.000000     0.999999  \n",
       " 1     0.999630     0.999951  \n",
       " 2     0.999986     0.999990  \n",
       " 3     0.999875     0.999982  \n",
       " 4     0.999997     0.999997  \n",
       " ...        ...          ...  \n",
       " 3229  0.999998     0.999999  \n",
       " 3230  0.999991     0.999996  \n",
       " 3231  0.999978     0.999989  \n",
       " 3232  0.999975     0.999986  \n",
       " 3233  0.999978     0.999993  \n",
       " \n",
       " [3234 rows x 13 columns],\n",
       " 6:                           name  mse_-6.0  ssim_-6.0  ms_ssim_-6.0  mse_-3.0  \\\n",
       " 0     0127_20161018_111029_303  0.000080   1.000000      0.999999  0.000093   \n",
       " 1     6G7M_20150321_124944_821  0.002523   0.999627      0.999951  0.002844   \n",
       " 2     0037_20160717_132116_222  0.000432   0.999981      0.999989  0.000433   \n",
       " 3     33TJ_20150820_180403_156  0.000952   0.999905      0.999983  0.001094   \n",
       " 4     33TJ_20150613_094235_247  0.000132   0.999998      0.999998  0.000135   \n",
       " ...                        ...       ...        ...           ...       ...   \n",
       " 3229  0094_20150411_151345_904  0.000099   0.999999      0.999998  0.000102   \n",
       " 3230  33TJ_20150613_091501_684  0.000214   0.999991      0.999996  0.000212   \n",
       " 3231  4KK2_20150818_172058_316  0.000347   0.999988      0.999993  0.000493   \n",
       " 3232  0006_20160721_190959_035  0.000456   0.999977      0.999992  0.000608   \n",
       " 3233  4KK2_20150906_125359_376  0.000448   0.999981      0.999991  0.000394   \n",
       " \n",
       "       ssim_-3.0  ms_ssim_-3.0   mse_3.0  ssim_3.0  ms_ssim_3.0   mse_6.0  \\\n",
       " 0      0.999999      0.999998  0.000080  1.000000     0.999999  0.000080   \n",
       " 1      0.999595      0.999945  0.002590  0.999634     0.999949  0.002498   \n",
       " 2      0.999983      0.999989  0.000431  0.999984     0.999989  0.000515   \n",
       " 3      0.999879      0.999982  0.001126  0.999873     0.999982  0.001121   \n",
       " 4      0.999998      0.999998  0.000120  0.999998     0.999998  0.000129   \n",
       " ...         ...           ...       ...       ...          ...       ...   \n",
       " 3229   0.999998      0.999999  0.000101  0.999998     0.999999  0.000101   \n",
       " 3230   0.999991      0.999996  0.000158  0.999997     0.999997  0.000206   \n",
       " 3231   0.999980      0.999990  0.000395  0.999988     0.999992  0.000369   \n",
       " 3232   0.999977      0.999988  0.000465  0.999977     0.999992  0.000451   \n",
       " 3233   0.999979      0.999993  0.000380  0.999978     0.999993  0.000389   \n",
       " \n",
       "       ssim_6.0  ms_ssim_6.0  \n",
       " 0     1.000000     0.999999  \n",
       " 1     0.999628     0.999951  \n",
       " 2     0.999980     0.999990  \n",
       " 3     0.999875     0.999982  \n",
       " 4     0.999998     0.999998  \n",
       " ...        ...          ...  \n",
       " 3229  0.999998     0.999999  \n",
       " 3230  0.999992     0.999996  \n",
       " 3231  0.999988     0.999993  \n",
       " 3232  0.999976     0.999992  \n",
       " 3233  0.999978     0.999993  \n",
       " \n",
       " [3234 rows x 13 columns],\n",
       " 7:                           name  mse_-7.0  ssim_-7.0  ms_ssim_-7.0  mse_-3.5  \\\n",
       " 0     0127_20161018_111029_303  0.000080   1.000000      0.999999  0.000104   \n",
       " 1     6G7M_20150321_124944_821  0.002451   0.999646      0.999952  0.002730   \n",
       " 2     0037_20160717_132116_222  0.000460   0.999986      0.999990  0.000447   \n",
       " 3     33TJ_20150820_180403_156  0.001121   0.999875      0.999982  0.001023   \n",
       " 4     33TJ_20150613_094235_247  0.000131   0.999998      0.999998  0.000132   \n",
       " ...                        ...       ...        ...           ...       ...   \n",
       " 3229  0094_20150411_151345_904  0.000113   0.999997      0.999998  0.000099   \n",
       " 3230  33TJ_20150613_091501_684  0.000212   0.999991      0.999996  0.000211   \n",
       " 3231  4KK2_20150818_172058_316  0.000324   0.999988      0.999994  0.000378   \n",
       " 3232  0006_20160721_190959_035  0.000450   0.999978      0.999992  0.000466   \n",
       " 3233  4KK2_20150906_125359_376  0.000368   0.999976      0.999994  0.000438   \n",
       " \n",
       "       ssim_-3.5  ms_ssim_-3.5   mse_3.5  ssim_3.5  ms_ssim_3.5   mse_7.0  \\\n",
       " 0      0.999999      0.999998  0.000080  1.000000     0.999999  0.000080   \n",
       " 1      0.999606      0.999947  0.002508  0.999628     0.999951  0.002496   \n",
       " 2      0.999979      0.999989  0.000433  0.999983     0.999989  0.000433   \n",
       " 3      0.999895      0.999982  0.001108  0.999877     0.999982  0.001130   \n",
       " 4      0.999998      0.999998  0.000160  0.999997     0.999997  0.000136   \n",
       " ...         ...           ...       ...       ...          ...       ...   \n",
       " 3229   0.999998      0.999999  0.000101  0.999998     0.999999  0.000104   \n",
       " 3230   0.999992      0.999996  0.000173  0.999996     0.999997  0.000230   \n",
       " 3231   0.999988      0.999993  0.000370  0.999988     0.999993  0.000459   \n",
       " 3232   0.999977      0.999992  0.000475  0.999975     0.999992  0.000618   \n",
       " 3233   0.999981      0.999992  0.000391  0.999978     0.999993  0.000389   \n",
       " \n",
       "       ssim_7.0  ms_ssim_7.0  \n",
       " 0     1.000000     0.999999  \n",
       " 1     0.999623     0.999951  \n",
       " 2     0.999983     0.999989  \n",
       " 3     0.999870     0.999982  \n",
       " 4     0.999998     0.999997  \n",
       " ...        ...          ...  \n",
       " 3229  0.999999     0.999998  \n",
       " 3230  0.999991     0.999996  \n",
       " 3231  0.999981     0.999991  \n",
       " 3232  0.999976     0.999988  \n",
       " 3233  0.999978     0.999993  \n",
       " \n",
       " [3234 rows x 13 columns]}"
      ]
     },
     "execution_count": 26,
     "metadata": {},
     "output_type": "execute_result"
    }
   ],
   "source": [
    "grouped_stats = dict()\n",
    "from dhdrnet.util import flatten\n",
    "for cat, ev_stops in ev_categories.items():\n",
    "    selected_cols = list(flatten([[c for c in stats_df.columns if c.endswith(f\"_{ev}\")] for ev in ev_stops]))\n",
    "    grouped_stats[cat] = stats_df.loc[:,[\"name\",*selected_cols]]\n",
    "\n",
    "grouped_stats"
   ]
  },
  {
   "cell_type": "code",
   "execution_count": 49,
   "metadata": {},
   "outputs": [
    {
     "data": {
      "image/png": "[encoded data removed]",
      "text/plain": [
       "<Figure size 432x288 with 1 Axes>"
      ]
     },
     "metadata": {
      "needs_background": "light"
     },
     "output_type": "display_data"
    },
    {
     "data": {
      "image/png": "[encoded data removed]",
      "text/plain": [
       "<Figure size 432x288 with 1 Axes>"
      ]
     },
     "metadata": {
      "needs_background": "light"
     },
     "output_type": "display_data"
    },
    {
     "data": {
      "image/png": "[encoded data removed]",
      "text/plain": [
       "<Figure size 432x288 with 1 Axes>"
      ]
     },
     "metadata": {
      "needs_background": "light"
     },
     "output_type": "display_data"
    },
    {
     "data": {
      "image/png": "[encoded data removed]",
      "text/plain": [
       "<Figure size 432x288 with 1 Axes>"
      ]
     },
     "metadata": {
      "needs_background": "light"
     },
     "output_type": "display_data"
    }
   ],
   "source": [
    "for ev, stats in grouped_stats.items():\n",
    "    mse_stats = stats.loc[\n",
    "        :, [\"name\", *[c for c in stats.columns if c.startswith(\"mse\")]]\n",
    "    ]\n",
    "    mse_stats = mse_stats.rename(lambda c: c.split(\"_\")[-1], axis=\"columns\")\n",
    "    mse_stats[\"optimal_mse\"] = (\n",
    "        mse_stats.loc[:, f\"-{ev}.0\":f\"{ev}.0\"].idxmin(axis=1).apply(float)                                                                                     \n",
    "    )\n",
    "    plt.figure()\n",
    "    ax = mse_stats[\"optimal_mse\"].value_counts(sort=False).plot(\n",
    "        kind=\"bar\",  title=f\"Prediction Distribution EV Range [-{ev},{ev}]\" \n",
    "    )\n",
    "    ax.set_xlabel = \"EV Choices\"\n",
    "    ax.set_ylabel = \"Frequency\"\n",
    "    plt.savefig(f\"distribution_ev{ev}\")\n",
    "    plt.show() "
   ]
  },
  {
   "cell_type": "code",
   "execution_count": 38,
   "metadata": {},
   "outputs": [
    {
     "data": {
      "image/png": "[encoded data removed]",
      "text/plain": [
       "<Figure size 432x288 with 1 Axes>"
      ]
     },
     "metadata": {
      "needs_background": "light"
     },
     "output_type": "display_data"
    }
   ],
   "source": [
    "plt.figure()\n",
    "opt_view = stats_df[[\"name\", *[c for c in stats_df.columns if c.startswith(\"optimal\")]]]\n",
    "opt_view[\"optimal_mse_4\"].value_counts(sort=False).plot(kind=\"bar\",title=\"Prediction Distribution EV Range [-{}]\")\n",
    "plt.show()"
   ]
  },
  {
   "cell_type": "code",
   "execution_count": 96,
   "metadata": {},
   "outputs": [
    {
     "data": {
      "text/plain": [
       "<matplotlib.axes._subplots.AxesSubplot at 0x7fb426f48e80>"
      ]
     },
     "execution_count": 96,
     "metadata": {},
     "output_type": "execute_result"
    },
    {
     "data": {
      "image/png": "[encoded data removed]",
      "text/plain": [
       "<Figure size 432x288 with 1 Axes>"
      ]
     },
     "metadata": {
      "needs_background": "light"
     },
     "output_type": "display_data"
    }
   ],
   "source": [
    "mse_stats[\"optimal_mse\"].value_counts().plot(kind='bar')"
   ]
  },
  {
   "cell_type": "code",
   "execution_count": 62,
   "metadata": {},
   "outputs": [
    {
     "data": {
      "text/plain": [
       "(array([   1.,    0.,    0.,    0.,    2.,    0.,    0.,    0.,    0.,\n",
       "           0.,    1.,    0.,    0.,    1.,    2.,    1.,    6.,    4.,\n",
       "           6.,   15.,    8.,   10.,   17.,   20.,   26.,   28.,   37.,\n",
       "          45.,   41.,   52.,   80.,   79.,  102.,  123.,  111.,  150.,\n",
       "         143.,  153.,  187.,  155.,  192.,  227.,  221.,  255.,  268.,\n",
       "         235.,  323.,  262.,  323.,  333.,  369.,  319.,  349.,  332.,\n",
       "         344.,  327.,  322.,  279.,  265.,  297.,  252.,  218.,  235.,\n",
       "         235.,  167.,  181.,  175.,  139.,  130.,  112.,  119.,   84.,\n",
       "          78.,   52.,   59.,   47.,   49.,   47.,   22.,   25.,   23.,\n",
       "          27.,   22.,   11.,    8.,    6.,    7.,    5.,    2.,    4.,\n",
       "           2.,    2.,    2.,    2.,    0.,    0.,    0.,    0.,    1.,    2.]),\n",
       " array([-4.28708288, -4.20490145, -4.12272001, -4.04053858, -3.95835714,\n",
       "        -3.8761757 , -3.79399427, -3.71181283, -3.6296314 , -3.54744996,\n",
       "        -3.46526853, -3.38308709, -3.30090566, -3.21872422, -3.13654279,\n",
       "        -3.05436135, -2.97217992, -2.88999848, -2.80781705, -2.72563561,\n",
       "        -2.64345417, -2.56127274, -2.4790913 , -2.39690987, -2.31472843,\n",
       "        -2.232547  , -2.15036556, -2.06818413, -1.98600269, -1.90382126,\n",
       "        -1.82163982, -1.73945839, -1.65727695, -1.57509551, -1.49291408,\n",
       "        -1.41073264, -1.32855121, -1.24636977, -1.16418834, -1.0820069 ,\n",
       "        -0.99982547, -0.91764403, -0.8354626 , -0.75328116, -0.67109973,\n",
       "        -0.58891829, -0.50673685, -0.42455542, -0.34237398, -0.26019255,\n",
       "        -0.17801111, -0.09582968, -0.01364824,  0.06853319,  0.15071463,\n",
       "         0.23289606,  0.3150775 ,  0.39725893,  0.47944037,  0.5616218 ,\n",
       "         0.64380324,  0.72598468,  0.80816611,  0.89034755,  0.97252898,\n",
       "         1.05471042,  1.13689185,  1.21907329,  1.30125472,  1.38343616,\n",
       "         1.46561759,  1.54779903,  1.62998046,  1.7121619 ,  1.79434334,\n",
       "         1.87652477,  1.95870621,  2.04088764,  2.12306908,  2.20525051,\n",
       "         2.28743195,  2.36961338,  2.45179482,  2.53397625,  2.61615769,\n",
       "         2.69833912,  2.78052056,  2.862702  ,  2.94488343,  3.02706487,\n",
       "         3.1092463 ,  3.19142774,  3.27360917,  3.35579061,  3.43797204,\n",
       "         3.52015348,  3.60233491,  3.68451635,  3.76669778,  3.84887922,\n",
       "         3.93106065]),\n",
       " <a list of 100 Patch objects>)"
      ]
     },
     "execution_count": 62,
     "metadata": {},
     "output_type": "execute_result"
    },
    {
     "data": {
      "image/png": "[encoded data removed]",
      "text/plain": [
       "<Figure size 432x288 with 1 Axes>"
      ]
     },
     "metadata": {
      "needs_background": "light"
     },
     "output_type": "display_data"
    }
   ],
   "source": [
    "x = np.random.standard_normal(10000)\n",
    "plt.hist(x,bins=100)\n",
    "# mean = 0; std = 1; variance = np.square(std)\n",
    "# x = np.arange(-5,5,.01)\n",
    "# f = np.exp(-np.square(x-mean)/2*variance)/(np.sqrt(2*np.pi*variance))\n",
    "\n",
    "# plt.plot(x,f)\n",
    "# plt.ylabel('gaussian distribution')\n",
    "# plt.show()"
   ]
  },
  {
   "cell_type": "code",
   "execution_count": null,
   "metadata": {},
   "outputs": [],
   "source": []
  }
 ],
 "metadata": {
  "kernelspec": {
   "display_name": "DHDRNet",
   "language": "python",
   "name": "dhdrnet"
  },
  "language_info": {
   "codemirror_mode": {
    "name": "ipython",
    "version": 3
   },
   "file_extension": ".py",
   "mimetype": "text/x-python",
   "name": "python",
   "nbconvert_exporter": "python",
   "pygments_lexer": "ipython3",
   "version": "3.8.3"
  }
 },
 "nbformat": 4,
 "nbformat_minor": 4
}
