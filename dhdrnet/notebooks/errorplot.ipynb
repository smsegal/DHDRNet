{
 "cells": [
  {
   "cell_type": "code",
   "execution_count": 1,
   "metadata": {},
   "outputs": [
    {
     "name": "stdout",
     "output_type": "stream",
     "text": [
      "The autoreload extension is already loaded. To reload it, use:\n",
      "  %reload_ext autoreload\n"
     ]
    }
   ],
   "source": [
    "%load_ext autoreload\n",
    "%autoreload 2\n",
    "%matplotlib widget\n",
    "\n",
    "import numpy as np\n",
    "import matplotlib.pyplot as plt\n",
    "import pandas as pd\n",
    "import seaborn as sds"
   ]
  },
  {
   "cell_type": "code",
   "execution_count": 2,
   "metadata": {},
   "outputs": [
    {
     "name": "stderr",
     "output_type": "stream",
     "text": [
      "/home/shane/.cache/pypoetry/virtualenvs/dhdrnet-md5k9ngR-py3.8/lib/python3.8/site-packages/colour/utilities/verbose.py:235: ColourWarning: \"Adobe DNG Converter\" is not available on your platform!\n",
      "  warn(*args, **kwargs)\n"
     ]
    }
   ],
   "source": [
    "from dhdrnet.util import ROOT_DIR\n",
    "from dhdrnet.vis_util import get_metric_cat_groups"
   ]
  },
  {
   "cell_type": "code",
   "execution_count": 3,
   "metadata": {},
   "outputs": [],
   "source": [
    "ev_categories = {ev_max:np.linspace(-ev_max,ev_max,5) for ev_max in range(4,8)}\n",
    "\n",
    "stats_df = pd.read_csv(ROOT_DIR/\"precomputed_data\"/\"train.stats.csv\") \\\n",
    "    .set_index(\"name\")\n",
    "\n",
    "\n",
    "metric_cats = get_metric_cat_groups(stats_df, ev_categories)\n",
    "mse_df = stats_df.groupby(metric_cats[\"mse\"],axis=1).get_group(4.0)\n",
    "ssim_df = stats_df.groupby(metric_cats[\"ssim\"],axis=1).get_group(4.0)"
   ]
  },
  {
   "cell_type": "code",
   "execution_count": 4,
   "metadata": {},
   "outputs": [
    {
     "data": {
      "text/html": [
       "<div>\n",
       "<style scoped>\n",
       "    .dataframe tbody tr th:only-of-type {\n",
       "        vertical-align: middle;\n",
       "    }\n",
       "\n",
       "    .dataframe tbody tr th {\n",
       "        vertical-align: top;\n",
       "    }\n",
       "\n",
       "    .dataframe thead th {\n",
       "        text-align: right;\n",
       "    }\n",
       "</style>\n",
       "<table border=\"1\" class=\"dataframe\">\n",
       "  <thead>\n",
       "    <tr style=\"text-align: right;\">\n",
       "      <th></th>\n",
       "      <th>mse_4.0</th>\n",
       "      <th>mse_-4.0</th>\n",
       "      <th>mse_-2.0</th>\n",
       "      <th>mse_2.0</th>\n",
       "    </tr>\n",
       "    <tr>\n",
       "      <th>name</th>\n",
       "      <th></th>\n",
       "      <th></th>\n",
       "      <th></th>\n",
       "      <th></th>\n",
       "    </tr>\n",
       "  </thead>\n",
       "  <tbody>\n",
       "    <tr>\n",
       "      <th>0382_20150919_124536_450</th>\n",
       "      <td>0.000317</td>\n",
       "      <td>0.000420</td>\n",
       "      <td>0.000339</td>\n",
       "      <td>0.000545</td>\n",
       "    </tr>\n",
       "    <tr>\n",
       "      <th>0830_20151121_134712_827</th>\n",
       "      <td>0.000418</td>\n",
       "      <td>0.000784</td>\n",
       "      <td>0.000645</td>\n",
       "      <td>0.000524</td>\n",
       "    </tr>\n",
       "    <tr>\n",
       "      <th>5a9e_20150328_163715_895</th>\n",
       "      <td>0.000169</td>\n",
       "      <td>0.000172</td>\n",
       "      <td>0.000179</td>\n",
       "      <td>0.000131</td>\n",
       "    </tr>\n",
       "    <tr>\n",
       "      <th>J6ZC_20150408_182800_017</th>\n",
       "      <td>0.000204</td>\n",
       "      <td>0.000209</td>\n",
       "      <td>0.000168</td>\n",
       "      <td>0.000203</td>\n",
       "    </tr>\n",
       "    <tr>\n",
       "      <th>0919_20150906_125058_289</th>\n",
       "      <td>0.000330</td>\n",
       "      <td>0.000517</td>\n",
       "      <td>0.000352</td>\n",
       "      <td>0.000383</td>\n",
       "    </tr>\n",
       "    <tr>\n",
       "      <th>...</th>\n",
       "      <td>...</td>\n",
       "      <td>...</td>\n",
       "      <td>...</td>\n",
       "      <td>...</td>\n",
       "    </tr>\n",
       "    <tr>\n",
       "      <th>0155_20160821_143956_034</th>\n",
       "      <td>0.000956</td>\n",
       "      <td>0.001347</td>\n",
       "      <td>0.001090</td>\n",
       "      <td>0.000955</td>\n",
       "    </tr>\n",
       "    <tr>\n",
       "      <th>4KK2_20150907_115116_975</th>\n",
       "      <td>0.000189</td>\n",
       "      <td>0.000471</td>\n",
       "      <td>0.000281</td>\n",
       "      <td>0.000199</td>\n",
       "    </tr>\n",
       "    <tr>\n",
       "      <th>4WBR_20150502_154340_499</th>\n",
       "      <td>0.000769</td>\n",
       "      <td>0.000654</td>\n",
       "      <td>0.000792</td>\n",
       "      <td>0.000622</td>\n",
       "    </tr>\n",
       "    <tr>\n",
       "      <th>33TJ_20150607_025432_064</th>\n",
       "      <td>0.000109</td>\n",
       "      <td>0.000120</td>\n",
       "      <td>0.000113</td>\n",
       "      <td>0.000108</td>\n",
       "    </tr>\n",
       "    <tr>\n",
       "      <th>0047_20160531_115655_122</th>\n",
       "      <td>0.000458</td>\n",
       "      <td>0.000553</td>\n",
       "      <td>0.000644</td>\n",
       "      <td>0.000562</td>\n",
       "    </tr>\n",
       "  </tbody>\n",
       "</table>\n",
       "<p>2906 rows × 4 columns</p>\n",
       "</div>"
      ],
      "text/plain": [
       "                           mse_4.0  mse_-4.0  mse_-2.0   mse_2.0\n",
       "name                                                            \n",
       "0382_20150919_124536_450  0.000317  0.000420  0.000339  0.000545\n",
       "0830_20151121_134712_827  0.000418  0.000784  0.000645  0.000524\n",
       "5a9e_20150328_163715_895  0.000169  0.000172  0.000179  0.000131\n",
       "J6ZC_20150408_182800_017  0.000204  0.000209  0.000168  0.000203\n",
       "0919_20150906_125058_289  0.000330  0.000517  0.000352  0.000383\n",
       "...                            ...       ...       ...       ...\n",
       "0155_20160821_143956_034  0.000956  0.001347  0.001090  0.000955\n",
       "4KK2_20150907_115116_975  0.000189  0.000471  0.000281  0.000199\n",
       "4WBR_20150502_154340_499  0.000769  0.000654  0.000792  0.000622\n",
       "33TJ_20150607_025432_064  0.000109  0.000120  0.000113  0.000108\n",
       "0047_20160531_115655_122  0.000458  0.000553  0.000644  0.000562\n",
       "\n",
       "[2906 rows x 4 columns]"
      ]
     },
     "execution_count": 4,
     "metadata": {},
     "output_type": "execute_result"
    }
   ],
   "source": [
    "mse_df"
   ]
  },
  {
   "cell_type": "code",
   "execution_count": 5,
   "metadata": {},
   "outputs": [],
   "source": [
    "mse_np = np.array(mse_df)\n",
    "mse_np = np.sort(mse_np,axis=1)\n",
    "R = mse_np / (1e-5 + mse_np[:, 0, np.newaxis])"
   ]
  },
  {
   "cell_type": "code",
   "execution_count": 27,
   "metadata": {},
   "outputs": [
    {
     "data": {
      "application/vnd.jupyter.widget-view+json": {
       "model_id": "905b85fb466d4ff58fa5e517be825ebc",
       "version_major": 2,
       "version_minor": 0
      },
      "text/plain": [
       "Canvas(toolbar=Toolbar(toolitems=[('Home', 'Reset original view', 'home', 'home'), ('Back', 'Back to previous …"
      ]
     },
     "metadata": {},
     "output_type": "display_data"
    },
    {
     "data": {
      "text/plain": [
       "Text(0.5, 0, 'log(mean(error/min_error))')"
      ]
     },
     "execution_count": 27,
     "metadata": {},
     "output_type": "execute_result"
    }
   ],
   "source": [
    "plt.figure()\n",
    "plt.bar(np.arange(1,5), np.log(np.mean(R,0)))\n",
    "plt.xlabel(\"log(mean(error/min_error))\")\n",
    "plt.suptitle(\"\")"
   ]
  },
  {
   "cell_type": "code",
   "execution_count": 7,
   "metadata": {},
   "outputs": [],
   "source": [
    "ssim_np = np.array(ssim_df)\n",
    "ssim_np = np.sort(ssim_np, axis=1)"
   ]
  },
  {
   "cell_type": "code",
   "execution_count": 8,
   "metadata": {},
   "outputs": [
    {
     "name": "stdout",
     "output_type": "stream",
     "text": [
      "mse_mini=(2231, 0)\n",
      "ssim_maxi=(751, 2)\n"
     ]
    }
   ],
   "source": [
    "mse_mini = np.unravel_index(np.argmin(mse_np), mse_np.shape)\n",
    "ssim_maxi = np.unravel_index(np.argmax(ssim_np), ssim_np.shape)\n",
    "print(f\"{mse_mini=}\")\n",
    "print(f\"{ssim_maxi=}\")"
   ]
  },
  {
   "cell_type": "code",
   "execution_count": 9,
   "metadata": {},
   "outputs": [
    {
     "data": {
      "text/plain": [
       "ssim_4.0     1.000000\n",
       "ssim_-4.0    1.000000\n",
       "ssim_-2.0    0.999999\n",
       "ssim_2.0     1.000000\n",
       "Name: 0272_20151215_235432_538, dtype: float64"
      ]
     },
     "execution_count": 9,
     "metadata": {},
     "output_type": "execute_result"
    }
   ],
   "source": [
    "ssim_df.iloc[ssim_maxi[0]]"
   ]
  },
  {
   "cell_type": "code",
   "execution_count": 43,
   "metadata": {},
   "outputs": [
    {
     "data": {
      "text/plain": [
       "0.0"
      ]
     },
     "execution_count": 43,
     "metadata": {},
     "output_type": "execute_result"
    }
   ],
   "source": [
    "mse_df.iloc[mse_mini[0],1]"
   ]
  },
  {
   "cell_type": "code",
   "execution_count": 15,
   "metadata": {},
   "outputs": [
    {
     "data": {
      "application/vnd.jupyter.widget-view+json": {
       "model_id": "e0982faa8cd74c0c8046b45b68224b36",
       "version_major": 2,
       "version_minor": 0
      },
      "text/plain": [
       "Canvas(toolbar=Toolbar(toolitems=[('Home', 'Reset original view', 'home', 'home'), ('Back', 'Back to previous …"
      ]
     },
     "metadata": {},
     "output_type": "display_data"
    },
    {
     "name": "stderr",
     "output_type": "stream",
     "text": [
      "Clipping input data to the valid range for imshow with RGB data ([0..1] for floats or [0..255] for integers).\n"
     ]
    },
    {
     "data": {
      "text/plain": [
       "<matplotlib.image.AxesImage at 0x7f6a4b6de910>"
      ]
     },
     "execution_count": 15,
     "metadata": {},
     "output_type": "execute_result"
    }
   ],
   "source": [
    "from dhdrnet.util import DATA_DIR\n",
    "\n",
    "imn4 = plt.imread(DATA_DIR/\"all_processed\"/\"max_ev4\"/\"0006_20160723_152642_719_ev-4.0.png\")\n",
    "im_merged =plt.imread(DATA_DIR/\"merged\"/\"0006_20160723_152642_719.png\")\n",
    "plt.figure()\n",
    "plt.imshow(10*(imn4 - im_merged))"
   ]
  },
  {
   "cell_type": "code",
   "execution_count": 12,
   "metadata": {},
   "outputs": [
    {
     "data": {
      "application/vnd.jupyter.widget-view+json": {
       "model_id": "6aa6f5e66d8e463a98256c937bd2b631",
       "version_major": 2,
       "version_minor": 0
      },
      "text/plain": [
       "Canvas(toolbar=Toolbar(toolitems=[('Home', 'Reset original view', 'home', 'home'), ('Back', 'Back to previous …"
      ]
     },
     "metadata": {},
     "output_type": "display_data"
    },
    {
     "name": "stderr",
     "output_type": "stream",
     "text": [
      "Clipping input data to the valid range for imshow with RGB data ([0..1] for floats or [0..255] for integers).\n"
     ]
    },
    {
     "data": {
      "application/vnd.jupyter.widget-view+json": {
       "model_id": "c7699b35d4d7417ca1746e4af30fd27c",
       "version_major": 2,
       "version_minor": 0
      },
      "text/plain": [
       "Canvas(toolbar=Toolbar(toolitems=[('Home', 'Reset original view', 'home', 'home'), ('Back', 'Back to previous …"
      ]
     },
     "metadata": {},
     "output_type": "display_data"
    },
    {
     "data": {
      "text/plain": [
       "<matplotlib.image.AxesImage at 0x7f6a4b070820>"
      ]
     },
     "execution_count": 12,
     "metadata": {},
     "output_type": "execute_result"
    }
   ],
   "source": [
    "ssim_max_im = plt.imread(DATA_DIR / \"all_processed\" / \"max_ev4\" / f\"{ssim_df.iloc[ssim_maxi[0]].name}_ev-2.0.png\")\n",
    "ssim_gt = plt.imread(DATA_DIR / \"merged\" / f\"{ssim_df.iloc[ssim_maxi[0]].name}.png\")\n",
    "plt.figure()\n",
    "plt.imshow(1000*(ssim_gt - ssim_max_im))\n",
    "plt.figure()\n",
    "plt.imshow(ssim_gt)"
   ]
  },
  {
   "cell_type": "code",
   "execution_count": 33,
   "metadata": {},
   "outputs": [
    {
     "data": {
      "text/html": [
       "<div>\n",
       "<style scoped>\n",
       "    .dataframe tbody tr th:only-of-type {\n",
       "        vertical-align: middle;\n",
       "    }\n",
       "\n",
       "    .dataframe tbody tr th {\n",
       "        vertical-align: top;\n",
       "    }\n",
       "\n",
       "    .dataframe thead th {\n",
       "        text-align: right;\n",
       "    }\n",
       "</style>\n",
       "<table border=\"1\" class=\"dataframe\">\n",
       "  <thead>\n",
       "    <tr style=\"text-align: right;\">\n",
       "      <th></th>\n",
       "      <th>mse_[-4.0][-2.0]</th>\n",
       "      <th>mse_[-4.0][0.0]</th>\n",
       "      <th>mse_[-4.0][2.0]</th>\n",
       "      <th>mse_[-4.0][4.0]</th>\n",
       "      <th>mse_[-2.0][0.0]</th>\n",
       "      <th>mse_[-2.0][2.0]</th>\n",
       "      <th>mse_[-2.0][4.0]</th>\n",
       "      <th>mse_[0.0][2.0]</th>\n",
       "      <th>mse_[0.0][4.0]</th>\n",
       "      <th>mse_[2.0][4.0]</th>\n",
       "      <th>...</th>\n",
       "      <th>mse_[-7.0][-3.5]</th>\n",
       "      <th>mse_[-7.0][0.0]</th>\n",
       "      <th>mse_[-7.0][3.5]</th>\n",
       "      <th>mse_[-7.0][7.0]</th>\n",
       "      <th>mse_[-3.5][0.0]</th>\n",
       "      <th>mse_[-3.5][3.5]</th>\n",
       "      <th>mse_[-3.5][7.0]</th>\n",
       "      <th>mse_[0.0][3.5]</th>\n",
       "      <th>mse_[0.0][7.0]</th>\n",
       "      <th>mse_[3.5][7.0]</th>\n",
       "    </tr>\n",
       "    <tr>\n",
       "      <th>name</th>\n",
       "      <th></th>\n",
       "      <th></th>\n",
       "      <th></th>\n",
       "      <th></th>\n",
       "      <th></th>\n",
       "      <th></th>\n",
       "      <th></th>\n",
       "      <th></th>\n",
       "      <th></th>\n",
       "      <th></th>\n",
       "      <th></th>\n",
       "      <th></th>\n",
       "      <th></th>\n",
       "      <th></th>\n",
       "      <th></th>\n",
       "      <th></th>\n",
       "      <th></th>\n",
       "      <th></th>\n",
       "      <th></th>\n",
       "      <th></th>\n",
       "      <th></th>\n",
       "    </tr>\n",
       "  </thead>\n",
       "  <tbody>\n",
       "    <tr>\n",
       "      <th>0127_20161018_111029_303</th>\n",
       "      <td>0.090015</td>\n",
       "      <td>0.089465</td>\n",
       "      <td>0.087303</td>\n",
       "      <td>0.078923</td>\n",
       "      <td>0.089494</td>\n",
       "      <td>0.087313</td>\n",
       "      <td>0.078925</td>\n",
       "      <td>0.087428</td>\n",
       "      <td>0.078962</td>\n",
       "      <td>0.079402</td>\n",
       "      <td>...</td>\n",
       "      <td>0.090126</td>\n",
       "      <td>0.089463</td>\n",
       "      <td>0.082145</td>\n",
       "      <td>0.021097</td>\n",
       "      <td>0.089468</td>\n",
       "      <td>0.082145</td>\n",
       "      <td>0.021097</td>\n",
       "      <td>0.082200</td>\n",
       "      <td>0.021099</td>\n",
       "      <td>0.021420</td>\n",
       "    </tr>\n",
       "    <tr>\n",
       "      <th>6G7M_20150321_124944_821</th>\n",
       "      <td>0.391223</td>\n",
       "      <td>0.388934</td>\n",
       "      <td>0.379865</td>\n",
       "      <td>0.344185</td>\n",
       "      <td>0.388940</td>\n",
       "      <td>0.379808</td>\n",
       "      <td>0.344115</td>\n",
       "      <td>0.379857</td>\n",
       "      <td>0.343933</td>\n",
       "      <td>0.344257</td>\n",
       "      <td>...</td>\n",
       "      <td>0.391721</td>\n",
       "      <td>0.388954</td>\n",
       "      <td>0.358354</td>\n",
       "      <td>0.095165</td>\n",
       "      <td>0.388930</td>\n",
       "      <td>0.358318</td>\n",
       "      <td>0.095148</td>\n",
       "      <td>0.358097</td>\n",
       "      <td>0.094965</td>\n",
       "      <td>0.094252</td>\n",
       "    </tr>\n",
       "    <tr>\n",
       "      <th>0037_20160717_132116_222</th>\n",
       "      <td>0.141433</td>\n",
       "      <td>0.140565</td>\n",
       "      <td>0.137135</td>\n",
       "      <td>0.123769</td>\n",
       "      <td>0.140602</td>\n",
       "      <td>0.137146</td>\n",
       "      <td>0.123771</td>\n",
       "      <td>0.137313</td>\n",
       "      <td>0.123821</td>\n",
       "      <td>0.124479</td>\n",
       "      <td>...</td>\n",
       "      <td>0.141610</td>\n",
       "      <td>0.140562</td>\n",
       "      <td>0.128916</td>\n",
       "      <td>0.031989</td>\n",
       "      <td>0.140568</td>\n",
       "      <td>0.128915</td>\n",
       "      <td>0.031988</td>\n",
       "      <td>0.128990</td>\n",
       "      <td>0.031989</td>\n",
       "      <td>0.032532</td>\n",
       "    </tr>\n",
       "    <tr>\n",
       "      <th>33TJ_20150820_180403_156</th>\n",
       "      <td>0.176385</td>\n",
       "      <td>0.175287</td>\n",
       "      <td>0.170921</td>\n",
       "      <td>0.153922</td>\n",
       "      <td>0.175334</td>\n",
       "      <td>0.170934</td>\n",
       "      <td>0.153923</td>\n",
       "      <td>0.171136</td>\n",
       "      <td>0.153980</td>\n",
       "      <td>0.154793</td>\n",
       "      <td>...</td>\n",
       "      <td>0.176608</td>\n",
       "      <td>0.175285</td>\n",
       "      <td>0.160467</td>\n",
       "      <td>0.038284</td>\n",
       "      <td>0.175291</td>\n",
       "      <td>0.160466</td>\n",
       "      <td>0.038283</td>\n",
       "      <td>0.160558</td>\n",
       "      <td>0.038279</td>\n",
       "      <td>0.039025</td>\n",
       "    </tr>\n",
       "    <tr>\n",
       "      <th>33TJ_20150613_094235_247</th>\n",
       "      <td>0.088427</td>\n",
       "      <td>0.087887</td>\n",
       "      <td>0.085761</td>\n",
       "      <td>0.077496</td>\n",
       "      <td>0.087913</td>\n",
       "      <td>0.085769</td>\n",
       "      <td>0.077497</td>\n",
       "      <td>0.085874</td>\n",
       "      <td>0.077528</td>\n",
       "      <td>0.077939</td>\n",
       "      <td>...</td>\n",
       "      <td>0.088536</td>\n",
       "      <td>0.087885</td>\n",
       "      <td>0.080687</td>\n",
       "      <td>0.020500</td>\n",
       "      <td>0.087889</td>\n",
       "      <td>0.080686</td>\n",
       "      <td>0.020500</td>\n",
       "      <td>0.080733</td>\n",
       "      <td>0.020500</td>\n",
       "      <td>0.020820</td>\n",
       "    </tr>\n",
       "    <tr>\n",
       "      <th>...</th>\n",
       "      <td>...</td>\n",
       "      <td>...</td>\n",
       "      <td>...</td>\n",
       "      <td>...</td>\n",
       "      <td>...</td>\n",
       "      <td>...</td>\n",
       "      <td>...</td>\n",
       "      <td>...</td>\n",
       "      <td>...</td>\n",
       "      <td>...</td>\n",
       "      <td>...</td>\n",
       "      <td>...</td>\n",
       "      <td>...</td>\n",
       "      <td>...</td>\n",
       "      <td>...</td>\n",
       "      <td>...</td>\n",
       "      <td>...</td>\n",
       "      <td>...</td>\n",
       "      <td>...</td>\n",
       "      <td>...</td>\n",
       "      <td>...</td>\n",
       "    </tr>\n",
       "    <tr>\n",
       "      <th>0039_20141010_073849_587</th>\n",
       "      <td>0.192254</td>\n",
       "      <td>0.191081</td>\n",
       "      <td>0.186399</td>\n",
       "      <td>0.168144</td>\n",
       "      <td>0.191119</td>\n",
       "      <td>0.186403</td>\n",
       "      <td>0.168137</td>\n",
       "      <td>0.186577</td>\n",
       "      <td>0.168164</td>\n",
       "      <td>0.168880</td>\n",
       "      <td>...</td>\n",
       "      <td>0.192498</td>\n",
       "      <td>0.191081</td>\n",
       "      <td>0.175195</td>\n",
       "      <td>0.043250</td>\n",
       "      <td>0.191084</td>\n",
       "      <td>0.175190</td>\n",
       "      <td>0.043247</td>\n",
       "      <td>0.175244</td>\n",
       "      <td>0.043223</td>\n",
       "      <td>0.043692</td>\n",
       "    </tr>\n",
       "    <tr>\n",
       "      <th>0009_20160703_170423_902</th>\n",
       "      <td>0.225976</td>\n",
       "      <td>0.224599</td>\n",
       "      <td>0.219159</td>\n",
       "      <td>0.198037</td>\n",
       "      <td>0.224657</td>\n",
       "      <td>0.219176</td>\n",
       "      <td>0.198037</td>\n",
       "      <td>0.219433</td>\n",
       "      <td>0.198105</td>\n",
       "      <td>0.199103</td>\n",
       "      <td>...</td>\n",
       "      <td>0.226258</td>\n",
       "      <td>0.224595</td>\n",
       "      <td>0.206173</td>\n",
       "      <td>0.052466</td>\n",
       "      <td>0.224604</td>\n",
       "      <td>0.206172</td>\n",
       "      <td>0.052465</td>\n",
       "      <td>0.206281</td>\n",
       "      <td>0.052458</td>\n",
       "      <td>0.053208</td>\n",
       "    </tr>\n",
       "    <tr>\n",
       "      <th>0037_20160717_131556_105</th>\n",
       "      <td>0.163726</td>\n",
       "      <td>0.162729</td>\n",
       "      <td>0.158809</td>\n",
       "      <td>0.143613</td>\n",
       "      <td>0.162780</td>\n",
       "      <td>0.158826</td>\n",
       "      <td>0.143617</td>\n",
       "      <td>0.159032</td>\n",
       "      <td>0.143682</td>\n",
       "      <td>0.144470</td>\n",
       "      <td>...</td>\n",
       "      <td>0.163926</td>\n",
       "      <td>0.162725</td>\n",
       "      <td>0.149456</td>\n",
       "      <td>0.038633</td>\n",
       "      <td>0.162734</td>\n",
       "      <td>0.149457</td>\n",
       "      <td>0.038633</td>\n",
       "      <td>0.149553</td>\n",
       "      <td>0.038636</td>\n",
       "      <td>0.039203</td>\n",
       "    </tr>\n",
       "    <tr>\n",
       "      <th>0009_20160710_021612_955</th>\n",
       "      <td>0.227924</td>\n",
       "      <td>0.226546</td>\n",
       "      <td>0.221112</td>\n",
       "      <td>0.200048</td>\n",
       "      <td>0.226610</td>\n",
       "      <td>0.221132</td>\n",
       "      <td>0.200050</td>\n",
       "      <td>0.221402</td>\n",
       "      <td>0.200126</td>\n",
       "      <td>0.201159</td>\n",
       "      <td>...</td>\n",
       "      <td>0.228202</td>\n",
       "      <td>0.226541</td>\n",
       "      <td>0.208153</td>\n",
       "      <td>0.054291</td>\n",
       "      <td>0.226551</td>\n",
       "      <td>0.208153</td>\n",
       "      <td>0.054291</td>\n",
       "      <td>0.208271</td>\n",
       "      <td>0.054287</td>\n",
       "      <td>0.055010</td>\n",
       "    </tr>\n",
       "    <tr>\n",
       "      <th>1125_20160306_143519_230</th>\n",
       "      <td>0.177368</td>\n",
       "      <td>0.176291</td>\n",
       "      <td>0.172033</td>\n",
       "      <td>0.155482</td>\n",
       "      <td>0.176335</td>\n",
       "      <td>0.172044</td>\n",
       "      <td>0.155481</td>\n",
       "      <td>0.172236</td>\n",
       "      <td>0.155527</td>\n",
       "      <td>0.156278</td>\n",
       "      <td>...</td>\n",
       "      <td>0.177586</td>\n",
       "      <td>0.176288</td>\n",
       "      <td>0.161852</td>\n",
       "      <td>0.041414</td>\n",
       "      <td>0.176294</td>\n",
       "      <td>0.161850</td>\n",
       "      <td>0.041413</td>\n",
       "      <td>0.161925</td>\n",
       "      <td>0.041403</td>\n",
       "      <td>0.041900</td>\n",
       "    </tr>\n",
       "  </tbody>\n",
       "</table>\n",
       "<p>3636 rows × 40 columns</p>\n",
       "</div>"
      ],
      "text/plain": [
       "                          mse_[-4.0][-2.0]  mse_[-4.0][0.0]  mse_[-4.0][2.0]  \\\n",
       "name                                                                           \n",
       "0127_20161018_111029_303          0.090015         0.089465         0.087303   \n",
       "6G7M_20150321_124944_821          0.391223         0.388934         0.379865   \n",
       "0037_20160717_132116_222          0.141433         0.140565         0.137135   \n",
       "33TJ_20150820_180403_156          0.176385         0.175287         0.170921   \n",
       "33TJ_20150613_094235_247          0.088427         0.087887         0.085761   \n",
       "...                                    ...              ...              ...   \n",
       "0039_20141010_073849_587          0.192254         0.191081         0.186399   \n",
       "0009_20160703_170423_902          0.225976         0.224599         0.219159   \n",
       "0037_20160717_131556_105          0.163726         0.162729         0.158809   \n",
       "0009_20160710_021612_955          0.227924         0.226546         0.221112   \n",
       "1125_20160306_143519_230          0.177368         0.176291         0.172033   \n",
       "\n",
       "                          mse_[-4.0][4.0]  mse_[-2.0][0.0]  mse_[-2.0][2.0]  \\\n",
       "name                                                                          \n",
       "0127_20161018_111029_303         0.078923         0.089494         0.087313   \n",
       "6G7M_20150321_124944_821         0.344185         0.388940         0.379808   \n",
       "0037_20160717_132116_222         0.123769         0.140602         0.137146   \n",
       "33TJ_20150820_180403_156         0.153922         0.175334         0.170934   \n",
       "33TJ_20150613_094235_247         0.077496         0.087913         0.085769   \n",
       "...                                   ...              ...              ...   \n",
       "0039_20141010_073849_587         0.168144         0.191119         0.186403   \n",
       "0009_20160703_170423_902         0.198037         0.224657         0.219176   \n",
       "0037_20160717_131556_105         0.143613         0.162780         0.158826   \n",
       "0009_20160710_021612_955         0.200048         0.226610         0.221132   \n",
       "1125_20160306_143519_230         0.155482         0.176335         0.172044   \n",
       "\n",
       "                          mse_[-2.0][4.0]  mse_[0.0][2.0]  mse_[0.0][4.0]  \\\n",
       "name                                                                        \n",
       "0127_20161018_111029_303         0.078925        0.087428        0.078962   \n",
       "6G7M_20150321_124944_821         0.344115        0.379857        0.343933   \n",
       "0037_20160717_132116_222         0.123771        0.137313        0.123821   \n",
       "33TJ_20150820_180403_156         0.153923        0.171136        0.153980   \n",
       "33TJ_20150613_094235_247         0.077497        0.085874        0.077528   \n",
       "...                                   ...             ...             ...   \n",
       "0039_20141010_073849_587         0.168137        0.186577        0.168164   \n",
       "0009_20160703_170423_902         0.198037        0.219433        0.198105   \n",
       "0037_20160717_131556_105         0.143617        0.159032        0.143682   \n",
       "0009_20160710_021612_955         0.200050        0.221402        0.200126   \n",
       "1125_20160306_143519_230         0.155481        0.172236        0.155527   \n",
       "\n",
       "                          mse_[2.0][4.0]  ...  mse_[-7.0][-3.5]  \\\n",
       "name                                      ...                     \n",
       "0127_20161018_111029_303        0.079402  ...          0.090126   \n",
       "6G7M_20150321_124944_821        0.344257  ...          0.391721   \n",
       "0037_20160717_132116_222        0.124479  ...          0.141610   \n",
       "33TJ_20150820_180403_156        0.154793  ...          0.176608   \n",
       "33TJ_20150613_094235_247        0.077939  ...          0.088536   \n",
       "...                                  ...  ...               ...   \n",
       "0039_20141010_073849_587        0.168880  ...          0.192498   \n",
       "0009_20160703_170423_902        0.199103  ...          0.226258   \n",
       "0037_20160717_131556_105        0.144470  ...          0.163926   \n",
       "0009_20160710_021612_955        0.201159  ...          0.228202   \n",
       "1125_20160306_143519_230        0.156278  ...          0.177586   \n",
       "\n",
       "                          mse_[-7.0][0.0]  mse_[-7.0][3.5]  mse_[-7.0][7.0]  \\\n",
       "name                                                                          \n",
       "0127_20161018_111029_303         0.089463         0.082145         0.021097   \n",
       "6G7M_20150321_124944_821         0.388954         0.358354         0.095165   \n",
       "0037_20160717_132116_222         0.140562         0.128916         0.031989   \n",
       "33TJ_20150820_180403_156         0.175285         0.160467         0.038284   \n",
       "33TJ_20150613_094235_247         0.087885         0.080687         0.020500   \n",
       "...                                   ...              ...              ...   \n",
       "0039_20141010_073849_587         0.191081         0.175195         0.043250   \n",
       "0009_20160703_170423_902         0.224595         0.206173         0.052466   \n",
       "0037_20160717_131556_105         0.162725         0.149456         0.038633   \n",
       "0009_20160710_021612_955         0.226541         0.208153         0.054291   \n",
       "1125_20160306_143519_230         0.176288         0.161852         0.041414   \n",
       "\n",
       "                          mse_[-3.5][0.0]  mse_[-3.5][3.5]  mse_[-3.5][7.0]  \\\n",
       "name                                                                          \n",
       "0127_20161018_111029_303         0.089468         0.082145         0.021097   \n",
       "6G7M_20150321_124944_821         0.388930         0.358318         0.095148   \n",
       "0037_20160717_132116_222         0.140568         0.128915         0.031988   \n",
       "33TJ_20150820_180403_156         0.175291         0.160466         0.038283   \n",
       "33TJ_20150613_094235_247         0.087889         0.080686         0.020500   \n",
       "...                                   ...              ...              ...   \n",
       "0039_20141010_073849_587         0.191084         0.175190         0.043247   \n",
       "0009_20160703_170423_902         0.224604         0.206172         0.052465   \n",
       "0037_20160717_131556_105         0.162734         0.149457         0.038633   \n",
       "0009_20160710_021612_955         0.226551         0.208153         0.054291   \n",
       "1125_20160306_143519_230         0.176294         0.161850         0.041413   \n",
       "\n",
       "                          mse_[0.0][3.5]  mse_[0.0][7.0]  mse_[3.5][7.0]  \n",
       "name                                                                      \n",
       "0127_20161018_111029_303        0.082200        0.021099        0.021420  \n",
       "6G7M_20150321_124944_821        0.358097        0.094965        0.094252  \n",
       "0037_20160717_132116_222        0.128990        0.031989        0.032532  \n",
       "33TJ_20150820_180403_156        0.160558        0.038279        0.039025  \n",
       "33TJ_20150613_094235_247        0.080733        0.020500        0.020820  \n",
       "...                                  ...             ...             ...  \n",
       "0039_20141010_073849_587        0.175244        0.043223        0.043692  \n",
       "0009_20160703_170423_902        0.206281        0.052458        0.053208  \n",
       "0037_20160717_131556_105        0.149553        0.038636        0.039203  \n",
       "0009_20160710_021612_955        0.208271        0.054287        0.055010  \n",
       "1125_20160306_143519_230        0.161925        0.041403        0.041900  \n",
       "\n",
       "[3636 rows x 40 columns]"
      ]
     },
     "execution_count": 33,
     "metadata": {},
     "output_type": "execute_result"
    }
   ],
   "source": [
    "from dhdrnet.util import ROOT_DIR\n",
    "pairs_df = pd.read_csv(ROOT_DIR/\"opt_pairs_new.csv\").set_index(\"name\")\n",
    "mse_pairs = pairs_df[[c for c in pairs_df.columns if c.startswith(\"mse\")]]\n",
    "mse_pairs"
   ]
  },
  {
   "cell_type": "code",
   "execution_count": 36,
   "metadata": {},
   "outputs": [],
   "source": [
    "pairs_np = mse_pairs.to_numpy()\n",
    "pairs_np_sorted = np.sort(pairs_np,axis=1)"
   ]
  },
  {
   "cell_type": "code",
   "execution_count": 40,
   "metadata": {},
   "outputs": [
    {
     "data": {
      "application/vnd.jupyter.widget-view+json": {
       "model_id": "86064bef8fbf45fe811e3ffb5fa0fe36",
       "version_major": 2,
       "version_minor": 0
      },
      "text/plain": [
       "Canvas(toolbar=Toolbar(toolitems=[('Home', 'Reset original view', 'home', 'home'), ('Back', 'Back to previous …"
      ]
     },
     "metadata": {},
     "output_type": "display_data"
    },
    {
     "data": {
      "text/plain": [
       "<BarContainer object of 40 artists>"
      ]
     },
     "execution_count": 40,
     "metadata": {},
     "output_type": "execute_result"
    }
   ],
   "source": [
    "R2 = pairs_np_sorted / pairs_np_sorted[:,0,np.newaxis]\n",
    "plt.figure()\n",
    "plt.bar(np.arange(40),np.mean(R2,0))"
   ]
  },
  {
   "cell_type": "code",
   "execution_count": null,
   "metadata": {},
   "outputs": [],
   "source": []
  }
 ],
 "metadata": {
  "kernelspec": {
   "display_name": "DHDRNet",
   "language": "python",
   "name": "dhdrnet"
  },
  "language_info": {
   "codemirror_mode": {
    "name": "ipython",
    "version": 3
   },
   "file_extension": ".py",
   "mimetype": "text/x-python",
   "name": "python",
   "nbconvert_exporter": "python",
   "pygments_lexer": "ipython3",
   "version": "3.8.3"
  }
 },
 "nbformat": 4,
 "nbformat_minor": 4
}
