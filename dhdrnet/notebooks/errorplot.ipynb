{
 "cells": [
  {
   "cell_type": "code",
   "execution_count": 92,
   "metadata": {},
   "outputs": [
    {
     "name": "stdout",
     "output_type": "stream",
     "text": [
      "The autoreload extension is already loaded. To reload it, use:\n",
      "  %reload_ext autoreload\n"
     ]
    }
   ],
   "source": [
    "%load_ext autoreload\n",
    "%autoreload 2\n",
    "%matplotlib widget\n",
    "\n",
    "import numpy as np\n",
    "import matplotlib.pyplot as plt\n",
    "import pandas as pd\n",
    "import seaborn as sds"
   ]
  },
  {
   "cell_type": "code",
   "execution_count": 93,
   "metadata": {},
   "outputs": [],
   "source": [
    "from dhdrnet.util import ROOT_DIR\n",
    "from dhdrnet.vis_util import get_metric_cat_groups"
   ]
  },
  {
   "cell_type": "code",
   "execution_count": 94,
   "metadata": {},
   "outputs": [],
   "source": [
    "ev_categories = {ev_max:np.linspace(-ev_max,ev_max,5) for ev_max in range(4,8)}\n",
    "\n",
    "mse_df = pd.read_csv(ROOT_DIR/\"precomputed_data\"/\"train.stats.csv\") \\\n",
    "    .set_index(\"name\")\n",
    "\n",
    "\n",
    "metric_cats = get_metric_cat_groups(mse_df, ev_categories)\n",
    "mse_df = mse_df.groupby(metric_cats[\"mse\"],axis=1).get_group(4.0)"
   ]
  },
  {
   "cell_type": "code",
   "execution_count": 110,
   "metadata": {},
   "outputs": [
    {
     "data": {
      "text/html": [
       "<div>\n",
       "<style scoped>\n",
       "    .dataframe tbody tr th:only-of-type {\n",
       "        vertical-align: middle;\n",
       "    }\n",
       "\n",
       "    .dataframe tbody tr th {\n",
       "        vertical-align: top;\n",
       "    }\n",
       "\n",
       "    .dataframe thead th {\n",
       "        text-align: right;\n",
       "    }\n",
       "</style>\n",
       "<table border=\"1\" class=\"dataframe\">\n",
       "  <thead>\n",
       "    <tr style=\"text-align: right;\">\n",
       "      <th></th>\n",
       "      <th>mse_4.0</th>\n",
       "      <th>mse_-4.0</th>\n",
       "      <th>mse_-2.0</th>\n",
       "      <th>mse_2.0</th>\n",
       "    </tr>\n",
       "    <tr>\n",
       "      <th>name</th>\n",
       "      <th></th>\n",
       "      <th></th>\n",
       "      <th></th>\n",
       "      <th></th>\n",
       "    </tr>\n",
       "  </thead>\n",
       "  <tbody>\n",
       "    <tr>\n",
       "      <th>0382_20150919_124536_450</th>\n",
       "      <td>0.000317</td>\n",
       "      <td>0.000420</td>\n",
       "      <td>0.000339</td>\n",
       "      <td>0.000545</td>\n",
       "    </tr>\n",
       "    <tr>\n",
       "      <th>0830_20151121_134712_827</th>\n",
       "      <td>0.000418</td>\n",
       "      <td>0.000784</td>\n",
       "      <td>0.000645</td>\n",
       "      <td>0.000524</td>\n",
       "    </tr>\n",
       "    <tr>\n",
       "      <th>5a9e_20150328_163715_895</th>\n",
       "      <td>0.000169</td>\n",
       "      <td>0.000172</td>\n",
       "      <td>0.000179</td>\n",
       "      <td>0.000131</td>\n",
       "    </tr>\n",
       "    <tr>\n",
       "      <th>J6ZC_20150408_182800_017</th>\n",
       "      <td>0.000204</td>\n",
       "      <td>0.000209</td>\n",
       "      <td>0.000168</td>\n",
       "      <td>0.000203</td>\n",
       "    </tr>\n",
       "    <tr>\n",
       "      <th>0919_20150906_125058_289</th>\n",
       "      <td>0.000330</td>\n",
       "      <td>0.000517</td>\n",
       "      <td>0.000352</td>\n",
       "      <td>0.000383</td>\n",
       "    </tr>\n",
       "    <tr>\n",
       "      <th>...</th>\n",
       "      <td>...</td>\n",
       "      <td>...</td>\n",
       "      <td>...</td>\n",
       "      <td>...</td>\n",
       "    </tr>\n",
       "    <tr>\n",
       "      <th>0155_20160821_143956_034</th>\n",
       "      <td>0.000956</td>\n",
       "      <td>0.001347</td>\n",
       "      <td>0.001090</td>\n",
       "      <td>0.000955</td>\n",
       "    </tr>\n",
       "    <tr>\n",
       "      <th>4KK2_20150907_115116_975</th>\n",
       "      <td>0.000189</td>\n",
       "      <td>0.000471</td>\n",
       "      <td>0.000281</td>\n",
       "      <td>0.000199</td>\n",
       "    </tr>\n",
       "    <tr>\n",
       "      <th>4WBR_20150502_154340_499</th>\n",
       "      <td>0.000769</td>\n",
       "      <td>0.000654</td>\n",
       "      <td>0.000792</td>\n",
       "      <td>0.000622</td>\n",
       "    </tr>\n",
       "    <tr>\n",
       "      <th>33TJ_20150607_025432_064</th>\n",
       "      <td>0.000109</td>\n",
       "      <td>0.000120</td>\n",
       "      <td>0.000113</td>\n",
       "      <td>0.000108</td>\n",
       "    </tr>\n",
       "    <tr>\n",
       "      <th>0047_20160531_115655_122</th>\n",
       "      <td>0.000458</td>\n",
       "      <td>0.000553</td>\n",
       "      <td>0.000644</td>\n",
       "      <td>0.000562</td>\n",
       "    </tr>\n",
       "  </tbody>\n",
       "</table>\n",
       "<p>2906 rows × 4 columns</p>\n",
       "</div>"
      ],
      "text/plain": [
       "                           mse_4.0  mse_-4.0  mse_-2.0   mse_2.0\n",
       "name                                                            \n",
       "0382_20150919_124536_450  0.000317  0.000420  0.000339  0.000545\n",
       "0830_20151121_134712_827  0.000418  0.000784  0.000645  0.000524\n",
       "5a9e_20150328_163715_895  0.000169  0.000172  0.000179  0.000131\n",
       "J6ZC_20150408_182800_017  0.000204  0.000209  0.000168  0.000203\n",
       "0919_20150906_125058_289  0.000330  0.000517  0.000352  0.000383\n",
       "...                            ...       ...       ...       ...\n",
       "0155_20160821_143956_034  0.000956  0.001347  0.001090  0.000955\n",
       "4KK2_20150907_115116_975  0.000189  0.000471  0.000281  0.000199\n",
       "4WBR_20150502_154340_499  0.000769  0.000654  0.000792  0.000622\n",
       "33TJ_20150607_025432_064  0.000109  0.000120  0.000113  0.000108\n",
       "0047_20160531_115655_122  0.000458  0.000553  0.000644  0.000562\n",
       "\n",
       "[2906 rows x 4 columns]"
      ]
     },
     "execution_count": 110,
     "metadata": {},
     "output_type": "execute_result"
    }
   ],
   "source": [
    "mse_df"
   ]
  },
  {
   "cell_type": "code",
   "execution_count": 105,
   "metadata": {},
   "outputs": [
    {
     "name": "stderr",
     "output_type": "stream",
     "text": [
      "<ipython-input-105-4c9b7baa76c3>:3: RuntimeWarning: divide by zero encountered in true_divide\n",
      "  R = mse_np / (mse_np[:, 0, np.newaxis])\n",
      "<ipython-input-105-4c9b7baa76c3>:3: RuntimeWarning: invalid value encountered in true_divide\n",
      "  R = mse_np / (mse_np[:, 0, np.newaxis])\n"
     ]
    }
   ],
   "source": [
    "mse_np = np.array(mse_df)\n",
    "mse_np = np.sort(mse_np,axis=1)\n",
    "R = mse_np / (mse_np[:, 0, np.newaxis])"
   ]
  },
  {
   "cell_type": "code",
   "execution_count": 55,
   "metadata": {},
   "outputs": [
    {
     "data": {
      "text/html": [
       "<div>\n",
       "<style scoped>\n",
       "    .dataframe tbody tr th:only-of-type {\n",
       "        vertical-align: middle;\n",
       "    }\n",
       "\n",
       "    .dataframe tbody tr th {\n",
       "        vertical-align: top;\n",
       "    }\n",
       "\n",
       "    .dataframe thead th {\n",
       "        text-align: right;\n",
       "    }\n",
       "</style>\n",
       "<table border=\"1\" class=\"dataframe\">\n",
       "  <thead>\n",
       "    <tr style=\"text-align: right;\">\n",
       "      <th></th>\n",
       "      <th>mse_4.0</th>\n",
       "      <th>mse_-4.0</th>\n",
       "      <th>mse_-2.0</th>\n",
       "      <th>mse_2.0</th>\n",
       "    </tr>\n",
       "    <tr>\n",
       "      <th>name</th>\n",
       "      <th></th>\n",
       "      <th></th>\n",
       "      <th></th>\n",
       "      <th></th>\n",
       "    </tr>\n",
       "  </thead>\n",
       "  <tbody>\n",
       "    <tr>\n",
       "      <th>0006_20160721_163256_525</th>\n",
       "      <td>0.001029</td>\n",
       "      <td>0.000927</td>\n",
       "      <td>0.001067</td>\n",
       "      <td>0.001051</td>\n",
       "    </tr>\n",
       "    <tr>\n",
       "      <th>0006_20160721_170707_736</th>\n",
       "      <td>0.000607</td>\n",
       "      <td>0.000706</td>\n",
       "      <td>0.000633</td>\n",
       "      <td>0.000741</td>\n",
       "    </tr>\n",
       "    <tr>\n",
       "      <th>0006_20160721_172953_515</th>\n",
       "      <td>0.002060</td>\n",
       "      <td>0.001816</td>\n",
       "      <td>0.001988</td>\n",
       "      <td>0.002174</td>\n",
       "    </tr>\n",
       "    <tr>\n",
       "      <th>0006_20160721_175239_909</th>\n",
       "      <td>0.000352</td>\n",
       "      <td>0.000450</td>\n",
       "      <td>0.000355</td>\n",
       "      <td>0.000572</td>\n",
       "    </tr>\n",
       "    <tr>\n",
       "      <th>0006_20160721_175246_335</th>\n",
       "      <td>0.000945</td>\n",
       "      <td>0.000993</td>\n",
       "      <td>0.001015</td>\n",
       "      <td>0.001061</td>\n",
       "    </tr>\n",
       "    <tr>\n",
       "      <th>...</th>\n",
       "      <td>...</td>\n",
       "      <td>...</td>\n",
       "      <td>...</td>\n",
       "      <td>...</td>\n",
       "    </tr>\n",
       "    <tr>\n",
       "      <th>synthetic_bullseye_hawk_night_motion_blur</th>\n",
       "      <td>0.001523</td>\n",
       "      <td>0.001262</td>\n",
       "      <td>0.001376</td>\n",
       "      <td>0.001389</td>\n",
       "    </tr>\n",
       "    <tr>\n",
       "      <th>synthetic_lines_day</th>\n",
       "      <td>0.000615</td>\n",
       "      <td>0.002404</td>\n",
       "      <td>0.002623</td>\n",
       "      <td>0.000554</td>\n",
       "    </tr>\n",
       "    <tr>\n",
       "      <th>synthetic_lines_day_motion_blur</th>\n",
       "      <td>0.000615</td>\n",
       "      <td>0.002404</td>\n",
       "      <td>0.000554</td>\n",
       "      <td>0.002623</td>\n",
       "    </tr>\n",
       "    <tr>\n",
       "      <th>synthetic_lines_night_motion_blur</th>\n",
       "      <td>0.011199</td>\n",
       "      <td>0.000152</td>\n",
       "      <td>0.005722</td>\n",
       "      <td>0.000121</td>\n",
       "    </tr>\n",
       "    <tr>\n",
       "      <th>synthetic_points_hawk_day_motion_blur</th>\n",
       "      <td>0.000188</td>\n",
       "      <td>0.000104</td>\n",
       "      <td>0.000172</td>\n",
       "      <td>0.000182</td>\n",
       "    </tr>\n",
       "  </tbody>\n",
       "</table>\n",
       "<p>2906 rows × 4 columns</p>\n",
       "</div>"
      ],
      "text/plain": [
       "                                            mse_4.0  mse_-4.0  mse_-2.0  \\\n",
       "name                                                                      \n",
       "0006_20160721_163256_525                   0.001029  0.000927  0.001067   \n",
       "0006_20160721_170707_736                   0.000607  0.000706  0.000633   \n",
       "0006_20160721_172953_515                   0.002060  0.001816  0.001988   \n",
       "0006_20160721_175239_909                   0.000352  0.000450  0.000355   \n",
       "0006_20160721_175246_335                   0.000945  0.000993  0.001015   \n",
       "...                                             ...       ...       ...   \n",
       "synthetic_bullseye_hawk_night_motion_blur  0.001523  0.001262  0.001376   \n",
       "synthetic_lines_day                        0.000615  0.002404  0.002623   \n",
       "synthetic_lines_day_motion_blur            0.000615  0.002404  0.000554   \n",
       "synthetic_lines_night_motion_blur          0.011199  0.000152  0.005722   \n",
       "synthetic_points_hawk_day_motion_blur      0.000188  0.000104  0.000172   \n",
       "\n",
       "                                            mse_2.0  \n",
       "name                                                 \n",
       "0006_20160721_163256_525                   0.001051  \n",
       "0006_20160721_170707_736                   0.000741  \n",
       "0006_20160721_172953_515                   0.002174  \n",
       "0006_20160721_175239_909                   0.000572  \n",
       "0006_20160721_175246_335                   0.001061  \n",
       "...                                             ...  \n",
       "synthetic_bullseye_hawk_night_motion_blur  0.001389  \n",
       "synthetic_lines_day                        0.000554  \n",
       "synthetic_lines_day_motion_blur            0.002623  \n",
       "synthetic_lines_night_motion_blur          0.000121  \n",
       "synthetic_points_hawk_day_motion_blur      0.000182  \n",
       "\n",
       "[2906 rows x 4 columns]"
      ]
     },
     "execution_count": 55,
     "metadata": {},
     "output_type": "execute_result"
    }
   ],
   "source": [
    "mse_df.sort_values(by=\"nam)"
   ]
  },
  {
   "cell_type": "code",
   "execution_count": 111,
   "metadata": {},
   "outputs": [
    {
     "data": {
      "text/plain": [
       "(2231, 0)"
      ]
     },
     "execution_count": 111,
     "metadata": {},
     "output_type": "execute_result"
    }
   ],
   "source": [
    "np.unravel_index(np.argmin(mse_np),mse_np.shape)"
   ]
  },
  {
   "cell_type": "code",
   "execution_count": 116,
   "metadata": {},
   "outputs": [
    {
     "data": {
      "text/html": [
       "<div>\n",
       "<style scoped>\n",
       "    .dataframe tbody tr th:only-of-type {\n",
       "        vertical-align: middle;\n",
       "    }\n",
       "\n",
       "    .dataframe tbody tr th {\n",
       "        vertical-align: top;\n",
       "    }\n",
       "\n",
       "    .dataframe thead th {\n",
       "        text-align: right;\n",
       "    }\n",
       "</style>\n",
       "<table border=\"1\" class=\"dataframe\">\n",
       "  <thead>\n",
       "    <tr style=\"text-align: right;\">\n",
       "      <th></th>\n",
       "      <th>mse_4.0</th>\n",
       "      <th>mse_-4.0</th>\n",
       "      <th>mse_-2.0</th>\n",
       "      <th>mse_2.0</th>\n",
       "    </tr>\n",
       "    <tr>\n",
       "      <th>name</th>\n",
       "      <th></th>\n",
       "      <th></th>\n",
       "      <th></th>\n",
       "      <th></th>\n",
       "    </tr>\n",
       "  </thead>\n",
       "  <tbody>\n",
       "  </tbody>\n",
       "</table>\n",
       "</div>"
      ],
      "text/plain": [
       "Empty DataFrame\n",
       "Columns: [mse_4.0, mse_-4.0, mse_-2.0, mse_2.0]\n",
       "Index: []"
      ]
     },
     "execution_count": 116,
     "metadata": {},
     "output_type": "execute_result"
    }
   ],
   "source": [
    "mse_df.where(mse_df == 0.0).dropna()"
   ]
  },
  {
   "cell_type": "code",
   "execution_count": 117,
   "metadata": {},
   "outputs": [
    {
     "data": {
      "text/plain": [
       "mse_4.0     0.000835\n",
       "mse_-4.0    0.000000\n",
       "mse_-2.0    0.001139\n",
       "mse_2.0     0.001020\n",
       "Name: 0006_20160723_152642_719, dtype: float64"
      ]
     },
     "execution_count": 117,
     "metadata": {},
     "output_type": "execute_result"
    }
   ],
   "source": [
    "mse_df.iloc[2231]"
   ]
  },
  {
   "cell_type": "code",
   "execution_count": 126,
   "metadata": {},
   "outputs": [
    {
     "data": {
      "application/vnd.jupyter.widget-view+json": {
       "model_id": "a7025af2905e494899d99add29c349f7",
       "version_major": 2,
       "version_minor": 0
      },
      "text/plain": [
       "Canvas(toolbar=Toolbar(toolitems=[('Home', 'Reset original view', 'home', 'home'), ('Back', 'Back to previous …"
      ]
     },
     "metadata": {},
     "output_type": "display_data"
    },
    {
     "name": "stderr",
     "output_type": "stream",
     "text": [
      "Clipping input data to the valid range for imshow with RGB data ([0..1] for floats or [0..255] for integers).\n"
     ]
    },
    {
     "data": {
      "text/plain": [
       "<matplotlib.image.AxesImage at 0x7f19e8637850>"
      ]
     },
     "execution_count": 126,
     "metadata": {},
     "output_type": "execute_result"
    }
   ],
   "source": [
    "from dhdrnet.util import DATA_DIR\n",
    "\n",
    "imn4 = plt.imread(DATA_DIR/\"0006_20160723_152642_719_ev-4.0.png\")\n",
    "im_merged =plt.imread(DATA_DIR/\"merged\"/\"0006_20160723_152642_719.png\")\n",
    "plt.figure()\n",
    "plt.imshow(10* imn4 - im_merged)"
   ]
  },
  {
   "cell_type": "code",
   "execution_count": 124,
   "metadata": {},
   "outputs": [
    {
     "data": {
      "application/vnd.jupyter.widget-view+json": {
       "model_id": "a69e37e58ecf4764a2de688459bcb5a9",
       "version_major": 2,
       "version_minor": 0
      },
      "text/plain": [
       "Canvas(toolbar=Toolbar(toolitems=[('Home', 'Reset original view', 'home', 'home'), ('Back', 'Back to previous …"
      ]
     },
     "metadata": {},
     "output_type": "display_data"
    },
    {
     "data": {
      "text/plain": [
       "<matplotlib.image.AxesImage at 0x7f19ec3c3070>"
      ]
     },
     "execution_count": 124,
     "metadata": {},
     "output_type": "execute_result"
    }
   ],
   "source": [
    "\n",
    "plt.figure()\n",
    "plt.imshow(im_merged)"
   ]
  },
  {
   "cell_type": "code",
   "execution_count": null,
   "metadata": {},
   "outputs": [],
   "source": []
  }
 ],
 "metadata": {
  "kernelspec": {
   "display_name": "DHDRNet",
   "language": "python",
   "name": "dhdrnet"
  },
  "language_info": {
   "codemirror_mode": {
    "name": "ipython",
    "version": 3
   },
   "file_extension": ".py",
   "mimetype": "text/x-python",
   "name": "python",
   "nbconvert_exporter": "python",
   "pygments_lexer": "ipython3",
   "version": "3.8.3"
  }
 },
 "nbformat": 4,
 "nbformat_minor": 4
}
