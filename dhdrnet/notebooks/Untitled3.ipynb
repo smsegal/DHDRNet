{
 "cells": [
  {
   "cell_type": "code",
   "execution_count": 14,
   "metadata": {},
   "outputs": [
    {
     "name": "stdout",
     "output_type": "stream",
     "text": [
      "The autoreload extension is already loaded. To reload it, use:\n",
      "  %reload_ext autoreload\n"
     ]
    }
   ],
   "source": [
    "import numpy as np\n",
    "import pandas as pd\n",
    "import matplotlib.pyplot as plt\n",
    "from more_itertools import flatten\n",
    "%matplotlib inline\n",
    "%load_ext autoreload\n",
    "%autoreload 2"
   ]
  },
  {
   "cell_type": "code",
   "execution_count": 15,
   "metadata": {},
   "outputs": [],
   "source": [
    "from dhdrnet.util import ROOT_DIR"
   ]
  },
  {
   "cell_type": "code",
   "execution_count": 20,
   "metadata": {},
   "outputs": [
    {
     "data": {
      "text/html": [
       "<div>\n",
       "<style scoped>\n",
       "    .dataframe tbody tr th:only-of-type {\n",
       "        vertical-align: middle;\n",
       "    }\n",
       "\n",
       "    .dataframe tbody tr th {\n",
       "        vertical-align: top;\n",
       "    }\n",
       "\n",
       "    .dataframe thead th {\n",
       "        text-align: right;\n",
       "    }\n",
       "</style>\n",
       "<table border=\"1\" class=\"dataframe\">\n",
       "  <thead>\n",
       "    <tr style=\"text-align: right;\">\n",
       "      <th></th>\n",
       "      <th>metric</th>\n",
       "      <th>ev1</th>\n",
       "      <th>ev2</th>\n",
       "      <th>score</th>\n",
       "    </tr>\n",
       "    <tr>\n",
       "      <th>name</th>\n",
       "      <th></th>\n",
       "      <th></th>\n",
       "      <th></th>\n",
       "      <th></th>\n",
       "    </tr>\n",
       "  </thead>\n",
       "  <tbody>\n",
       "    <tr>\n",
       "      <th>0127_20161022_152006_986</th>\n",
       "      <td>mse</td>\n",
       "      <td>-4.0</td>\n",
       "      <td>-2.0</td>\n",
       "      <td>14704.385687</td>\n",
       "    </tr>\n",
       "    <tr>\n",
       "      <th>0127_20161022_152006_986</th>\n",
       "      <td>ssim</td>\n",
       "      <td>-4.0</td>\n",
       "      <td>-2.0</td>\n",
       "      <td>0.275291</td>\n",
       "    </tr>\n",
       "    <tr>\n",
       "      <th>0127_20161022_152006_986</th>\n",
       "      <td>mse</td>\n",
       "      <td>-4.0</td>\n",
       "      <td>0.0</td>\n",
       "      <td>5048.177722</td>\n",
       "    </tr>\n",
       "    <tr>\n",
       "      <th>0127_20161022_152006_986</th>\n",
       "      <td>ssim</td>\n",
       "      <td>-4.0</td>\n",
       "      <td>0.0</td>\n",
       "      <td>0.697481</td>\n",
       "    </tr>\n",
       "    <tr>\n",
       "      <th>0127_20161022_152006_986</th>\n",
       "      <td>mse</td>\n",
       "      <td>-4.0</td>\n",
       "      <td>2.0</td>\n",
       "      <td>248.040429</td>\n",
       "    </tr>\n",
       "    <tr>\n",
       "      <th>...</th>\n",
       "      <td>...</td>\n",
       "      <td>...</td>\n",
       "      <td>...</td>\n",
       "      <td>...</td>\n",
       "    </tr>\n",
       "    <tr>\n",
       "      <th>33TJ_20150730_201700_327</th>\n",
       "      <td>ssim</td>\n",
       "      <td>0.0</td>\n",
       "      <td>3.0</td>\n",
       "      <td>0.946976</td>\n",
       "    </tr>\n",
       "    <tr>\n",
       "      <th>33TJ_20150730_201700_327</th>\n",
       "      <td>mse</td>\n",
       "      <td>0.0</td>\n",
       "      <td>6.0</td>\n",
       "      <td>1843.886157</td>\n",
       "    </tr>\n",
       "    <tr>\n",
       "      <th>33TJ_20150730_201700_327</th>\n",
       "      <td>ssim</td>\n",
       "      <td>0.0</td>\n",
       "      <td>6.0</td>\n",
       "      <td>0.774936</td>\n",
       "    </tr>\n",
       "    <tr>\n",
       "      <th>33TJ_20150730_201700_327</th>\n",
       "      <td>mse</td>\n",
       "      <td>3.0</td>\n",
       "      <td>6.0</td>\n",
       "      <td>1556.847876</td>\n",
       "    </tr>\n",
       "    <tr>\n",
       "      <th>33TJ_20150730_201700_327</th>\n",
       "      <td>ssim</td>\n",
       "      <td>3.0</td>\n",
       "      <td>6.0</td>\n",
       "      <td>0.848012</td>\n",
       "    </tr>\n",
       "  </tbody>\n",
       "</table>\n",
       "<p>222039 rows × 4 columns</p>\n",
       "</div>"
      ],
      "text/plain": [
       "                         metric   ev1   ev2         score\n",
       "name                                                     \n",
       "0127_20161022_152006_986    mse  -4.0  -2.0  14704.385687\n",
       "0127_20161022_152006_986   ssim  -4.0  -2.0      0.275291\n",
       "0127_20161022_152006_986    mse  -4.0   0.0   5048.177722\n",
       "0127_20161022_152006_986   ssim  -4.0   0.0      0.697481\n",
       "0127_20161022_152006_986    mse  -4.0   2.0    248.040429\n",
       "...                         ...   ...   ...           ...\n",
       "33TJ_20150730_201700_327   ssim   0.0   3.0      0.946976\n",
       "33TJ_20150730_201700_327    mse   0.0   6.0   1843.886157\n",
       "33TJ_20150730_201700_327   ssim   0.0   6.0      0.774936\n",
       "33TJ_20150730_201700_327    mse   3.0   6.0   1556.847876\n",
       "33TJ_20150730_201700_327   ssim   3.0   6.0      0.848012\n",
       "\n",
       "[222039 rows x 4 columns]"
      ]
     },
     "execution_count": 20,
     "metadata": {},
     "output_type": "execute_result"
    }
   ],
   "source": [
    "stats_df = pd.read_csv(ROOT_DIR/'precomputed_data' / 'store.csv')\n",
    "stats_df = stats_df.set_index([\"name\"])\n",
    "stats_df"
   ]
  },
  {
   "cell_type": "code",
   "execution_count": 24,
   "metadata": {},
   "outputs": [
    {
     "data": {
      "text/html": [
       "<div>\n",
       "<style scoped>\n",
       "    .dataframe tbody tr th:only-of-type {\n",
       "        vertical-align: middle;\n",
       "    }\n",
       "\n",
       "    .dataframe tbody tr th {\n",
       "        vertical-align: top;\n",
       "    }\n",
       "\n",
       "    .dataframe thead th {\n",
       "        text-align: right;\n",
       "    }\n",
       "</style>\n",
       "<table border=\"1\" class=\"dataframe\">\n",
       "  <thead>\n",
       "    <tr style=\"text-align: right;\">\n",
       "      <th></th>\n",
       "      <th>metric</th>\n",
       "      <th>ev1</th>\n",
       "      <th>ev2</th>\n",
       "      <th>score</th>\n",
       "    </tr>\n",
       "    <tr>\n",
       "      <th>name</th>\n",
       "      <th></th>\n",
       "      <th></th>\n",
       "      <th></th>\n",
       "      <th></th>\n",
       "    </tr>\n",
       "  </thead>\n",
       "  <tbody>\n",
       "    <tr>\n",
       "      <th>0127_20161022_152006_986</th>\n",
       "      <td>mse</td>\n",
       "      <td>-4.0</td>\n",
       "      <td>-2.0</td>\n",
       "      <td>14704.385687</td>\n",
       "    </tr>\n",
       "    <tr>\n",
       "      <th>0127_20161022_152006_986</th>\n",
       "      <td>mse</td>\n",
       "      <td>-4.0</td>\n",
       "      <td>0.0</td>\n",
       "      <td>5048.177722</td>\n",
       "    </tr>\n",
       "    <tr>\n",
       "      <th>0127_20161022_152006_986</th>\n",
       "      <td>mse</td>\n",
       "      <td>-4.0</td>\n",
       "      <td>2.0</td>\n",
       "      <td>248.040429</td>\n",
       "    </tr>\n",
       "    <tr>\n",
       "      <th>0127_20161022_152006_986</th>\n",
       "      <td>mse</td>\n",
       "      <td>-4.0</td>\n",
       "      <td>4.0</td>\n",
       "      <td>1042.619561</td>\n",
       "    </tr>\n",
       "    <tr>\n",
       "      <th>0127_20161022_152006_986</th>\n",
       "      <td>mse</td>\n",
       "      <td>-2.0</td>\n",
       "      <td>0.0</td>\n",
       "      <td>6022.183729</td>\n",
       "    </tr>\n",
       "    <tr>\n",
       "      <th>...</th>\n",
       "      <td>...</td>\n",
       "      <td>...</td>\n",
       "      <td>...</td>\n",
       "      <td>...</td>\n",
       "    </tr>\n",
       "    <tr>\n",
       "      <th>33TJ_20150730_201700_327</th>\n",
       "      <td>mse</td>\n",
       "      <td>-3.0</td>\n",
       "      <td>3.0</td>\n",
       "      <td>243.156253</td>\n",
       "    </tr>\n",
       "    <tr>\n",
       "      <th>33TJ_20150730_201700_327</th>\n",
       "      <td>mse</td>\n",
       "      <td>-3.0</td>\n",
       "      <td>6.0</td>\n",
       "      <td>3363.090232</td>\n",
       "    </tr>\n",
       "    <tr>\n",
       "      <th>33TJ_20150730_201700_327</th>\n",
       "      <td>mse</td>\n",
       "      <td>0.0</td>\n",
       "      <td>3.0</td>\n",
       "      <td>246.018017</td>\n",
       "    </tr>\n",
       "    <tr>\n",
       "      <th>33TJ_20150730_201700_327</th>\n",
       "      <td>mse</td>\n",
       "      <td>0.0</td>\n",
       "      <td>6.0</td>\n",
       "      <td>1843.886157</td>\n",
       "    </tr>\n",
       "    <tr>\n",
       "      <th>33TJ_20150730_201700_327</th>\n",
       "      <td>mse</td>\n",
       "      <td>3.0</td>\n",
       "      <td>6.0</td>\n",
       "      <td>1556.847876</td>\n",
       "    </tr>\n",
       "  </tbody>\n",
       "</table>\n",
       "<p>109200 rows × 4 columns</p>\n",
       "</div>"
      ],
      "text/plain": [
       "                         metric   ev1   ev2         score\n",
       "name                                                     \n",
       "0127_20161022_152006_986    mse  -4.0  -2.0  14704.385687\n",
       "0127_20161022_152006_986    mse  -4.0   0.0   5048.177722\n",
       "0127_20161022_152006_986    mse  -4.0   2.0    248.040429\n",
       "0127_20161022_152006_986    mse  -4.0   4.0   1042.619561\n",
       "0127_20161022_152006_986    mse  -2.0   0.0   6022.183729\n",
       "...                         ...   ...   ...           ...\n",
       "33TJ_20150730_201700_327    mse  -3.0   3.0    243.156253\n",
       "33TJ_20150730_201700_327    mse  -3.0   6.0   3363.090232\n",
       "33TJ_20150730_201700_327    mse   0.0   3.0    246.018017\n",
       "33TJ_20150730_201700_327    mse   0.0   6.0   1843.886157\n",
       "33TJ_20150730_201700_327    mse   3.0   6.0   1556.847876\n",
       "\n",
       "[109200 rows x 4 columns]"
      ]
     },
     "execution_count": 24,
     "metadata": {},
     "output_type": "execute_result"
    }
   ],
   "source": [
    "stats_df.groupby(\"metric\").get_group(\"mse\")"
   ]
  },
  {
   "cell_type": "code",
   "execution_count": 44,
   "metadata": {},
   "outputs": [
    {
     "data": {
      "text/plain": [
       "array(['-4.0', '-2.0', '0.0', '2.0', '-5.0', '-2.5', '2.5', '-6.0',\n",
       "       '-3.0', '3.0', 'ev2', '4.0', '5.0', '6.0', 'score'], dtype=object)"
      ]
     },
     "execution_count": 44,
     "metadata": {},
     "output_type": "execute_result"
    }
   ],
   "source": [
    "pd.unique(stats_df[[\"ev1\", \"ev2\"]].values.ravel(\"K\"))"
   ]
  },
  {
   "cell_type": "code",
   "execution_count": 52,
   "metadata": {},
   "outputs": [
    {
     "data": {
      "text/html": [
       "<div>\n",
       "<style scoped>\n",
       "    .dataframe tbody tr th:only-of-type {\n",
       "        vertical-align: middle;\n",
       "    }\n",
       "\n",
       "    .dataframe tbody tr th {\n",
       "        vertical-align: top;\n",
       "    }\n",
       "\n",
       "    .dataframe thead th {\n",
       "        text-align: right;\n",
       "    }\n",
       "</style>\n",
       "<table border=\"1\" class=\"dataframe\">\n",
       "  <thead>\n",
       "    <tr style=\"text-align: right;\">\n",
       "      <th></th>\n",
       "      <th>metric</th>\n",
       "      <th>ev1</th>\n",
       "      <th>ev2</th>\n",
       "      <th>score</th>\n",
       "    </tr>\n",
       "    <tr>\n",
       "      <th>name</th>\n",
       "      <th></th>\n",
       "      <th></th>\n",
       "      <th></th>\n",
       "      <th></th>\n",
       "    </tr>\n",
       "  </thead>\n",
       "  <tbody>\n",
       "    <tr>\n",
       "      <th>metric</th>\n",
       "      <td>ev1</td>\n",
       "      <td>ev2</td>\n",
       "      <td>score</td>\n",
       "      <td>NaN</td>\n",
       "    </tr>\n",
       "    <tr>\n",
       "      <th>metric</th>\n",
       "      <td>ev1</td>\n",
       "      <td>ev2</td>\n",
       "      <td>score</td>\n",
       "      <td>NaN</td>\n",
       "    </tr>\n",
       "    <tr>\n",
       "      <th>metric</th>\n",
       "      <td>ev1</td>\n",
       "      <td>ev2</td>\n",
       "      <td>score</td>\n",
       "      <td>NaN</td>\n",
       "    </tr>\n",
       "    <tr>\n",
       "      <th>metric</th>\n",
       "      <td>ev1</td>\n",
       "      <td>ev2</td>\n",
       "      <td>score</td>\n",
       "      <td>NaN</td>\n",
       "    </tr>\n",
       "    <tr>\n",
       "      <th>metric</th>\n",
       "      <td>ev1</td>\n",
       "      <td>ev2</td>\n",
       "      <td>score</td>\n",
       "      <td>NaN</td>\n",
       "    </tr>\n",
       "    <tr>\n",
       "      <th>...</th>\n",
       "      <td>...</td>\n",
       "      <td>...</td>\n",
       "      <td>...</td>\n",
       "      <td>...</td>\n",
       "    </tr>\n",
       "    <tr>\n",
       "      <th>metric</th>\n",
       "      <td>ev1</td>\n",
       "      <td>ev2</td>\n",
       "      <td>score</td>\n",
       "      <td>NaN</td>\n",
       "    </tr>\n",
       "    <tr>\n",
       "      <th>metric</th>\n",
       "      <td>ev1</td>\n",
       "      <td>ev2</td>\n",
       "      <td>score</td>\n",
       "      <td>NaN</td>\n",
       "    </tr>\n",
       "    <tr>\n",
       "      <th>metric</th>\n",
       "      <td>ev1</td>\n",
       "      <td>ev2</td>\n",
       "      <td>score</td>\n",
       "      <td>NaN</td>\n",
       "    </tr>\n",
       "    <tr>\n",
       "      <th>metric</th>\n",
       "      <td>ev1</td>\n",
       "      <td>ev2</td>\n",
       "      <td>score</td>\n",
       "      <td>NaN</td>\n",
       "    </tr>\n",
       "    <tr>\n",
       "      <th>metric</th>\n",
       "      <td>ev1</td>\n",
       "      <td>ev2</td>\n",
       "      <td>score</td>\n",
       "      <td>NaN</td>\n",
       "    </tr>\n",
       "  </tbody>\n",
       "</table>\n",
       "<p>3639 rows × 4 columns</p>\n",
       "</div>"
      ],
      "text/plain": [
       "       metric  ev1    ev2  score\n",
       "name                            \n",
       "metric    ev1  ev2  score    NaN\n",
       "metric    ev1  ev2  score    NaN\n",
       "metric    ev1  ev2  score    NaN\n",
       "metric    ev1  ev2  score    NaN\n",
       "metric    ev1  ev2  score    NaN\n",
       "...       ...  ...    ...    ...\n",
       "metric    ev1  ev2  score    NaN\n",
       "metric    ev1  ev2  score    NaN\n",
       "metric    ev1  ev2  score    NaN\n",
       "metric    ev1  ev2  score    NaN\n",
       "metric    ev1  ev2  score    NaN\n",
       "\n",
       "[3639 rows x 4 columns]"
      ]
     },
     "execution_count": 52,
     "metadata": {},
     "output_type": "execute_result"
    }
   ],
   "source": [
    "stats_df[stats_df[\"ev1\"].isin([\"ev2\"])]"
   ]
  },
  {
   "cell_type": "code",
   "execution_count": 59,
   "metadata": {},
   "outputs": [],
   "source": [
    "bad = stats_df.loc[\"metric\"]"
   ]
  },
  {
   "cell_type": "code",
   "execution_count": 267,
   "metadata": {},
   "outputs": [],
   "source": [
    "stats_clean = stats_df.loc[stats_df.index.difference(bad.index)]\n",
    "stats_clean = stats_clean.drop_duplicates()\n",
    "stats_clean.to_csv(ROOT_DIR/\"precomputed_data\"/\"stats_clean.csv\")\n",
    "stats = stats_clean"
   ]
  },
  {
   "cell_type": "code",
   "execution_count": 268,
   "metadata": {},
   "outputs": [],
   "source": [
    "stats[[\"ev1\", \"ev2\"]] = stats[[\"ev1\", \"ev2\"]].apply(pd.to_numeric)\n",
    "bsdf = pd.concat([stats[stats[ev] == 0] for ev in [\"ev1\", \"ev2\"]])"
   ]
  },
  {
   "cell_type": "code",
   "execution_count": 269,
   "metadata": {},
   "outputs": [
    {
     "data": {
      "text/html": [
       "<div>\n",
       "<style scoped>\n",
       "    .dataframe tbody tr th:only-of-type {\n",
       "        vertical-align: middle;\n",
       "    }\n",
       "\n",
       "    .dataframe tbody tr th {\n",
       "        vertical-align: top;\n",
       "    }\n",
       "\n",
       "    .dataframe thead th {\n",
       "        text-align: right;\n",
       "    }\n",
       "</style>\n",
       "<table border=\"1\" class=\"dataframe\">\n",
       "  <thead>\n",
       "    <tr style=\"text-align: right;\">\n",
       "      <th></th>\n",
       "      <th>metric</th>\n",
       "      <th>ev1</th>\n",
       "      <th>ev2</th>\n",
       "      <th>score</th>\n",
       "    </tr>\n",
       "    <tr>\n",
       "      <th>name</th>\n",
       "      <th></th>\n",
       "      <th></th>\n",
       "      <th></th>\n",
       "      <th></th>\n",
       "    </tr>\n",
       "  </thead>\n",
       "  <tbody>\n",
       "    <tr>\n",
       "      <th>0006_20160721_163256_525</th>\n",
       "      <td>mse</td>\n",
       "      <td>0.0</td>\n",
       "      <td>2.0</td>\n",
       "      <td>163.995115</td>\n",
       "    </tr>\n",
       "    <tr>\n",
       "      <th>0006_20160721_163256_525</th>\n",
       "      <td>ssim</td>\n",
       "      <td>0.0</td>\n",
       "      <td>2.0</td>\n",
       "      <td>0.969672</td>\n",
       "    </tr>\n",
       "    <tr>\n",
       "      <th>0006_20160721_163256_525</th>\n",
       "      <td>mse</td>\n",
       "      <td>0.0</td>\n",
       "      <td>4.0</td>\n",
       "      <td>415.541140</td>\n",
       "    </tr>\n",
       "    <tr>\n",
       "      <th>0006_20160721_163256_525</th>\n",
       "      <td>ssim</td>\n",
       "      <td>0.0</td>\n",
       "      <td>4.0</td>\n",
       "      <td>0.960854</td>\n",
       "    </tr>\n",
       "    <tr>\n",
       "      <th>0006_20160721_163256_525</th>\n",
       "      <td>mse</td>\n",
       "      <td>0.0</td>\n",
       "      <td>2.5</td>\n",
       "      <td>115.394008</td>\n",
       "    </tr>\n",
       "    <tr>\n",
       "      <th>...</th>\n",
       "      <td>...</td>\n",
       "      <td>...</td>\n",
       "      <td>...</td>\n",
       "      <td>...</td>\n",
       "    </tr>\n",
       "    <tr>\n",
       "      <th>synthetic_ramp_night</th>\n",
       "      <td>ssim</td>\n",
       "      <td>-2.5</td>\n",
       "      <td>0.0</td>\n",
       "      <td>0.838293</td>\n",
       "    </tr>\n",
       "    <tr>\n",
       "      <th>synthetic_ramp_night</th>\n",
       "      <td>mse</td>\n",
       "      <td>-6.0</td>\n",
       "      <td>0.0</td>\n",
       "      <td>1527.866328</td>\n",
       "    </tr>\n",
       "    <tr>\n",
       "      <th>synthetic_ramp_night</th>\n",
       "      <td>ssim</td>\n",
       "      <td>-6.0</td>\n",
       "      <td>0.0</td>\n",
       "      <td>0.858638</td>\n",
       "    </tr>\n",
       "    <tr>\n",
       "      <th>synthetic_ramp_night</th>\n",
       "      <td>mse</td>\n",
       "      <td>-3.0</td>\n",
       "      <td>0.0</td>\n",
       "      <td>2534.350051</td>\n",
       "    </tr>\n",
       "    <tr>\n",
       "      <th>synthetic_ramp_night</th>\n",
       "      <td>ssim</td>\n",
       "      <td>-3.0</td>\n",
       "      <td>0.0</td>\n",
       "      <td>0.842918</td>\n",
       "    </tr>\n",
       "  </tbody>\n",
       "</table>\n",
       "<p>87192 rows × 4 columns</p>\n",
       "</div>"
      ],
      "text/plain": [
       "                         metric  ev1  ev2        score\n",
       "name                                                  \n",
       "0006_20160721_163256_525    mse  0.0  2.0   163.995115\n",
       "0006_20160721_163256_525   ssim  0.0  2.0     0.969672\n",
       "0006_20160721_163256_525    mse  0.0  4.0   415.541140\n",
       "0006_20160721_163256_525   ssim  0.0  4.0     0.960854\n",
       "0006_20160721_163256_525    mse  0.0  2.5   115.394008\n",
       "...                         ...  ...  ...          ...\n",
       "synthetic_ramp_night       ssim -2.5  0.0     0.838293\n",
       "synthetic_ramp_night        mse -6.0  0.0  1527.866328\n",
       "synthetic_ramp_night       ssim -6.0  0.0     0.858638\n",
       "synthetic_ramp_night        mse -3.0  0.0  2534.350051\n",
       "synthetic_ramp_night       ssim -3.0  0.0     0.842918\n",
       "\n",
       "[87192 rows x 4 columns]"
      ]
     },
     "execution_count": 269,
     "metadata": {},
     "output_type": "execute_result"
    }
   ],
   "source": [
    "bsdf"
   ]
  },
  {
   "cell_type": "code",
   "execution_count": 266,
   "metadata": {},
   "outputs": [
    {
     "ename": "KeyError",
     "evalue": "\"None of [Index(['ev1', 'ev2'], dtype='object')] are in the [columns]\"",
     "output_type": "error",
     "traceback": [
      "\u001b[0;31m---------------------------------------------------------------------------\u001b[0m",
      "\u001b[0;31mKeyError\u001b[0m                                  Traceback (most recent call last)",
      "\u001b[0;32m<ipython-input-266-10e5e29c6206>\u001b[0m in \u001b[0;36m<module>\u001b[0;34m\u001b[0m\n\u001b[0;32m----> 1\u001b[0;31m \u001b[0mev\u001b[0m \u001b[0;34m=\u001b[0m \u001b[0mbsdf\u001b[0m\u001b[0;34m[\u001b[0m\u001b[0;34m[\u001b[0m\u001b[0;34m\"ev1\"\u001b[0m\u001b[0;34m,\u001b[0m\u001b[0;34m\"ev2\"\u001b[0m\u001b[0;34m]\u001b[0m\u001b[0;34m]\u001b[0m\u001b[0;34m.\u001b[0m\u001b[0mwhere\u001b[0m\u001b[0;34m(\u001b[0m\u001b[0mbsdf\u001b[0m\u001b[0;34m[\u001b[0m\u001b[0;34m[\u001b[0m\u001b[0;34m\"ev1\"\u001b[0m\u001b[0;34m,\u001b[0m \u001b[0;34m\"ev2\"\u001b[0m\u001b[0;34m]\u001b[0m\u001b[0;34m]\u001b[0m \u001b[0;34m!=\u001b[0m \u001b[0;36m0\u001b[0m\u001b[0;34m,\u001b[0m \u001b[0mother\u001b[0m\u001b[0;34m=\u001b[0m\u001b[0;32mNone\u001b[0m\u001b[0;34m)\u001b[0m\u001b[0;34m\u001b[0m\u001b[0;34m\u001b[0m\u001b[0m\n\u001b[0m\u001b[1;32m      2\u001b[0m \u001b[0;32mdef\u001b[0m \u001b[0mreplace_none\u001b[0m\u001b[0;34m(\u001b[0m\u001b[0mrow\u001b[0m\u001b[0;34m)\u001b[0m\u001b[0;34m:\u001b[0m\u001b[0;34m\u001b[0m\u001b[0;34m\u001b[0m\u001b[0m\n\u001b[1;32m      3\u001b[0m     \u001b[0;32mif\u001b[0m \u001b[0mrow\u001b[0m\u001b[0;34m.\u001b[0m\u001b[0miloc\u001b[0m\u001b[0;34m[\u001b[0m\u001b[0;36m0\u001b[0m\u001b[0;34m]\u001b[0m\u001b[0;34m:\u001b[0m\u001b[0;34m\u001b[0m\u001b[0;34m\u001b[0m\u001b[0m\n\u001b[1;32m      4\u001b[0m         \u001b[0;32mreturn\u001b[0m \u001b[0mrow\u001b[0m\u001b[0;34m.\u001b[0m\u001b[0miloc\u001b[0m\u001b[0;34m[\u001b[0m\u001b[0;36m0\u001b[0m\u001b[0;34m]\u001b[0m\u001b[0;34m\u001b[0m\u001b[0;34m\u001b[0m\u001b[0m\n\u001b[1;32m      5\u001b[0m     \u001b[0;32melse\u001b[0m\u001b[0;34m:\u001b[0m\u001b[0;34m\u001b[0m\u001b[0;34m\u001b[0m\u001b[0m\n",
      "\u001b[0;32m~/.cache/pypoetry/virtualenvs/dhdrnet-KNUoFHXm-py3.8/lib/python3.8/site-packages/pandas/core/frame.py\u001b[0m in \u001b[0;36m__getitem__\u001b[0;34m(self, key)\u001b[0m\n\u001b[1;32m   2804\u001b[0m             \u001b[0;32mif\u001b[0m \u001b[0mis_iterator\u001b[0m\u001b[0;34m(\u001b[0m\u001b[0mkey\u001b[0m\u001b[0;34m)\u001b[0m\u001b[0;34m:\u001b[0m\u001b[0;34m\u001b[0m\u001b[0;34m\u001b[0m\u001b[0m\n\u001b[1;32m   2805\u001b[0m                 \u001b[0mkey\u001b[0m \u001b[0;34m=\u001b[0m \u001b[0mlist\u001b[0m\u001b[0;34m(\u001b[0m\u001b[0mkey\u001b[0m\u001b[0;34m)\u001b[0m\u001b[0;34m\u001b[0m\u001b[0;34m\u001b[0m\u001b[0m\n\u001b[0;32m-> 2806\u001b[0;31m             \u001b[0mindexer\u001b[0m \u001b[0;34m=\u001b[0m \u001b[0mself\u001b[0m\u001b[0;34m.\u001b[0m\u001b[0mloc\u001b[0m\u001b[0;34m.\u001b[0m\u001b[0m_get_listlike_indexer\u001b[0m\u001b[0;34m(\u001b[0m\u001b[0mkey\u001b[0m\u001b[0;34m,\u001b[0m \u001b[0maxis\u001b[0m\u001b[0;34m=\u001b[0m\u001b[0;36m1\u001b[0m\u001b[0;34m,\u001b[0m \u001b[0mraise_missing\u001b[0m\u001b[0;34m=\u001b[0m\u001b[0;32mTrue\u001b[0m\u001b[0;34m)\u001b[0m\u001b[0;34m[\u001b[0m\u001b[0;36m1\u001b[0m\u001b[0;34m]\u001b[0m\u001b[0;34m\u001b[0m\u001b[0;34m\u001b[0m\u001b[0m\n\u001b[0m\u001b[1;32m   2807\u001b[0m \u001b[0;34m\u001b[0m\u001b[0m\n\u001b[1;32m   2808\u001b[0m         \u001b[0;31m# take() does not accept boolean indexers\u001b[0m\u001b[0;34m\u001b[0m\u001b[0;34m\u001b[0m\u001b[0;34m\u001b[0m\u001b[0m\n",
      "\u001b[0;32m~/.cache/pypoetry/virtualenvs/dhdrnet-KNUoFHXm-py3.8/lib/python3.8/site-packages/pandas/core/indexing.py\u001b[0m in \u001b[0;36m_get_listlike_indexer\u001b[0;34m(self, key, axis, raise_missing)\u001b[0m\n\u001b[1;32m   1550\u001b[0m             \u001b[0mkeyarr\u001b[0m\u001b[0;34m,\u001b[0m \u001b[0mindexer\u001b[0m\u001b[0;34m,\u001b[0m \u001b[0mnew_indexer\u001b[0m \u001b[0;34m=\u001b[0m \u001b[0max\u001b[0m\u001b[0;34m.\u001b[0m\u001b[0m_reindex_non_unique\u001b[0m\u001b[0;34m(\u001b[0m\u001b[0mkeyarr\u001b[0m\u001b[0;34m)\u001b[0m\u001b[0;34m\u001b[0m\u001b[0;34m\u001b[0m\u001b[0m\n\u001b[1;32m   1551\u001b[0m \u001b[0;34m\u001b[0m\u001b[0m\n\u001b[0;32m-> 1552\u001b[0;31m         self._validate_read_indexer(\n\u001b[0m\u001b[1;32m   1553\u001b[0m             \u001b[0mkeyarr\u001b[0m\u001b[0;34m,\u001b[0m \u001b[0mindexer\u001b[0m\u001b[0;34m,\u001b[0m \u001b[0mo\u001b[0m\u001b[0;34m.\u001b[0m\u001b[0m_get_axis_number\u001b[0m\u001b[0;34m(\u001b[0m\u001b[0maxis\u001b[0m\u001b[0;34m)\u001b[0m\u001b[0;34m,\u001b[0m \u001b[0mraise_missing\u001b[0m\u001b[0;34m=\u001b[0m\u001b[0mraise_missing\u001b[0m\u001b[0;34m\u001b[0m\u001b[0;34m\u001b[0m\u001b[0m\n\u001b[1;32m   1554\u001b[0m         )\n",
      "\u001b[0;32m~/.cache/pypoetry/virtualenvs/dhdrnet-KNUoFHXm-py3.8/lib/python3.8/site-packages/pandas/core/indexing.py\u001b[0m in \u001b[0;36m_validate_read_indexer\u001b[0;34m(self, key, indexer, axis, raise_missing)\u001b[0m\n\u001b[1;32m   1638\u001b[0m             \u001b[0;32mif\u001b[0m \u001b[0mmissing\u001b[0m \u001b[0;34m==\u001b[0m \u001b[0mlen\u001b[0m\u001b[0;34m(\u001b[0m\u001b[0mindexer\u001b[0m\u001b[0;34m)\u001b[0m\u001b[0;34m:\u001b[0m\u001b[0;34m\u001b[0m\u001b[0;34m\u001b[0m\u001b[0m\n\u001b[1;32m   1639\u001b[0m                 \u001b[0maxis_name\u001b[0m \u001b[0;34m=\u001b[0m \u001b[0mself\u001b[0m\u001b[0;34m.\u001b[0m\u001b[0mobj\u001b[0m\u001b[0;34m.\u001b[0m\u001b[0m_get_axis_name\u001b[0m\u001b[0;34m(\u001b[0m\u001b[0maxis\u001b[0m\u001b[0;34m)\u001b[0m\u001b[0;34m\u001b[0m\u001b[0;34m\u001b[0m\u001b[0m\n\u001b[0;32m-> 1640\u001b[0;31m                 \u001b[0;32mraise\u001b[0m \u001b[0mKeyError\u001b[0m\u001b[0;34m(\u001b[0m\u001b[0;34mf\"None of [{key}] are in the [{axis_name}]\"\u001b[0m\u001b[0;34m)\u001b[0m\u001b[0;34m\u001b[0m\u001b[0;34m\u001b[0m\u001b[0m\n\u001b[0m\u001b[1;32m   1641\u001b[0m \u001b[0;34m\u001b[0m\u001b[0m\n\u001b[1;32m   1642\u001b[0m             \u001b[0;31m# We (temporarily) allow for some missing keys with .loc, except in\u001b[0m\u001b[0;34m\u001b[0m\u001b[0;34m\u001b[0m\u001b[0;34m\u001b[0m\u001b[0m\n",
      "\u001b[0;31mKeyError\u001b[0m: \"None of [Index(['ev1', 'ev2'], dtype='object')] are in the [columns]\""
     ]
    }
   ],
   "source": [
    "ev = bsdf[[\"ev1\",\"ev2\"]].where(bsdf[[\"ev1\", \"ev2\"]] != 0, other=None)\n",
    "def replace_none(row):\n",
    "    if row.iloc[0]:\n",
    "        return row.iloc[0]\n",
    "    else:\n",
    "        return row.iloc[1]\n",
    "    \n",
    "bsdf[\"ev\"] = ev.apply(replace_none, axis=1)\n",
    "bsdf = bsdf.drop([\"ev1\", \"ev2\"],axis=1)"
   ]
  },
  {
   "cell_type": "code",
   "execution_count": 219,
   "metadata": {},
   "outputs": [],
   "source": [
    "bsdf.to_csv(ROOT_DIR/\"precomputed_data\" / \"baseline_stats.csv\")"
   ]
  },
  {
   "cell_type": "code",
   "execution_count": 222,
   "metadata": {},
   "outputs": [
    {
     "data": {
      "text/plain": [
       "array([ 2. ,  4. ,  2.5,  5. ,  3. ,  6. , -4. , -2. , -5. , -2.5, -6. ,\n",
       "       -3. ])"
      ]
     },
     "execution_count": 222,
     "metadata": {},
     "output_type": "execute_result"
    }
   ],
   "source": [
    "bsdf[\"ev\"].unique()"
   ]
  },
  {
   "cell_type": "code",
   "execution_count": 229,
   "metadata": {},
   "outputs": [],
   "source": [
    "bsdf4 = bsdf[bsdf[\"ev\"].isin(np.linspace(-4,4,5))]\n",
    "bsdf5 = bsdf[bsdf[\"ev\"].isin(np.linspace(-5,5,5))] \n",
    "bsdf6 = bsdf[bsdf[\"ev\"].isin(np.linspace(-6,6,5))]"
   ]
  },
  {
   "cell_type": "code",
   "execution_count": 262,
   "metadata": {},
   "outputs": [
    {
     "data": {
      "text/plain": [
       "<matplotlib.axes._subplots.AxesSubplot at 0x7f8d1b357970>"
      ]
     },
     "execution_count": 262,
     "metadata": {},
     "output_type": "execute_result"
    },
    {
     "data": {
      "image/png": "[encoded data removed]",
      "text/plain": [
       "<Figure size 432x288 with 1 Axes>"
      ]
     },
     "metadata": {
      "needs_background": "light"
     },
     "output_type": "display_data"
    }
   ],
   "source": [
    "mse_opt4 = (\n",
    "    bsdf4.groupby(\"metric\")\n",
    "        .get_group(\"mse\")\n",
    "        .pivot(columns=\"ev\")\n",
    "        .drop(\"metric\", axis=1)\n",
    "        .idxmin(axis=1)\n",
    ")\n",
    "mse_opt4.value_counts().plot.bar()"
   ]
  },
  {
   "cell_type": "code",
   "execution_count": 263,
   "metadata": {},
   "outputs": [
    {
     "data": {
      "text/plain": [
       "<matplotlib.axes._subplots.AxesSubplot at 0x7f8d1b11b4f0>"
      ]
     },
     "execution_count": 263,
     "metadata": {},
     "output_type": "execute_result"
    },
    {
     "data": {
      "image/png": "[encoded data removed]",
      "text/plain": [
       "<Figure size 432x288 with 1 Axes>"
      ]
     },
     "metadata": {
      "needs_background": "light"
     },
     "output_type": "display_data"
    }
   ],
   "source": [
    "mse_opt5 = (\n",
    "    bsdf5.groupby(\"metric\")\n",
    "        .get_group(\"mse\")\n",
    "        .pivot(columns=\"ev\")\n",
    "        .drop(\"metric\", axis=1)\n",
    "        .idxmin(axis=1)\n",
    ")\n",
    "mse_opt5.value_counts().plot.bar()"
   ]
  },
  {
   "cell_type": "code",
   "execution_count": 264,
   "metadata": {},
   "outputs": [
    {
     "data": {
      "text/plain": [
       "<matplotlib.axes._subplots.AxesSubplot at 0x7f8d3e0c0370>"
      ]
     },
     "execution_count": 264,
     "metadata": {},
     "output_type": "execute_result"
    },
    {
     "data": {
      "image/png": "[encoded data removed]",
      "text/plain": [
       "<Figure size 432x288 with 1 Axes>"
      ]
     },
     "metadata": {
      "needs_background": "light"
     },
     "output_type": "display_data"
    }
   ],
   "source": [
    "mse_opt6 = (\n",
    "    bsdf6.groupby(\"metric\")\n",
    "        .get_group(\"mse\")\n",
    "        .pivot(columns=\"ev\")\n",
    "        .drop(\"metric\", axis=1)\n",
    "        .idxmin(axis=1)\n",
    ")\n",
    "mse_opt6.value_counts().plot.bar()\n"
   ]
  },
  {
   "cell_type": "code",
   "execution_count": 307,
   "metadata": {},
   "outputs": [
    {
     "data": {
      "text/plain": [
       "<matplotlib.axes._subplots.AxesSubplot at 0x7f8d0afc0760>"
      ]
     },
     "execution_count": 307,
     "metadata": {},
     "output_type": "execute_result"
    },
    {
     "data": {
      "image/png": "[encoded data removed]",
      "text/plain": [
       "<Figure size 432x288 with 1 Axes>"
      ]
     },
     "metadata": {
      "needs_background": "light"
     },
     "output_type": "display_data"
    }
   ],
   "source": [
    "all_opt = (\n",
    "    stats.groupby(\"metric\")\n",
    "        .get_group(\"mse\")\n",
    "        .copy()\n",
    ")\n",
    "all_opt[\"ev\"] = (\n",
    "    all_opt.loc[:,[\"ev1\", \"ev2\"]]\n",
    "        .apply(lambda df: tuple(sorted((df.iloc[0], df.iloc[1]))),axis=1)\n",
    ")\n",
    "all_opt = all_opt.pivot(columns=\"ev\").drop(columns=[\"metric\", \"ev1\", \"ev2\"])\n",
    "all_opt.idxmin(axis=1).value_counts().plot.bar()"
   ]
  },
  {
   "cell_type": "code",
   "execution_count": null,
   "metadata": {},
   "outputs": [],
   "source": []
  }
 ],
 "metadata": {
  "kernelspec": {
   "display_name": "DHDRNet",
   "language": "python",
   "name": "dhdrnet"
  },
  "language_info": {
   "codemirror_mode": {
    "name": "ipython",
    "version": 3
   },
   "file_extension": ".py",
   "mimetype": "text/x-python",
   "name": "python",
   "nbconvert_exporter": "python",
   "pygments_lexer": "ipython3",
   "version": "3.8.3"
  }
 },
 "nbformat": 4,
 "nbformat_minor": 4
}
