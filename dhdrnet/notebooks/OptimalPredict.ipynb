{
 "cells": [
  {
   "cell_type": "code",
   "execution_count": 39,
   "id": "unlimited-return",
   "metadata": {},
   "outputs": [
    {
     "name": "stdout",
     "output_type": "stream",
     "text": [
      "The autoreload extension is already loaded. To reload it, use:\n",
      "  %reload_ext autoreload\n"
     ]
    }
   ],
   "source": [
    "from pathlib import Path\n",
    "\n",
    "import matplotlib.pyplot as plt\n",
    "import numpy as np\n",
    "import seaborn as sns\n",
    "import timm\n",
    "import torch\n",
    "\n",
    "# sns.set_theme()\n",
    "\n",
    "%matplotlib widget\n",
    "%load_ext autoreload\n",
    "%autoreload 2"
   ]
  },
  {
   "cell_type": "code",
   "execution_count": 40,
   "id": "nuclear-african",
   "metadata": {},
   "outputs": [
    {
     "data": {
      "text/plain": [
       "<torch._C.Generator at 0x7f1ec59f7590>"
      ]
     },
     "execution_count": 40,
     "metadata": {},
     "output_type": "execute_result"
    }
   ],
   "source": [
    "use_cuda = torch.cuda.is_available()\n",
    "device = torch.device(\"cuda\" if use_cuda else \"cpu\")\n",
    "\n",
    "torch.manual_seed(42)"
   ]
  },
  {
   "cell_type": "markdown",
   "id": "verbal-stocks",
   "metadata": {},
   "source": [
    "Need a model that takes a sequence of images as input and chooses two among them for the best exposure fusion result"
   ]
  },
  {
   "cell_type": "code",
   "execution_count": 52,
   "id": "developing-female",
   "metadata": {},
   "outputs": [
    {
     "name": "stdout",
     "output_type": "stream",
     "text": [
      "train_len=2316\n",
      "val_len=579\n"
     ]
    }
   ],
   "source": [
    "from math import comb\n",
    "\n",
    "import pandas as pd\n",
    "import torchvision as tv\n",
    "from torch.utils.data import DataLoader, Subset, random_split\n",
    "from torchvision import transforms\n",
    "\n",
    "from dhdrnet.dataset import CachingDataset\n",
    "from dhdrnet.free_choice_model import FreeChoiceDHDRNet\n",
    "from dhdrnet.fc_train import get_loaders\n",
    "\n",
    "exposure_vals = [-5, -3, -1, 0, 1, 3, 5]\n",
    "\n",
    "train_file = Path(\"../../precomputed_data/train_current.csv\")\n",
    "train_image_names = pd.read_csv(train_file, squeeze=True, dtype=str).to_list()\n",
    "\n",
    "ds = CachingDataset(\n",
    "    data_dir=Path(\"../../data\"),\n",
    "    image_names=train_image_names,\n",
    "    exposure_values=exposure_vals,\n",
    "    transform=transforms.Compose(\n",
    "        [transforms.ToPILImage(), transforms.Resize((300, 300)), transforms.ToTensor()]\n",
    "    ),\n",
    ")\n",
    "tdl, vdl = get_loaders(ds, 4, trainval_split=0.8)"
   ]
  },
  {
   "cell_type": "code",
   "execution_count": 51,
   "id": "mechanical-halloween",
   "metadata": {},
   "outputs": [
    {
     "name": "stdout",
     "output_type": "stream",
     "text": [
      "images.shape=torch.Size([3, 7, 3, 300, 300])\n",
      "tensor([16,  4, 12])\n"
     ]
    }
   ],
   "source": [
    "for batch in dl:\n",
    "    images, ev_classes, scores = batch\n",
    "    print(f\"{images.shape=}\")\n",
    "    print(f\"{ev_classes}\")\n",
    "    break"
   ]
  },
  {
   "cell_type": "markdown",
   "id": "formed-domain",
   "metadata": {},
   "source": [
    "datasets are being processed by the dataloader correctly :)"
   ]
  },
  {
   "cell_type": "code",
   "execution_count": 5,
   "id": "centered-council",
   "metadata": {},
   "outputs": [],
   "source": [
    "train_ds = Subset(ds, range(20))\n",
    "val_ds = Subset(ds, range(20, 40))"
   ]
  },
  {
   "cell_type": "code",
   "execution_count": 6,
   "id": "electronic-ozone",
   "metadata": {
    "tags": []
   },
   "outputs": [
    {
     "name": "stderr",
     "output_type": "stream",
     "text": [
      "Epochs:   0%|          | 0/10 [00:00<?, ?it/s]\n",
      "Train:   0%|          | 0/2 [00:00<?, ?it/s]\u001b[A\n",
      "Train:   0%|          | 0/2 [02:27<?, ?it/s, train_loss=3.1, batch_idx=0]\u001b[A\n",
      "\n",
      "Val:   0%|          | 0/1 [00:00<?, ?it/s]\u001b[A\u001b[A\n",
      "\n",
      "Val:   0%|          | 0/1 [04:50<?, ?it/s, val_loss=3.06, batch_idx=0]\u001b[A\u001b[A\n",
      "\n",
      "Val: 100%|██████████| 1/1 [04:50<00:00, 290.55s/it, val_loss=3.06, batch_idx=0]\u001b[A\u001b[A\n",
      "\n",
      "                                                                               \u001b[A\u001b[A\n",
      "Train:  50%|█████     | 1/2 [07:18<07:18, 438.56s/it, train_loss=3.1, batch_idx=0]\u001b[A\n",
      "Train:  50%|█████     | 1/2 [07:19<07:18, 438.56s/it, train_loss=2.78, batch_idx=1]\u001b[A\n",
      "Train: 100%|██████████| 2/2 [07:19<00:00, 181.08s/it, train_loss=2.78, batch_idx=1]\u001b[A\n",
      "Epochs:  10%|█         | 1/10 [07:19<1:05:54, 439.44s/it, epoch_train_loss=2.94, epoch_duration=439]\n",
      "Train:   0%|          | 0/2 [00:00<?, ?it/s]\u001b[A\n",
      "Train:   0%|          | 0/2 [00:03<?, ?it/s, train_loss=2.54, batch_idx=0]\u001b[A\n",
      "\n",
      "Val:   0%|          | 0/1 [00:00<?, ?it/s]\u001b[A\u001b[A\n",
      "\n",
      "Val:   0%|          | 0/1 [00:04<?, ?it/s, val_loss=3.02, batch_idx=0]\u001b[A\u001b[A\n",
      "\n",
      "Val: 100%|██████████| 1/1 [00:04<00:00,  4.11s/it, val_loss=3.02, batch_idx=0]\u001b[A\u001b[A\n",
      "\n",
      "                                                                              \u001b[A\u001b[A\n",
      "Train:  50%|█████     | 1/2 [00:07<00:07,  7.23s/it, train_loss=2.54, batch_idx=0]\u001b[A\n",
      "Train:  50%|█████     | 1/2 [00:08<00:07,  7.23s/it, train_loss=2.38, batch_idx=1]\u001b[A\n",
      "Train: 100%|██████████| 2/2 [00:08<00:00,  3.48s/it, train_loss=2.38, batch_idx=1]\u001b[A\n",
      "Epochs:  20%|██        | 2/10 [07:27<24:45, 185.74s/it, epoch_train_loss=2.46, epoch_duration=8.13]  \n",
      "Train:   0%|          | 0/2 [00:00<?, ?it/s]\u001b[A\n",
      "Train:   0%|          | 0/2 [00:03<?, ?it/s, train_loss=2.02, batch_idx=0]\u001b[A\n",
      "\n",
      "Val:   0%|          | 0/1 [00:00<?, ?it/s]\u001b[A\u001b[A\n",
      "\n",
      "Val:   0%|          | 0/1 [00:03<?, ?it/s, val_loss=2.88, batch_idx=0]\u001b[A\u001b[A\n",
      "\n",
      "Val: 100%|██████████| 1/1 [00:03<00:00,  3.98s/it, val_loss=2.88, batch_idx=0]\u001b[A\u001b[A\n",
      "\n",
      "                                                                              \u001b[A\u001b[A\n",
      "Train:  50%|█████     | 1/2 [00:07<00:07,  7.09s/it, train_loss=2.02, batch_idx=0]\u001b[A\n",
      "Train:  50%|█████     | 1/2 [00:07<00:07,  7.09s/it, train_loss=1.88, batch_idx=1]\u001b[A\n",
      "Train: 100%|██████████| 2/2 [00:07<00:00,  3.43s/it, train_loss=1.88, batch_idx=1]\u001b[A\n",
      "Epochs:  30%|███       | 3/10 [07:35<12:12, 104.60s/it, epoch_train_loss=1.95, epoch_duration=8.03]\n",
      "Train:   0%|          | 0/2 [00:00<?, ?it/s]\u001b[A\n",
      "Train:   0%|          | 0/2 [00:02<?, ?it/s, train_loss=1.72, batch_idx=0]\u001b[A\n",
      "\n",
      "Val:   0%|          | 0/1 [00:00<?, ?it/s]\u001b[A\u001b[A\n",
      "\n",
      "Val:   0%|          | 0/1 [00:03<?, ?it/s, val_loss=2.71, batch_idx=0]\u001b[A\u001b[A\n",
      "\n",
      "Val: 100%|██████████| 1/1 [00:03<00:00,  3.98s/it, val_loss=2.71, batch_idx=0]\u001b[A\u001b[A\n",
      "\n",
      "                                                                              \u001b[A\u001b[A\n",
      "Train:  50%|█████     | 1/2 [00:07<00:07,  7.02s/it, train_loss=1.72, batch_idx=0]\u001b[A\n",
      "Train:  50%|█████     | 1/2 [00:07<00:07,  7.02s/it, train_loss=1.48, batch_idx=1]\u001b[A\n",
      "Train: 100%|██████████| 2/2 [00:07<00:00,  3.40s/it, train_loss=1.48, batch_idx=1]\u001b[A\n",
      "Epochs:  40%|████      | 4/10 [07:43<06:38, 66.45s/it, epoch_train_loss=1.6, epoch_duration=7.95]  \n",
      "Train:   0%|          | 0/2 [00:00<?, ?it/s]\u001b[A\n",
      "Train:   0%|          | 0/2 [00:02<?, ?it/s, train_loss=1.48, batch_idx=0]\u001b[A\n",
      "\n",
      "Val:   0%|          | 0/1 [00:00<?, ?it/s]\u001b[A\u001b[A\n",
      "\n",
      "Val:   0%|          | 0/1 [00:03<?, ?it/s, val_loss=2.53, batch_idx=0]\u001b[A\u001b[A\n",
      "\n",
      "Val: 100%|██████████| 1/1 [00:03<00:00,  3.97s/it, val_loss=2.53, batch_idx=0]\u001b[A\u001b[A\n",
      "\n",
      "                                                                              \u001b[A\u001b[A\n",
      "Train:  50%|█████     | 1/2 [00:07<00:07,  7.00s/it, train_loss=1.48, batch_idx=0]\u001b[A\n",
      "Train:  50%|█████     | 1/2 [00:07<00:07,  7.00s/it, train_loss=1.18, batch_idx=1]\u001b[A\n",
      "Train: 100%|██████████| 2/2 [00:07<00:00,  3.40s/it, train_loss=1.18, batch_idx=1]\u001b[A\n",
      "Epochs:  50%|█████     | 5/10 [07:51<03:46, 45.36s/it, epoch_train_loss=1.33, epoch_duration=7.95]\n",
      "Train:   0%|          | 0/2 [00:00<?, ?it/s]\u001b[A\n",
      "Train:   0%|          | 0/2 [00:03<?, ?it/s, train_loss=1.24, batch_idx=0]\u001b[A\n",
      "\n",
      "Val:   0%|          | 0/1 [00:00<?, ?it/s]\u001b[A\u001b[A\n",
      "\n",
      "Val:   0%|          | 0/1 [00:04<?, ?it/s, val_loss=2.41, batch_idx=0]\u001b[A\u001b[A\n",
      "\n",
      "Val: 100%|██████████| 1/1 [00:04<00:00,  4.07s/it, val_loss=2.41, batch_idx=0]\u001b[A\u001b[A\n",
      "\n",
      "                                                                              \u001b[A\u001b[A\n",
      "Train:  50%|█████     | 1/2 [00:07<00:07,  7.23s/it, train_loss=1.24, batch_idx=0]\u001b[A\n",
      "Train:  50%|█████     | 1/2 [00:08<00:07,  7.23s/it, train_loss=1.12, batch_idx=1]\u001b[A\n",
      "Train: 100%|██████████| 2/2 [00:08<00:00,  3.47s/it, train_loss=1.12, batch_idx=1]\u001b[A\n",
      "Epochs:  60%|██████    | 6/10 [07:59<02:10, 32.70s/it, epoch_train_loss=1.18, epoch_duration=8.13]\n",
      "Train:   0%|          | 0/2 [00:00<?, ?it/s]\u001b[A\n",
      "Train:   0%|          | 0/2 [00:02<?, ?it/s, train_loss=1.07, batch_idx=0]\u001b[A\n",
      "\n",
      "Val:   0%|          | 0/1 [00:00<?, ?it/s]\u001b[A\u001b[A\n",
      "\n",
      "Val:   0%|          | 0/1 [00:04<?, ?it/s, val_loss=2.24, batch_idx=0]\u001b[A\u001b[A\n",
      "\n",
      "Val: 100%|██████████| 1/1 [00:04<00:00,  4.06s/it, val_loss=2.24, batch_idx=0]\u001b[A\u001b[A\n",
      "\n",
      "                                                                              \u001b[A\u001b[A\n",
      "Train:  50%|█████     | 1/2 [00:07<00:07,  7.12s/it, train_loss=1.07, batch_idx=0]\u001b[A\n",
      "Train:  50%|█████     | 1/2 [00:08<00:07,  7.12s/it, train_loss=0.98, batch_idx=1]\u001b[A\n",
      "Train: 100%|██████████| 2/2 [00:08<00:00,  3.46s/it, train_loss=0.98, batch_idx=1]\u001b[A\n",
      "Epochs:  70%|███████   | 7/10 [08:07<01:13, 24.66s/it, epoch_train_loss=1.03, epoch_duration=8.09]\n",
      "Train:   0%|          | 0/2 [00:00<?, ?it/s]\u001b[A\n",
      "Train:   0%|          | 0/2 [00:03<?, ?it/s, train_loss=0.881, batch_idx=0]\u001b[A\n",
      "\n",
      "Val:   0%|          | 0/1 [00:00<?, ?it/s]\u001b[A\u001b[A\n",
      "\n",
      "Val:   0%|          | 0/1 [00:04<?, ?it/s, val_loss=2.12, batch_idx=0]\u001b[A\u001b[A\n",
      "\n",
      "Val: 100%|██████████| 1/1 [00:04<00:00,  4.01s/it, val_loss=2.12, batch_idx=0]\u001b[A\u001b[A\n",
      "\n",
      "                                                                              \u001b[A\u001b[A\n",
      "Train:  50%|█████     | 1/2 [00:07<00:07,  7.15s/it, train_loss=0.881, batch_idx=0]\u001b[A\n",
      "Train:  50%|█████     | 1/2 [00:08<00:07,  7.15s/it, train_loss=1.07, batch_idx=1] \u001b[A\n",
      "Train: 100%|██████████| 2/2 [00:08<00:00,  3.45s/it, train_loss=1.07, batch_idx=1]\u001b[A\n",
      "Epochs:  80%|████████  | 8/10 [08:15<00:38, 19.38s/it, epoch_train_loss=0.974, epoch_duration=8.07]\n",
      "Train:   0%|          | 0/2 [00:00<?, ?it/s]\u001b[A\n",
      "Train:   0%|          | 0/2 [00:02<?, ?it/s, train_loss=0.763, batch_idx=0]\u001b[A\n",
      "\n",
      "Val:   0%|          | 0/1 [00:00<?, ?it/s]\u001b[A\u001b[A\n",
      "\n",
      "Val:   0%|          | 0/1 [00:03<?, ?it/s, val_loss=2.08, batch_idx=0]\u001b[A\u001b[A\n",
      "\n",
      "Val: 100%|██████████| 1/1 [00:03<00:00,  3.99s/it, val_loss=2.08, batch_idx=0]\u001b[A\u001b[A\n",
      "\n",
      "                                                                              \u001b[A\u001b[A\n",
      "Train:  50%|█████     | 1/2 [00:06<00:06,  6.99s/it, train_loss=0.763, batch_idx=0]\u001b[A\n",
      "Train:  50%|█████     | 1/2 [00:07<00:06,  6.99s/it, train_loss=1.11, batch_idx=1] \u001b[A\n",
      "Train: 100%|██████████| 2/2 [00:07<00:00,  3.41s/it, train_loss=1.11, batch_idx=1]\u001b[A\n",
      "Epochs:  90%|█████████ | 9/10 [08:23<00:15, 15.82s/it, epoch_train_loss=0.934, epoch_duration=7.97]\n",
      "Train:   0%|          | 0/2 [00:00<?, ?it/s]\u001b[A\n",
      "Train:   0%|          | 0/2 [00:03<?, ?it/s, train_loss=0.836, batch_idx=0]\u001b[A\n",
      "\n",
      "Val:   0%|          | 0/1 [00:00<?, ?it/s]\u001b[A\u001b[A\n",
      "\n",
      "Val:   0%|          | 0/1 [00:04<?, ?it/s, val_loss=2.11, batch_idx=0]\u001b[A\u001b[A\n",
      "\n",
      "Val: 100%|██████████| 1/1 [00:04<00:00,  4.12s/it, val_loss=2.11, batch_idx=0]\u001b[A\u001b[A\n",
      "\n",
      "                                                                              \u001b[A\u001b[A\n",
      "Train:  50%|█████     | 1/2 [00:07<00:07,  7.21s/it, train_loss=0.836, batch_idx=0]\u001b[A\n",
      "Train:  50%|█████     | 1/2 [00:08<00:07,  7.21s/it, train_loss=0.792, batch_idx=1]\u001b[A\n",
      "Train: 100%|██████████| 2/2 [00:08<00:00,  3.48s/it, train_loss=0.792, batch_idx=1]\u001b[A\n",
      "Epochs: 100%|██████████| 10/10 [08:32<00:00, 51.20s/it, epoch_train_loss=0.814, epoch_duration=8.15]\n"
     ]
    }
   ],
   "source": [
    "num_classes = comb(len(exposure_vals), 2)\n",
    "model = FreeChoiceDHDRNet(num_classes)\n",
    "fit(\n",
    "    model,\n",
    "    train_ds,\n",
    "    val_ds,\n",
    "    batch_size=10,\n",
    "    num_epochs=10,\n",
    "    exp_name=\"blank_ds\",\n",
    "    logdir=\"../../logs\",\n",
    ")"
   ]
  },
  {
   "cell_type": "code",
   "execution_count": 16,
   "id": "black-transfer",
   "metadata": {},
   "outputs": [
    {
     "data": {
      "text/plain": [
       "0      0030_20151008_105249_589\n",
       "1      5066_20160724_121618_110\n",
       "2      0037_20160719_125227_729\n",
       "3      0543_20150918_175650_498\n",
       "4      5a9e_20150404_131348_909\n",
       "                 ...           \n",
       "719    0543_20150918_072911_757\n",
       "720    0043_20160908_100556_696\n",
       "721    9bf4_20150824_204210_479\n",
       "722    33TJ_20150607_020736_953\n",
       "723    0043_20160923_122514_781\n",
       "Name: names, Length: 724, dtype: object"
      ]
     },
     "execution_count": 16,
     "metadata": {},
     "output_type": "execute_result"
    }
   ],
   "source": [
    "tf = Path(\"../../precomputed_data/test_current.csv\")\n",
    "pd.read_csv(tf, squeeze=True)"
   ]
  },
  {
   "cell_type": "code",
   "execution_count": 31,
   "id": "bottom-usage",
   "metadata": {},
   "outputs": [
    {
     "data": {
      "text/plain": [
       "10"
      ]
     },
     "execution_count": 31,
     "metadata": {},
     "output_type": "execute_result"
    }
   ],
   "source": [
    "parts = (f.stem.split(\"_\")[-1] for f in Path(\"../../logs/\").glob(\"exp_*\"))\n",
    "max(int(p) for p in parts if p.isdigit())"
   ]
  },
  {
   "cell_type": "code",
   "execution_count": 38,
   "id": "inside-freedom",
   "metadata": {},
   "outputs": [
    {
     "data": {
      "text/plain": [
       "PosixPath('../../logs/exp_11')"
      ]
     },
     "execution_count": 38,
     "metadata": {},
     "output_type": "execute_result"
    }
   ],
   "source": [
    "from dhdrnet.util import get_valid_exp_path\n",
    "\n",
    "get_valid_exp_path(Path(\"../../logs\"))"
   ]
  },
  {
   "cell_type": "code",
   "execution_count": null,
   "id": "conservative-indiana",
   "metadata": {},
   "outputs": [],
   "source": []
  }
 ],
 "metadata": {
  "kernelspec": {
   "display_name": "dhdrnet",
   "language": "python",
   "name": "dhdrnet"
  },
  "language_info": {
   "codemirror_mode": {
    "name": "ipython",
    "version": 3
   },
   "file_extension": ".py",
   "mimetype": "text/x-python",
   "name": "python",
   "nbconvert_exporter": "python",
   "pygments_lexer": "ipython3",
   "version": "3.8.7"
  }
 },
 "nbformat": 4,
 "nbformat_minor": 5
}
