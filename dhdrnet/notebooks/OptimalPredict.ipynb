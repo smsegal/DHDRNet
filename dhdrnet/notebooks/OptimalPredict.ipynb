{
 "cells": [
  {
   "cell_type": "code",
   "execution_count": 1,
   "id": "rocky-words",
   "metadata": {},
   "outputs": [],
   "source": [
    "from pathlib import Path\n",
    "\n",
    "import numpy as np\n",
    "import seaborn as sns\n",
    "import timm\n",
    "import torch\n",
    "\n",
    "sns.set_theme()\n",
    "%load_ext autoreload\n",
    "%autoreload 2"
   ]
  },
  {
   "cell_type": "code",
   "execution_count": 2,
   "id": "approximate-participation",
   "metadata": {},
   "outputs": [
    {
     "data": {
      "text/plain": [
       "<torch._C.Generator at 0x7fd89a460570>"
      ]
     },
     "execution_count": 2,
     "metadata": {},
     "output_type": "execute_result"
    }
   ],
   "source": [
    "use_cuda = torch.cuda.is_available()\n",
    "device = torch.device(\"cuda\" if use_cuda else \"cpu\")\n",
    "\n",
    "torch.manual_seed(42)"
   ]
  },
  {
   "cell_type": "markdown",
   "id": "tight-appearance",
   "metadata": {},
   "source": [
    "Need a model that takes a sequence of images as input and chooses two among them for the best exposure fusion result"
   ]
  },
  {
   "cell_type": "code",
   "execution_count": 3,
   "id": "infinite-little",
   "metadata": {},
   "outputs": [],
   "source": [
    "import pandas as pd\n",
    "from torch.utils.data import DataLoader\n",
    "from torchvision import transforms\n",
    "\n",
    "from dhdrnet.dataset import CachingDataset\n",
    "\n",
    "ds = CachingDataset(\n",
    "    data_dir=Path(\"../../data\"),\n",
    "    transform=transforms.Compose(\n",
    "        [transforms.ToPILImage(), transforms.Resize((300, 300)), transforms.ToTensor()]\n",
    "    ),\n",
    ")\n",
    "dl = DataLoader(ds, batch_size=2, shuffle=True, num_workers=12, pin_memory=True)"
   ]
  },
  {
   "cell_type": "code",
   "execution_count": 4,
   "id": "alleged-projection",
   "metadata": {
    "tags": []
   },
   "outputs": [
    {
     "name": "stdout",
     "output_type": "stream",
     "text": [
      "torch.Size([2, 3, 300, 300])\n",
      "('evs', 'evs')\n"
     ]
    }
   ],
   "source": [
    "for batch in dl:\n",
    "    images, evs = batch\n",
    "    print(images[0].shape)\n",
    "    print(evs)\n",
    "    break"
   ]
  },
  {
   "cell_type": "code",
   "execution_count": null,
   "id": "equipped-listing",
   "metadata": {},
   "outputs": [],
   "source": []
  }
 ],
 "metadata": {
  "kernelspec": {
   "display_name": "dhdrnet",
   "language": "python",
   "name": "dhdrnet"
  },
  "language_info": {
   "codemirror_mode": {
    "name": "ipython",
    "version": 3
   },
   "file_extension": ".py",
   "mimetype": "text/x-python",
   "name": "python",
   "nbconvert_exporter": "python",
   "pygments_lexer": "ipython3",
   "version": "3.8.7"
  }
 },
 "nbformat": 4,
 "nbformat_minor": 5
}
