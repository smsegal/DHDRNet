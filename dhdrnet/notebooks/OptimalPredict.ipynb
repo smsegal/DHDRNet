{
 "cells": [
  {
   "cell_type": "code",
   "execution_count": 2,
   "id": "curious-physiology",
   "metadata": {},
   "outputs": [
    {
     "name": "stdout",
     "output_type": "stream",
     "text": [
      "The autoreload extension is already loaded. To reload it, use:\n",
      "  %reload_ext autoreload\n"
     ]
    }
   ],
   "source": [
    "from pathlib import Path\n",
    "\n",
    "import matplotlib.pyplot as plt\n",
    "import numpy as np\n",
    "import seaborn as sns\n",
    "import timm\n",
    "import torch\n",
    "\n",
    "# sns.set_theme()\n",
    "\n",
    "%matplotlib widget\n",
    "%load_ext autoreload\n",
    "%autoreload 2"
   ]
  },
  {
   "cell_type": "code",
   "execution_count": 3,
   "id": "sized-jumping",
   "metadata": {},
   "outputs": [
    {
     "data": {
      "text/plain": [
       "<torch._C.Generator at 0x7f01726f8590>"
      ]
     },
     "execution_count": 3,
     "metadata": {},
     "output_type": "execute_result"
    }
   ],
   "source": [
    "use_cuda = torch.cuda.is_available()\n",
    "device = torch.device(\"cuda\" if use_cuda else \"cpu\")\n",
    "\n",
    "torch.manual_seed(42)"
   ]
  },
  {
   "cell_type": "markdown",
   "id": "dangerous-passenger",
   "metadata": {},
   "source": [
    "Need a model that takes a sequence of images as input and chooses two among them for the best exposure fusion result"
   ]
  },
  {
   "cell_type": "code",
   "execution_count": 4,
   "id": "union-stranger",
   "metadata": {},
   "outputs": [],
   "source": [
    "from math import comb\n",
    "\n",
    "import pandas as pd\n",
    "import torchvision as tv\n",
    "from torch.utils.data import DataLoader, Subset, random_split\n",
    "from torchvision import transforms\n",
    "\n",
    "from dhdrnet.dataset import CachingDataset\n",
    "from dhdrnet.fc_train import get_loaders\n",
    "from dhdrnet.free_choice_model import FreeChoiceDHDRNet\n",
    "\n",
    "exposure_vals = [-5, -3, -1, 0, 1, 3, 5]\n",
    "\n",
    "train_file = Path(\"../../precomputed_data/train_current.csv\")\n",
    "train_image_names = pd.read_csv(train_file, squeeze=True, dtype=str).to_list()\n",
    "\n",
    "ds = CachingDataset(\n",
    "    data_dir=Path(\"../../data\"),\n",
    "    image_names=train_image_names,\n",
    "    exposure_values=exposure_vals,\n",
    "    transform=transforms.Compose(\n",
    "        [transforms.ToPILImage(), transforms.Resize((300, 300)), transforms.ToTensor()]\n",
    "    ),\n",
    ")\n",
    "tdl, vdl = get_loaders(ds, 4, trainval_split=0.8)"
   ]
  },
  {
   "cell_type": "code",
   "execution_count": 4,
   "id": "bacterial-contributor",
   "metadata": {},
   "outputs": [
    {
     "ename": "NameError",
     "evalue": "name 'dl' is not defined",
     "output_type": "error",
     "traceback": [
      "\u001b[0;31m---------------------------------------------------------------------------\u001b[0m",
      "\u001b[0;31mNameError\u001b[0m                                 Traceback (most recent call last)",
      "\u001b[0;32m<ipython-input-4-02a0aaca1fcb>\u001b[0m in \u001b[0;36m<module>\u001b[0;34m\u001b[0m\n\u001b[0;32m----> 1\u001b[0;31m \u001b[0;32mfor\u001b[0m \u001b[0mbatch\u001b[0m \u001b[0;32min\u001b[0m \u001b[0mdl\u001b[0m\u001b[0;34m:\u001b[0m\u001b[0;34m\u001b[0m\u001b[0;34m\u001b[0m\u001b[0m\n\u001b[0m\u001b[1;32m      2\u001b[0m     \u001b[0mimages\u001b[0m\u001b[0;34m,\u001b[0m \u001b[0mev_classes\u001b[0m\u001b[0;34m,\u001b[0m \u001b[0mscores\u001b[0m \u001b[0;34m=\u001b[0m \u001b[0mbatch\u001b[0m\u001b[0;34m\u001b[0m\u001b[0;34m\u001b[0m\u001b[0m\n\u001b[1;32m      3\u001b[0m     \u001b[0mprint\u001b[0m\u001b[0;34m(\u001b[0m\u001b[0;34mf\"{images.shape=}\"\u001b[0m\u001b[0;34m)\u001b[0m\u001b[0;34m\u001b[0m\u001b[0;34m\u001b[0m\u001b[0m\n\u001b[1;32m      4\u001b[0m     \u001b[0mprint\u001b[0m\u001b[0;34m(\u001b[0m\u001b[0;34mf\"{ev_classes}\"\u001b[0m\u001b[0;34m)\u001b[0m\u001b[0;34m\u001b[0m\u001b[0;34m\u001b[0m\u001b[0m\n\u001b[1;32m      5\u001b[0m     \u001b[0;32mbreak\u001b[0m\u001b[0;34m\u001b[0m\u001b[0;34m\u001b[0m\u001b[0m\n",
      "\u001b[0;31mNameError\u001b[0m: name 'dl' is not defined"
     ]
    }
   ],
   "source": [
    "for batch in dl:\n",
    "    images, ev_classes, scores = batch\n",
    "    print(f\"{images.shape=}\")\n",
    "    print(f\"{ev_classes}\")\n",
    "    break"
   ]
  },
  {
   "cell_type": "markdown",
   "id": "controversial-reduction",
   "metadata": {},
   "source": [
    "datasets are being processed by the dataloader correctly :)"
   ]
  },
  {
   "cell_type": "code",
   "execution_count": null,
   "id": "instructional-inside",
   "metadata": {},
   "outputs": [],
   "source": [
    "train_ds = Subset(ds, range(20))\n",
    "val_ds = Subset(ds, range(20, 40))"
   ]
  },
  {
   "cell_type": "raw",
   "id": "determined-cameroon",
   "metadata": {
    "tags": []
   },
   "source": [
    "num_classes = comb(len(exposure_vals), 2)\n",
    "model = FreeChoiceDHDRNet(num_classes)\n",
    "fit(\n",
    "    model,\n",
    "    train_ds,\n",
    "    val_ds,\n",
    "    batch_size=10,\n",
    "    num_epochs=10,\n",
    "    exp_name=\"blank_ds\",\n",
    "    logdir=\"../../logs\",\n",
    ")"
   ]
  },
  {
   "cell_type": "code",
   "execution_count": null,
   "id": "recent-nashville",
   "metadata": {},
   "outputs": [],
   "source": [
    "tf = Path(\"../../precomputed_data/test_current.csv\")\n",
    "pd.read_csv(tf, squeeze=True)"
   ]
  },
  {
   "cell_type": "code",
   "execution_count": null,
   "id": "passive-cable",
   "metadata": {},
   "outputs": [],
   "source": [
    "parts = (f.stem.split(\"_\")[-1] for f in Path(\"../../logs/\").glob(\"exp_*\"))\n",
    "max(int(p) for p in parts if p.isdigit())"
   ]
  },
  {
   "cell_type": "code",
   "execution_count": 6,
   "id": "sunset-blake",
   "metadata": {},
   "outputs": [
    {
     "data": {
      "text/plain": [
       "PosixPath('../../logs/exp_14')"
      ]
     },
     "execution_count": 6,
     "metadata": {},
     "output_type": "execute_result"
    }
   ],
   "source": [
    "from dhdrnet.util import evpairs_to_classes, get_valid_exp_path\n",
    "\n",
    "classmapping = evpairs_to_classes(exposure_vals)\n",
    "get_valid_exp_path(Path(\"../../logs\"))"
   ]
  },
  {
   "cell_type": "code",
   "execution_count": 7,
   "id": "filled-density",
   "metadata": {},
   "outputs": [
    {
     "data": {
      "application/vnd.jupyter.widget-view+json": {
       "model_id": "8b4fd71b0be3443288822098b6058919",
       "version_major": 2,
       "version_minor": 0
      },
      "text/plain": [
       "Canvas(toolbar=Toolbar(toolitems=[('Home', 'Reset original view', 'home', 'home'), ('Back', 'Back to previous …"
      ]
     },
     "metadata": {},
     "output_type": "display_data"
    },
    {
     "data": {
      "text/plain": [
       "array([[<AxesSubplot:title={'center':'score'}>,\n",
       "        <AxesSubplot:title={'center':'ev_class'}>]], dtype=object)"
      ]
     },
     "execution_count": 7,
     "metadata": {},
     "output_type": "execute_result"
    }
   ],
   "source": [
    "df = pd.read_json(\"../../data/store/best_evs.json\", lines=True, orient=\"records\")\n",
    "df = df.drop(\"exposure_values\", axis=\"columns\")\n",
    "df[\"evs\"] = df[\"evs\"].apply(tuple)\n",
    "df[\"ev_class\"] = df[\"evs\"].apply(lambda x: classmapping[x])\n",
    "df.hist()"
   ]
  },
  {
   "cell_type": "code",
   "execution_count": 39,
   "id": "similar-needle",
   "metadata": {},
   "outputs": [
    {
     "data": {
      "text/plain": [
       "{(-5, -3): 0,\n",
       " (-5, -1): 1,\n",
       " (-5, 0): 2,\n",
       " (-5, 1): 3,\n",
       " (-5, 3): 4,\n",
       " (-5, 5): 5,\n",
       " (-3, -1): 6,\n",
       " (-3, 0): 7,\n",
       " (-3, 1): 8,\n",
       " (-3, 3): 9,\n",
       " (-3, 5): 10,\n",
       " (-1, 0): 11,\n",
       " (-1, 1): 12,\n",
       " (-1, 3): 13,\n",
       " (-1, 5): 14,\n",
       " (0, 1): 15,\n",
       " (0, 3): 16,\n",
       " (0, 5): 17,\n",
       " (1, 3): 18,\n",
       " (1, 5): 19,\n",
       " (3, 5): 20}"
      ]
     },
     "execution_count": 39,
     "metadata": {},
     "output_type": "execute_result"
    }
   ],
   "source": [
    "classmapping"
   ]
  },
  {
   "cell_type": "code",
   "execution_count": 8,
   "id": "first-facility",
   "metadata": {},
   "outputs": [
    {
     "data": {
      "text/html": [
       "<div>\n",
       "<style scoped>\n",
       "    .dataframe tbody tr th:only-of-type {\n",
       "        vertical-align: middle;\n",
       "    }\n",
       "\n",
       "    .dataframe tbody tr th {\n",
       "        vertical-align: top;\n",
       "    }\n",
       "\n",
       "    .dataframe thead th {\n",
       "        text-align: right;\n",
       "    }\n",
       "</style>\n",
       "<table border=\"1\" class=\"dataframe\">\n",
       "  <thead>\n",
       "    <tr style=\"text-align: right;\">\n",
       "      <th></th>\n",
       "      <th>score</th>\n",
       "      <th>ev_class</th>\n",
       "    </tr>\n",
       "  </thead>\n",
       "  <tbody>\n",
       "    <tr>\n",
       "      <th>count</th>\n",
       "      <td>4000.000000</td>\n",
       "      <td>4000.000000</td>\n",
       "    </tr>\n",
       "    <tr>\n",
       "      <th>mean</th>\n",
       "      <td>25.678320</td>\n",
       "      <td>12.651250</td>\n",
       "    </tr>\n",
       "    <tr>\n",
       "      <th>std</th>\n",
       "      <td>1.923986</td>\n",
       "      <td>4.727442</td>\n",
       "    </tr>\n",
       "    <tr>\n",
       "      <th>min</th>\n",
       "      <td>16.755633</td>\n",
       "      <td>1.000000</td>\n",
       "    </tr>\n",
       "    <tr>\n",
       "      <th>25%</th>\n",
       "      <td>24.451106</td>\n",
       "      <td>12.000000</td>\n",
       "    </tr>\n",
       "    <tr>\n",
       "      <th>50%</th>\n",
       "      <td>25.718093</td>\n",
       "      <td>13.000000</td>\n",
       "    </tr>\n",
       "    <tr>\n",
       "      <th>75%</th>\n",
       "      <td>26.871488</td>\n",
       "      <td>16.000000</td>\n",
       "    </tr>\n",
       "    <tr>\n",
       "      <th>max</th>\n",
       "      <td>35.663063</td>\n",
       "      <td>20.000000</td>\n",
       "    </tr>\n",
       "  </tbody>\n",
       "</table>\n",
       "</div>"
      ],
      "text/plain": [
       "             score     ev_class\n",
       "count  4000.000000  4000.000000\n",
       "mean     25.678320    12.651250\n",
       "std       1.923986     4.727442\n",
       "min      16.755633     1.000000\n",
       "25%      24.451106    12.000000\n",
       "50%      25.718093    13.000000\n",
       "75%      26.871488    16.000000\n",
       "max      35.663063    20.000000"
      ]
     },
     "execution_count": 8,
     "metadata": {},
     "output_type": "execute_result"
    }
   ],
   "source": [
    "df.describe()"
   ]
  },
  {
   "cell_type": "code",
   "execution_count": 12,
   "id": "sunrise-tennessee",
   "metadata": {},
   "outputs": [
    {
     "data": {
      "application/vnd.jupyter.widget-view+json": {
       "model_id": "1cbbc2ef08eb482cac8baadccdde9171",
       "version_major": 2,
       "version_minor": 0
      },
      "text/plain": [
       "Canvas(toolbar=Toolbar(toolitems=[('Home', 'Reset original view', 'home', 'home'), ('Back', 'Back to previous …"
      ]
     },
     "metadata": {},
     "output_type": "display_data"
    },
    {
     "data": {
      "text/plain": [
       "<AxesSubplot:xlabel='ev_class'>"
      ]
     },
     "execution_count": 12,
     "metadata": {},
     "output_type": "execute_result"
    }
   ],
   "source": [
    "df.groupby(\"ev_class\").mean().plot()"
   ]
  },
  {
   "cell_type": "code",
   "execution_count": null,
   "id": "genuine-salvation",
   "metadata": {},
   "outputs": [],
   "source": []
  }
 ],
 "metadata": {
  "kernelspec": {
   "display_name": "dhdrnet",
   "language": "python",
   "name": "dhdrnet"
  },
  "language_info": {
   "codemirror_mode": {
    "name": "ipython",
    "version": 3
   },
   "file_extension": ".py",
   "mimetype": "text/x-python",
   "name": "python",
   "nbconvert_exporter": "python",
   "pygments_lexer": "ipython3",
   "version": "3.8.7"
  }
 },
 "nbformat": 4,
 "nbformat_minor": 5
}
