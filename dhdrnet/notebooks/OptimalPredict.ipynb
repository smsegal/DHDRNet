{
 "cells": [
  {
   "cell_type": "code",
   "execution_count": 15,
   "id": "minute-mentor",
   "metadata": {},
   "outputs": [],
   "source": [
    "import numpy as np\n",
    "import seaborn as sns\n",
    "import timm\n",
    "import torch\n",
    "\n",
    "sns.set_theme()\n",
    "%load_ext autoreload\n",
    "%autoreload 2"
   ]
  },
  {
   "cell_type": "code",
   "execution_count": 16,
   "id": "endangered-cyprus",
   "metadata": {},
   "outputs": [
    {
     "data": {
      "text/plain": [
       "<torch._C.Generator at 0x7f4d6c7de290>"
      ]
     },
     "execution_count": 16,
     "metadata": {},
     "output_type": "execute_result"
    }
   ],
   "source": [
    "use_cuda = torch.cuda.is_available()\n",
    "device = torch.device(\"cuda\" if use_cuda else \"cpu\")\n",
    "\n",
    "torch.manual_seed(42)"
   ]
  },
  {
   "cell_type": "markdown",
   "id": "ethical-calcium",
   "metadata": {},
   "source": [
    "Need a model that takes a sequence of images as input and chooses two among them for the best exposure fusion result"
   ]
  },
  {
   "cell_type": "code",
   "execution_count": 17,
   "id": "transparent-engagement",
   "metadata": {},
   "outputs": [
    {
     "name": "stdout",
     "output_type": "stream",
     "text": [
      "10\n"
     ]
    }
   ],
   "source": [
    "comparator = max\n",
    "best_score = np.nan\n",
    "items = [1, 10, 0.03, 0.2]\n",
    "for item in items:\n",
    "    best_score = comparator(item, best_score)\n",
    "\n",
    "print(best_score)"
   ]
  },
  {
   "cell_type": "code",
   "execution_count": 18,
   "id": "selected-reynolds",
   "metadata": {},
   "outputs": [
    {
     "data": {
      "text/plain": [
       "10"
      ]
     },
     "execution_count": 18,
     "metadata": {},
     "output_type": "execute_result"
    }
   ],
   "source": [
    "best_score"
   ]
  },
  {
   "cell_type": "code",
   "execution_count": 19,
   "id": "functioning-yacht",
   "metadata": {},
   "outputs": [],
   "source": [
    "import pandas as pd"
   ]
  },
  {
   "cell_type": "code",
   "execution_count": 20,
   "id": "incorporate-arrival",
   "metadata": {},
   "outputs": [],
   "source": [
    "import json\n",
    "from pathlib import Path\n",
    "\n",
    "p = Path(\"./teststore.json\")\n",
    "D = dict()\n",
    "for i in range(10):\n",
    "    d = tuple((f\"alalal{i}\", tuple(i + j for j in range(4))))\n",
    "    entry = dict(entry3=i + 1919, entry4=i * i)\n",
    "    D[d] = entry\n",
    "    res = {**dict(entry1=d[0], entry2=d[1]), **entry}\n",
    "    with p.open(\"a\") as s:\n",
    "        json.dump(res, s, separators=(\",\", \":\"))\n",
    "        s.write(\"\\n\")"
   ]
  },
  {
   "cell_type": "code",
   "execution_count": 21,
   "id": "logical-presence",
   "metadata": {},
   "outputs": [],
   "source": [
    "df = pd.read_json(p, lines=True, orient=\"records\", dtype={\"entry2\": list})\n",
    "asdict = df.to_dict(orient=\"records\")"
   ]
  },
  {
   "cell_type": "code",
   "execution_count": 22,
   "id": "initial-sterling",
   "metadata": {},
   "outputs": [
    {
     "data": {
      "text/plain": [
       "{('alalal0', (0, 1, 2, 3)): {'entry3': 1919, 'entry4': 0},\n",
       " ('alalal1', (1, 2, 3, 4)): {'entry3': 1920, 'entry4': 1},\n",
       " ('alalal2', (2, 3, 4, 5)): {'entry3': 1921, 'entry4': 4},\n",
       " ('alalal3', (3, 4, 5, 6)): {'entry3': 1922, 'entry4': 9},\n",
       " ('alalal4', (4, 5, 6, 7)): {'entry3': 1923, 'entry4': 16},\n",
       " ('alalal5', (5, 6, 7, 8)): {'entry3': 1924, 'entry4': 25},\n",
       " ('alalal6', (6, 7, 8, 9)): {'entry3': 1925, 'entry4': 36},\n",
       " ('alalal7', (7, 8, 9, 10)): {'entry3': 1926, 'entry4': 49},\n",
       " ('alalal8', (8, 9, 10, 11)): {'entry3': 1927, 'entry4': 64},\n",
       " ('alalal9', (9, 10, 11, 12)): {'entry3': 1928, 'entry4': 81}}"
      ]
     },
     "execution_count": 22,
     "metadata": {},
     "output_type": "execute_result"
    }
   ],
   "source": [
    "d2 = dict()\n",
    "for row in asdict:\n",
    "    key = tuple((row[\"entry1\"], tuple(row[\"entry2\"])))\n",
    "    d2[key] = {k: row[k] for k in (\"entry3\", \"entry4\")}\n",
    "\n",
    "d2"
   ]
  },
  {
   "cell_type": "code",
   "execution_count": 23,
   "id": "surgical-mouse",
   "metadata": {},
   "outputs": [
    {
     "data": {
      "text/plain": [
       "{('alalal0', (0, 1, 2, 3)): {'entry3': 1919, 'entry4': 0},\n",
       " ('alalal1', (1, 2, 3, 4)): {'entry3': 1920, 'entry4': 1},\n",
       " ('alalal2', (2, 3, 4, 5)): {'entry3': 1921, 'entry4': 4},\n",
       " ('alalal3', (3, 4, 5, 6)): {'entry3': 1922, 'entry4': 9},\n",
       " ('alalal4', (4, 5, 6, 7)): {'entry3': 1923, 'entry4': 16},\n",
       " ('alalal5', (5, 6, 7, 8)): {'entry3': 1924, 'entry4': 25},\n",
       " ('alalal6', (6, 7, 8, 9)): {'entry3': 1925, 'entry4': 36},\n",
       " ('alalal7', (7, 8, 9, 10)): {'entry3': 1926, 'entry4': 49},\n",
       " ('alalal8', (8, 9, 10, 11)): {'entry3': 1927, 'entry4': 64},\n",
       " ('alalal9', (9, 10, 11, 12)): {'entry3': 1928, 'entry4': 81}}"
      ]
     },
     "execution_count": 23,
     "metadata": {},
     "output_type": "execute_result"
    }
   ],
   "source": [
    "D"
   ]
  },
  {
   "cell_type": "code",
   "execution_count": 30,
   "id": "spoken-asian",
   "metadata": {},
   "outputs": [],
   "source": [
    "from dhdrnet.dataset import CachingDataset"
   ]
  },
  {
   "cell_type": "code",
   "execution_count": 31,
   "id": "modified-jones",
   "metadata": {},
   "outputs": [
    {
     "name": "stdout",
     "output_type": "stream",
     "text": [
      "Setting up [LPIPS] perceptual loss: trunk [alex], v[0.1], spatial [off]\n",
      "Loading model from: /home/shane/.cache/pypoetry/virtualenvs/dhdrnet-CxDQYEDG-py3.8/lib/python3.8/site-packages/lpips/weights/v0.1/alex.pth\n"
     ]
    }
   ],
   "source": [
    "ds = CachingDataset(data_dir=Path(\"../../data\"))"
   ]
  },
  {
   "cell_type": "code",
   "execution_count": 32,
   "id": "hungarian-rings",
   "metadata": {},
   "outputs": [
    {
     "data": {
      "text/plain": [
       "{}"
      ]
     },
     "execution_count": 32,
     "metadata": {},
     "output_type": "execute_result"
    }
   ],
   "source": [
    "ds.data_generator.best_evs"
   ]
  },
  {
   "cell_type": "code",
   "execution_count": 44,
   "id": "grave-raleigh",
   "metadata": {},
   "outputs": [
    {
     "data": {
      "text/plain": [
       "((379, 506, 3), {'score': 31.410558923299902, 'evs': (-2, 4)})"
      ]
     },
     "execution_count": 44,
     "metadata": {},
     "output_type": "execute_result"
    }
   ],
   "source": [
    "ims, d = ds[1000]\n",
    "ims[0].shape, d"
   ]
  },
  {
   "cell_type": "code",
   "execution_count": 38,
   "id": "three-exposure",
   "metadata": {},
   "outputs": [
    {
     "data": {
      "text/plain": [
       "'score'"
      ]
     },
     "execution_count": 38,
     "metadata": {},
     "output_type": "execute_result"
    }
   ],
   "source": [
    "score"
   ]
  },
  {
   "cell_type": "code",
   "execution_count": 40,
   "id": "broad-disability",
   "metadata": {},
   "outputs": [
    {
     "data": {
      "text/plain": [
       "{'score': 24.749260146463783, 'evs': (0, 4)}"
      ]
     },
     "execution_count": 40,
     "metadata": {},
     "output_type": "execute_result"
    }
   ],
   "source": [
    "d"
   ]
  },
  {
   "cell_type": "code",
   "execution_count": null,
   "id": "medical-savage",
   "metadata": {},
   "outputs": [],
   "source": []
  }
 ],
 "metadata": {
  "kernelspec": {
   "display_name": "dhdrnet",
   "language": "python",
   "name": "dhdrnet"
  },
  "language_info": {
   "codemirror_mode": {
    "name": "ipython",
    "version": 3
   },
   "file_extension": ".py",
   "mimetype": "text/x-python",
   "name": "python",
   "nbconvert_exporter": "python",
   "pygments_lexer": "ipython3",
   "version": "3.8.7"
  }
 },
 "nbformat": 4,
 "nbformat_minor": 5
}
