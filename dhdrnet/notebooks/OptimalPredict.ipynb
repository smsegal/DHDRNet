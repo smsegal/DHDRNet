{
 "cells": [
  {
   "cell_type": "code",
   "execution_count": 1,
   "id": "operational-professor",
   "metadata": {},
   "outputs": [],
   "source": [
    "from pathlib import Path\n",
    "\n",
    "import matplotlib.pyplot as plt\n",
    "import numpy as np\n",
    "import seaborn as sns\n",
    "import timm\n",
    "import torch\n",
    "\n",
    "# sns.set_theme()\n",
    "\n",
    "%matplotlib widget\n",
    "%load_ext autoreload\n",
    "%autoreload 2"
   ]
  },
  {
   "cell_type": "code",
   "execution_count": 2,
   "id": "immune-chambers",
   "metadata": {},
   "outputs": [
    {
     "data": {
      "text/plain": [
       "<torch._C.Generator at 0x7f5c64e6e5b0>"
      ]
     },
     "execution_count": 2,
     "metadata": {},
     "output_type": "execute_result"
    }
   ],
   "source": [
    "use_cuda = torch.cuda.is_available()\n",
    "device = torch.device(\"cuda\" if use_cuda else \"cpu\")\n",
    "\n",
    "torch.manual_seed(42)"
   ]
  },
  {
   "cell_type": "markdown",
   "id": "premium-egypt",
   "metadata": {},
   "source": [
    "Need a model that takes a sequence of images as input and chooses two among them for the best exposure fusion result"
   ]
  },
  {
   "cell_type": "code",
   "execution_count": 3,
   "id": "accessory-politics",
   "metadata": {},
   "outputs": [],
   "source": [
    "from math import comb\n",
    "\n",
    "import pandas as pd\n",
    "import torchvision as tv\n",
    "from torch.utils.data import DataLoader, Subset, random_split\n",
    "from torchvision import transforms\n",
    "\n",
    "from dhdrnet.dataset import CachingDataset\n",
    "from dhdrnet.free_choice_model import FreeChoiceDHDRNet, fit\n",
    "\n",
    "exposure_vals = [-5, -3, -1, 0, 1, 3, 5]\n",
    "ds = CachingDataset(\n",
    "    data_dir=Path(\"../../data\"),\n",
    "    exposure_values=exposure_vals,\n",
    "    transform=transforms.Compose(\n",
    "        [transforms.ToPILImage(), transforms.Resize((300, 300)), transforms.ToTensor()]\n",
    "    ),\n",
    ")\n",
    "# dl = DataLoader(ds, batch_size=3, shuffle=True, num_workers=12, pin_memory=True)"
   ]
  },
  {
   "cell_type": "code",
   "execution_count": 4,
   "id": "bulgarian-inventory",
   "metadata": {},
   "outputs": [],
   "source": [
    "# for batch in dl:\n",
    "#     images, ev_classes, scores = batch\n",
    "#     print(f\"{images.shape=}\")\n",
    "#     print(f\"{ev_classes}\")\n",
    "#     break"
   ]
  },
  {
   "cell_type": "markdown",
   "id": "ideal-spell",
   "metadata": {},
   "source": [
    "datasets are being processed by the dataloader correctly :)"
   ]
  },
  {
   "cell_type": "code",
   "execution_count": 5,
   "id": "plain-lending",
   "metadata": {},
   "outputs": [],
   "source": [
    "train_ds = Subset(ds, range(20))\n",
    "val_ds = Subset(ds, range(20, 40))"
   ]
  },
  {
   "cell_type": "code",
   "execution_count": 6,
   "id": "hybrid-turkish",
   "metadata": {
    "tags": []
   },
   "outputs": [
    {
     "name": "stderr",
     "output_type": "stream",
     "text": [
      "Epochs:   0%|          | 0/10 [00:00<?, ?it/s]\n",
      "Train:   0%|          | 0/2 [00:00<?, ?it/s]\u001b[A\n",
      "Train:   0%|          | 0/2 [00:28<?, ?it/s, train_loss=3.11, batch_idx=0]\u001b[A\n",
      "\n",
      "Val:   0%|          | 0/1 [00:00<?, ?it/s]\u001b[A\u001b[A\n",
      "\n",
      "Val:   0%|          | 0/1 [04:52<?, ?it/s, val_loss=3.07, batch_idx=0]\u001b[A\u001b[A\n",
      "\n",
      "Val: 100%|██████████| 1/1 [04:52<00:00, 292.33s/it, val_loss=3.07, batch_idx=0]\u001b[A\u001b[A\n",
      "\n",
      "                                                                               \u001b[A\u001b[A\n",
      "Train:  50%|█████     | 1/2 [05:20<05:20, 320.54s/it, train_loss=3.11, batch_idx=0]\u001b[A\n",
      "Train:  50%|█████     | 1/2 [05:21<05:20, 320.54s/it, train_loss=2.82, batch_idx=1]\u001b[A\n",
      "Train: 100%|██████████| 2/2 [05:21<00:00, 132.51s/it, train_loss=2.82, batch_idx=1]\u001b[A\n",
      "Epochs:  10%|█         | 1/10 [05:21<48:13, 321.45s/it, epoch_train_loss=2.96, epoch_duration=321]\n",
      "Train:   0%|          | 0/2 [00:00<?, ?it/s]\u001b[A\n",
      "Train:   0%|          | 0/2 [00:02<?, ?it/s, train_loss=2.53, batch_idx=0]\u001b[A\n",
      "\n",
      "Val:   0%|          | 0/1 [00:00<?, ?it/s]\u001b[A\u001b[A\n",
      "\n",
      "Val:   0%|          | 0/1 [00:03<?, ?it/s, val_loss=3.01, batch_idx=0]\u001b[A\u001b[A\n",
      "\n",
      "Val: 100%|██████████| 1/1 [00:03<00:00,  3.76s/it, val_loss=3.01, batch_idx=0]\u001b[A\u001b[A\n",
      "\n",
      "                                                                              \u001b[A\u001b[A\n",
      "Train:  50%|█████     | 1/2 [00:06<00:06,  6.72s/it, train_loss=2.53, batch_idx=0]\u001b[A\n",
      "Train:  50%|█████     | 1/2 [00:07<00:06,  6.72s/it, train_loss=2.28, batch_idx=1]\u001b[A\n",
      "Train: 100%|██████████| 2/2 [00:07<00:00,  3.26s/it, train_loss=2.28, batch_idx=1]\u001b[A\n",
      "Epochs:  20%|██        | 2/10 [05:29<18:14, 136.85s/it, epoch_train_loss=2.41, epoch_duration=7.61]\n",
      "Train:   0%|          | 0/2 [00:00<?, ?it/s]\u001b[A\n",
      "Train:   0%|          | 0/2 [00:02<?, ?it/s, train_loss=1.97, batch_idx=0]\u001b[A\n",
      "\n",
      "Val:   0%|          | 0/1 [00:00<?, ?it/s]\u001b[A\u001b[A\n",
      "\n",
      "Val:   0%|          | 0/1 [00:03<?, ?it/s, val_loss=2.87, batch_idx=0]\u001b[A\u001b[A\n",
      "\n",
      "Val: 100%|██████████| 1/1 [00:03<00:00,  3.79s/it, val_loss=2.87, batch_idx=0]\u001b[A\u001b[A\n",
      "\n",
      "                                                                              \u001b[A\u001b[A\n",
      "Train:  50%|█████     | 1/2 [00:06<00:06,  6.81s/it, train_loss=1.97, batch_idx=0]\u001b[A\n",
      "Train:  50%|█████     | 1/2 [00:07<00:06,  6.81s/it, train_loss=1.82, batch_idx=1]\u001b[A\n",
      "Train: 100%|██████████| 2/2 [00:07<00:00,  3.29s/it, train_loss=1.82, batch_idx=1]\u001b[A\n",
      "Epochs:  30%|███       | 3/10 [05:36<09:05, 77.88s/it, epoch_train_loss=1.9, epoch_duration=7.71]  \n",
      "Train:   0%|          | 0/2 [00:00<?, ?it/s]\u001b[A\n",
      "Train:   0%|          | 0/2 [00:02<?, ?it/s, train_loss=1.61, batch_idx=0]\u001b[A\n",
      "\n",
      "Val:   0%|          | 0/1 [00:00<?, ?it/s]\u001b[A\u001b[A\n",
      "\n",
      "Val:   0%|          | 0/1 [00:03<?, ?it/s, val_loss=2.71, batch_idx=0]\u001b[A\u001b[A\n",
      "\n",
      "Val: 100%|██████████| 1/1 [00:03<00:00,  3.85s/it, val_loss=2.71, batch_idx=0]\u001b[A\u001b[A\n",
      "\n",
      "                                                                              \u001b[A\u001b[A\n",
      "Train:  50%|█████     | 1/2 [00:06<00:06,  6.70s/it, train_loss=1.61, batch_idx=0]\u001b[A\n",
      "Train:  50%|█████     | 1/2 [00:07<00:06,  6.70s/it, train_loss=1.44, batch_idx=1]\u001b[A\n",
      "Train: 100%|██████████| 2/2 [00:07<00:00,  3.29s/it, train_loss=1.44, batch_idx=1]\u001b[A\n",
      "Epochs:  40%|████      | 4/10 [05:44<05:01, 50.17s/it, epoch_train_loss=1.53, epoch_duration=7.67]\n",
      "Train:   0%|          | 0/2 [00:00<?, ?it/s]\u001b[A\n",
      "Train:   0%|          | 0/2 [00:02<?, ?it/s, train_loss=1.38, batch_idx=0]\u001b[A\n",
      "\n",
      "Val:   0%|          | 0/1 [00:00<?, ?it/s]\u001b[A\u001b[A\n",
      "\n",
      "Val:   0%|          | 0/1 [00:03<?, ?it/s, val_loss=2.62, batch_idx=0]\u001b[A\u001b[A\n",
      "\n",
      "Val: 100%|██████████| 1/1 [00:03<00:00,  3.83s/it, val_loss=2.62, batch_idx=0]\u001b[A\u001b[A\n",
      "\n",
      "                                                                              \u001b[A\u001b[A\n",
      "Train:  50%|█████     | 1/2 [00:06<00:06,  6.77s/it, train_loss=1.38, batch_idx=0]\u001b[A\n",
      "Train:  50%|█████     | 1/2 [00:07<00:06,  6.77s/it, train_loss=1.15, batch_idx=1]\u001b[A\n",
      "Train: 100%|██████████| 2/2 [00:07<00:00,  3.27s/it, train_loss=1.15, batch_idx=1]\u001b[A\n",
      "Epochs:  50%|█████     | 5/10 [05:52<02:54, 34.85s/it, epoch_train_loss=1.26, epoch_duration=7.66]\n",
      "Train:   0%|          | 0/2 [00:00<?, ?it/s]\u001b[A\n",
      "Train:   0%|          | 0/2 [00:02<?, ?it/s, train_loss=1.15, batch_idx=0]\u001b[A\n",
      "\n",
      "Val:   0%|          | 0/1 [00:00<?, ?it/s]\u001b[A\u001b[A\n",
      "\n",
      "Val:   0%|          | 0/1 [00:03<?, ?it/s, val_loss=2.48, batch_idx=0]\u001b[A\u001b[A\n",
      "\n",
      "Val: 100%|██████████| 1/1 [00:03<00:00,  3.77s/it, val_loss=2.48, batch_idx=0]\u001b[A\u001b[A\n",
      "\n",
      "                                                                              \u001b[A\u001b[A\n",
      "Train:  50%|█████     | 1/2 [00:06<00:06,  6.76s/it, train_loss=1.15, batch_idx=0]\u001b[A\n",
      "Train:  50%|█████     | 1/2 [00:07<00:06,  6.76s/it, train_loss=1.11, batch_idx=1]\u001b[A\n",
      "Train: 100%|██████████| 2/2 [00:07<00:00,  3.27s/it, train_loss=1.11, batch_idx=1]\u001b[A\n",
      "Epochs:  60%|██████    | 6/10 [05:59<01:42, 25.61s/it, epoch_train_loss=1.13, epoch_duration=7.66]\n",
      "Train:   0%|          | 0/2 [00:00<?, ?it/s]\u001b[A\n",
      "Train:   0%|          | 0/2 [00:02<?, ?it/s, train_loss=0.989, batch_idx=0]\u001b[A\n",
      "\n",
      "Val:   0%|          | 0/1 [00:00<?, ?it/s]\u001b[A\u001b[A\n",
      "\n",
      "Val:   0%|          | 0/1 [00:03<?, ?it/s, val_loss=2.28, batch_idx=0]\u001b[A\u001b[A\n",
      "\n",
      "Val: 100%|██████████| 1/1 [00:03<00:00,  3.91s/it, val_loss=2.28, batch_idx=0]\u001b[A\u001b[A\n",
      "\n",
      "                                                                              \u001b[A\u001b[A\n",
      "Train:  50%|█████     | 1/2 [00:06<00:06,  6.81s/it, train_loss=0.989, batch_idx=0]\u001b[A\n",
      "Train:  50%|█████     | 1/2 [00:07<00:06,  6.81s/it, train_loss=0.9, batch_idx=1]  \u001b[A\n",
      "Train: 100%|██████████| 2/2 [00:07<00:00,  3.29s/it, train_loss=0.9, batch_idx=1]\u001b[A\n",
      "Epochs:  70%|███████   | 7/10 [06:07<00:59, 19.75s/it, epoch_train_loss=0.945, epoch_duration=7.7]\n",
      "Train:   0%|          | 0/2 [00:00<?, ?it/s]\u001b[A\n",
      "Train:   0%|          | 0/2 [00:02<?, ?it/s, train_loss=0.803, batch_idx=0]\u001b[A\n",
      "\n",
      "Val:   0%|          | 0/1 [00:00<?, ?it/s]\u001b[A\u001b[A\n",
      "\n",
      "Val:   0%|          | 0/1 [00:03<?, ?it/s, val_loss=2.15, batch_idx=0]\u001b[A\u001b[A\n",
      "\n",
      "Val: 100%|██████████| 1/1 [00:03<00:00,  3.84s/it, val_loss=2.15, batch_idx=0]\u001b[A\u001b[A\n",
      "\n",
      "                                                                              \u001b[A\u001b[A\n",
      "Train:  50%|█████     | 1/2 [00:06<00:06,  6.83s/it, train_loss=0.803, batch_idx=0]\u001b[A\n",
      "Train:  50%|█████     | 1/2 [00:07<00:06,  6.83s/it, train_loss=0.971, batch_idx=1]\u001b[A\n",
      "Train: 100%|██████████| 2/2 [00:07<00:00,  3.36s/it, train_loss=0.971, batch_idx=1]\u001b[A\n",
      "Epochs:  80%|████████  | 8/10 [06:15<00:31, 15.96s/it, epoch_train_loss=0.887, epoch_duration=7.83]\n",
      "Train:   0%|          | 0/2 [00:00<?, ?it/s]\u001b[A\n",
      "Train:   0%|          | 0/2 [00:02<?, ?it/s, train_loss=0.726, batch_idx=0]\u001b[A\n",
      "\n",
      "Val:   0%|          | 0/1 [00:00<?, ?it/s]\u001b[A\u001b[A\n",
      "\n",
      "Val:   0%|          | 0/1 [00:03<?, ?it/s, val_loss=2.13, batch_idx=0]\u001b[A\u001b[A\n",
      "\n",
      "Val: 100%|██████████| 1/1 [00:03<00:00,  3.81s/it, val_loss=2.13, batch_idx=0]\u001b[A\u001b[A\n",
      "\n",
      "                                                                              \u001b[A\u001b[A\n",
      "Train:  50%|█████     | 1/2 [00:06<00:06,  6.85s/it, train_loss=0.726, batch_idx=0]\u001b[A\n",
      "Train:  50%|█████     | 1/2 [00:07<00:06,  6.85s/it, train_loss=0.954, batch_idx=1]\u001b[A\n",
      "Train: 100%|██████████| 2/2 [00:07<00:00,  3.34s/it, train_loss=0.954, batch_idx=1]\u001b[A\n",
      "Epochs:  90%|█████████ | 9/10 [06:23<00:13, 13.41s/it, epoch_train_loss=0.84, epoch_duration=7.8]  \n",
      "Train:   0%|          | 0/2 [00:00<?, ?it/s]\u001b[A\n",
      "Train:   0%|          | 0/2 [00:02<?, ?it/s, train_loss=0.779, batch_idx=0]\u001b[A\n",
      "\n",
      "Val:   0%|          | 0/1 [00:00<?, ?it/s]\u001b[A\u001b[A\n",
      "\n",
      "Val:   0%|          | 0/1 [00:03<?, ?it/s, val_loss=2.13, batch_idx=0]\u001b[A\u001b[A\n",
      "\n",
      "Val: 100%|██████████| 1/1 [00:03<00:00,  3.79s/it, val_loss=2.13, batch_idx=0]\u001b[A\u001b[A\n",
      "\n",
      "                                                                              \u001b[A\u001b[A\n",
      "Train:  50%|█████     | 1/2 [00:06<00:06,  6.81s/it, train_loss=0.779, batch_idx=0]\u001b[A\n",
      "Train:  50%|█████     | 1/2 [00:07<00:06,  6.81s/it, train_loss=0.69, batch_idx=1] \u001b[A\n",
      "Train: 100%|██████████| 2/2 [00:07<00:00,  3.30s/it, train_loss=0.69, batch_idx=1]\u001b[A\n",
      "Epochs: 100%|██████████| 10/10 [06:30<00:00, 39.09s/it, epoch_train_loss=0.735, epoch_duration=7.73]\n"
     ]
    }
   ],
   "source": [
    "num_classes = comb(len(exposure_vals), 2)\n",
    "model = FreeChoiceDHDRNet(num_classes)\n",
    "fit(\n",
    "    model,\n",
    "    train_ds,\n",
    "    val_ds,\n",
    "    batch_size=10,\n",
    "    num_epochs=10,\n",
    "    exp_name=4,\n",
    "    logdir=\"../../logs\",\n",
    ")"
   ]
  },
  {
   "cell_type": "code",
   "execution_count": null,
   "id": "offensive-sword",
   "metadata": {},
   "outputs": [],
   "source": []
  }
 ],
 "metadata": {
  "kernelspec": {
   "display_name": "dhdrnet",
   "language": "python",
   "name": "dhdrnet"
  },
  "language_info": {
   "codemirror_mode": {
    "name": "ipython",
    "version": 3
   },
   "file_extension": ".py",
   "mimetype": "text/x-python",
   "name": "python",
   "nbconvert_exporter": "python",
   "pygments_lexer": "ipython3",
   "version": "3.8.7"
  }
 },
 "nbformat": 4,
 "nbformat_minor": 5
}
