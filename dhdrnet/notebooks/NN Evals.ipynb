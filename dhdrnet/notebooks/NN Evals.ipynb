{
 "cells": [
  {
   "cell_type": "code",
   "execution_count": 1,
   "metadata": {
    "tags": []
   },
   "outputs": [
    {
     "name": "stdout",
     "output_type": "stream",
     "text": [
      "The autoreload extension is already loaded. To reload it, use:\n",
      "  %reload_ext autoreload\n",
      "/home/shane/Development/DHDRNet/data\n"
     ]
    }
   ],
   "source": [
    "import pandas as pd\n",
    "import numpy as np\n",
    "import matplotlib.pyplot as plt\n",
    "\n",
    "%matplotlib inline\n",
    "%load_ext autoreload\n",
    "%autoreload 2\n",
    "from dhdrnet.util import DATA_DIR, ROOT_DIR\n",
    "\n",
    "MODEL_DIR = ROOT_DIR / \"checkpoints\"\n",
    "print(DATA_DIR)\n"
   ]
  },
  {
   "cell_type": "code",
   "execution_count": 5,
   "metadata": {},
   "outputs": [
    {
     "ename": "DataError",
     "evalue": "No numeric types to aggregate",
     "output_type": "error",
     "traceback": [
      "\u001b[0;31m---------------------------------------------------------------------------\u001b[0m",
      "\u001b[0;31mDataError\u001b[0m                                 Traceback (most recent call last)",
      "\u001b[0;32m<ipython-input-5-a980840f1f66>\u001b[0m in \u001b[0;36m<module>\u001b[0;34m\u001b[0m\n\u001b[1;32m      7\u001b[0m )\n\u001b[1;32m      8\u001b[0m \u001b[0;34m\u001b[0m\u001b[0m\n\u001b[0;32m----> 9\u001b[0;31m test_data = RCDataset(\n\u001b[0m\u001b[1;32m     10\u001b[0m     \u001b[0mdf\u001b[0m\u001b[0;34m=\u001b[0m\u001b[0mpd\u001b[0m\u001b[0;34m.\u001b[0m\u001b[0mread_csv\u001b[0m\u001b[0;34m(\u001b[0m\u001b[0mROOT_DIR\u001b[0m \u001b[0;34m/\u001b[0m \u001b[0;34m\"precomputed_data\"\u001b[0m \u001b[0;34m/\u001b[0m \u001b[0;34m\"store_current.csv\"\u001b[0m\u001b[0;34m)\u001b[0m\u001b[0;34m,\u001b[0m\u001b[0;34m\u001b[0m\u001b[0;34m\u001b[0m\u001b[0m\n\u001b[1;32m     11\u001b[0m     \u001b[0mexposure_path\u001b[0m\u001b[0;34m=\u001b[0m\u001b[0mDATA_DIR\u001b[0m \u001b[0;34m/\u001b[0m \u001b[0;34m\"correct_exposures\"\u001b[0m \u001b[0;34m/\u001b[0m \u001b[0;34m\"exposures\"\u001b[0m\u001b[0;34m,\u001b[0m\u001b[0;34m\u001b[0m\u001b[0;34m\u001b[0m\u001b[0m\n",
      "\u001b[0;32m~/Development/DHDRNet/dhdrnet/Dataset.py\u001b[0m in \u001b[0;36m__init__\u001b[0;34m(self, df, exposure_path, raw_dir, name_list, transform, metric)\u001b[0m\n\u001b[1;32m     35\u001b[0m         \u001b[0mbaseline_df\u001b[0m \u001b[0;34m=\u001b[0m \u001b[0mbaseline_df\u001b[0m\u001b[0;34m.\u001b[0m\u001b[0mdrop\u001b[0m\u001b[0;34m(\u001b[0m\u001b[0mcolumns\u001b[0m\u001b[0;34m=\u001b[0m\u001b[0;34m[\u001b[0m\u001b[0;34m\"ev1\"\u001b[0m\u001b[0;34m,\u001b[0m \u001b[0;34m\"ev2\"\u001b[0m\u001b[0;34m]\u001b[0m\u001b[0;34m)\u001b[0m\u001b[0;34m\u001b[0m\u001b[0;34m\u001b[0m\u001b[0m\n\u001b[1;32m     36\u001b[0m \u001b[0;34m\u001b[0m\u001b[0m\n\u001b[0;32m---> 37\u001b[0;31m         by_ev = baseline_df.pivot_table(\n\u001b[0m\u001b[1;32m     38\u001b[0m             \u001b[0mindex\u001b[0m\u001b[0;34m=\u001b[0m\u001b[0;34m\"name\"\u001b[0m\u001b[0;34m,\u001b[0m \u001b[0mcolumns\u001b[0m\u001b[0;34m=\u001b[0m\u001b[0;34m[\u001b[0m\u001b[0;34m\"metric\"\u001b[0m\u001b[0;34m,\u001b[0m \u001b[0;34m\"ev\"\u001b[0m\u001b[0;34m]\u001b[0m\u001b[0;34m,\u001b[0m \u001b[0mvalues\u001b[0m\u001b[0;34m=\u001b[0m\u001b[0;34m\"score\"\u001b[0m\u001b[0;34m\u001b[0m\u001b[0;34m\u001b[0m\u001b[0m\n\u001b[1;32m     39\u001b[0m         )\n",
      "\u001b[0;32m~/.cache/pypoetry/virtualenvs/dhdrnet-md5k9ngR-py3.8/lib/python3.8/site-packages/pandas/core/frame.py\u001b[0m in \u001b[0;36mpivot_table\u001b[0;34m(self, values, index, columns, aggfunc, fill_value, margins, dropna, margins_name, observed)\u001b[0m\n\u001b[1;32m   6819\u001b[0m         \u001b[0;32mfrom\u001b[0m \u001b[0mpandas\u001b[0m\u001b[0;34m.\u001b[0m\u001b[0mcore\u001b[0m\u001b[0;34m.\u001b[0m\u001b[0mreshape\u001b[0m\u001b[0;34m.\u001b[0m\u001b[0mpivot\u001b[0m \u001b[0;32mimport\u001b[0m \u001b[0mpivot_table\u001b[0m\u001b[0;34m\u001b[0m\u001b[0;34m\u001b[0m\u001b[0m\n\u001b[1;32m   6820\u001b[0m \u001b[0;34m\u001b[0m\u001b[0m\n\u001b[0;32m-> 6821\u001b[0;31m         return pivot_table(\n\u001b[0m\u001b[1;32m   6822\u001b[0m             \u001b[0mself\u001b[0m\u001b[0;34m,\u001b[0m\u001b[0;34m\u001b[0m\u001b[0;34m\u001b[0m\u001b[0m\n\u001b[1;32m   6823\u001b[0m             \u001b[0mvalues\u001b[0m\u001b[0;34m=\u001b[0m\u001b[0mvalues\u001b[0m\u001b[0;34m,\u001b[0m\u001b[0;34m\u001b[0m\u001b[0;34m\u001b[0m\u001b[0m\n",
      "\u001b[0;32m~/.cache/pypoetry/virtualenvs/dhdrnet-md5k9ngR-py3.8/lib/python3.8/site-packages/pandas/core/reshape/pivot.py\u001b[0m in \u001b[0;36mpivot_table\u001b[0;34m(data, values, index, columns, aggfunc, fill_value, margins, dropna, margins_name, observed)\u001b[0m\n\u001b[1;32m    110\u001b[0m \u001b[0;34m\u001b[0m\u001b[0m\n\u001b[1;32m    111\u001b[0m     \u001b[0mgrouped\u001b[0m \u001b[0;34m=\u001b[0m \u001b[0mdata\u001b[0m\u001b[0;34m.\u001b[0m\u001b[0mgroupby\u001b[0m\u001b[0;34m(\u001b[0m\u001b[0mkeys\u001b[0m\u001b[0;34m,\u001b[0m \u001b[0mobserved\u001b[0m\u001b[0;34m=\u001b[0m\u001b[0mobserved\u001b[0m\u001b[0;34m)\u001b[0m\u001b[0;34m\u001b[0m\u001b[0;34m\u001b[0m\u001b[0m\n\u001b[0;32m--> 112\u001b[0;31m     \u001b[0magged\u001b[0m \u001b[0;34m=\u001b[0m \u001b[0mgrouped\u001b[0m\u001b[0;34m.\u001b[0m\u001b[0magg\u001b[0m\u001b[0;34m(\u001b[0m\u001b[0maggfunc\u001b[0m\u001b[0;34m)\u001b[0m\u001b[0;34m\u001b[0m\u001b[0;34m\u001b[0m\u001b[0m\n\u001b[0m\u001b[1;32m    113\u001b[0m     \u001b[0;32mif\u001b[0m \u001b[0mdropna\u001b[0m \u001b[0;32mand\u001b[0m \u001b[0misinstance\u001b[0m\u001b[0;34m(\u001b[0m\u001b[0magged\u001b[0m\u001b[0;34m,\u001b[0m \u001b[0mABCDataFrame\u001b[0m\u001b[0;34m)\u001b[0m \u001b[0;32mand\u001b[0m \u001b[0mlen\u001b[0m\u001b[0;34m(\u001b[0m\u001b[0magged\u001b[0m\u001b[0;34m.\u001b[0m\u001b[0mcolumns\u001b[0m\u001b[0;34m)\u001b[0m\u001b[0;34m:\u001b[0m\u001b[0;34m\u001b[0m\u001b[0;34m\u001b[0m\u001b[0m\n\u001b[1;32m    114\u001b[0m         \u001b[0magged\u001b[0m \u001b[0;34m=\u001b[0m \u001b[0magged\u001b[0m\u001b[0;34m.\u001b[0m\u001b[0mdropna\u001b[0m\u001b[0;34m(\u001b[0m\u001b[0mhow\u001b[0m\u001b[0;34m=\u001b[0m\u001b[0;34m\"all\"\u001b[0m\u001b[0;34m)\u001b[0m\u001b[0;34m\u001b[0m\u001b[0;34m\u001b[0m\u001b[0m\n",
      "\u001b[0;32m~/.cache/pypoetry/virtualenvs/dhdrnet-md5k9ngR-py3.8/lib/python3.8/site-packages/pandas/core/groupby/generic.py\u001b[0m in \u001b[0;36maggregate\u001b[0;34m(self, func, engine, engine_kwargs, *args, **kwargs)\u001b[0m\n\u001b[1;32m    947\u001b[0m             )\n\u001b[1;32m    948\u001b[0m \u001b[0;34m\u001b[0m\u001b[0m\n\u001b[0;32m--> 949\u001b[0;31m         \u001b[0mresult\u001b[0m\u001b[0;34m,\u001b[0m \u001b[0mhow\u001b[0m \u001b[0;34m=\u001b[0m \u001b[0mself\u001b[0m\u001b[0;34m.\u001b[0m\u001b[0m_aggregate\u001b[0m\u001b[0;34m(\u001b[0m\u001b[0mfunc\u001b[0m\u001b[0;34m,\u001b[0m \u001b[0;34m*\u001b[0m\u001b[0margs\u001b[0m\u001b[0;34m,\u001b[0m \u001b[0;34m**\u001b[0m\u001b[0mkwargs\u001b[0m\u001b[0;34m)\u001b[0m\u001b[0;34m\u001b[0m\u001b[0;34m\u001b[0m\u001b[0m\n\u001b[0m\u001b[1;32m    950\u001b[0m         \u001b[0;32mif\u001b[0m \u001b[0mhow\u001b[0m \u001b[0;32mis\u001b[0m \u001b[0;32mNone\u001b[0m\u001b[0;34m:\u001b[0m\u001b[0;34m\u001b[0m\u001b[0;34m\u001b[0m\u001b[0m\n\u001b[1;32m    951\u001b[0m             \u001b[0;32mreturn\u001b[0m \u001b[0mresult\u001b[0m\u001b[0;34m\u001b[0m\u001b[0;34m\u001b[0m\u001b[0m\n",
      "\u001b[0;32m~/.cache/pypoetry/virtualenvs/dhdrnet-md5k9ngR-py3.8/lib/python3.8/site-packages/pandas/core/base.py\u001b[0m in \u001b[0;36m_aggregate\u001b[0;34m(self, arg, *args, **kwargs)\u001b[0m\n\u001b[1;32m    305\u001b[0m \u001b[0;34m\u001b[0m\u001b[0m\n\u001b[1;32m    306\u001b[0m         \u001b[0;32mif\u001b[0m \u001b[0misinstance\u001b[0m\u001b[0;34m(\u001b[0m\u001b[0marg\u001b[0m\u001b[0;34m,\u001b[0m \u001b[0mstr\u001b[0m\u001b[0;34m)\u001b[0m\u001b[0;34m:\u001b[0m\u001b[0;34m\u001b[0m\u001b[0;34m\u001b[0m\u001b[0m\n\u001b[0;32m--> 307\u001b[0;31m             \u001b[0;32mreturn\u001b[0m \u001b[0mself\u001b[0m\u001b[0;34m.\u001b[0m\u001b[0m_try_aggregate_string_function\u001b[0m\u001b[0;34m(\u001b[0m\u001b[0marg\u001b[0m\u001b[0;34m,\u001b[0m \u001b[0;34m*\u001b[0m\u001b[0margs\u001b[0m\u001b[0;34m,\u001b[0m \u001b[0;34m**\u001b[0m\u001b[0mkwargs\u001b[0m\u001b[0;34m)\u001b[0m\u001b[0;34m,\u001b[0m \u001b[0;32mNone\u001b[0m\u001b[0;34m\u001b[0m\u001b[0;34m\u001b[0m\u001b[0m\n\u001b[0m\u001b[1;32m    308\u001b[0m \u001b[0;34m\u001b[0m\u001b[0m\n\u001b[1;32m    309\u001b[0m         \u001b[0;32mif\u001b[0m \u001b[0misinstance\u001b[0m\u001b[0;34m(\u001b[0m\u001b[0marg\u001b[0m\u001b[0;34m,\u001b[0m \u001b[0mdict\u001b[0m\u001b[0;34m)\u001b[0m\u001b[0;34m:\u001b[0m\u001b[0;34m\u001b[0m\u001b[0;34m\u001b[0m\u001b[0m\n",
      "\u001b[0;32m~/.cache/pypoetry/virtualenvs/dhdrnet-md5k9ngR-py3.8/lib/python3.8/site-packages/pandas/core/base.py\u001b[0m in \u001b[0;36m_try_aggregate_string_function\u001b[0;34m(self, arg, *args, **kwargs)\u001b[0m\n\u001b[1;32m    261\u001b[0m         \u001b[0;32mif\u001b[0m \u001b[0mf\u001b[0m \u001b[0;32mis\u001b[0m \u001b[0;32mnot\u001b[0m \u001b[0;32mNone\u001b[0m\u001b[0;34m:\u001b[0m\u001b[0;34m\u001b[0m\u001b[0;34m\u001b[0m\u001b[0m\n\u001b[1;32m    262\u001b[0m             \u001b[0;32mif\u001b[0m \u001b[0mcallable\u001b[0m\u001b[0;34m(\u001b[0m\u001b[0mf\u001b[0m\u001b[0;34m)\u001b[0m\u001b[0;34m:\u001b[0m\u001b[0;34m\u001b[0m\u001b[0;34m\u001b[0m\u001b[0m\n\u001b[0;32m--> 263\u001b[0;31m                 \u001b[0;32mreturn\u001b[0m \u001b[0mf\u001b[0m\u001b[0;34m(\u001b[0m\u001b[0;34m*\u001b[0m\u001b[0margs\u001b[0m\u001b[0;34m,\u001b[0m \u001b[0;34m**\u001b[0m\u001b[0mkwargs\u001b[0m\u001b[0;34m)\u001b[0m\u001b[0;34m\u001b[0m\u001b[0;34m\u001b[0m\u001b[0m\n\u001b[0m\u001b[1;32m    264\u001b[0m \u001b[0;34m\u001b[0m\u001b[0m\n\u001b[1;32m    265\u001b[0m             \u001b[0;31m# people may try to aggregate on a non-callable attribute\u001b[0m\u001b[0;34m\u001b[0m\u001b[0;34m\u001b[0m\u001b[0;34m\u001b[0m\u001b[0m\n",
      "\u001b[0;32m~/.cache/pypoetry/virtualenvs/dhdrnet-md5k9ngR-py3.8/lib/python3.8/site-packages/pandas/core/groupby/groupby.py\u001b[0m in \u001b[0;36mmean\u001b[0;34m(self, numeric_only)\u001b[0m\n\u001b[1;32m   1391\u001b[0m         \u001b[0mName\u001b[0m\u001b[0;34m:\u001b[0m \u001b[0mB\u001b[0m\u001b[0;34m,\u001b[0m \u001b[0mdtype\u001b[0m\u001b[0;34m:\u001b[0m \u001b[0mfloat64\u001b[0m\u001b[0;34m\u001b[0m\u001b[0;34m\u001b[0m\u001b[0m\n\u001b[1;32m   1392\u001b[0m         \"\"\"\n\u001b[0;32m-> 1393\u001b[0;31m         return self._cython_agg_general(\n\u001b[0m\u001b[1;32m   1394\u001b[0m             \u001b[0;34m\"mean\"\u001b[0m\u001b[0;34m,\u001b[0m\u001b[0;34m\u001b[0m\u001b[0;34m\u001b[0m\u001b[0m\n\u001b[1;32m   1395\u001b[0m             \u001b[0malt\u001b[0m\u001b[0;34m=\u001b[0m\u001b[0;32mlambda\u001b[0m \u001b[0mx\u001b[0m\u001b[0;34m,\u001b[0m \u001b[0maxis\u001b[0m\u001b[0;34m:\u001b[0m \u001b[0mSeries\u001b[0m\u001b[0;34m(\u001b[0m\u001b[0mx\u001b[0m\u001b[0;34m)\u001b[0m\u001b[0;34m.\u001b[0m\u001b[0mmean\u001b[0m\u001b[0;34m(\u001b[0m\u001b[0mnumeric_only\u001b[0m\u001b[0;34m=\u001b[0m\u001b[0mnumeric_only\u001b[0m\u001b[0;34m)\u001b[0m\u001b[0;34m,\u001b[0m\u001b[0;34m\u001b[0m\u001b[0;34m\u001b[0m\u001b[0m\n",
      "\u001b[0;32m~/.cache/pypoetry/virtualenvs/dhdrnet-md5k9ngR-py3.8/lib/python3.8/site-packages/pandas/core/groupby/generic.py\u001b[0m in \u001b[0;36m_cython_agg_general\u001b[0;34m(self, how, alt, numeric_only, min_count)\u001b[0m\n\u001b[1;32m   1017\u001b[0m         \u001b[0mself\u001b[0m\u001b[0;34m,\u001b[0m \u001b[0mhow\u001b[0m\u001b[0;34m:\u001b[0m \u001b[0mstr\u001b[0m\u001b[0;34m,\u001b[0m \u001b[0malt\u001b[0m\u001b[0;34m=\u001b[0m\u001b[0;32mNone\u001b[0m\u001b[0;34m,\u001b[0m \u001b[0mnumeric_only\u001b[0m\u001b[0;34m:\u001b[0m \u001b[0mbool\u001b[0m \u001b[0;34m=\u001b[0m \u001b[0;32mTrue\u001b[0m\u001b[0;34m,\u001b[0m \u001b[0mmin_count\u001b[0m\u001b[0;34m:\u001b[0m \u001b[0mint\u001b[0m \u001b[0;34m=\u001b[0m \u001b[0;34m-\u001b[0m\u001b[0;36m1\u001b[0m\u001b[0;34m\u001b[0m\u001b[0;34m\u001b[0m\u001b[0m\n\u001b[1;32m   1018\u001b[0m     ) -> DataFrame:\n\u001b[0;32m-> 1019\u001b[0;31m         agg_blocks, agg_items = self._cython_agg_blocks(\n\u001b[0m\u001b[1;32m   1020\u001b[0m             \u001b[0mhow\u001b[0m\u001b[0;34m,\u001b[0m \u001b[0malt\u001b[0m\u001b[0;34m=\u001b[0m\u001b[0malt\u001b[0m\u001b[0;34m,\u001b[0m \u001b[0mnumeric_only\u001b[0m\u001b[0;34m=\u001b[0m\u001b[0mnumeric_only\u001b[0m\u001b[0;34m,\u001b[0m \u001b[0mmin_count\u001b[0m\u001b[0;34m=\u001b[0m\u001b[0mmin_count\u001b[0m\u001b[0;34m\u001b[0m\u001b[0;34m\u001b[0m\u001b[0m\n\u001b[1;32m   1021\u001b[0m         )\n",
      "\u001b[0;32m~/.cache/pypoetry/virtualenvs/dhdrnet-md5k9ngR-py3.8/lib/python3.8/site-packages/pandas/core/groupby/generic.py\u001b[0m in \u001b[0;36m_cython_agg_blocks\u001b[0;34m(self, how, alt, numeric_only, min_count)\u001b[0m\n\u001b[1;32m   1126\u001b[0m \u001b[0;34m\u001b[0m\u001b[0m\n\u001b[1;32m   1127\u001b[0m         \u001b[0;32mif\u001b[0m \u001b[0;32mnot\u001b[0m \u001b[0;34m(\u001b[0m\u001b[0magg_blocks\u001b[0m \u001b[0;32mor\u001b[0m \u001b[0msplit_frames\u001b[0m\u001b[0;34m)\u001b[0m\u001b[0;34m:\u001b[0m\u001b[0;34m\u001b[0m\u001b[0;34m\u001b[0m\u001b[0m\n\u001b[0;32m-> 1128\u001b[0;31m             \u001b[0;32mraise\u001b[0m \u001b[0mDataError\u001b[0m\u001b[0;34m(\u001b[0m\u001b[0;34m\"No numeric types to aggregate\"\u001b[0m\u001b[0;34m)\u001b[0m\u001b[0;34m\u001b[0m\u001b[0;34m\u001b[0m\u001b[0m\n\u001b[0m\u001b[1;32m   1129\u001b[0m \u001b[0;34m\u001b[0m\u001b[0m\n\u001b[1;32m   1130\u001b[0m         \u001b[0;32mif\u001b[0m \u001b[0msplit_items\u001b[0m\u001b[0;34m:\u001b[0m\u001b[0;34m\u001b[0m\u001b[0;34m\u001b[0m\u001b[0m\n",
      "\u001b[0;31mDataError\u001b[0m: No numeric types to aggregate"
     ]
    }
   ],
   "source": [
    "from dhdrnet.Dataset import RCDataset\n",
    "\n",
    "from torchvision.transforms import (\n",
    "    Compose,\n",
    "    Resize,\n",
    "    ToTensor,\n",
    ")\n",
    "\n",
    "test_data = RCDataset(\n",
    "    df=pd.read_csv(ROOT_DIR / \"precomputed_data\" / \"store_current.csv\"),\n",
    "    exposure_path=DATA_DIR / \"correct_exposures\" / \"exposures\",\n",
    "    raw_dir=DATA_DIR / \"dngs\",\n",
    "    name_list=ROOT_DIR / \"precomputed_data\" / \"test_current.csv\",\n",
    "    transform=Compose([Resize((300, 300)), ToTensor()]),\n",
    "    metric=\"rmse\"\n",
    ")\n",
    "test_data.data\n"
   ]
  },
  {
   "cell_type": "code",
   "execution_count": null,
   "metadata": {},
   "outputs": [],
   "source": [
    "import torch.nn.functional as F\n",
    "import torch\n",
    "\n",
    "errors = test_data.data[\"mse\"]\n",
    "err_t = torch.tensor(errors.to_numpy())\n",
    "emax, _ = err_t.max(dim=1, keepdim=True)\n",
    "emin, _ = err_t.min(dim=1, keepdim=True)\n",
    "# err_norm = (err_t - emin) / (emax - emin)\n",
    "# print(emax.shape)\n",
    "# print(err_t.shape)\n",
    "err_inv = emax - err_t\n",
    "error_probabilities = (err_inv / err_inv.sum(dim=1, keepdim=True)).numpy()\n",
    "\n",
    "err_df = pd.DataFrame(error_probabilities, index=errors.index, columns=errors.columns)\n",
    "err_df = pd.concat([err_df, errors], keys=(\"prob\", \"mse\"))\n",
    "err_df\n"
   ]
  },
  {
   "cell_type": "code",
   "execution_count": null,
   "metadata": {},
   "outputs": [],
   "source": [
    "from random import randint\n",
    "\n",
    "ind = randint(0, len(err_df.loc[\"prob\"]) - 1)\n",
    "print(ind)\n",
    "s = err_df.loc[\"prob\"].iloc[ind].transpose()\n",
    "y = err_df.loc[\"mse\"].iloc[ind].transpose()\n",
    "x = s.index\n",
    "print(x)\n",
    "plt.scatter(x, y)\n"
   ]
  },
  {
   "cell_type": "code",
   "execution_count": null,
   "metadata": {},
   "outputs": [],
   "source": [
    "mean_mse = err_df.loc[\"mse\"].aggregate(\"mean\", axis=0).to_numpy()\n",
    "mse_prob = 1 - (mean_mse / mean_mse.max())\n",
    "plt.scatter(x=errors.columns, y=F.softmax(torch.tensor(mse_prob), dim=0))\n"
   ]
  },
  {
   "cell_type": "code",
   "execution_count": null,
   "metadata": {},
   "outputs": [],
   "source": [
    "from IPython.utils import io\n",
    "from pytorch_lightning import Trainer\n",
    "from pathlib import Path\n",
    "\n",
    "device = torch.device(\"cuda\") if torch.cuda.is_available() else torch.device(\"cpu\")\n",
    "gpus = \"0\" if torch.cuda.is_available() else None\n",
    "\n",
    "trainer = Trainer(gpus=gpus, progress_bar_refresh_rate=0)\n",
    "\n",
    "\n",
    "def check_for_model(model_type):\n",
    "    name = f\"best_{model_type}.ckpt\"\n",
    "    full_path = MODEL_DIR / name\n",
    "    if full_path.exists():\n",
    "        return full_path\n",
    "    return None\n",
    "\n",
    "\n",
    "def load_test_model(ckpt, model_cls):\n",
    "    model = model_cls.load_from_checkpoint(checkpoint_path=str(ckpt))\n",
    "    model.eval()\n",
    "\n",
    "    with io.capture_output(stdout=True, stderr=True) as _captured:\n",
    "        test_score = trainer.test(model)[\"test_loss\"]\n",
    "    return test_score, model, ckpt.stem\n",
    "\n",
    "\n",
    "def get_best_model(model_cls, backbone: str, use_saved=True):\n",
    "    potential_model = check_for_model(backbone)\n",
    "    if (potential_model is not None) and use_saved:\n",
    "        print(\"Loading stored best model\")\n",
    "        return load_test_model(potential_model, model_cls)\n",
    "    else:\n",
    "        test_scores = dict()\n",
    "        for ckpt in MODEL_DIR.glob(f\"*{backbone}*.ckpt\"):\n",
    "            test_scores[str(ckpt.stem)] = load_test_model(ckpt, model_cls)\n",
    "\n",
    "        best_score, best_model, best_name = min(\n",
    "            test_scores.values(), key=lambda x: x[0]\n",
    "        )\n",
    "        (MODEL_DIR / f\"best_{backbone}.ckpt\").symlink_to(\n",
    "            MODEL_DIR / f\"{best_name}.ckpt\"\n",
    "        )\n",
    "        return best_score, best_model, best_name\n",
    "\n"
   ]
  },
  {
   "cell_type": "code",
   "execution_count": null,
   "metadata": {},
   "outputs": [],
   "source": [
    "from dhdrnet.reconstruction_model import RCNet\n",
    "from dhdrnet.histogram_model import HistogramNet\n",
    "from dhdrnet.model import DHDRMobileNet_v3, DHDRSqueezeNet\n",
    "from dhdrnet.resnet_model import DHDRResnet\n",
    "from dhdrnet.Dataset import LUTDataset, RCDataset\n",
    "from pytorch_lightning import seed_everything\n",
    "\n",
    "seed_everything(19)\n",
    "\n",
    "\n",
    "print(\"finding best models\")\n",
    "rcnet_score, rcnet_model, rc_name = get_best_model(RCNet, \"reconstruction\")\n",
    "mobile_score, mobile_model, mobile_name = get_best_model(DHDRMobileNet_v3, \"mobile_v3\")\n",
    "resnet_score, resnet_model, resnet_name = get_best_model(DHDRResnet, \"resnet\")\n",
    "squeeze_score, squeeze_model, squeeze_name = get_best_model(DHDRSqueezeNet, \"squeeze\")\n",
    "\n",
    "print(f\"{mobile_score=}\")\n",
    "print(f\"{resnet_score=}\")\n",
    "print(f\"{squeeze_score=}\")\n",
    "print(f\"{rcnet_score=}\")\n"
   ]
  },
  {
   "cell_type": "code",
   "execution_count": null,
   "metadata": {},
   "outputs": [],
   "source": [
    "from torch.utils.data import DataLoader\n",
    "from more_itertools import flatten, one, collapse\n",
    "\n",
    "evs = torch.tensor(test_data.evs)\n",
    "\n",
    "\n",
    "def get_ev(evs, indices):\n",
    "    return [evs[i] for i in indices]\n",
    "\n",
    "\n",
    "def get_rec_predictions(model, batch, k=4):\n",
    "    X, y_true, names = batch\n",
    "    y_pred = model(X.to(device))\n",
    "    _, pred_ev_idx = torch.topk(y_pred, k, dim=1)\n",
    "    pred_ev = evs[pred_ev_idx]\n",
    "\n",
    "    true_ev_idx = torch.argmax(y_true, dim=1)\n",
    "    true_ev = evs[true_ev_idx]\n",
    "    return zip(names, pred_ev.numpy(), true_ev.numpy())\n",
    "\n",
    "\n",
    "def get_ce_predictions(model, batch, k=4):\n",
    "    X, y_true_idx, names = batch\n",
    "    y_pred = model(X.to(device))\n",
    "    _, pred_ev_idx = torch.topk(y_pred, k, dim=1)\n",
    "    pred_ev = evs[pred_ev_idx]\n",
    "\n",
    "    true_ev = evs[y_true_idx]\n",
    "    return zip(names, pred_ev.numpy(), true_ev.numpy())\n",
    "\n",
    "\n",
    "def topk_accuracy(model, evaluator, dataloader, k=4):\n",
    "    model.eval()\n",
    "    names, pred_evs, true_evs = zip(\n",
    "        *flatten((evaluator(model, batch, k) for batch in dataloader))\n",
    "    )\n",
    "\n",
    "    c = 0\n",
    "    for predicted_evs, true_ev in zip(pred_evs, true_evs):\n",
    "        if true_ev in predicted_evs:\n",
    "            c += 1\n",
    "\n",
    "    return 100.0 * c / len(names)\n",
    "\n"
   ]
  },
  {
   "cell_type": "code",
   "execution_count": null,
   "metadata": {},
   "outputs": [],
   "source": [
    "rc_data = test_data\n",
    "reconstruction_loader = DataLoader(rc_data, batch_size=70, num_workers=8)\n",
    "\n",
    "# rcnet_model = RCNet.load_from_checkpoint(\n",
    "#     str(ROOT_DIR / \"checkpoints\" / \"reconstructiondhdr-epoch=173-val_loss=0.00.ckpt\")\n",
    "# ).to(device)\n",
    "\n",
    "lut_data = LUTDataset(\n",
    "    df=pd.read_csv(ROOT_DIR / \"precomputed_data\" / \"store_current.csv\"),\n",
    "    exposure_path=DATA_DIR / \"correct_exposures\" / \"exposures\",\n",
    "    raw_dir=DATA_DIR / \"dngs\",\n",
    "    name_list=ROOT_DIR / \"precomputed_data\" / \"test_current.csv\",\n",
    "    transform=Compose([Resize((300, 300)), ToTensor()]),\n",
    ")\n",
    "lut_loader = DataLoader(lut_data, batch_size=70, num_workers=8)\n"
   ]
  },
  {
   "cell_type": "code",
   "execution_count": null,
   "metadata": {},
   "outputs": [],
   "source": [
    "from collections import defaultdict\n",
    "from pprint import pprint\n",
    "\n",
    "model_loader_pairs = {\n",
    "    \"Reconstruction\": (rcnet_model, get_rec_predictions, reconstruction_loader),\n",
    "    \"ResNet-18\": (resnet_model, get_ce_predictions, lut_loader),\n",
    "    \"MobileNet-v2\": (mobile_model, get_ce_predictions, lut_loader),\n",
    "    \"SqueezeNet\": (squeeze_model, get_ce_predictions, lut_loader),\n",
    "}\n",
    "\n",
    "model_topk_scores = defaultdict(list)\n",
    "\n",
    "for k in range(1, 8):\n",
    "    for name, args in model_loader_pairs.items():\n",
    "        score = topk_accuracy(*args, k=k)\n",
    "        model_topk_scores[name].append(score)\n",
    "\n",
    "pprint(model_topk_scores)\n"
   ]
  },
  {
   "cell_type": "code",
   "execution_count": null,
   "metadata": {},
   "outputs": [],
   "source": [
    "from pathlib import Path\n",
    "\n",
    "figdir = Path(ROOT_DIR / \"figures\")\n",
    "kdf = pd.DataFrame(model_topk_scores, index=range(1, 8))\n",
    "ax = kdf.plot(\n",
    "    grid=\"both\", title=\"Top-K Accuracy\", xlabel=\"K\", ylabel=\"% Accuracy\", figsize=(5, 5)\n",
    ")\n",
    "ax.figure.savefig(figdir / \"topk_plot.pdf\")\n"
   ]
  },
  {
   "cell_type": "code",
   "execution_count": null,
   "metadata": {},
   "outputs": [],
   "source": [
    "kdf.to_latex(figdir / \"topk_table.tex\")\n"
   ]
  },
  {
   "cell_type": "markdown",
   "metadata": {},
   "source": [
    " Ok, this is all great stuff, now what about comparing to say random?\n",
    "\n",
    " What do we need to do that?\n",
    "\n",
    " * Test dataset\n",
    " * randomly select an exposure as secondary choice\n",
    " * compare the overall MSE of this sample"
   ]
  },
  {
   "cell_type": "code",
   "execution_count": null,
   "metadata": {},
   "outputs": [],
   "source": [
    "\n",
    "import random as rand\n",
    "df = test_data.data\n",
    "# rand_ev = rand.choices(range(0,len(df[\"mse\"].columns)), k=len(df))\n",
    "# df.take(rand_ev,axis=0)\n",
    "rand_sel = dict()\n",
    "for name, data in df.iterrows():\n",
    "    ev = rand.choice(df[\"mse\"].columns)\n",
    "    rand_sel[name] = (ev, data[\"mse\"][ev])\n",
    "    \n",
    "\n",
    "mean_err = np.mean([x[1] for x in rand_sel.values()])\n",
    "mean_err"
   ]
  },
  {
   "cell_type": "code",
   "execution_count": null,
   "metadata": {},
   "outputs": [],
   "source": []
  }
 ],
 "metadata": {
  "kernelspec": {
   "display_name": "DHDRNet",
   "language": "python",
   "name": "dhdrnet"
  },
  "language_info": {
   "codemirror_mode": {
    "name": "ipython",
    "version": 3
   },
   "file_extension": ".py",
   "mimetype": "text/x-python",
   "name": "python",
   "nbconvert_exporter": "python",
   "pygments_lexer": "ipython3",
   "version": "3.8.6"
  }
 },
 "nbformat": 4,
 "nbformat_minor": 4
}
