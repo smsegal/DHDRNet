{
 "cells": [
  {
   "cell_type": "code",
   "execution_count": 1,
   "metadata": {
    "tags": []
   },
   "outputs": [
    {
     "name": "stdout",
     "output_type": "stream",
     "text": [
      "/home/data\n"
     ]
    }
   ],
   "source": [
    "import pandas as pd\n",
    "import numpy as np\n",
    "import matplotlib.pyplot as plt\n",
    "\n",
    "# %matplotlib inline\n",
    "\n",
    "from dhdrnet.util import DATA_DIR, ROOT_DIR\n",
    "\n",
    "MODEL_DIR = ROOT_DIR / \"checkpoints\"\n",
    "print(DATA_DIR)\n"
   ]
  },
  {
   "cell_type": "code",
   "execution_count": 2,
   "metadata": {},
   "outputs": [
    {
     "ename": "FileNotFoundError",
     "evalue": "[Errno 2] No such file or directory: &#39;/home/precomputed_data/store_current.csv&#39;",
     "output_type": "error",
     "traceback": [
      "\u001b[0;31m---------------------------------------------------------------------------\u001b[0m",
      "\u001b[0;31mFileNotFoundError\u001b[0m                         Traceback (most recent call last)",
      "\u001b[0;32m&lt;ipython-input-2-1a11ca582ecd&gt;\u001b[0m in \u001b[0;36m&lt;module&gt;\u001b[0;34m\u001b[0m\n\u001b[1;32m      8\u001b[0m \u001b[0;34m\u001b[0m\u001b[0m\n\u001b[1;32m      9\u001b[0m test_data = RCDataset(\n\u001b[0;32m---&gt; 10\u001b[0;31m     \u001b[0mdf\u001b[0m\u001b[0;34m=\u001b[0m\u001b[0mpd\u001b[0m\u001b[0;34m.\u001b[0m\u001b[0mread_csv\u001b[0m\u001b[0;34m(\u001b[0m\u001b[0mROOT_DIR\u001b[0m \u001b[0;34m/\u001b[0m \u001b[0;34m&quot;precomputed_data&quot;\u001b[0m \u001b[0;34m/\u001b[0m \u001b[0;34m&quot;store_current.csv&quot;\u001b[0m\u001b[0;34m)\u001b[0m\u001b[0;34m,\u001b[0m\u001b[0;34m\u001b[0m\u001b[0;34m\u001b[0m\u001b[0m\n\u001b[0m\u001b[1;32m     11\u001b[0m     \u001b[0mexposure_path\u001b[0m\u001b[0;34m=\u001b[0m\u001b[0mDATA_DIR\u001b[0m \u001b[0;34m/\u001b[0m \u001b[0;34m&quot;correct_exposures&quot;\u001b[0m \u001b[0;34m/\u001b[0m \u001b[0;34m&quot;exposures&quot;\u001b[0m\u001b[0;34m,\u001b[0m\u001b[0;34m\u001b[0m\u001b[0;34m\u001b[0m\u001b[0m\n\u001b[1;32m     12\u001b[0m     \u001b[0mraw_dir\u001b[0m\u001b[0;34m=\u001b[0m\u001b[0mDATA_DIR\u001b[0m \u001b[0;34m/\u001b[0m \u001b[0;34m&quot;dngs&quot;\u001b[0m\u001b[0;34m,\u001b[0m\u001b[0;34m\u001b[0m\u001b[0;34m\u001b[0m\u001b[0m\n",
      "\u001b[0;32m~/.cache/pypoetry/virtualenvs/dhdrnet-md5k9ngR-py3.8/lib/python3.8/site-packages/pandas/io/parsers.py\u001b[0m in \u001b[0;36mread_csv\u001b[0;34m(filepath_or_buffer, sep, delimiter, header, names, index_col, usecols, squeeze, prefix, mangle_dupe_cols, dtype, engine, converters, true_values, false_values, skipinitialspace, skiprows, skipfooter, nrows, na_values, keep_default_na, na_filter, verbose, skip_blank_lines, parse_dates, infer_datetime_format, keep_date_col, date_parser, dayfirst, cache_dates, iterator, chunksize, compression, thousands, decimal, lineterminator, quotechar, quoting, doublequote, escapechar, comment, encoding, dialect, error_bad_lines, warn_bad_lines, delim_whitespace, low_memory, memory_map, float_precision)\u001b[0m\n\u001b[1;32m    684\u001b[0m     )\n\u001b[1;32m    685\u001b[0m \u001b[0;34m\u001b[0m\u001b[0m\n\u001b[0;32m--&gt; 686\u001b[0;31m     \u001b[0;32mreturn\u001b[0m \u001b[0m_read\u001b[0m\u001b[0;34m(\u001b[0m\u001b[0mfilepath_or_buffer\u001b[0m\u001b[0;34m,\u001b[0m \u001b[0mkwds\u001b[0m\u001b[0;34m)\u001b[0m\u001b[0;34m\u001b[0m\u001b[0;34m\u001b[0m\u001b[0m\n\u001b[0m\u001b[1;32m    687\u001b[0m \u001b[0;34m\u001b[0m\u001b[0m\n\u001b[1;32m    688\u001b[0m \u001b[0;34m\u001b[0m\u001b[0m\n",
      "\u001b[0;32m~/.cache/pypoetry/virtualenvs/dhdrnet-md5k9ngR-py3.8/lib/python3.8/site-packages/pandas/io/parsers.py\u001b[0m in \u001b[0;36m_read\u001b[0;34m(filepath_or_buffer, kwds)\u001b[0m\n\u001b[1;32m    450\u001b[0m \u001b[0;34m\u001b[0m\u001b[0m\n\u001b[1;32m    451\u001b[0m     \u001b[0;31m# Create the parser.\u001b[0m\u001b[0;34m\u001b[0m\u001b[0;34m\u001b[0m\u001b[0;34m\u001b[0m\u001b[0m\n\u001b[0;32m--&gt; 452\u001b[0;31m     \u001b[0mparser\u001b[0m \u001b[0;34m=\u001b[0m \u001b[0mTextFileReader\u001b[0m\u001b[0;34m(\u001b[0m\u001b[0mfp_or_buf\u001b[0m\u001b[0;34m,\u001b[0m \u001b[0;34m**\u001b[0m\u001b[0mkwds\u001b[0m\u001b[0;34m)\u001b[0m\u001b[0;34m\u001b[0m\u001b[0;34m\u001b[0m\u001b[0m\n\u001b[0m\u001b[1;32m    453\u001b[0m \u001b[0;34m\u001b[0m\u001b[0m\n\u001b[1;32m    454\u001b[0m     \u001b[0;32mif\u001b[0m \u001b[0mchunksize\u001b[0m \u001b[0;32mor\u001b[0m \u001b[0miterator\u001b[0m\u001b[0;34m:\u001b[0m\u001b[0;34m\u001b[0m\u001b[0;34m\u001b[0m\u001b[0m\n",
      "\u001b[0;32m~/.cache/pypoetry/virtualenvs/dhdrnet-md5k9ngR-py3.8/lib/python3.8/site-packages/pandas/io/parsers.py\u001b[0m in \u001b[0;36m__init__\u001b[0;34m(self, f, engine, **kwds)\u001b[0m\n\u001b[1;32m    934\u001b[0m             \u001b[0mself\u001b[0m\u001b[0;34m.\u001b[0m\u001b[0moptions\u001b[0m\u001b[0;34m[\u001b[0m\u001b[0;34m&quot;has_index_names&quot;\u001b[0m\u001b[0;34m]\u001b[0m \u001b[0;34m=\u001b[0m \u001b[0mkwds\u001b[0m\u001b[0;34m[\u001b[0m\u001b[0;34m&quot;has_index_names&quot;\u001b[0m\u001b[0;34m]\u001b[0m\u001b[0;34m\u001b[0m\u001b[0;34m\u001b[0m\u001b[0m\n\u001b[1;32m    935\u001b[0m \u001b[0;34m\u001b[0m\u001b[0m\n\u001b[0;32m--&gt; 936\u001b[0;31m         \u001b[0mself\u001b[0m\u001b[0;34m.\u001b[0m\u001b[0m_make_engine\u001b[0m\u001b[0;34m(\u001b[0m\u001b[0mself\u001b[0m\u001b[0;34m.\u001b[0m\u001b[0mengine\u001b[0m\u001b[0;34m)\u001b[0m\u001b[0;34m\u001b[0m\u001b[0;34m\u001b[0m\u001b[0m\n\u001b[0m\u001b[1;32m    937\u001b[0m \u001b[0;34m\u001b[0m\u001b[0m\n\u001b[1;32m    938\u001b[0m     \u001b[0;32mdef\u001b[0m \u001b[0mclose\u001b[0m\u001b[0;34m(\u001b[0m\u001b[0mself\u001b[0m\u001b[0;34m)\u001b[0m\u001b[0;34m:\u001b[0m\u001b[0;34m\u001b[0m\u001b[0;34m\u001b[0m\u001b[0m\n",
      "\u001b[0;32m~/.cache/pypoetry/virtualenvs/dhdrnet-md5k9ngR-py3.8/lib/python3.8/site-packages/pandas/io/parsers.py\u001b[0m in \u001b[0;36m_make_engine\u001b[0;34m(self, engine)\u001b[0m\n\u001b[1;32m   1166\u001b[0m     \u001b[0;32mdef\u001b[0m \u001b[0m_make_engine\u001b[0m\u001b[0;34m(\u001b[0m\u001b[0mself\u001b[0m\u001b[0;34m,\u001b[0m \u001b[0mengine\u001b[0m\u001b[0;34m=\u001b[0m\u001b[0;34m&quot;c&quot;\u001b[0m\u001b[0;34m)\u001b[0m\u001b[0;34m:\u001b[0m\u001b[0;34m\u001b[0m\u001b[0;34m\u001b[0m\u001b[0m\n\u001b[1;32m   1167\u001b[0m         \u001b[0;32mif\u001b[0m \u001b[0mengine\u001b[0m \u001b[0;34m==\u001b[0m \u001b[0;34m&quot;c&quot;\u001b[0m\u001b[0;34m:\u001b[0m\u001b[0;34m\u001b[0m\u001b[0;34m\u001b[0m\u001b[0m\n\u001b[0;32m-&gt; 1168\u001b[0;31m             \u001b[0mself\u001b[0m\u001b[0;34m.\u001b[0m\u001b[0m_engine\u001b[0m \u001b[0;34m=\u001b[0m \u001b[0mCParserWrapper\u001b[0m\u001b[0;34m(\u001b[0m\u001b[0mself\u001b[0m\u001b[0;34m.\u001b[0m\u001b[0mf\u001b[0m\u001b[0;34m,\u001b[0m \u001b[0;34m**\u001b[0m\u001b[0mself\u001b[0m\u001b[0;34m.\u001b[0m\u001b[0moptions\u001b[0m\u001b[0;34m)\u001b[0m\u001b[0;34m\u001b[0m\u001b[0;34m\u001b[0m\u001b[0m\n\u001b[0m\u001b[1;32m   1169\u001b[0m         \u001b[0;32melse\u001b[0m\u001b[0;34m:\u001b[0m\u001b[0;34m\u001b[0m\u001b[0;34m\u001b[0m\u001b[0m\n\u001b[1;32m   1170\u001b[0m             \u001b[0;32mif\u001b[0m \u001b[0mengine\u001b[0m \u001b[0;34m==\u001b[0m \u001b[0;34m&quot;python&quot;\u001b[0m\u001b[0;34m:\u001b[0m\u001b[0;34m\u001b[0m\u001b[0;34m\u001b[0m\u001b[0m\n",
      "\u001b[0;32m~/.cache/pypoetry/virtualenvs/dhdrnet-md5k9ngR-py3.8/lib/python3.8/site-packages/pandas/io/parsers.py\u001b[0m in \u001b[0;36m__init__\u001b[0;34m(self, src, **kwds)\u001b[0m\n\u001b[1;32m   1996\u001b[0m         \u001b[0mkwds\u001b[0m\u001b[0;34m[\u001b[0m\u001b[0;34m&quot;usecols&quot;\u001b[0m\u001b[0;34m]\u001b[0m \u001b[0;34m=\u001b[0m \u001b[0mself\u001b[0m\u001b[0;34m.\u001b[0m\u001b[0musecols\u001b[0m\u001b[0;34m\u001b[0m\u001b[0;34m\u001b[0m\u001b[0m\n\u001b[1;32m   1997\u001b[0m \u001b[0;34m\u001b[0m\u001b[0m\n\u001b[0;32m-&gt; 1998\u001b[0;31m         \u001b[0mself\u001b[0m\u001b[0;34m.\u001b[0m\u001b[0m_reader\u001b[0m \u001b[0;34m=\u001b[0m \u001b[0mparsers\u001b[0m\u001b[0;34m.\u001b[0m\u001b[0mTextReader\u001b[0m\u001b[0;34m(\u001b[0m\u001b[0msrc\u001b[0m\u001b[0;34m,\u001b[0m \u001b[0;34m**\u001b[0m\u001b[0mkwds\u001b[0m\u001b[0;34m)\u001b[0m\u001b[0;34m\u001b[0m\u001b[0;34m\u001b[0m\u001b[0m\n\u001b[0m\u001b[1;32m   1999\u001b[0m         \u001b[0mself\u001b[0m\u001b[0;34m.\u001b[0m\u001b[0munnamed_cols\u001b[0m \u001b[0;34m=\u001b[0m \u001b[0mself\u001b[0m\u001b[0;34m.\u001b[0m\u001b[0m_reader\u001b[0m\u001b[0;34m.\u001b[0m\u001b[0munnamed_cols\u001b[0m\u001b[0;34m\u001b[0m\u001b[0;34m\u001b[0m\u001b[0m\n\u001b[1;32m   2000\u001b[0m \u001b[0;34m\u001b[0m\u001b[0m\n",
      "\u001b[0;32mpandas/_libs/parsers.pyx\u001b[0m in \u001b[0;36mpandas._libs.parsers.TextReader.__cinit__\u001b[0;34m()\u001b[0m\n",
      "\u001b[0;32mpandas/_libs/parsers.pyx\u001b[0m in \u001b[0;36mpandas._libs.parsers.TextReader._setup_parser_source\u001b[0;34m()\u001b[0m\n",
      "\u001b[0;31mFileNotFoundError\u001b[0m: [Errno 2] No such file or directory: &#39;/home/precomputed_data/store_current.csv&#39;"
     ]
    }
   ],
   "source": [
    "from dhdrnet.Dataset import RCDataset\n",
    "\n",
    "from torchvision.transforms import (\n",
    "    Compose,\n",
    "    Resize,\n",
    "    ToTensor,\n",
    ")\n",
    "\n",
    "test_data = RCDataset(\n",
    "    df=pd.read_csv(ROOT_DIR / \"precomputed_data\" / \"store_current.csv\"),\n",
    "    exposure_path=DATA_DIR / \"correct_exposures\" / \"exposures\",\n",
    "    raw_dir=DATA_DIR / \"dngs\",\n",
    "    name_list=ROOT_DIR / \"precomputed_data\" / \"test_current.csv\",\n",
    "    transform=Compose([Resize((300, 300)), ToTensor()]),\n",
    ")\n",
    "test_data.data\n"
   ]
  },
  {
   "cell_type": "code",
   "execution_count": null,
   "metadata": {},
   "outputs": [],
   "source": [
    "import torch.nn.functional as F\n",
    "import torch\n",
    "\n",
    "errors = test_data.data[\"mse\"]\n",
    "err_t = torch.tensor(errors.to_numpy())\n",
    "emax, _ = err_t.max(dim=1, keepdim=True)\n",
    "emin, _ = err_t.min(dim=1, keepdim=True)\n",
    "# err_norm = (err_t - emin) / (emax - emin)\n",
    "# print(emax.shape)\n",
    "# print(err_t.shape)\n",
    "err_inv = emax - err_t\n",
    "error_probabilities = (err_inv / err_inv.sum(dim=1, keepdim=True)).numpy()\n",
    "\n",
    "err_df = pd.DataFrame(error_probabilities, index=errors.index, columns=errors.columns)\n",
    "err_df = pd.concat([err_df, errors], keys=(\"prob\", \"mse\"))\n",
    "err_df\n"
   ]
  },
  {
   "cell_type": "code",
   "execution_count": null,
   "metadata": {},
   "outputs": [],
   "source": [
    "from random import randint\n",
    "\n",
    "ind = randint(0, len(err_df.loc[\"prob\"]) - 1)\n",
    "print(ind)\n",
    "s = err_df.loc[\"prob\"].iloc[ind].transpose()\n",
    "y = err_df.loc[\"mse\"].iloc[ind].transpose()\n",
    "x = s.index\n",
    "print(x)\n",
    "plt.scatter(x, y)\n"
   ]
  },
  {
   "cell_type": "code",
   "execution_count": null,
   "metadata": {},
   "outputs": [],
   "source": [
    "mean_mse = err_df.loc[\"mse\"].aggregate(\"mean\", axis=0).to_numpy()\n",
    "mse_prob = 1 - (mean_mse / mean_mse.max())\n",
    "plt.scatter(x=errors.columns, y=F.softmax(torch.tensor(mse_prob), dim=0))\n"
   ]
  },
  {
   "cell_type": "code",
   "execution_count": null,
   "metadata": {},
   "outputs": [],
   "source": [
    "from IPython.utils import io\n",
    "from pytorch_lightning import Trainer\n",
    "from pathlib import Path\n",
    "\n",
    "device = torch.device(\"cuda\") if torch.cuda.is_available() else torch.device(\"cpu\")\n",
    "gpus = \"0\" if torch.cuda.is_available() else None\n",
    "\n",
    "trainer = Trainer(gpus=gpus, progress_bar_refresh_rate=0)\n",
    "\n",
    "\n",
    "def check_for_model(model_type):\n",
    "    name = f\"best_{model_type}.ckpt\"\n",
    "    full_path = MODEL_DIR / name\n",
    "    if full_path.exists():\n",
    "        return full_path\n",
    "    return None\n",
    "\n",
    "\n",
    "def load_test_model(ckpt, model_cls):\n",
    "    model = model_cls.load_from_checkpoint(checkpoint_path=str(ckpt))\n",
    "    model.eval()\n",
    "\n",
    "    with io.capture_output(stdout=True, stderr=True) as _captured:\n",
    "        test_score = trainer.test(model)[\"test_loss\"]\n",
    "    return test_score, model, ckpt.stem\n",
    "\n",
    "\n",
    "def get_best_model(model_cls, backbone: str, use_saved=True):\n",
    "    potential_model = check_for_model(backbone)\n",
    "    if (potential_model is not None) and use_saved:\n",
    "        print(\"Loading stored best model\")\n",
    "        return load_test_model(potential_model, model_cls)\n",
    "    else:\n",
    "        test_scores = dict()\n",
    "        for ckpt in MODEL_DIR.glob(f\"*{backbone}*.ckpt\"):\n",
    "            test_scores[str(ckpt.stem)] = load_test_model(ckpt, model_cls)\n",
    "\n",
    "        best_score, best_model, best_name = min(\n",
    "            test_scores.values(), key=lambda x: x[0]\n",
    "        )\n",
    "        (MODEL_DIR / f\"best_{backbone}.ckpt\").symlink_to(\n",
    "            MODEL_DIR / f\"{best_name}.ckpt\"\n",
    "        )\n",
    "        return best_score, best_model, best_name\n",
    "\n"
   ]
  },
  {
   "cell_type": "code",
   "execution_count": null,
   "metadata": {},
   "outputs": [],
   "source": [
    "from dhdrnet.reconstruction_model import RCNet\n",
    "from dhdrnet.histogram_model import HistogramNet\n",
    "from dhdrnet.model import DHDRMobileNet_v3, DHDRSqueezeNet\n",
    "from dhdrnet.resnet_model import DHDRResnet\n",
    "from dhdrnet.Dataset import LUTDataset, RCDataset\n",
    "from pytorch_lightning import seed_everything\n",
    "\n",
    "seed_everything(19)\n",
    "\n",
    "\n",
    "print(\"finding best models\")\n",
    "rcnet_score, rcnet_model, rc_name = get_best_model(RCNet, \"reconstruction\")\n",
    "mobile_score, mobile_model, mobile_name = get_best_model(DHDRMobileNet_v3, \"mobile_v3\")\n",
    "resnet_score, resnet_model, resnet_name = get_best_model(DHDRResnet, \"resnet\")\n",
    "squeeze_score, squeeze_model, squeeze_name = get_best_model(DHDRSqueezeNet, \"squeeze\")\n",
    "\n",
    "print(f\"{mobile_score=}\")\n",
    "print(f\"{resnet_score=}\")\n",
    "print(f\"{squeeze_score=}\")\n",
    "print(f\"{rcnet_score=}\")\n"
   ]
  },
  {
   "cell_type": "code",
   "execution_count": null,
   "metadata": {},
   "outputs": [],
   "source": [
    "from torch.utils.data import DataLoader\n",
    "from more_itertools import flatten, one, collapse\n",
    "\n",
    "evs = torch.tensor(test_data.evs)\n",
    "\n",
    "\n",
    "def get_ev(evs, indices):\n",
    "    return [evs[i] for i in indices]\n",
    "\n",
    "\n",
    "def get_rec_predictions(model, batch, k=4):\n",
    "    X, y_true, names = batch\n",
    "    y_pred = model(X.to(device))\n",
    "    _, pred_ev_idx = torch.topk(y_pred, k, dim=1)\n",
    "    pred_ev = evs[pred_ev_idx]\n",
    "\n",
    "    true_ev_idx = torch.argmax(y_true, dim=1)\n",
    "    true_ev = evs[true_ev_idx]\n",
    "    return zip(names, pred_ev.numpy(), true_ev.numpy())\n",
    "\n",
    "\n",
    "def get_ce_predictions(model, batch, k=4):\n",
    "    X, y_true_idx, names = batch\n",
    "    y_pred = model(X.to(device))\n",
    "    _, pred_ev_idx = torch.topk(y_pred, k, dim=1)\n",
    "    pred_ev = evs[pred_ev_idx]\n",
    "\n",
    "    true_ev = evs[y_true_idx]\n",
    "    return zip(names, pred_ev.numpy(), true_ev.numpy())\n",
    "\n",
    "\n",
    "def topk_accuracy(model, evaluator, dataloader, k=4):\n",
    "    model.eval()\n",
    "    names, pred_evs, true_evs = zip(\n",
    "        *flatten((evaluator(model, batch, k) for batch in dataloader))\n",
    "    )\n",
    "\n",
    "    c = 0\n",
    "    for predicted_evs, true_ev in zip(pred_evs, true_evs):\n",
    "        if true_ev in predicted_evs:\n",
    "            c += 1\n",
    "\n",
    "    return 100.0 * c / len(names)\n",
    "\n"
   ]
  },
  {
   "cell_type": "code",
   "execution_count": null,
   "metadata": {},
   "outputs": [],
   "source": [
    "rc_data = test_data\n",
    "reconstruction_loader = DataLoader(rc_data, batch_size=70, num_workers=8)\n",
    "\n",
    "# rcnet_model = RCNet.load_from_checkpoint(\n",
    "#     str(ROOT_DIR / \"checkpoints\" / \"reconstructiondhdr-epoch=173-val_loss=0.00.ckpt\")\n",
    "# ).to(device)\n",
    "\n",
    "lut_data = LUTDataset(\n",
    "    df=pd.read_csv(ROOT_DIR / \"precomputed_data\" / \"store_current.csv\"),\n",
    "    exposure_path=DATA_DIR / \"correct_exposures\" / \"exposures\",\n",
    "    raw_dir=DATA_DIR / \"dngs\",\n",
    "    name_list=ROOT_DIR / \"precomputed_data\" / \"test_current.csv\",\n",
    "    transform=Compose([Resize((300, 300)), ToTensor()]),\n",
    ")\n",
    "lut_loader = DataLoader(lut_data, batch_size=70, num_workers=8)\n"
   ]
  },
  {
   "cell_type": "code",
   "execution_count": null,
   "metadata": {},
   "outputs": [],
   "source": [
    "from collections import defaultdict\n",
    "from pprint import pprint\n",
    "\n",
    "model_loader_pairs = {\n",
    "    \"Reconstruction\": (rcnet_model, get_rec_predictions, reconstruction_loader),\n",
    "    \"ResNet-18\": (resnet_model, get_ce_predictions, lut_loader),\n",
    "    \"MobileNet-v2\": (mobile_model, get_ce_predictions, lut_loader),\n",
    "    \"SqueezeNet\": (squeeze_model, get_ce_predictions, lut_loader),\n",
    "}\n",
    "\n",
    "model_topk_scores = defaultdict(list)\n",
    "\n",
    "for k in range(1, 8):\n",
    "    for name, args in model_loader_pairs.items():\n",
    "        score = topk_accuracy(*args, k=k)\n",
    "        model_topk_scores[name].append(score)\n",
    "\n",
    "pprint(model_topk_scores)\n"
   ]
  },
  {
   "cell_type": "code",
   "execution_count": null,
   "metadata": {},
   "outputs": [],
   "source": [
    "from pathlib import Path\n",
    "\n",
    "figdir = Path(ROOT_DIR / \"figures\")\n",
    "kdf = pd.DataFrame(model_topk_scores, index=range(1, 8))\n",
    "ax = kdf.plot(\n",
    "    grid=\"both\", title=\"Top-K Accuracy\", xlabel=\"K\", ylabel=\"% Accuracy\", figsize=(5, 5)\n",
    ")\n",
    "ax.figure.savefig(figdir / \"topk_plot.pdf\")\n"
   ]
  },
  {
   "cell_type": "code",
   "execution_count": null,
   "metadata": {},
   "outputs": [],
   "source": [
    "kdf.to_latex(figdir / \"topk_table.tex\")\n"
   ]
  },
  {
   "cell_type": "markdown",
   "metadata": {},
   "source": [
    " Ok, this is all great stuff, now what about comparing to say random?\n",
    "\n",
    " What do we need to do that?\n",
    "\n",
    " * Test dataset\n",
    " * randomly select an exposure as secondary choice\n",
    " * compare the overall MSE of this sample"
   ]
  },
  {
   "cell_type": "code",
   "execution_count": null,
   "metadata": {},
   "outputs": [],
   "source": [
    "\n",
    "import random as rand\n",
    "df = test_data.data\n",
    "# rand_ev = rand.choices(range(0,len(df[\"mse\"].columns)), k=len(df))\n",
    "# df.take(rand_ev,axis=0)\n",
    "rand_sel = dict()\n",
    "for name, data in df.iterrows():\n",
    "    ev = rand.choice(df[\"mse\"].columns)\n",
    "    rand_sel[name] = (ev, data[\"mse\"][ev])\n",
    "    \n",
    "\n",
    "mean_err = np.mean([x[1] for x in rand_sel.values()])\n",
    "mean_err"
   ]
  },
  {
   "cell_type": "code",
   "execution_count": null,
   "metadata": {},
   "outputs": [],
   "source": []
  }
 ],
 "metadata": {
  "kernelspec": {
   "display_name": "DHDRNet",
   "language": "python",
   "name": "dhdrnet"
  },
  "language_info": {
   "codemirror_mode": {
    "name": "ipython",
    "version": 3
   },
   "file_extension": ".py",
   "mimetype": "text/x-python",
   "name": "python",
   "nbconvert_exporter": "python",
   "pygments_lexer": "ipython3",
   "version": "3.8.5"
  }
 },
 "nbformat": 4,
 "nbformat_minor": 4
}
