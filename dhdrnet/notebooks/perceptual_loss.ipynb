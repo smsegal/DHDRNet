{
 "cells": [
  {
   "cell_type": "code",
   "execution_count": 1,
   "metadata": {},
   "outputs": [],
   "source": [
    "import numpy as np\n",
    "import pandas as pd\n",
    "import matplotlib.pyplot as plt\n",
    "from more_itertools import flatten\n",
    "%matplotlib inline\n",
    "%load_ext autoreload\n",
    "%autoreload 2"
   ]
  },
  {
   "cell_type": "code",
   "execution_count": 2,
   "metadata": {},
   "outputs": [],
   "source": [
    "from dhdrnet.util import ROOT_DIR\n",
    "data_dir = ROOT_DIR / \"precomputed_data\""
   ]
  },
  {
   "cell_type": "code",
   "execution_count": 3,
   "metadata": {},
   "outputs": [
    {
     "data": {
      "text/html": [
       "<div>\n",
       "<style scoped>\n",
       "    .dataframe tbody tr th:only-of-type {\n",
       "        vertical-align: middle;\n",
       "    }\n",
       "\n",
       "    .dataframe tbody tr th {\n",
       "        vertical-align: top;\n",
       "    }\n",
       "\n",
       "    .dataframe thead th {\n",
       "        text-align: right;\n",
       "    }\n",
       "</style>\n",
       "<table border=\"1\" class=\"dataframe\">\n",
       "  <thead>\n",
       "    <tr style=\"text-align: right;\">\n",
       "      <th></th>\n",
       "      <th>metric</th>\n",
       "      <th>ev1</th>\n",
       "      <th>ev2</th>\n",
       "      <th>score</th>\n",
       "    </tr>\n",
       "    <tr>\n",
       "      <th>name</th>\n",
       "      <th></th>\n",
       "      <th></th>\n",
       "      <th></th>\n",
       "      <th></th>\n",
       "    </tr>\n",
       "  </thead>\n",
       "  <tbody>\n",
       "    <tr>\n",
       "      <th>0006_20160728_123257_859</th>\n",
       "      <td>mse</td>\n",
       "      <td>-6.0</td>\n",
       "      <td>-5.5</td>\n",
       "      <td>21719.742980</td>\n",
       "    </tr>\n",
       "    <tr>\n",
       "      <th>0006_20160728_123257_859</th>\n",
       "      <td>ssim</td>\n",
       "      <td>-6.0</td>\n",
       "      <td>-5.5</td>\n",
       "      <td>0.010384</td>\n",
       "    </tr>\n",
       "    <tr>\n",
       "      <th>0006_20160728_123257_859</th>\n",
       "      <td>perceptual</td>\n",
       "      <td>-6.0</td>\n",
       "      <td>-5.5</td>\n",
       "      <td>0.923738</td>\n",
       "    </tr>\n",
       "    <tr>\n",
       "      <th>0006_20160728_123257_859</th>\n",
       "      <td>mse</td>\n",
       "      <td>-6.0</td>\n",
       "      <td>-5.0</td>\n",
       "      <td>21449.366655</td>\n",
       "    </tr>\n",
       "    <tr>\n",
       "      <th>0006_20160728_123257_859</th>\n",
       "      <td>ssim</td>\n",
       "      <td>-6.0</td>\n",
       "      <td>-5.0</td>\n",
       "      <td>0.016527</td>\n",
       "    </tr>\n",
       "    <tr>\n",
       "      <th>...</th>\n",
       "      <td>...</td>\n",
       "      <td>...</td>\n",
       "      <td>...</td>\n",
       "      <td>...</td>\n",
       "    </tr>\n",
       "    <tr>\n",
       "      <th>33TJ_20150613_095504_183</th>\n",
       "      <td>ssim</td>\n",
       "      <td>4.5</td>\n",
       "      <td>5.5</td>\n",
       "      <td>0.608670</td>\n",
       "    </tr>\n",
       "    <tr>\n",
       "      <th>33TJ_20150613_095504_183</th>\n",
       "      <td>perceptual</td>\n",
       "      <td>4.5</td>\n",
       "      <td>5.5</td>\n",
       "      <td>0.421305</td>\n",
       "    </tr>\n",
       "    <tr>\n",
       "      <th>33TJ_20150613_095504_183</th>\n",
       "      <td>mse</td>\n",
       "      <td>5.0</td>\n",
       "      <td>5.5</td>\n",
       "      <td>9844.238662</td>\n",
       "    </tr>\n",
       "    <tr>\n",
       "      <th>33TJ_20150613_095504_183</th>\n",
       "      <td>ssim</td>\n",
       "      <td>5.0</td>\n",
       "      <td>5.5</td>\n",
       "      <td>0.474719</td>\n",
       "    </tr>\n",
       "    <tr>\n",
       "      <th>33TJ_20150613_095504_183</th>\n",
       "      <td>perceptual</td>\n",
       "      <td>5.0</td>\n",
       "      <td>5.5</td>\n",
       "      <td>0.556689</td>\n",
       "    </tr>\n",
       "  </tbody>\n",
       "</table>\n",
       "<p>2068354 rows × 4 columns</p>\n",
       "</div>"
      ],
      "text/plain": [
       "                              metric   ev1   ev2         score\n",
       "name                                                          \n",
       "0006_20160728_123257_859         mse  -6.0  -5.5  21719.742980\n",
       "0006_20160728_123257_859        ssim  -6.0  -5.5      0.010384\n",
       "0006_20160728_123257_859  perceptual  -6.0  -5.5      0.923738\n",
       "0006_20160728_123257_859         mse  -6.0  -5.0  21449.366655\n",
       "0006_20160728_123257_859        ssim  -6.0  -5.0      0.016527\n",
       "...                              ...   ...   ...           ...\n",
       "33TJ_20150613_095504_183        ssim   4.5   5.5      0.608670\n",
       "33TJ_20150613_095504_183  perceptual   4.5   5.5      0.421305\n",
       "33TJ_20150613_095504_183         mse   5.0   5.5   9844.238662\n",
       "33TJ_20150613_095504_183        ssim   5.0   5.5      0.474719\n",
       "33TJ_20150613_095504_183  perceptual   5.0   5.5      0.556689\n",
       "\n",
       "[2068354 rows x 4 columns]"
      ]
     },
     "execution_count": 3,
     "metadata": {},
     "output_type": "execute_result"
    }
   ],
   "source": [
    "df = pd.read_csv(data_dir / \"store_perceptual.csv\")\n",
    "df = df.set_index([\"name\"])\n",
    "df"
   ]
  },
  {
   "cell_type": "markdown",
   "metadata": {},
   "source": [
    "### prepare data, set index to the names, group by metric, clean"
   ]
  },
  {
   "cell_type": "code",
   "execution_count": 4,
   "metadata": {},
   "outputs": [],
   "source": [
    "bad = df.loc[\"metric\"]\n",
    "df = df.loc[df.index.difference(bad.index)]"
   ]
  },
  {
   "cell_type": "code",
   "execution_count": 5,
   "metadata": {},
   "outputs": [],
   "source": [
    "df[[\"ev1\", \"ev2\"]] = df[[\"ev1\", \"ev2\"]].astype(\"float\")\n",
    "evdf = df.copy()\n",
    "df[\"ev\"] = df[[\"ev1\", \"ev2\"]].apply(lambda df: tuple(sorted(df)), axis=1)\n",
    "df = df.drop([\"ev1\", \"ev2\"],axis=1)\n",
    "dfg = df.groupby(\"metric\")"
   ]
  },
  {
   "cell_type": "code",
   "execution_count": 6,
   "metadata": {},
   "outputs": [
    {
     "data": {
      "text/html": [
       "<div>\n",
       "<style scoped>\n",
       "    .dataframe tbody tr th:only-of-type {\n",
       "        vertical-align: middle;\n",
       "    }\n",
       "\n",
       "    .dataframe tbody tr th {\n",
       "        vertical-align: top;\n",
       "    }\n",
       "\n",
       "    .dataframe thead th {\n",
       "        text-align: right;\n",
       "    }\n",
       "</style>\n",
       "<table border=\"1\" class=\"dataframe\">\n",
       "  <thead>\n",
       "    <tr style=\"text-align: right;\">\n",
       "      <th></th>\n",
       "      <th>score</th>\n",
       "      <th>ev</th>\n",
       "    </tr>\n",
       "    <tr>\n",
       "      <th>name</th>\n",
       "      <th></th>\n",
       "      <th></th>\n",
       "    </tr>\n",
       "  </thead>\n",
       "  <tbody>\n",
       "    <tr>\n",
       "      <th>0006_20160721_163256_525</th>\n",
       "      <td>21478.280158</td>\n",
       "      <td>(-6.0, -5.5)</td>\n",
       "    </tr>\n",
       "    <tr>\n",
       "      <th>0006_20160721_163256_525</th>\n",
       "      <td>21143.568190</td>\n",
       "      <td>(-6.0, -5.0)</td>\n",
       "    </tr>\n",
       "    <tr>\n",
       "      <th>0006_20160721_163256_525</th>\n",
       "      <td>20603.549521</td>\n",
       "      <td>(-6.0, -4.5)</td>\n",
       "    </tr>\n",
       "    <tr>\n",
       "      <th>0006_20160721_163256_525</th>\n",
       "      <td>19801.189927</td>\n",
       "      <td>(-6.0, -4.0)</td>\n",
       "    </tr>\n",
       "    <tr>\n",
       "      <th>0006_20160721_163256_525</th>\n",
       "      <td>18690.164039</td>\n",
       "      <td>(-6.0, -3.5)</td>\n",
       "    </tr>\n",
       "    <tr>\n",
       "      <th>...</th>\n",
       "      <td>...</td>\n",
       "      <td>...</td>\n",
       "    </tr>\n",
       "    <tr>\n",
       "      <th>synthetic_ramp_night_motion_blur</th>\n",
       "      <td>6156.736391</td>\n",
       "      <td>(4.0, 5.0)</td>\n",
       "    </tr>\n",
       "    <tr>\n",
       "      <th>synthetic_ramp_night_motion_blur</th>\n",
       "      <td>6366.813431</td>\n",
       "      <td>(4.0, 5.5)</td>\n",
       "    </tr>\n",
       "    <tr>\n",
       "      <th>synthetic_ramp_night_motion_blur</th>\n",
       "      <td>6499.458799</td>\n",
       "      <td>(4.5, 5.0)</td>\n",
       "    </tr>\n",
       "    <tr>\n",
       "      <th>synthetic_ramp_night_motion_blur</th>\n",
       "      <td>6727.466918</td>\n",
       "      <td>(4.5, 5.5)</td>\n",
       "    </tr>\n",
       "    <tr>\n",
       "      <th>synthetic_ramp_night_motion_blur</th>\n",
       "      <td>7051.413428</td>\n",
       "      <td>(5.0, 5.5)</td>\n",
       "    </tr>\n",
       "  </tbody>\n",
       "</table>\n",
       "<p>688620 rows × 2 columns</p>\n",
       "</div>"
      ],
      "text/plain": [
       "                                         score            ev\n",
       "name                                                        \n",
       "0006_20160721_163256_525          21478.280158  (-6.0, -5.5)\n",
       "0006_20160721_163256_525          21143.568190  (-6.0, -5.0)\n",
       "0006_20160721_163256_525          20603.549521  (-6.0, -4.5)\n",
       "0006_20160721_163256_525          19801.189927  (-6.0, -4.0)\n",
       "0006_20160721_163256_525          18690.164039  (-6.0, -3.5)\n",
       "...                                        ...           ...\n",
       "synthetic_ramp_night_motion_blur   6156.736391    (4.0, 5.0)\n",
       "synthetic_ramp_night_motion_blur   6366.813431    (4.0, 5.5)\n",
       "synthetic_ramp_night_motion_blur   6499.458799    (4.5, 5.0)\n",
       "synthetic_ramp_night_motion_blur   6727.466918    (4.5, 5.5)\n",
       "synthetic_ramp_night_motion_blur   7051.413428    (5.0, 5.5)\n",
       "\n",
       "[688620 rows x 2 columns]"
      ]
     },
     "execution_count": 6,
     "metadata": {},
     "output_type": "execute_result"
    }
   ],
   "source": [
    "mse_df = dfg.get_group(\"mse\").drop(\"metric\",axis=1)\n",
    "mse_df"
   ]
  },
  {
   "cell_type": "code",
   "execution_count": 7,
   "metadata": {},
   "outputs": [],
   "source": [
    "mse_mins = mse_df.pivot(columns=\"ev\").idxmin(axis=1).apply(lambda f: f[1])"
   ]
  },
  {
   "cell_type": "code",
   "execution_count": 8,
   "metadata": {},
   "outputs": [
    {
     "data": {
      "text/plain": [
       "<matplotlib.axes._subplots.AxesSubplot at 0x7f94409ac5b0>"
      ]
     },
     "execution_count": 8,
     "metadata": {},
     "output_type": "execute_result"
    },
    {
     "data": {
      "image/png": "[encoded data removed]",
      "text/plain": [
       "<Figure size 432x288 with 1 Axes>"
      ]
     },
     "metadata": {
      "needs_background": "light"
     },
     "output_type": "display_data"
    }
   ],
   "source": [
    "mse_mins.value_counts().iloc[:15].plot.barh(title=\"Optimal MSE EV choices\")"
   ]
  },
  {
   "cell_type": "code",
   "execution_count": 9,
   "metadata": {},
   "outputs": [
    {
     "data": {
      "text/plain": [
       "<matplotlib.axes._subplots.AxesSubplot at 0x7f94905921c0>"
      ]
     },
     "execution_count": 9,
     "metadata": {},
     "output_type": "execute_result"
    },
    {
     "data": {
      "image/png": "[encoded data removed]",
      "text/plain": [
       "<Figure size 432x288 with 1 Axes>"
      ]
     },
     "metadata": {
      "needs_background": "light"
     },
     "output_type": "display_data"
    }
   ],
   "source": [
    "perc_df = dfg.get_group(\"perceptual\").drop(columns=\"metric\")\n",
    "perc_mins = perc_df.pivot(columns=\"ev\").idxmin(axis=1).apply(lambda f: f[1])\n",
    "perc_mins.value_counts().iloc[:15].plot.barh(title=\"Optimal Perceptual Loss EV Choices\")"
   ]
  },
  {
   "cell_type": "code",
   "execution_count": 10,
   "metadata": {},
   "outputs": [
    {
     "data": {
      "text/plain": [
       "<matplotlib.axes._subplots.AxesSubplot at 0x7f94403e3fa0>"
      ]
     },
     "execution_count": 10,
     "metadata": {},
     "output_type": "execute_result"
    },
    {
     "data": {
      "image/png": "[encoded data removed]",
      "text/plain": [
       "<Figure size 432x288 with 1 Axes>"
      ]
     },
     "metadata": {
      "needs_background": "light"
     },
     "output_type": "display_data"
    }
   ],
   "source": [
    "ssim_df = dfg.get_group(\"ssim\").drop(columns=\"metric\")\n",
    "ssim_mins = ssim_df.pivot(columns=\"ev\").idxmax(axis=1).apply(lambda f: f[1])\n",
    "ssim_mins.value_counts().iloc[:15].plot.barh(title=\"Optimal SSIM EV Choices\")"
   ]
  },
  {
   "cell_type": "markdown",
   "metadata": {},
   "source": [
    "# Baseline EV 0 (or what happens to be called EV0)"
   ]
  },
  {
   "cell_type": "code",
   "execution_count": 40,
   "metadata": {},
   "outputs": [
    {
     "data": {
      "text/html": [
       "<div>\n",
       "<style scoped>\n",
       "    .dataframe tbody tr th:only-of-type {\n",
       "        vertical-align: middle;\n",
       "    }\n",
       "\n",
       "    .dataframe tbody tr th {\n",
       "        vertical-align: top;\n",
       "    }\n",
       "\n",
       "    .dataframe thead th {\n",
       "        text-align: right;\n",
       "    }\n",
       "</style>\n",
       "<table border=\"1\" class=\"dataframe\">\n",
       "  <thead>\n",
       "    <tr style=\"text-align: right;\">\n",
       "      <th></th>\n",
       "      <th>metric</th>\n",
       "      <th>score</th>\n",
       "      <th>ev</th>\n",
       "    </tr>\n",
       "    <tr>\n",
       "      <th>name</th>\n",
       "      <th></th>\n",
       "      <th></th>\n",
       "      <th></th>\n",
       "    </tr>\n",
       "  </thead>\n",
       "  <tbody>\n",
       "    <tr>\n",
       "      <th>0006_20160721_163256_525</th>\n",
       "      <td>mse</td>\n",
       "      <td>4338.172341</td>\n",
       "      <td>(-6.0, 0.0)</td>\n",
       "    </tr>\n",
       "    <tr>\n",
       "      <th>0006_20160721_163256_525</th>\n",
       "      <td>ssim</td>\n",
       "      <td>0.747697</td>\n",
       "      <td>(-6.0, 0.0)</td>\n",
       "    </tr>\n",
       "    <tr>\n",
       "      <th>0006_20160721_163256_525</th>\n",
       "      <td>perceptual</td>\n",
       "      <td>0.191361</td>\n",
       "      <td>(-6.0, 0.0)</td>\n",
       "    </tr>\n",
       "    <tr>\n",
       "      <th>0006_20160721_163256_525</th>\n",
       "      <td>mse</td>\n",
       "      <td>4425.284242</td>\n",
       "      <td>(-5.5, 0.0)</td>\n",
       "    </tr>\n",
       "    <tr>\n",
       "      <th>0006_20160721_163256_525</th>\n",
       "      <td>ssim</td>\n",
       "      <td>0.743707</td>\n",
       "      <td>(-5.5, 0.0)</td>\n",
       "    </tr>\n",
       "    <tr>\n",
       "      <th>...</th>\n",
       "      <td>...</td>\n",
       "      <td>...</td>\n",
       "      <td>...</td>\n",
       "    </tr>\n",
       "    <tr>\n",
       "      <th>synthetic_ramp_night_motion_blur</th>\n",
       "      <td>ssim</td>\n",
       "      <td>0.975906</td>\n",
       "      <td>(0.0, 5.0)</td>\n",
       "    </tr>\n",
       "    <tr>\n",
       "      <th>synthetic_ramp_night_motion_blur</th>\n",
       "      <td>perceptual</td>\n",
       "      <td>0.047930</td>\n",
       "      <td>(0.0, 5.0)</td>\n",
       "    </tr>\n",
       "    <tr>\n",
       "      <th>synthetic_ramp_night_motion_blur</th>\n",
       "      <td>mse</td>\n",
       "      <td>346.047505</td>\n",
       "      <td>(0.0, 5.5)</td>\n",
       "    </tr>\n",
       "    <tr>\n",
       "      <th>synthetic_ramp_night_motion_blur</th>\n",
       "      <td>ssim</td>\n",
       "      <td>0.960343</td>\n",
       "      <td>(0.0, 5.5)</td>\n",
       "    </tr>\n",
       "    <tr>\n",
       "      <th>synthetic_ramp_night_motion_blur</th>\n",
       "      <td>perceptual</td>\n",
       "      <td>0.057548</td>\n",
       "      <td>(0.0, 5.5)</td>\n",
       "    </tr>\n",
       "  </tbody>\n",
       "</table>\n",
       "<p>172155 rows × 3 columns</p>\n",
       "</div>"
      ],
      "text/plain": [
       "                                      metric        score           ev\n",
       "name                                                                  \n",
       "0006_20160721_163256_525                 mse  4338.172341  (-6.0, 0.0)\n",
       "0006_20160721_163256_525                ssim     0.747697  (-6.0, 0.0)\n",
       "0006_20160721_163256_525          perceptual     0.191361  (-6.0, 0.0)\n",
       "0006_20160721_163256_525                 mse  4425.284242  (-5.5, 0.0)\n",
       "0006_20160721_163256_525                ssim     0.743707  (-5.5, 0.0)\n",
       "...                                      ...          ...          ...\n",
       "synthetic_ramp_night_motion_blur        ssim     0.975906   (0.0, 5.0)\n",
       "synthetic_ramp_night_motion_blur  perceptual     0.047930   (0.0, 5.0)\n",
       "synthetic_ramp_night_motion_blur         mse   346.047505   (0.0, 5.5)\n",
       "synthetic_ramp_night_motion_blur        ssim     0.960343   (0.0, 5.5)\n",
       "synthetic_ramp_night_motion_blur  perceptual     0.057548   (0.0, 5.5)\n",
       "\n",
       "[172155 rows x 3 columns]"
      ]
     },
     "execution_count": 40,
     "metadata": {},
     "output_type": "execute_result"
    }
   ],
   "source": [
    "bdf = evdf[evdf[[\"ev1\", \"ev2\"]].apply(lambda d: d == 0).any(axis=1)].copy()\n",
    "bdf[\"ev\"] = bdf.loc[:,[\"ev1\", \"ev2\"]].apply(lambda df: tuple(sorted(df)), axis=1)\n",
    "bdf = bdf.drop(columns=[\"ev1\", \"ev2\"])\n",
    "bdf"
   ]
  },
  {
   "cell_type": "code",
   "execution_count": 41,
   "metadata": {},
   "outputs": [],
   "source": [
    "bdfg = bdf.groupby(\"metric\")"
   ]
  },
  {
   "cell_type": "code",
   "execution_count": 44,
   "metadata": {},
   "outputs": [
    {
     "data": {
      "text/plain": [
       "<matplotlib.axes._subplots.AxesSubplot at 0x7f942d371d60>"
      ]
     },
     "execution_count": 44,
     "metadata": {},
     "output_type": "execute_result"
    },
    {
     "data": {
      "image/png": "[encoded data removed]",
      "text/plain": [
       "<Figure size 432x288 with 1 Axes>"
      ]
     },
     "metadata": {
      "needs_background": "light"
     },
     "output_type": "display_data"
    }
   ],
   "source": [
    "mse_df = bdfg.get_group(\"mse\").drop(columns=\"metric\")\n",
    "mse_mins = mse_df.pivot(columns=\"ev\").idxmin(axis=1).apply(lambda f: f[1])\n",
    "mse_mins.value_counts().plot.barh(title=\"Baseline EV0 MSE Choices\")"
   ]
  },
  {
   "cell_type": "code",
   "execution_count": 45,
   "metadata": {},
   "outputs": [
    {
     "data": {
      "text/plain": [
       "<matplotlib.axes._subplots.AxesSubplot at 0x7f942d35a610>"
      ]
     },
     "execution_count": 45,
     "metadata": {},
     "output_type": "execute_result"
    },
    {
     "data": {
      "image/png": "[encoded data removed]",
      "text/plain": [
       "<Figure size 432x288 with 1 Axes>"
      ]
     },
     "metadata": {
      "needs_background": "light"
     },
     "output_type": "display_data"
    }
   ],
   "source": [
    "ssim_df = bdfg.get_group(\"ssim\").drop(columns=\"metric\")\n",
    "ssim_mins = ssim_df.pivot(columns=\"ev\").idxmax(axis=1).apply(lambda f: f[1])\n",
    "ssim_mins.value_counts().plot.barh(title=\"Baseline EV0 SSIM Choices\")"
   ]
  },
  {
   "cell_type": "code",
   "execution_count": 48,
   "metadata": {},
   "outputs": [
    {
     "data": {
      "text/plain": [
       "<matplotlib.axes._subplots.AxesSubplot at 0x7f942ebf4be0>"
      ]
     },
     "execution_count": 48,
     "metadata": {},
     "output_type": "execute_result"
    },
    {
     "data": {
      "image/png": "[encoded data removed]",
      "text/plain": [
       "<Figure size 432x288 with 1 Axes>"
      ]
     },
     "metadata": {
      "needs_background": "light"
     },
     "output_type": "display_data"
    }
   ],
   "source": [
    "perc_df = bdfg.get_group(\"perceptual\").drop(columns=\"metric\")\n",
    "perc_mins = perc_df.pivot(columns=\"ev\").idxmin(axis=1).apply(lambda f: f[1])\n",
    "perc_mins.value_counts().plot.barh(title=\"Baseline EV0 Perceptual Choices\")"
   ]
  },
  {
   "cell_type": "code",
   "execution_count": null,
   "metadata": {},
   "outputs": [],
   "source": []
  }
 ],
 "metadata": {
  "kernelspec": {
   "display_name": "DHDRNet",
   "language": "python",
   "name": "dhdrnet"
  },
  "language_info": {
   "codemirror_mode": {
    "name": "ipython",
    "version": 3
   },
   "file_extension": ".py",
   "mimetype": "text/x-python",
   "name": "python",
   "nbconvert_exporter": "python",
   "pygments_lexer": "ipython3",
   "version": "3.8.3"
  }
 },
 "nbformat": 4,
 "nbformat_minor": 4
}
