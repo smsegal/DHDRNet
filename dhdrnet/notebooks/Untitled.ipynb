{
 "cells": [
  {
   "cell_type": "code",
   "execution_count": 1,
   "metadata": {},
   "outputs": [
    {
     "name": "stdout",
     "output_type": "stream",
     "text": [
      "The autoreload extension is already loaded. To reload it, use:\n",
      "  %reload_ext autoreload\n"
     ]
    }
   ],
   "source": [
    "%load_ext autoreload\n",
    "%autoreload 2\n",
    "%matplotlib inline"
   ]
  },
  {
   "cell_type": "code",
   "execution_count": 2,
   "metadata": {},
   "outputs": [],
   "source": [
    "import pandas as pd\n",
    "\n",
    "from dhdrnet.util import DATA_DIR, ROOT_DIR\n",
    "\n",
    "figdir = ROOT_DIR / \"figures\""
   ]
  },
  {
   "cell_type": "code",
   "execution_count": 45,
   "metadata": {},
   "outputs": [
    {
     "data": {
      "text/html": [
       "<div>\n",
       "<style scoped>\n",
       "    .dataframe tbody tr th:only-of-type {\n",
       "        vertical-align: middle;\n",
       "    }\n",
       "\n",
       "    .dataframe tbody tr th {\n",
       "        vertical-align: top;\n",
       "    }\n",
       "\n",
       "    .dataframe thead th {\n",
       "        text-align: right;\n",
       "    }\n",
       "</style>\n",
       "<table border=\"1\" class=\"dataframe\">\n",
       "  <thead>\n",
       "    <tr style=\"text-align: right;\">\n",
       "      <th></th>\n",
       "      <th>name</th>\n",
       "      <th>metric</th>\n",
       "      <th>ev</th>\n",
       "      <th>score</th>\n",
       "    </tr>\n",
       "  </thead>\n",
       "  <tbody>\n",
       "    <tr>\n",
       "      <th>0</th>\n",
       "      <td>c1b1_20150312_141022_171</td>\n",
       "      <td>rmse</td>\n",
       "      <td>-3.00</td>\n",
       "      <td>0.814936</td>\n",
       "    </tr>\n",
       "    <tr>\n",
       "      <th>1</th>\n",
       "      <td>c1b1_20150312_141022_171</td>\n",
       "      <td>psnr</td>\n",
       "      <td>-3.00</td>\n",
       "      <td>6.552593</td>\n",
       "    </tr>\n",
       "    <tr>\n",
       "      <th>2</th>\n",
       "      <td>c1b1_20150312_141022_171</td>\n",
       "      <td>ssim</td>\n",
       "      <td>-3.00</td>\n",
       "      <td>0.232993</td>\n",
       "    </tr>\n",
       "    <tr>\n",
       "      <th>3</th>\n",
       "      <td>c1b1_20150312_141022_171</td>\n",
       "      <td>perceptual</td>\n",
       "      <td>-3.00</td>\n",
       "      <td>0.443095</td>\n",
       "    </tr>\n",
       "    <tr>\n",
       "      <th>4</th>\n",
       "      <td>c1b1_20150312_141022_171</td>\n",
       "      <td>rmse</td>\n",
       "      <td>-2.75</td>\n",
       "      <td>0.816721</td>\n",
       "    </tr>\n",
       "    <tr>\n",
       "      <th>...</th>\n",
       "      <td>...</td>\n",
       "      <td>...</td>\n",
       "      <td>...</td>\n",
       "      <td>...</td>\n",
       "    </tr>\n",
       "    <tr>\n",
       "      <th>139</th>\n",
       "      <td>5066_20160510_193314_625</td>\n",
       "      <td>perceptual</td>\n",
       "      <td>5.75</td>\n",
       "      <td>0.091892</td>\n",
       "    </tr>\n",
       "    <tr>\n",
       "      <th>140</th>\n",
       "      <td>5066_20160510_193314_625</td>\n",
       "      <td>rmse</td>\n",
       "      <td>6.00</td>\n",
       "      <td>0.258454</td>\n",
       "    </tr>\n",
       "    <tr>\n",
       "      <th>141</th>\n",
       "      <td>5066_20160510_193314_625</td>\n",
       "      <td>psnr</td>\n",
       "      <td>6.00</td>\n",
       "      <td>17.143010</td>\n",
       "    </tr>\n",
       "    <tr>\n",
       "      <th>142</th>\n",
       "      <td>5066_20160510_193314_625</td>\n",
       "      <td>ssim</td>\n",
       "      <td>6.00</td>\n",
       "      <td>0.845857</td>\n",
       "    </tr>\n",
       "    <tr>\n",
       "      <th>143</th>\n",
       "      <td>5066_20160510_193314_625</td>\n",
       "      <td>perceptual</td>\n",
       "      <td>6.00</td>\n",
       "      <td>0.113717</td>\n",
       "    </tr>\n",
       "  </tbody>\n",
       "</table>\n",
       "<p>416880 rows × 4 columns</p>\n",
       "</div>"
      ],
      "text/plain": [
       "                         name      metric    ev      score\n",
       "0    c1b1_20150312_141022_171        rmse -3.00   0.814936\n",
       "1    c1b1_20150312_141022_171        psnr -3.00   6.552593\n",
       "2    c1b1_20150312_141022_171        ssim -3.00   0.232993\n",
       "3    c1b1_20150312_141022_171  perceptual -3.00   0.443095\n",
       "4    c1b1_20150312_141022_171        rmse -2.75   0.816721\n",
       "..                        ...         ...   ...        ...\n",
       "139  5066_20160510_193314_625  perceptual  5.75   0.091892\n",
       "140  5066_20160510_193314_625        rmse  6.00   0.258454\n",
       "141  5066_20160510_193314_625        psnr  6.00  17.143010\n",
       "142  5066_20160510_193314_625        ssim  6.00   0.845857\n",
       "143  5066_20160510_193314_625  perceptual  6.00   0.113717\n",
       "\n",
       "[416880 rows x 4 columns]"
      ]
     },
     "execution_count": 45,
     "metadata": {},
     "output_type": "execute_result"
    }
   ],
   "source": [
    "import re\n",
    "\n",
    "df = (\n",
    "    pd.read_csv(\n",
    "        ROOT_DIR / \"precomputed_data\" / \"store_current.csv\", index_col=0\n",
    "    )\n",
    "    .drop(columns=\"ev1\")\n",
    "    .rename(columns={\"ev2\": \"ev\"})\n",
    ")\n",
    "\n",
    "p = re.compile(r\"([0-9.]+)\")\n",
    "mask = df[\"metric\"] == \"perceptual\"\n",
    "df.loc[mask, \"score\"] = df.loc[mask, \"score\"].transform(lambda s: p.search(s).group(0))\n",
    "df[\"score\"] = pd.to_numeric(df[\"score\"])\n",
    "df"
   ]
  },
  {
   "cell_type": "code",
   "execution_count": 55,
   "metadata": {},
   "outputs": [
    {
     "data": {
      "text/html": [
       "<div>\n",
       "<style scoped>\n",
       "    .dataframe tbody tr th:only-of-type {\n",
       "        vertical-align: middle;\n",
       "    }\n",
       "\n",
       "    .dataframe tbody tr th {\n",
       "        vertical-align: top;\n",
       "    }\n",
       "\n",
       "    .dataframe thead th {\n",
       "        text-align: right;\n",
       "    }\n",
       "</style>\n",
       "<table border=\"1\" class=\"dataframe\">\n",
       "  <thead>\n",
       "    <tr style=\"text-align: right;\">\n",
       "      <th></th>\n",
       "      <th>mean</th>\n",
       "      <th>std</th>\n",
       "      <th>min</th>\n",
       "      <th>max</th>\n",
       "    </tr>\n",
       "    <tr>\n",
       "      <th>metric</th>\n",
       "      <th></th>\n",
       "      <th></th>\n",
       "      <th></th>\n",
       "      <th></th>\n",
       "    </tr>\n",
       "  </thead>\n",
       "  <tbody>\n",
       "    <tr>\n",
       "      <th>perceptual</th>\n",
       "      <td>0.183580</td>\n",
       "      <td>0.146395</td>\n",
       "      <td>0.001431</td>\n",
       "      <td>0.853125</td>\n",
       "    </tr>\n",
       "    <tr>\n",
       "      <th>psnr</th>\n",
       "      <td>16.431658</td>\n",
       "      <td>6.014727</td>\n",
       "      <td>5.739877</td>\n",
       "      <td>47.463439</td>\n",
       "    </tr>\n",
       "    <tr>\n",
       "      <th>rmse</th>\n",
       "      <td>0.354830</td>\n",
       "      <td>0.235042</td>\n",
       "      <td>0.007798</td>\n",
       "      <td>0.991846</td>\n",
       "    </tr>\n",
       "    <tr>\n",
       "      <th>ssim</th>\n",
       "      <td>0.724803</td>\n",
       "      <td>0.267346</td>\n",
       "      <td>0.015141</td>\n",
       "      <td>0.997507</td>\n",
       "    </tr>\n",
       "  </tbody>\n",
       "</table>\n",
       "</div>"
      ],
      "text/plain": [
       "                 mean       std       min        max\n",
       "metric                                              \n",
       "perceptual   0.183580  0.146395  0.001431   0.853125\n",
       "psnr        16.431658  6.014727  5.739877  47.463439\n",
       "rmse         0.354830  0.235042  0.007798   0.991846\n",
       "ssim         0.724803  0.267346  0.015141   0.997507"
      ]
     },
     "execution_count": 55,
     "metadata": {},
     "output_type": "execute_result"
    }
   ],
   "source": [
    "grouped = df.set_index(\"name\").groupby([\"metric\"])\n",
    "grouped.describe()[\"score\"][[\"mean\", \"std\", \"min\", \"max\"]]"
   ]
  },
  {
   "cell_type": "code",
   "execution_count": 52,
   "metadata": {},
   "outputs": [
    {
     "data": {
      "text/plain": [
       "metric\n",
       "perceptual    0.001431\n",
       "psnr          5.739877\n",
       "rmse          0.007798\n",
       "ssim          0.015141\n",
       "Name: score, dtype: float64"
      ]
     },
     "execution_count": 52,
     "metadata": {},
     "output_type": "execute_result"
    }
   ],
   "source": [
    "grouped.min()[\"score\"]"
   ]
  },
  {
   "cell_type": "code",
   "execution_count": 9,
   "metadata": {},
   "outputs": [
    {
     "data": {
      "text/plain": [
       "metric\n",
       "psnr    16\n",
       "rmse    72\n",
       "ssim    17\n",
       "Name: score, dtype: int64"
      ]
     },
     "execution_count": 9,
     "metadata": {},
     "output_type": "execute_result"
    }
   ],
   "source": [
    "ind_minscore[\"5066_20160416_100212_436\"]"
   ]
  },
  {
   "cell_type": "code",
   "execution_count": 20,
   "metadata": {},
   "outputs": [],
   "source": [
    "df2 = pd.read_csv(ROOT_DIR / \"precomputed_data\" / \"store_no_synth.csv\")\n",
    "df2 = df2[(df2[\"ev1\"] == 0) | (df2[\"ev2\"] == 0)]"
   ]
  },
  {
   "cell_type": "code",
   "execution_count": 21,
   "metadata": {},
   "outputs": [
    {
     "data": {
      "text/html": [
       "<div>\n",
       "<style scoped>\n",
       "    .dataframe tbody tr th:only-of-type {\n",
       "        vertical-align: middle;\n",
       "    }\n",
       "\n",
       "    .dataframe tbody tr th {\n",
       "        vertical-align: top;\n",
       "    }\n",
       "\n",
       "    .dataframe thead th {\n",
       "        text-align: right;\n",
       "    }\n",
       "</style>\n",
       "<table border=\"1\" class=\"dataframe\">\n",
       "  <thead>\n",
       "    <tr style=\"text-align: right;\">\n",
       "      <th></th>\n",
       "      <th>name</th>\n",
       "      <th>metric</th>\n",
       "      <th>score</th>\n",
       "      <th>ev</th>\n",
       "    </tr>\n",
       "  </thead>\n",
       "  <tbody>\n",
       "    <tr>\n",
       "      <th>33</th>\n",
       "      <td>0009_20160703_160626_325</td>\n",
       "      <td>mse</td>\n",
       "      <td>344.949785</td>\n",
       "      <td>-3.00</td>\n",
       "    </tr>\n",
       "    <tr>\n",
       "      <th>34</th>\n",
       "      <td>0009_20160703_160626_325</td>\n",
       "      <td>ssim</td>\n",
       "      <td>0.951258</td>\n",
       "      <td>-3.00</td>\n",
       "    </tr>\n",
       "    <tr>\n",
       "      <th>35</th>\n",
       "      <td>0009_20160703_160626_325</td>\n",
       "      <td>perceptual</td>\n",
       "      <td>0.049351</td>\n",
       "      <td>-3.00</td>\n",
       "    </tr>\n",
       "    <tr>\n",
       "      <th>117</th>\n",
       "      <td>0009_20160703_160626_325</td>\n",
       "      <td>mse</td>\n",
       "      <td>353.442578</td>\n",
       "      <td>-2.75</td>\n",
       "    </tr>\n",
       "    <tr>\n",
       "      <th>118</th>\n",
       "      <td>0009_20160703_160626_325</td>\n",
       "      <td>ssim</td>\n",
       "      <td>0.951578</td>\n",
       "      <td>-2.75</td>\n",
       "    </tr>\n",
       "    <tr>\n",
       "      <th>...</th>\n",
       "      <td>...</td>\n",
       "      <td>...</td>\n",
       "      <td>...</td>\n",
       "      <td>...</td>\n",
       "    </tr>\n",
       "    <tr>\n",
       "      <th>7230337</th>\n",
       "      <td>33TJ_20150730_201700_327</td>\n",
       "      <td>ssim</td>\n",
       "      <td>0.808433</td>\n",
       "      <td>5.75</td>\n",
       "    </tr>\n",
       "    <tr>\n",
       "      <th>7230338</th>\n",
       "      <td>33TJ_20150730_201700_327</td>\n",
       "      <td>perceptual</td>\n",
       "      <td>0.161453</td>\n",
       "      <td>5.75</td>\n",
       "    </tr>\n",
       "    <tr>\n",
       "      <th>7230339</th>\n",
       "      <td>33TJ_20150730_201700_327</td>\n",
       "      <td>mse</td>\n",
       "      <td>3017.795220</td>\n",
       "      <td>6.00</td>\n",
       "    </tr>\n",
       "    <tr>\n",
       "      <th>7230340</th>\n",
       "      <td>33TJ_20150730_201700_327</td>\n",
       "      <td>ssim</td>\n",
       "      <td>0.789549</td>\n",
       "      <td>6.00</td>\n",
       "    </tr>\n",
       "    <tr>\n",
       "      <th>7230341</th>\n",
       "      <td>33TJ_20150730_201700_327</td>\n",
       "      <td>perceptual</td>\n",
       "      <td>0.170087</td>\n",
       "      <td>6.00</td>\n",
       "    </tr>\n",
       "  </tbody>\n",
       "</table>\n",
       "<p>390852 rows × 4 columns</p>\n",
       "</div>"
      ],
      "text/plain": [
       "                             name      metric        score    ev\n",
       "33       0009_20160703_160626_325         mse   344.949785 -3.00\n",
       "34       0009_20160703_160626_325        ssim     0.951258 -3.00\n",
       "35       0009_20160703_160626_325  perceptual     0.049351 -3.00\n",
       "117      0009_20160703_160626_325         mse   353.442578 -2.75\n",
       "118      0009_20160703_160626_325        ssim     0.951578 -2.75\n",
       "...                           ...         ...          ...   ...\n",
       "7230337  33TJ_20150730_201700_327        ssim     0.808433  5.75\n",
       "7230338  33TJ_20150730_201700_327  perceptual     0.161453  5.75\n",
       "7230339  33TJ_20150730_201700_327         mse  3017.795220  6.00\n",
       "7230340  33TJ_20150730_201700_327        ssim     0.789549  6.00\n",
       "7230341  33TJ_20150730_201700_327  perceptual     0.170087  6.00\n",
       "\n",
       "[390852 rows x 4 columns]"
      ]
     },
     "execution_count": 21,
     "metadata": {},
     "output_type": "execute_result"
    }
   ],
   "source": [
    "df2[\"ev\"] = df2[[\"ev1\", \"ev2\"]].apply(\n",
    "    lambda evs: [e for e in evs if e != 0][0], axis=1\n",
    ")\n",
    "df2 = df2.drop(columns=[\"ev1\", \"ev2\"])\n",
    "df2"
   ]
  },
  {
   "cell_type": "code",
   "execution_count": 32,
   "metadata": {},
   "outputs": [
    {
     "data": {
      "text/plain": [
       "131.68803635158815"
      ]
     },
     "execution_count": 32,
     "metadata": {},
     "output_type": "execute_result"
    }
   ],
   "source": [
    "import numpy as np\n",
    "rmse = df2[df2[\"metric\"] == \"mse\"]\n",
    "rmse = rmse[\"score\"].apply(np.sqrt)\n",
    "rmse.max()"
   ]
  },
  {
   "cell_type": "code",
   "execution_count": 33,
   "metadata": {},
   "outputs": [
    {
     "data": {
      "text/plain": [
       "name      c483_20150901_211303_855\n",
       "metric                        rmse\n",
       "ev                               6\n",
       "score                      1.14268\n",
       "dtype: object"
      ]
     },
     "execution_count": 33,
     "metadata": {},
     "output_type": "execute_result"
    }
   ],
   "source": [
    "df[df[\"metric\"] == \"rmse\"]"
   ]
  },
  {
   "cell_type": "code",
   "execution_count": null,
   "metadata": {},
   "outputs": [],
   "source": []
  }
 ],
 "metadata": {
  "kernelspec": {
   "display_name": "DHDRNet",
   "language": "python",
   "name": "dhdrnet"
  },
  "language_info": {
   "codemirror_mode": {
    "name": "ipython",
    "version": 3
   },
   "file_extension": ".py",
   "mimetype": "text/x-python",
   "name": "python",
   "nbconvert_exporter": "python",
   "pygments_lexer": "ipython3",
   "version": "3.8.6"
  }
 },
 "nbformat": 4,
 "nbformat_minor": 4
}
