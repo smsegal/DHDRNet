{
 "cells": [
  {
   "cell_type": "code",
   "execution_count": 1,
   "metadata": {
    "collapsed": false,
    "jupyter": {
     "outputs_hidden": false
    }
   },
   "outputs": [
    {
     "name": "stdout",
     "output_type": "stream",
     "text": [
      "The autoreload extension is already loaded. To reload it, use:\n",
      "  %reload_ext autoreload\n"
     ]
    }
   ],
   "source": [
    "%load_ext autoreload\n",
    "%autoreload 2\n",
    "%matplotlib inline"
   ]
  },
  {
   "cell_type": "code",
   "execution_count": 29,
   "metadata": {
    "collapsed": false,
    "jupyter": {
     "outputs_hidden": false
    }
   },
   "outputs": [],
   "source": [
    "import numpy as np\n",
    "import pandas as pd\n",
    "import matplotlib.pyplot as plt\n",
    "from dhdrnet.util import DATA_DIR, ROOT_DIR\n",
    "\n",
    "\n",
    "figdir = ROOT_DIR / \"figures\""
   ]
  },
  {
   "cell_type": "code",
   "execution_count": 3,
   "metadata": {
    "collapsed": false,
    "jupyter": {
     "outputs_hidden": false
    }
   },
   "outputs": [
    {
     "data": {
      "text/html": [
       "<div>\n",
       "<style scoped>\n",
       "    .dataframe tbody tr th:only-of-type {\n",
       "        vertical-align: middle;\n",
       "    }\n",
       "\n",
       "    .dataframe tbody tr th {\n",
       "        vertical-align: top;\n",
       "    }\n",
       "\n",
       "    .dataframe thead th {\n",
       "        text-align: right;\n",
       "    }\n",
       "</style>\n",
       "<table border=\"1\" class=\"dataframe\">\n",
       "  <thead>\n",
       "    <tr style=\"text-align: right;\">\n",
       "      <th></th>\n",
       "      <th>ev</th>\n",
       "      <th>name</th>\n",
       "      <th>metric</th>\n",
       "      <th>score</th>\n",
       "    </tr>\n",
       "  </thead>\n",
       "  <tbody>\n",
       "    <tr>\n",
       "      <th>1584</th>\n",
       "      <td>-3.00</td>\n",
       "      <td>5066_20160724_121618_110</td>\n",
       "      <td>rmse</td>\n",
       "      <td>16.201134</td>\n",
       "    </tr>\n",
       "    <tr>\n",
       "      <th>1585</th>\n",
       "      <td>-3.00</td>\n",
       "      <td>5066_20160724_121618_110</td>\n",
       "      <td>psnr</td>\n",
       "      <td>23.939895</td>\n",
       "    </tr>\n",
       "    <tr>\n",
       "      <th>1586</th>\n",
       "      <td>-3.00</td>\n",
       "      <td>5066_20160724_121618_110</td>\n",
       "      <td>ssim</td>\n",
       "      <td>0.965922</td>\n",
       "    </tr>\n",
       "    <tr>\n",
       "      <th>1587</th>\n",
       "      <td>-3.00</td>\n",
       "      <td>5066_20160724_121618_110</td>\n",
       "      <td>perceptual</td>\n",
       "      <td>0.047302</td>\n",
       "    </tr>\n",
       "    <tr>\n",
       "      <th>1588</th>\n",
       "      <td>-2.75</td>\n",
       "      <td>5066_20160724_121618_110</td>\n",
       "      <td>rmse</td>\n",
       "      <td>16.540948</td>\n",
       "    </tr>\n",
       "    <tr>\n",
       "      <th>...</th>\n",
       "      <td>...</td>\n",
       "      <td>...</td>\n",
       "      <td>...</td>\n",
       "      <td>...</td>\n",
       "    </tr>\n",
       "    <tr>\n",
       "      <th>523723</th>\n",
       "      <td>5.75</td>\n",
       "      <td>0043_20160923_122514_781</td>\n",
       "      <td>perceptual</td>\n",
       "      <td>0.148934</td>\n",
       "    </tr>\n",
       "    <tr>\n",
       "      <th>523724</th>\n",
       "      <td>6.00</td>\n",
       "      <td>0043_20160923_122514_781</td>\n",
       "      <td>rmse</td>\n",
       "      <td>35.136912</td>\n",
       "    </tr>\n",
       "    <tr>\n",
       "      <th>523725</th>\n",
       "      <td>6.00</td>\n",
       "      <td>0043_20160923_122514_781</td>\n",
       "      <td>psnr</td>\n",
       "      <td>17.215532</td>\n",
       "    </tr>\n",
       "    <tr>\n",
       "      <th>523726</th>\n",
       "      <td>6.00</td>\n",
       "      <td>0043_20160923_122514_781</td>\n",
       "      <td>ssim</td>\n",
       "      <td>0.877194</td>\n",
       "    </tr>\n",
       "    <tr>\n",
       "      <th>523727</th>\n",
       "      <td>6.00</td>\n",
       "      <td>0043_20160923_122514_781</td>\n",
       "      <td>perceptual</td>\n",
       "      <td>0.152870</td>\n",
       "    </tr>\n",
       "  </tbody>\n",
       "</table>\n",
       "<p>104256 rows × 4 columns</p>\n",
       "</div>"
      ],
      "text/plain": [
       "          ev                      name      metric      score\n",
       "1584   -3.00  5066_20160724_121618_110        rmse  16.201134\n",
       "1585   -3.00  5066_20160724_121618_110        psnr  23.939895\n",
       "1586   -3.00  5066_20160724_121618_110        ssim   0.965922\n",
       "1587   -3.00  5066_20160724_121618_110  perceptual   0.047302\n",
       "1588   -2.75  5066_20160724_121618_110        rmse  16.540948\n",
       "...      ...                       ...         ...        ...\n",
       "523723  5.75  0043_20160923_122514_781  perceptual   0.148934\n",
       "523724  6.00  0043_20160923_122514_781        rmse  35.136912\n",
       "523725  6.00  0043_20160923_122514_781        psnr  17.215532\n",
       "523726  6.00  0043_20160923_122514_781        ssim   0.877194\n",
       "523727  6.00  0043_20160923_122514_781  perceptual   0.152870\n",
       "\n",
       "[104256 rows x 4 columns]"
      ]
     },
     "execution_count": 3,
     "metadata": {},
     "output_type": "execute_result"
    }
   ],
   "source": [
    "df = (\n",
    "    pd.read_csv(\n",
    "        ROOT_DIR / \"precomputed_data\" / \"store_2020-10-27.csv\", index_col=0\n",
    "    )\n",
    "    .drop(columns=\"ev1\")\n",
    "    .rename(columns={\"ev2\": \"ev\"})\n",
    ")\n",
    "names = pd.read_csv(ROOT_DIR / \"precomputed_data\" / \"test_current.csv\")\n",
    "df = df[df[\"name\"].isin(names[\"names\"])]\n",
    "df = df.drop_duplicates()\n",
    "df"
   ]
  },
  {
   "cell_type": "code",
   "execution_count": 4,
   "metadata": {
    "collapsed": false,
    "jupyter": {
     "outputs_hidden": false
    }
   },
   "outputs": [
    {
     "data": {
      "text/html": [
       "<div>\n",
       "<style scoped>\n",
       "    .dataframe tbody tr th:only-of-type {\n",
       "        vertical-align: middle;\n",
       "    }\n",
       "\n",
       "    .dataframe tbody tr th {\n",
       "        vertical-align: top;\n",
       "    }\n",
       "\n",
       "    .dataframe thead th {\n",
       "        text-align: right;\n",
       "    }\n",
       "</style>\n",
       "<table border=\"1\" class=\"dataframe\">\n",
       "  <thead>\n",
       "    <tr style=\"text-align: right;\">\n",
       "      <th></th>\n",
       "      <th>mean</th>\n",
       "      <th>std</th>\n",
       "    </tr>\n",
       "    <tr>\n",
       "      <th>metric</th>\n",
       "      <th></th>\n",
       "      <th></th>\n",
       "    </tr>\n",
       "  </thead>\n",
       "  <tbody>\n",
       "    <tr>\n",
       "      <th>perceptual</th>\n",
       "      <td>0.152325</td>\n",
       "      <td>0.112680</td>\n",
       "    </tr>\n",
       "    <tr>\n",
       "      <th>psnr</th>\n",
       "      <td>18.004786</td>\n",
       "      <td>5.801761</td>\n",
       "    </tr>\n",
       "    <tr>\n",
       "      <th>rmse</th>\n",
       "      <td>39.081830</td>\n",
       "      <td>23.139358</td>\n",
       "    </tr>\n",
       "    <tr>\n",
       "      <th>ssim</th>\n",
       "      <td>0.769130</td>\n",
       "      <td>0.231517</td>\n",
       "    </tr>\n",
       "  </tbody>\n",
       "</table>\n",
       "</div>"
      ],
      "text/plain": [
       "                 mean        std\n",
       "metric                          \n",
       "perceptual   0.152325   0.112680\n",
       "psnr        18.004786   5.801761\n",
       "rmse        39.081830  23.139358\n",
       "ssim         0.769130   0.231517"
      ]
     },
     "execution_count": 4,
     "metadata": {},
     "output_type": "execute_result"
    }
   ],
   "source": [
    "grouped = df.set_index(\"name\").groupby([\"metric\"])\n",
    "grouped.describe()[\"score\"][[\"mean\", \"std\"]]"
   ]
  },
  {
   "cell_type": "code",
   "execution_count": 5,
   "metadata": {
    "collapsed": false,
    "jupyter": {
     "outputs_hidden": false
    }
   },
   "outputs": [
    {
     "data": {
      "text/html": [
       "<div>\n",
       "<style scoped>\n",
       "    .dataframe tbody tr th:only-of-type {\n",
       "        vertical-align: middle;\n",
       "    }\n",
       "\n",
       "    .dataframe tbody tr th {\n",
       "        vertical-align: top;\n",
       "    }\n",
       "\n",
       "    .dataframe thead th {\n",
       "        text-align: right;\n",
       "    }\n",
       "</style>\n",
       "<table border=\"1\" class=\"dataframe\">\n",
       "  <thead>\n",
       "    <tr style=\"text-align: right;\">\n",
       "      <th></th>\n",
       "      <th>ev</th>\n",
       "      <th>name</th>\n",
       "      <th>metric</th>\n",
       "      <th>score</th>\n",
       "    </tr>\n",
       "  </thead>\n",
       "  <tbody>\n",
       "    <tr>\n",
       "      <th>188143</th>\n",
       "      <td>2.00</td>\n",
       "      <td>0006_20160721_170707_736</td>\n",
       "      <td>perceptual</td>\n",
       "      <td>0.031581</td>\n",
       "    </tr>\n",
       "    <tr>\n",
       "      <th>188168</th>\n",
       "      <td>3.75</td>\n",
       "      <td>0006_20160721_170707_736</td>\n",
       "      <td>rmse</td>\n",
       "      <td>11.903806</td>\n",
       "    </tr>\n",
       "    <tr>\n",
       "      <th>286935</th>\n",
       "      <td>2.50</td>\n",
       "      <td>0006_20160721_175239_909</td>\n",
       "      <td>perceptual</td>\n",
       "      <td>0.058179</td>\n",
       "    </tr>\n",
       "    <tr>\n",
       "      <th>286956</th>\n",
       "      <td>4.00</td>\n",
       "      <td>0006_20160721_175239_909</td>\n",
       "      <td>rmse</td>\n",
       "      <td>9.563386</td>\n",
       "    </tr>\n",
       "    <tr>\n",
       "      <th>377243</th>\n",
       "      <td>3.75</td>\n",
       "      <td>0006_20160721_181525_062</td>\n",
       "      <td>perceptual</td>\n",
       "      <td>0.049348</td>\n",
       "    </tr>\n",
       "    <tr>\n",
       "      <th>...</th>\n",
       "      <td>...</td>\n",
       "      <td>...</td>\n",
       "      <td>...</td>\n",
       "      <td>...</td>\n",
       "    </tr>\n",
       "    <tr>\n",
       "      <th>413372</th>\n",
       "      <td>3.00</td>\n",
       "      <td>c483_20150901_195108_436</td>\n",
       "      <td>rmse</td>\n",
       "      <td>19.015955</td>\n",
       "    </tr>\n",
       "    <tr>\n",
       "      <th>71359</th>\n",
       "      <td>2.00</td>\n",
       "      <td>c483_20150901_214630_530</td>\n",
       "      <td>perceptual</td>\n",
       "      <td>0.059056</td>\n",
       "    </tr>\n",
       "    <tr>\n",
       "      <th>71380</th>\n",
       "      <td>3.50</td>\n",
       "      <td>c483_20150901_214630_530</td>\n",
       "      <td>rmse</td>\n",
       "      <td>8.471777</td>\n",
       "    </tr>\n",
       "    <tr>\n",
       "      <th>71967</th>\n",
       "      <td>4.00</td>\n",
       "      <td>c483_20150901_221141_886</td>\n",
       "      <td>perceptual</td>\n",
       "      <td>0.043705</td>\n",
       "    </tr>\n",
       "    <tr>\n",
       "      <th>71956</th>\n",
       "      <td>3.50</td>\n",
       "      <td>c483_20150901_221141_886</td>\n",
       "      <td>rmse</td>\n",
       "      <td>6.599498</td>\n",
       "    </tr>\n",
       "  </tbody>\n",
       "</table>\n",
       "<p>1448 rows × 4 columns</p>\n",
       "</div>"
      ],
      "text/plain": [
       "          ev                      name      metric      score\n",
       "188143  2.00  0006_20160721_170707_736  perceptual   0.031581\n",
       "188168  3.75  0006_20160721_170707_736        rmse  11.903806\n",
       "286935  2.50  0006_20160721_175239_909  perceptual   0.058179\n",
       "286956  4.00  0006_20160721_175239_909        rmse   9.563386\n",
       "377243  3.75  0006_20160721_181525_062  perceptual   0.049348\n",
       "...      ...                       ...         ...        ...\n",
       "413372  3.00  c483_20150901_195108_436        rmse  19.015955\n",
       "71359   2.00  c483_20150901_214630_530  perceptual   0.059056\n",
       "71380   3.50  c483_20150901_214630_530        rmse   8.471777\n",
       "71967   4.00  c483_20150901_221141_886  perceptual   0.043705\n",
       "71956   3.50  c483_20150901_221141_886        rmse   6.599498\n",
       "\n",
       "[1448 rows x 4 columns]"
      ]
     },
     "execution_count": 5,
     "metadata": {},
     "output_type": "execute_result"
    }
   ],
   "source": [
    "idxmins = (\n",
    "    df[(df[\"metric\"] == \"perceptual\") | (df[\"metric\"] == \"rmse\")]\n",
    "    .groupby([\"name\", \"metric\"])[\"score\"]\n",
    "    .idxmin()\n",
    ")\n",
    "best_scores_min = df.loc[idxmins]\n",
    "best_scores_min\n",
    "# this is the minimum score for each metric for each image\n",
    "# unfortunately we want min for mse and perceptual\n",
    "# and maxes for psnr, ssim"
   ]
  },
  {
   "cell_type": "code",
   "execution_count": 6,
   "metadata": {
    "collapsed": false,
    "jupyter": {
     "outputs_hidden": false
    }
   },
   "outputs": [
    {
     "data": {
      "text/html": [
       "<div>\n",
       "<style scoped>\n",
       "    .dataframe tbody tr th:only-of-type {\n",
       "        vertical-align: middle;\n",
       "    }\n",
       "\n",
       "    .dataframe tbody tr th {\n",
       "        vertical-align: top;\n",
       "    }\n",
       "\n",
       "    .dataframe thead th {\n",
       "        text-align: right;\n",
       "    }\n",
       "</style>\n",
       "<table border=\"1\" class=\"dataframe\">\n",
       "  <thead>\n",
       "    <tr style=\"text-align: right;\">\n",
       "      <th></th>\n",
       "      <th>ev</th>\n",
       "      <th>name</th>\n",
       "      <th>metric</th>\n",
       "      <th>score</th>\n",
       "    </tr>\n",
       "  </thead>\n",
       "  <tbody>\n",
       "    <tr>\n",
       "      <th>188169</th>\n",
       "      <td>3.75</td>\n",
       "      <td>0006_20160721_170707_736</td>\n",
       "      <td>psnr</td>\n",
       "      <td>26.617087</td>\n",
       "    </tr>\n",
       "    <tr>\n",
       "      <th>188142</th>\n",
       "      <td>2.00</td>\n",
       "      <td>0006_20160721_170707_736</td>\n",
       "      <td>ssim</td>\n",
       "      <td>0.975438</td>\n",
       "    </tr>\n",
       "    <tr>\n",
       "      <th>286957</th>\n",
       "      <td>4.00</td>\n",
       "      <td>0006_20160721_175239_909</td>\n",
       "      <td>psnr</td>\n",
       "      <td>28.518569</td>\n",
       "    </tr>\n",
       "    <tr>\n",
       "      <th>286958</th>\n",
       "      <td>4.00</td>\n",
       "      <td>0006_20160721_175239_909</td>\n",
       "      <td>ssim</td>\n",
       "      <td>0.965298</td>\n",
       "    </tr>\n",
       "    <tr>\n",
       "      <th>377245</th>\n",
       "      <td>4.00</td>\n",
       "      <td>0006_20160721_181525_062</td>\n",
       "      <td>psnr</td>\n",
       "      <td>26.302924</td>\n",
       "    </tr>\n",
       "    <tr>\n",
       "      <th>...</th>\n",
       "      <td>...</td>\n",
       "      <td>...</td>\n",
       "      <td>...</td>\n",
       "      <td>...</td>\n",
       "    </tr>\n",
       "    <tr>\n",
       "      <th>413374</th>\n",
       "      <td>3.00</td>\n",
       "      <td>c483_20150901_195108_436</td>\n",
       "      <td>ssim</td>\n",
       "      <td>0.971811</td>\n",
       "    </tr>\n",
       "    <tr>\n",
       "      <th>71381</th>\n",
       "      <td>3.50</td>\n",
       "      <td>c483_20150901_214630_530</td>\n",
       "      <td>psnr</td>\n",
       "      <td>29.571314</td>\n",
       "    </tr>\n",
       "    <tr>\n",
       "      <th>71386</th>\n",
       "      <td>3.75</td>\n",
       "      <td>c483_20150901_214630_530</td>\n",
       "      <td>ssim</td>\n",
       "      <td>0.970954</td>\n",
       "    </tr>\n",
       "    <tr>\n",
       "      <th>71957</th>\n",
       "      <td>3.50</td>\n",
       "      <td>c483_20150901_221141_886</td>\n",
       "      <td>psnr</td>\n",
       "      <td>31.740585</td>\n",
       "    </tr>\n",
       "    <tr>\n",
       "      <th>71966</th>\n",
       "      <td>4.00</td>\n",
       "      <td>c483_20150901_221141_886</td>\n",
       "      <td>ssim</td>\n",
       "      <td>0.982147</td>\n",
       "    </tr>\n",
       "  </tbody>\n",
       "</table>\n",
       "<p>1448 rows × 4 columns</p>\n",
       "</div>"
      ],
      "text/plain": [
       "          ev                      name metric      score\n",
       "188169  3.75  0006_20160721_170707_736   psnr  26.617087\n",
       "188142  2.00  0006_20160721_170707_736   ssim   0.975438\n",
       "286957  4.00  0006_20160721_175239_909   psnr  28.518569\n",
       "286958  4.00  0006_20160721_175239_909   ssim   0.965298\n",
       "377245  4.00  0006_20160721_181525_062   psnr  26.302924\n",
       "...      ...                       ...    ...        ...\n",
       "413374  3.00  c483_20150901_195108_436   ssim   0.971811\n",
       "71381   3.50  c483_20150901_214630_530   psnr  29.571314\n",
       "71386   3.75  c483_20150901_214630_530   ssim   0.970954\n",
       "71957   3.50  c483_20150901_221141_886   psnr  31.740585\n",
       "71966   4.00  c483_20150901_221141_886   ssim   0.982147\n",
       "\n",
       "[1448 rows x 4 columns]"
      ]
     },
     "execution_count": 6,
     "metadata": {},
     "output_type": "execute_result"
    }
   ],
   "source": [
    "idxmaxs = (\n",
    "    df[(df[\"metric\"] == \"psnr\") | (df[\"metric\"] == \"ssim\")]\n",
    "    .groupby([\"name\", \"metric\"])[\"score\"]\n",
    "    .idxmax()\n",
    ")\n",
    "best_scores_max = df.loc[idxmaxs]\n",
    "best_scores_max"
   ]
  },
  {
   "cell_type": "code",
   "execution_count": 61,
   "metadata": {
    "collapsed": false,
    "jupyter": {
     "outputs_hidden": false
    }
   },
   "outputs": [
    {
     "data": {
      "text/html": [
       "<div>\n",
       "<style scoped>\n",
       "    .dataframe tbody tr th:only-of-type {\n",
       "        vertical-align: middle;\n",
       "    }\n",
       "\n",
       "    .dataframe tbody tr th {\n",
       "        vertical-align: top;\n",
       "    }\n",
       "\n",
       "    .dataframe thead th {\n",
       "        text-align: right;\n",
       "    }\n",
       "</style>\n",
       "<table border=\"1\" class=\"dataframe\">\n",
       "  <thead>\n",
       "    <tr style=\"text-align: right;\">\n",
       "      <th></th>\n",
       "      <th>mean</th>\n",
       "      <th>std</th>\n",
       "    </tr>\n",
       "    <tr>\n",
       "      <th>metric</th>\n",
       "      <th></th>\n",
       "      <th></th>\n",
       "    </tr>\n",
       "  </thead>\n",
       "  <tbody>\n",
       "    <tr>\n",
       "      <th>perceptual</th>\n",
       "      <td>0.037905</td>\n",
       "      <td>0.024077</td>\n",
       "    </tr>\n",
       "    <tr>\n",
       "      <th>psnr</th>\n",
       "      <td>29.075697</td>\n",
       "      <td>5.774687</td>\n",
       "    </tr>\n",
       "    <tr>\n",
       "      <th>rmse</th>\n",
       "      <td>10.717247</td>\n",
       "      <td>5.932719</td>\n",
       "    </tr>\n",
       "    <tr>\n",
       "      <th>ssim</th>\n",
       "      <td>0.973383</td>\n",
       "      <td>0.014968</td>\n",
       "    </tr>\n",
       "  </tbody>\n",
       "</table>\n",
       "</div>"
      ],
      "text/plain": [
       "                 mean       std\n",
       "metric                         \n",
       "perceptual   0.037905  0.024077\n",
       "psnr        29.075697  5.774687\n",
       "rmse        10.717247  5.932719\n",
       "ssim         0.973383  0.014968"
      ]
     },
     "execution_count": 61,
     "metadata": {},
     "output_type": "execute_result"
    }
   ],
   "source": [
    "best_scores_df = pd.concat([best_scores_min, best_scores_max])\n",
    "oracle = best_scores_df.groupby([\"metric\"]).describe()[\"score\"][[\"mean\", \"std\"]]\n",
    "oracle"
   ]
  },
  {
   "cell_type": "code",
   "execution_count": 115,
   "metadata": {},
   "outputs": [
    {
     "data": {
      "image/png": "[encoded data removed]",
      "text/plain": [
       "<Figure size 432x288 with 1 Axes>"
      ]
     },
     "metadata": {
      "needs_background": "light"
     },
     "output_type": "display_data"
    },
    {
     "data": {
      "text/plain": [
       "<Figure size 432x288 with 0 Axes>"
      ]
     },
     "metadata": {},
     "output_type": "display_data"
    }
   ],
   "source": [
    "oracle_by_ev = best_scores_df.groupby([\"metric\", \"ev\"]).describe()[\"score\"]\n",
    "plt.scatter(\n",
    "    x=oracle_by_ev[\"mean\"][\"rmse\"].index,\n",
    "    y=oracle_by_ev[\"mean\"][\"rmse\"],\n",
    "    s=oracle_by_ev[\"std\"][\"rmse\"]**2,\n",
    ")\n",
    "plt.xlabel(\"EV\")\n",
    "plt.ylabel(\"RMSE\")\n",
    "plt.show()\n",
    "plt.savefig(figdir/ \"RMSE_best_scores.pdf\")"
   ]
  },
  {
   "cell_type": "code",
   "execution_count": 9,
   "metadata": {
    "collapsed": false,
    "jupyter": {
     "outputs_hidden": false
    }
   },
   "outputs": [
    {
     "data": {
      "text/html": [
       "<div>\n",
       "<style scoped>\n",
       "    .dataframe tbody tr th:only-of-type {\n",
       "        vertical-align: middle;\n",
       "    }\n",
       "\n",
       "    .dataframe tbody tr th {\n",
       "        vertical-align: top;\n",
       "    }\n",
       "\n",
       "    .dataframe thead th {\n",
       "        text-align: right;\n",
       "    }\n",
       "</style>\n",
       "<table border=\"1\" class=\"dataframe\">\n",
       "  <thead>\n",
       "    <tr style=\"text-align: right;\">\n",
       "      <th></th>\n",
       "      <th>mean</th>\n",
       "      <th>std</th>\n",
       "    </tr>\n",
       "    <tr>\n",
       "      <th>metric</th>\n",
       "      <th></th>\n",
       "      <th></th>\n",
       "    </tr>\n",
       "  </thead>\n",
       "  <tbody>\n",
       "    <tr>\n",
       "      <th>perceptual</th>\n",
       "      <td>0.055462</td>\n",
       "      <td>0.038827</td>\n",
       "    </tr>\n",
       "    <tr>\n",
       "      <th>psnr</th>\n",
       "      <td>26.724160</td>\n",
       "      <td>5.663801</td>\n",
       "    </tr>\n",
       "    <tr>\n",
       "      <th>rmse</th>\n",
       "      <td>14.507083</td>\n",
       "      <td>10.176345</td>\n",
       "    </tr>\n",
       "    <tr>\n",
       "      <th>ssim</th>\n",
       "      <td>0.961232</td>\n",
       "      <td>0.023200</td>\n",
       "    </tr>\n",
       "  </tbody>\n",
       "</table>\n",
       "</div>"
      ],
      "text/plain": [
       "                 mean        std\n",
       "metric                          \n",
       "perceptual   0.055462   0.038827\n",
       "psnr        26.724160   5.663801\n",
       "rmse        14.507083  10.176345\n",
       "ssim         0.961232   0.023200"
      ]
     },
     "execution_count": 9,
     "metadata": {},
     "output_type": "execute_result"
    }
   ],
   "source": [
    "df.loc[df[\"ev\"] == 3.5].groupby(\"metric\").describe()[\"score\"][[\"mean\", \"std\"]]"
   ]
  },
  {
   "cell_type": "code",
   "execution_count": 113,
   "metadata": {},
   "outputs": [
    {
     "data": {
      "image/png": "[encoded data removed]",
      "text/plain": [
       "<Figure size 432x288 with 1 Axes>"
      ]
     },
     "metadata": {
      "needs_background": "light"
     },
     "output_type": "display_data"
    },
    {
     "data": {
      "text/plain": [
       "<Figure size 432x288 with 0 Axes>"
      ]
     },
     "metadata": {},
     "output_type": "display_data"
    }
   ],
   "source": [
    "df_by_metric = df.groupby([\"metric\", \"ev\"]).describe()[\"score\"]\n",
    "plt.scatter(\n",
    "    x=df_by_metric[\"mean\"][\"rmse\"].index, \n",
    "    y=df_by_metric[\"mean\"][\"rmse\"], \n",
    "    s=0.2*df_by_metric[\"std\"][\"rmse\"]**2\n",
    ")\n",
    "plt.xlabel(\"EV\")\n",
    "plt.ylabel(\"RMSE\")\n",
    "plt.show()\n",
    "plt.savefig(figdir / \"RMSE_by_ev.pdf\")"
   ]
  },
  {
   "cell_type": "code",
   "execution_count": 11,
   "metadata": {
    "collapsed": false,
    "jupyter": {
     "outputs_hidden": false
    }
   },
   "outputs": [],
   "source": [
    "df.loc[df[\"ev\"] == 3.5].groupby(\"metric\").describe()[\"score\"][[\"mean\", \"std\"]].to_latex(\n",
    "    figdir / \"fixed_choice.tex\"\n",
    ")"
   ]
  },
  {
   "cell_type": "code",
   "execution_count": 12,
   "metadata": {
    "collapsed": false,
    "jupyter": {
     "outputs_hidden": false
    }
   },
   "outputs": [
    {
     "data": {
      "text/html": [
       "<div>\n",
       "<style scoped>\n",
       "    .dataframe tbody tr th:only-of-type {\n",
       "        vertical-align: middle;\n",
       "    }\n",
       "\n",
       "    .dataframe tbody tr th {\n",
       "        vertical-align: top;\n",
       "    }\n",
       "\n",
       "    .dataframe thead th {\n",
       "        text-align: right;\n",
       "    }\n",
       "</style>\n",
       "<table border=\"1\" class=\"dataframe\">\n",
       "  <thead>\n",
       "    <tr style=\"text-align: right;\">\n",
       "      <th></th>\n",
       "      <th>name</th>\n",
       "      <th>metric</th>\n",
       "      <th>ev</th>\n",
       "      <th>score</th>\n",
       "    </tr>\n",
       "  </thead>\n",
       "  <tbody>\n",
       "    <tr>\n",
       "      <th>0</th>\n",
       "      <td>0030_20151008_105249_589</td>\n",
       "      <td>rmse</td>\n",
       "      <td>1</td>\n",
       "      <td>39.161667</td>\n",
       "    </tr>\n",
       "    <tr>\n",
       "      <th>1</th>\n",
       "      <td>0030_20151008_105249_589</td>\n",
       "      <td>psnr</td>\n",
       "      <td>1</td>\n",
       "      <td>16.273580</td>\n",
       "    </tr>\n",
       "    <tr>\n",
       "      <th>2</th>\n",
       "      <td>0030_20151008_105249_589</td>\n",
       "      <td>ssim</td>\n",
       "      <td>1</td>\n",
       "      <td>0.812035</td>\n",
       "    </tr>\n",
       "    <tr>\n",
       "      <th>3</th>\n",
       "      <td>0030_20151008_105249_589</td>\n",
       "      <td>rmse</td>\n",
       "      <td>2</td>\n",
       "      <td>25.583744</td>\n",
       "    </tr>\n",
       "    <tr>\n",
       "      <th>4</th>\n",
       "      <td>0030_20151008_105249_589</td>\n",
       "      <td>psnr</td>\n",
       "      <td>2</td>\n",
       "      <td>19.971522</td>\n",
       "    </tr>\n",
       "    <tr>\n",
       "      <th>...</th>\n",
       "      <td>...</td>\n",
       "      <td>...</td>\n",
       "      <td>...</td>\n",
       "      <td>...</td>\n",
       "    </tr>\n",
       "    <tr>\n",
       "      <th>10855</th>\n",
       "      <td>0043_20160923_122514_781</td>\n",
       "      <td>psnr</td>\n",
       "      <td>4</td>\n",
       "      <td>19.521871</td>\n",
       "    </tr>\n",
       "    <tr>\n",
       "      <th>10856</th>\n",
       "      <td>0043_20160923_122514_781</td>\n",
       "      <td>ssim</td>\n",
       "      <td>4</td>\n",
       "      <td>0.928805</td>\n",
       "    </tr>\n",
       "    <tr>\n",
       "      <th>10857</th>\n",
       "      <td>0043_20160923_122514_781</td>\n",
       "      <td>rmse</td>\n",
       "      <td>5</td>\n",
       "      <td>30.929737</td>\n",
       "    </tr>\n",
       "    <tr>\n",
       "      <th>10858</th>\n",
       "      <td>0043_20160923_122514_781</td>\n",
       "      <td>psnr</td>\n",
       "      <td>5</td>\n",
       "      <td>18.323279</td>\n",
       "    </tr>\n",
       "    <tr>\n",
       "      <th>10859</th>\n",
       "      <td>0043_20160923_122514_781</td>\n",
       "      <td>ssim</td>\n",
       "      <td>5</td>\n",
       "      <td>0.919883</td>\n",
       "    </tr>\n",
       "  </tbody>\n",
       "</table>\n",
       "<p>10860 rows × 4 columns</p>\n",
       "</div>"
      ],
      "text/plain": [
       "                           name metric  ev      score\n",
       "0      0030_20151008_105249_589   rmse   1  39.161667\n",
       "1      0030_20151008_105249_589   psnr   1  16.273580\n",
       "2      0030_20151008_105249_589   ssim   1   0.812035\n",
       "3      0030_20151008_105249_589   rmse   2  25.583744\n",
       "4      0030_20151008_105249_589   psnr   2  19.971522\n",
       "...                         ...    ...  ..        ...\n",
       "10855  0043_20160923_122514_781   psnr   4  19.521871\n",
       "10856  0043_20160923_122514_781   ssim   4   0.928805\n",
       "10857  0043_20160923_122514_781   rmse   5  30.929737\n",
       "10858  0043_20160923_122514_781   psnr   5  18.323279\n",
       "10859  0043_20160923_122514_781   ssim   5   0.919883\n",
       "\n",
       "[10860 rows x 4 columns]"
      ]
     },
     "execution_count": 12,
     "metadata": {},
     "output_type": "execute_result"
    }
   ],
   "source": [
    "cdf = pd.read_csv(ROOT_DIR / \"precomputed_data\" / \"store_updown_2020-10-26.csv\").drop_duplicates()\n",
    "cdf.loc[cdf[\"metric\"] == \"rmse\", \"score\"] = cdf.loc[\n",
    "    cdf[\"metric\"] == \"rmse\", \"score\"\n",
    "].apply(np.sqrt)\n",
    "\n",
    "cdf"
   ]
  },
  {
   "cell_type": "code",
   "execution_count": 13,
   "metadata": {
    "collapsed": false,
    "jupyter": {
     "outputs_hidden": false
    }
   },
   "outputs": [
    {
     "data": {
      "text/html": [
       "<div>\n",
       "<style scoped>\n",
       "    .dataframe tbody tr th:only-of-type {\n",
       "        vertical-align: middle;\n",
       "    }\n",
       "\n",
       "    .dataframe tbody tr th {\n",
       "        vertical-align: top;\n",
       "    }\n",
       "\n",
       "    .dataframe thead th {\n",
       "        text-align: right;\n",
       "    }\n",
       "</style>\n",
       "<table border=\"1\" class=\"dataframe\">\n",
       "  <thead>\n",
       "    <tr style=\"text-align: right;\">\n",
       "      <th></th>\n",
       "      <th></th>\n",
       "      <th>mean</th>\n",
       "      <th>std</th>\n",
       "    </tr>\n",
       "    <tr>\n",
       "      <th>ev</th>\n",
       "      <th>metric</th>\n",
       "      <th></th>\n",
       "      <th></th>\n",
       "    </tr>\n",
       "  </thead>\n",
       "  <tbody>\n",
       "    <tr>\n",
       "      <th rowspan=\"3\" valign=\"top\">1</th>\n",
       "      <th>psnr</th>\n",
       "      <td>16.144820</td>\n",
       "      <td>4.237501</td>\n",
       "    </tr>\n",
       "    <tr>\n",
       "      <th>rmse</th>\n",
       "      <td>44.319712</td>\n",
       "      <td>19.385214</td>\n",
       "    </tr>\n",
       "    <tr>\n",
       "      <th>ssim</th>\n",
       "      <td>0.707827</td>\n",
       "      <td>0.226675</td>\n",
       "    </tr>\n",
       "    <tr>\n",
       "      <th rowspan=\"3\" valign=\"top\">2</th>\n",
       "      <th>psnr</th>\n",
       "      <td>20.877057</td>\n",
       "      <td>5.383900</td>\n",
       "    </tr>\n",
       "    <tr>\n",
       "      <th>rmse</th>\n",
       "      <td>27.334192</td>\n",
       "      <td>14.555937</td>\n",
       "    </tr>\n",
       "    <tr>\n",
       "      <th>ssim</th>\n",
       "      <td>0.848401</td>\n",
       "      <td>0.141950</td>\n",
       "    </tr>\n",
       "    <tr>\n",
       "      <th rowspan=\"3\" valign=\"top\">3</th>\n",
       "      <th>psnr</th>\n",
       "      <td>25.248919</td>\n",
       "      <td>3.031392</td>\n",
       "    </tr>\n",
       "    <tr>\n",
       "      <th>rmse</th>\n",
       "      <td>14.784704</td>\n",
       "      <td>5.051738</td>\n",
       "    </tr>\n",
       "    <tr>\n",
       "      <th>ssim</th>\n",
       "      <td>0.943758</td>\n",
       "      <td>0.033221</td>\n",
       "    </tr>\n",
       "    <tr>\n",
       "      <th rowspan=\"3\" valign=\"top\">4</th>\n",
       "      <th>psnr</th>\n",
       "      <td>26.384000</td>\n",
       "      <td>3.998241</td>\n",
       "    </tr>\n",
       "    <tr>\n",
       "      <th>rmse</th>\n",
       "      <td>13.644772</td>\n",
       "      <td>7.042175</td>\n",
       "    </tr>\n",
       "    <tr>\n",
       "      <th>ssim</th>\n",
       "      <td>0.967228</td>\n",
       "      <td>0.020001</td>\n",
       "    </tr>\n",
       "    <tr>\n",
       "      <th rowspan=\"3\" valign=\"top\">5</th>\n",
       "      <th>psnr</th>\n",
       "      <td>19.700461</td>\n",
       "      <td>3.322998</td>\n",
       "    </tr>\n",
       "    <tr>\n",
       "      <th>rmse</th>\n",
       "      <td>28.345435</td>\n",
       "      <td>10.790692</td>\n",
       "    </tr>\n",
       "    <tr>\n",
       "      <th>ssim</th>\n",
       "      <td>0.880723</td>\n",
       "      <td>0.058906</td>\n",
       "    </tr>\n",
       "  </tbody>\n",
       "</table>\n",
       "</div>"
      ],
      "text/plain": [
       "                mean        std\n",
       "ev metric                      \n",
       "1  psnr    16.144820   4.237501\n",
       "   rmse    44.319712  19.385214\n",
       "   ssim     0.707827   0.226675\n",
       "2  psnr    20.877057   5.383900\n",
       "   rmse    27.334192  14.555937\n",
       "   ssim     0.848401   0.141950\n",
       "3  psnr    25.248919   3.031392\n",
       "   rmse    14.784704   5.051738\n",
       "   ssim     0.943758   0.033221\n",
       "4  psnr    26.384000   3.998241\n",
       "   rmse    13.644772   7.042175\n",
       "   ssim     0.967228   0.020001\n",
       "5  psnr    19.700461   3.322998\n",
       "   rmse    28.345435  10.790692\n",
       "   ssim     0.880723   0.058906"
      ]
     },
     "execution_count": 13,
     "metadata": {},
     "output_type": "execute_result"
    }
   ],
   "source": [
    "cdf.groupby([\"ev\", \"metric\"]).describe()[\"score\"][[\"mean\", \"std\"]].to_latex(\n",
    "    figdir / \"conv_choice.tex\"\n",
    ")\n",
    "cdf.groupby([\"ev\", \"metric\"]).describe()[\"score\"][[\"mean\", \"std\"]]"
   ]
  },
  {
   "cell_type": "code",
   "execution_count": 148,
   "metadata": {
    "collapsed": false,
    "jupyter": {
     "outputs_hidden": false
    }
   },
   "outputs": [
    {
     "data": {
      "text/html": [
       "<div>\n",
       "<style scoped>\n",
       "    .dataframe tbody tr th:only-of-type {\n",
       "        vertical-align: middle;\n",
       "    }\n",
       "\n",
       "    .dataframe tbody tr th {\n",
       "        vertical-align: top;\n",
       "    }\n",
       "\n",
       "    .dataframe thead th {\n",
       "        text-align: right;\n",
       "    }\n",
       "</style>\n",
       "<table border=\"1\" class=\"dataframe\">\n",
       "  <thead>\n",
       "    <tr style=\"text-align: right;\">\n",
       "      <th></th>\n",
       "      <th>name</th>\n",
       "      <th>pred</th>\n",
       "    </tr>\n",
       "  </thead>\n",
       "  <tbody>\n",
       "    <tr>\n",
       "      <th>0</th>\n",
       "      <td>0006_20160721_170707_736</td>\n",
       "      <td>[4.25, 1.0, 2.5, 6.0, -0.5, -2.75, -0.75, -1.2...</td>\n",
       "    </tr>\n",
       "    <tr>\n",
       "      <th>1</th>\n",
       "      <td>0006_20160721_175239_909</td>\n",
       "      <td>[4.25, 1.0, 2.5, -0.5, -0.75, 6.0, -2.75, -1.2...</td>\n",
       "    </tr>\n",
       "    <tr>\n",
       "      <th>2</th>\n",
       "      <td>0006_20160721_181525_062</td>\n",
       "      <td>[4.25, 1.0, 2.5, 6.0, -0.75, -0.5, -2.75, -1.2...</td>\n",
       "    </tr>\n",
       "    <tr>\n",
       "      <th>3</th>\n",
       "      <td>0006_20160722_100126_028</td>\n",
       "      <td>[4.25, 1.0, 2.5, -0.75, -0.5, 6.0, -2.75, -1.2...</td>\n",
       "    </tr>\n",
       "    <tr>\n",
       "      <th>4</th>\n",
       "      <td>0006_20160722_100951_201</td>\n",
       "      <td>[4.25, 2.5, 1.0, -0.75, 6.0, -0.5, -2.75, -1.2...</td>\n",
       "    </tr>\n",
       "    <tr>\n",
       "      <th>...</th>\n",
       "      <td>...</td>\n",
       "      <td>...</td>\n",
       "    </tr>\n",
       "    <tr>\n",
       "      <th>719</th>\n",
       "      <td>c483_20150901_173210_443</td>\n",
       "      <td>[4.25, 1.0, 2.5, 6.0, -0.75, -0.5, -2.75, -1.2...</td>\n",
       "    </tr>\n",
       "    <tr>\n",
       "      <th>720</th>\n",
       "      <td>c483_20150901_194029_165</td>\n",
       "      <td>[4.25, 1.0, 2.5, 6.0, -0.75, -2.75, -0.5, 5.25...</td>\n",
       "    </tr>\n",
       "    <tr>\n",
       "      <th>721</th>\n",
       "      <td>c483_20150901_195108_436</td>\n",
       "      <td>[4.25, 1.0, 2.5, 6.0, -0.75, -0.5, -2.75, -1.2...</td>\n",
       "    </tr>\n",
       "    <tr>\n",
       "      <th>722</th>\n",
       "      <td>c483_20150901_214630_530</td>\n",
       "      <td>[4.25, 6.0, 1.0, 2.5, -0.75, -0.5, -2.75, -1.2...</td>\n",
       "    </tr>\n",
       "    <tr>\n",
       "      <th>723</th>\n",
       "      <td>c483_20150901_221141_886</td>\n",
       "      <td>[4.25, 6.0, 1.0, 2.5, -2.75, -0.5, -0.75, -1.2...</td>\n",
       "    </tr>\n",
       "  </tbody>\n",
       "</table>\n",
       "<p>724 rows × 2 columns</p>\n",
       "</div>"
      ],
      "text/plain": [
       "                         name  \\\n",
       "0    0006_20160721_170707_736   \n",
       "1    0006_20160721_175239_909   \n",
       "2    0006_20160721_181525_062   \n",
       "3    0006_20160722_100126_028   \n",
       "4    0006_20160722_100951_201   \n",
       "..                        ...   \n",
       "719  c483_20150901_173210_443   \n",
       "720  c483_20150901_194029_165   \n",
       "721  c483_20150901_195108_436   \n",
       "722  c483_20150901_214630_530   \n",
       "723  c483_20150901_221141_886   \n",
       "\n",
       "                                                  pred  \n",
       "0    [4.25, 1.0, 2.5, 6.0, -0.5, -2.75, -0.75, -1.2...  \n",
       "1    [4.25, 1.0, 2.5, -0.5, -0.75, 6.0, -2.75, -1.2...  \n",
       "2    [4.25, 1.0, 2.5, 6.0, -0.75, -0.5, -2.75, -1.2...  \n",
       "3    [4.25, 1.0, 2.5, -0.75, -0.5, 6.0, -2.75, -1.2...  \n",
       "4    [4.25, 2.5, 1.0, -0.75, 6.0, -0.5, -2.75, -1.2...  \n",
       "..                                                 ...  \n",
       "719  [4.25, 1.0, 2.5, 6.0, -0.75, -0.5, -2.75, -1.2...  \n",
       "720  [4.25, 1.0, 2.5, 6.0, -0.75, -2.75, -0.5, 5.25...  \n",
       "721  [4.25, 1.0, 2.5, 6.0, -0.75, -0.5, -2.75, -1.2...  \n",
       "722  [4.25, 6.0, 1.0, 2.5, -0.75, -0.5, -2.75, -1.2...  \n",
       "723  [4.25, 6.0, 1.0, 2.5, -2.75, -0.5, -0.75, -1.2...  \n",
       "\n",
       "[724 rows x 2 columns]"
      ]
     },
     "execution_count": 148,
     "metadata": {},
     "output_type": "execute_result"
    }
   ],
   "source": [
    "def parse_preds(pred_str):\n",
    "    splits = pred_str.split(\" \")\n",
    "    return [float(s) for s in splits[1:-1] if len(s) > 0]\n",
    "\n",
    "model_name = \"rec\"\n",
    "model_df = pd.read_csv(ROOT_DIR/\"precomputed_data\" / f\"{model_name}_preds.csv\", index_col=0)\n",
    "model_df[\"pred\"] = model_df[\"pred\"].apply(parse_preds)\n",
    "model_df"
   ]
  },
  {
   "cell_type": "code",
   "execution_count": 149,
   "metadata": {
    "collapsed": false,
    "jupyter": {
     "outputs_hidden": false
    }
   },
   "outputs": [],
   "source": [
    "from dhdrnet.util import get_scores_for_preds, get_topk_score_df, get_pred"
   ]
  },
  {
   "cell_type": "code",
   "execution_count": 150,
   "metadata": {
    "collapsed": false,
    "jupyter": {
     "outputs_hidden": false
    }
   },
   "outputs": [
    {
     "data": {
      "text/plain": [
       "ev                              -3\n",
       "name      5066_20160724_121618_110\n",
       "metric                        rmse\n",
       "score                      16.2011\n",
       "Name: 1584, dtype: object"
      ]
     },
     "execution_count": 150,
     "metadata": {},
     "output_type": "execute_result"
    }
   ],
   "source": [
    "# joined = df.set_index(\"name\").join(model_df.set_index(\"name\"))\n",
    "# joined.iloc[0]\n",
    "df.iloc[0]"
   ]
  },
  {
   "cell_type": "code",
   "execution_count": 151,
   "metadata": {
    "collapsed": false,
    "jupyter": {
     "outputs_hidden": false
    }
   },
   "outputs": [
    {
     "data": {
      "text/plain": [
       "name                             0006_20160721_170707_736\n",
       "pred    [4.25, 1.0, 2.5, 6.0, -0.5, -2.75, -0.75, -1.2...\n",
       "Name: 0, dtype: object"
      ]
     },
     "execution_count": 151,
     "metadata": {},
     "output_type": "execute_result"
    }
   ],
   "source": [
    "model_df.iloc[0]"
   ]
  },
  {
   "cell_type": "code",
   "execution_count": 152,
   "metadata": {
    "collapsed": false,
    "jupyter": {
     "outputs_hidden": false
    }
   },
   "outputs": [
    {
     "data": {
      "text/html": [
       "<div>\n",
       "<style scoped>\n",
       "    .dataframe tbody tr th:only-of-type {\n",
       "        vertical-align: middle;\n",
       "    }\n",
       "\n",
       "    .dataframe tbody tr th {\n",
       "        vertical-align: top;\n",
       "    }\n",
       "\n",
       "    .dataframe thead th {\n",
       "        text-align: right;\n",
       "    }\n",
       "</style>\n",
       "<table border=\"1\" class=\"dataframe\">\n",
       "  <thead>\n",
       "    <tr style=\"text-align: right;\">\n",
       "      <th></th>\n",
       "      <th>count</th>\n",
       "      <th>mean</th>\n",
       "      <th>std</th>\n",
       "      <th>min</th>\n",
       "      <th>25%</th>\n",
       "      <th>50%</th>\n",
       "      <th>75%</th>\n",
       "      <th>max</th>\n",
       "    </tr>\n",
       "    <tr>\n",
       "      <th>metric</th>\n",
       "      <th></th>\n",
       "      <th></th>\n",
       "      <th></th>\n",
       "      <th></th>\n",
       "      <th></th>\n",
       "      <th></th>\n",
       "      <th></th>\n",
       "      <th></th>\n",
       "    </tr>\n",
       "  </thead>\n",
       "  <tbody>\n",
       "    <tr>\n",
       "      <th>perceptual</th>\n",
       "      <td>6892.0</td>\n",
       "      <td>0.163384</td>\n",
       "      <td>0.111802</td>\n",
       "      <td>0.003489</td>\n",
       "      <td>0.080238</td>\n",
       "      <td>0.131865</td>\n",
       "      <td>0.215342</td>\n",
       "      <td>0.640015</td>\n",
       "    </tr>\n",
       "    <tr>\n",
       "      <th>psnr</th>\n",
       "      <td>6892.0</td>\n",
       "      <td>17.076636</td>\n",
       "      <td>5.054912</td>\n",
       "      <td>7.166248</td>\n",
       "      <td>12.985611</td>\n",
       "      <td>16.941886</td>\n",
       "      <td>20.746514</td>\n",
       "      <td>35.662362</td>\n",
       "    </tr>\n",
       "    <tr>\n",
       "      <th>rmse</th>\n",
       "      <td>6892.0</td>\n",
       "      <td>41.811926</td>\n",
       "      <td>22.703703</td>\n",
       "      <td>4.201671</td>\n",
       "      <td>23.399927</td>\n",
       "      <td>36.261508</td>\n",
       "      <td>57.182043</td>\n",
       "      <td>111.744920</td>\n",
       "    </tr>\n",
       "    <tr>\n",
       "      <th>ssim</th>\n",
       "      <td>6892.0</td>\n",
       "      <td>0.749370</td>\n",
       "      <td>0.230272</td>\n",
       "      <td>0.049605</td>\n",
       "      <td>0.631014</td>\n",
       "      <td>0.834887</td>\n",
       "      <td>0.934858</td>\n",
       "      <td>0.993281</td>\n",
       "    </tr>\n",
       "  </tbody>\n",
       "</table>\n",
       "</div>"
      ],
      "text/plain": [
       "             count       mean        std       min        25%        50%  \\\n",
       "metric                                                                     \n",
       "perceptual  6892.0   0.163384   0.111802  0.003489   0.080238   0.131865   \n",
       "psnr        6892.0  17.076636   5.054912  7.166248  12.985611  16.941886   \n",
       "rmse        6892.0  41.811926  22.703703  4.201671  23.399927  36.261508   \n",
       "ssim        6892.0   0.749370   0.230272  0.049605   0.631014   0.834887   \n",
       "\n",
       "                  75%         max  \n",
       "metric                             \n",
       "perceptual   0.215342    0.640015  \n",
       "psnr        20.746514   35.662362  \n",
       "rmse        57.182043  111.744920  \n",
       "ssim         0.934858    0.993281  "
      ]
     },
     "execution_count": 152,
     "metadata": {},
     "output_type": "execute_result"
    }
   ],
   "source": [
    "t = get_scores_for_preds(model_df, df)\n",
    "t.groupby(\"metric\").describe()[\"score\"]  # These are the top-10 accuracies"
   ]
  },
  {
   "cell_type": "code",
   "execution_count": 153,
   "metadata": {
    "collapsed": false,
    "jupyter": {
     "outputs_hidden": false
    }
   },
   "outputs": [
    {
     "data": {
      "text/html": [
       "<div>\n",
       "<style scoped>\n",
       "    .dataframe tbody tr th:only-of-type {\n",
       "        vertical-align: middle;\n",
       "    }\n",
       "\n",
       "    .dataframe tbody tr th {\n",
       "        vertical-align: top;\n",
       "    }\n",
       "\n",
       "    .dataframe thead th {\n",
       "        text-align: right;\n",
       "    }\n",
       "</style>\n",
       "<table border=\"1\" class=\"dataframe\">\n",
       "  <thead>\n",
       "    <tr style=\"text-align: right;\">\n",
       "      <th></th>\n",
       "      <th>ev</th>\n",
       "      <th>name</th>\n",
       "      <th>metric</th>\n",
       "      <th>score</th>\n",
       "    </tr>\n",
       "  </thead>\n",
       "  <tbody>\n",
       "    <tr>\n",
       "      <th>188151</th>\n",
       "      <td>2.50</td>\n",
       "      <td>0006_20160721_170707_736</td>\n",
       "      <td>perceptual</td>\n",
       "      <td>0.048308</td>\n",
       "    </tr>\n",
       "    <tr>\n",
       "      <th>188176</th>\n",
       "      <td>4.25</td>\n",
       "      <td>0006_20160721_170707_736</td>\n",
       "      <td>rmse</td>\n",
       "      <td>13.822243</td>\n",
       "    </tr>\n",
       "    <tr>\n",
       "      <th>286935</th>\n",
       "      <td>2.50</td>\n",
       "      <td>0006_20160721_175239_909</td>\n",
       "      <td>perceptual</td>\n",
       "      <td>0.058179</td>\n",
       "    </tr>\n",
       "    <tr>\n",
       "      <th>286960</th>\n",
       "      <td>4.25</td>\n",
       "      <td>0006_20160721_175239_909</td>\n",
       "      <td>rmse</td>\n",
       "      <td>10.493872</td>\n",
       "    </tr>\n",
       "    <tr>\n",
       "      <th>377223</th>\n",
       "      <td>2.50</td>\n",
       "      <td>0006_20160721_181525_062</td>\n",
       "      <td>perceptual</td>\n",
       "      <td>0.051621</td>\n",
       "    </tr>\n",
       "    <tr>\n",
       "      <th>...</th>\n",
       "      <td>...</td>\n",
       "      <td>...</td>\n",
       "      <td>...</td>\n",
       "      <td>...</td>\n",
       "    </tr>\n",
       "    <tr>\n",
       "      <th>413366</th>\n",
       "      <td>2.50</td>\n",
       "      <td>c483_20150901_195108_436</td>\n",
       "      <td>ssim</td>\n",
       "      <td>0.953198</td>\n",
       "    </tr>\n",
       "    <tr>\n",
       "      <th>71365</th>\n",
       "      <td>2.50</td>\n",
       "      <td>c483_20150901_214630_530</td>\n",
       "      <td>psnr</td>\n",
       "      <td>27.256031</td>\n",
       "    </tr>\n",
       "    <tr>\n",
       "      <th>71366</th>\n",
       "      <td>2.50</td>\n",
       "      <td>c483_20150901_214630_530</td>\n",
       "      <td>ssim</td>\n",
       "      <td>0.965504</td>\n",
       "    </tr>\n",
       "    <tr>\n",
       "      <th>71969</th>\n",
       "      <td>4.25</td>\n",
       "      <td>c483_20150901_221141_886</td>\n",
       "      <td>psnr</td>\n",
       "      <td>27.609992</td>\n",
       "    </tr>\n",
       "    <tr>\n",
       "      <th>71970</th>\n",
       "      <td>4.25</td>\n",
       "      <td>c483_20150901_221141_886</td>\n",
       "      <td>ssim</td>\n",
       "      <td>0.969067</td>\n",
       "    </tr>\n",
       "  </tbody>\n",
       "</table>\n",
       "<p>2896 rows × 4 columns</p>\n",
       "</div>"
      ],
      "text/plain": [
       "          ev                      name      metric      score\n",
       "188151  2.50  0006_20160721_170707_736  perceptual   0.048308\n",
       "188176  4.25  0006_20160721_170707_736        rmse  13.822243\n",
       "286935  2.50  0006_20160721_175239_909  perceptual   0.058179\n",
       "286960  4.25  0006_20160721_175239_909        rmse  10.493872\n",
       "377223  2.50  0006_20160721_181525_062  perceptual   0.051621\n",
       "...      ...                       ...         ...        ...\n",
       "413366  2.50  c483_20150901_195108_436        ssim   0.953198\n",
       "71365   2.50  c483_20150901_214630_530        psnr  27.256031\n",
       "71366   2.50  c483_20150901_214630_530        ssim   0.965504\n",
       "71969   4.25  c483_20150901_221141_886        psnr  27.609992\n",
       "71970   4.25  c483_20150901_221141_886        ssim   0.969067\n",
       "\n",
       "[2896 rows x 4 columns]"
      ]
     },
     "execution_count": 153,
     "metadata": {},
     "output_type": "execute_result"
    }
   ],
   "source": [
    "r = get_topk_score_df(t,k=1)\n",
    "r"
   ]
  },
  {
   "cell_type": "code",
   "execution_count": 154,
   "metadata": {},
   "outputs": [
    {
     "data": {
      "image/png": "[encoded data removed]",
      "text/plain": [
       "<Figure size 432x288 with 1 Axes>"
      ]
     },
     "metadata": {
      "needs_background": "light"
     },
     "output_type": "display_data"
    },
    {
     "data": {
      "image/png": "[encoded data removed]",
      "text/plain": [
       "<Figure size 432x288 with 1 Axes>"
      ]
     },
     "metadata": {
      "needs_background": "light"
     },
     "output_type": "display_data"
    },
    {
     "data": {
      "image/png": "[encoded data removed]",
      "text/plain": [
       "<Figure size 432x288 with 1 Axes>"
      ]
     },
     "metadata": {
      "needs_background": "light"
     },
     "output_type": "display_data"
    },
    {
     "data": {
      "image/png": "[encoded data removed]",
      "text/plain": [
       "<Figure size 432x288 with 1 Axes>"
      ]
     },
     "metadata": {
      "needs_background": "light"
     },
     "output_type": "display_data"
    },
    {
     "data": {
      "text/plain": [
       "<Figure size 432x288 with 0 Axes>"
      ]
     },
     "metadata": {},
     "output_type": "display_data"
    }
   ],
   "source": [
    "model_by_ev = r.groupby([\"metric\", \"ev\"]).describe()[\"score\"]\n",
    "for metric in [\"rmse\", \"psnr\", \"ssim\", \"perceptual\"]:\n",
    "    plt.plot(\n",
    "        model_by_ev[\"mean\"][metric].index,\n",
    "        model_by_ev[\"mean\"][metric],\n",
    "#         model_by_ev[\"std\"][metric]**2,\n",
    "    )\n",
    "    plt.xlabel(\"EV\")\n",
    "    plt.ylabel(metric)\n",
    "    plt.show()\n",
    "    plt.savefig(figdir / f\"{model_name}_{metric}_by_ev.pdf\")"
   ]
  },
  {
   "cell_type": "code",
   "execution_count": 20,
   "metadata": {},
   "outputs": [
    {
     "data": {
      "text/plain": [
       "ev          11\n",
       "name       724\n",
       "metric       4\n",
       "score     2896\n",
       "dtype: int64"
      ]
     },
     "execution_count": 20,
     "metadata": {},
     "output_type": "execute_result"
    }
   ],
   "source": [
    "t2 = get_pred(model_df, df)\n",
    "t2.nunique()"
   ]
  },
  {
   "cell_type": "code",
   "execution_count": 21,
   "metadata": {},
   "outputs": [
    {
     "data": {
      "text/html": [
       "<div>\n",
       "<style scoped>\n",
       "    .dataframe tbody tr th:only-of-type {\n",
       "        vertical-align: middle;\n",
       "    }\n",
       "\n",
       "    .dataframe tbody tr th {\n",
       "        vertical-align: top;\n",
       "    }\n",
       "\n",
       "    .dataframe thead th {\n",
       "        text-align: right;\n",
       "    }\n",
       "</style>\n",
       "<table border=\"1\" class=\"dataframe\">\n",
       "  <thead>\n",
       "    <tr style=\"text-align: right;\">\n",
       "      <th></th>\n",
       "      <th>mean</th>\n",
       "      <th>std</th>\n",
       "    </tr>\n",
       "    <tr>\n",
       "      <th>metric</th>\n",
       "      <th></th>\n",
       "      <th></th>\n",
       "    </tr>\n",
       "  </thead>\n",
       "  <tbody>\n",
       "    <tr>\n",
       "      <th>perceptual</th>\n",
       "      <td>0.063436</td>\n",
       "      <td>0.030955</td>\n",
       "    </tr>\n",
       "    <tr>\n",
       "      <th>psnr</th>\n",
       "      <td>23.779427</td>\n",
       "      <td>4.231582</td>\n",
       "    </tr>\n",
       "    <tr>\n",
       "      <th>rmse</th>\n",
       "      <td>18.570024</td>\n",
       "      <td>9.325249</td>\n",
       "    </tr>\n",
       "    <tr>\n",
       "      <th>ssim</th>\n",
       "      <td>0.942271</td>\n",
       "      <td>0.040530</td>\n",
       "    </tr>\n",
       "  </tbody>\n",
       "</table>\n",
       "</div>"
      ],
      "text/plain": [
       "                 mean       std\n",
       "metric                         \n",
       "perceptual   0.063436  0.030955\n",
       "psnr        23.779427  4.231582\n",
       "rmse        18.570024  9.325249\n",
       "ssim         0.942271  0.040530"
      ]
     },
     "execution_count": 21,
     "metadata": {},
     "output_type": "execute_result"
    }
   ],
   "source": [
    "t2.groupby(\"metric\").describe()[\"score\"][[\"mean\", \"std\"]]"
   ]
  },
  {
   "cell_type": "code",
   "execution_count": 22,
   "metadata": {},
   "outputs": [
    {
     "data": {
      "text/html": [
       "<div>\n",
       "<style scoped>\n",
       "    .dataframe tbody tr th:only-of-type {\n",
       "        vertical-align: middle;\n",
       "    }\n",
       "\n",
       "    .dataframe tbody tr th {\n",
       "        vertical-align: top;\n",
       "    }\n",
       "\n",
       "    .dataframe thead th {\n",
       "        text-align: right;\n",
       "    }\n",
       "</style>\n",
       "<table border=\"1\" class=\"dataframe\">\n",
       "  <thead>\n",
       "    <tr style=\"text-align: right;\">\n",
       "      <th></th>\n",
       "      <th>mean</th>\n",
       "      <th>std</th>\n",
       "    </tr>\n",
       "    <tr>\n",
       "      <th>metric</th>\n",
       "      <th></th>\n",
       "      <th></th>\n",
       "    </tr>\n",
       "  </thead>\n",
       "  <tbody>\n",
       "    <tr>\n",
       "      <th>perceptual</th>\n",
       "      <td>0.063436</td>\n",
       "      <td>0.030955</td>\n",
       "    </tr>\n",
       "    <tr>\n",
       "      <th>psnr</th>\n",
       "      <td>23.779427</td>\n",
       "      <td>4.231582</td>\n",
       "    </tr>\n",
       "    <tr>\n",
       "      <th>rmse</th>\n",
       "      <td>18.570024</td>\n",
       "      <td>9.325249</td>\n",
       "    </tr>\n",
       "    <tr>\n",
       "      <th>ssim</th>\n",
       "      <td>0.942271</td>\n",
       "      <td>0.040530</td>\n",
       "    </tr>\n",
       "  </tbody>\n",
       "</table>\n",
       "</div>"
      ],
      "text/plain": [
       "                 mean       std\n",
       "metric                         \n",
       "perceptual   0.063436  0.030955\n",
       "psnr        23.779427  4.231582\n",
       "rmse        18.570024  9.325249\n",
       "ssim         0.942271  0.040530"
      ]
     },
     "execution_count": 22,
     "metadata": {},
     "output_type": "execute_result"
    }
   ],
   "source": [
    "t2.groupby(\"metric\").describe()[\"score\"][[\"mean\", \"std\"]]"
   ]
  },
  {
   "cell_type": "code",
   "execution_count": 23,
   "metadata": {
    "collapsed": false,
    "jupyter": {
     "outputs_hidden": false
    }
   },
   "outputs": [
    {
     "data": {
      "text/html": [
       "<div>\n",
       "<style scoped>\n",
       "    .dataframe tbody tr th:only-of-type {\n",
       "        vertical-align: middle;\n",
       "    }\n",
       "\n",
       "    .dataframe tbody tr th {\n",
       "        vertical-align: top;\n",
       "    }\n",
       "\n",
       "    .dataframe thead th {\n",
       "        text-align: right;\n",
       "    }\n",
       "</style>\n",
       "<table border=\"1\" class=\"dataframe\">\n",
       "  <thead>\n",
       "    <tr style=\"text-align: right;\">\n",
       "      <th></th>\n",
       "      <th>mean</th>\n",
       "      <th>std</th>\n",
       "    </tr>\n",
       "    <tr>\n",
       "      <th>metric</th>\n",
       "      <th></th>\n",
       "      <th></th>\n",
       "    </tr>\n",
       "  </thead>\n",
       "  <tbody>\n",
       "    <tr>\n",
       "      <th>perceptual</th>\n",
       "      <td>0.043395</td>\n",
       "      <td>0.027587</td>\n",
       "    </tr>\n",
       "    <tr>\n",
       "      <th>psnr</th>\n",
       "      <td>28.611616</td>\n",
       "      <td>5.741699</td>\n",
       "    </tr>\n",
       "    <tr>\n",
       "      <th>rmse</th>\n",
       "      <td>11.303821</td>\n",
       "      <td>6.356376</td>\n",
       "    </tr>\n",
       "    <tr>\n",
       "      <th>ssim</th>\n",
       "      <td>0.969174</td>\n",
       "      <td>0.017469</td>\n",
       "    </tr>\n",
       "  </tbody>\n",
       "</table>\n",
       "</div>"
      ],
      "text/plain": [
       "                 mean       std\n",
       "metric                         \n",
       "perceptual   0.043395  0.027587\n",
       "psnr        28.611616  5.741699\n",
       "rmse        11.303821  6.356376\n",
       "ssim         0.969174  0.017469"
      ]
     },
     "execution_count": 23,
     "metadata": {},
     "output_type": "execute_result"
    }
   ],
   "source": [
    "r.groupby(\"metric\").describe()[\"score\"][[\"mean\", \"std\"]]"
   ]
  },
  {
   "cell_type": "code",
   "execution_count": null,
   "metadata": {},
   "outputs": [],
   "source": []
  }
 ],
 "metadata": {
  "kernelspec": {
   "display_name": "DHDRNet",
   "language": "python",
   "name": "dhdrnet"
  },
  "language_info": {
   "codemirror_mode": {
    "name": "ipython",
    "version": 3
   },
   "file_extension": ".py",
   "mimetype": "text/x-python",
   "name": "python",
   "nbconvert_exporter": "python",
   "pygments_lexer": "ipython3",
   "version": "3.8.6"
  },
  "name": "Untitled.ipynb"
 },
 "nbformat": 4,
 "nbformat_minor": 4
}
