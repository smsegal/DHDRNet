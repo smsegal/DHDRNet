{
 "cells": [
  {
   "cell_type": "code",
   "execution_count": 1,
   "metadata": {},
   "outputs": [
    {
     "name": "stdout",
     "output_type": "stream",
     "text": [
      "The autoreload extension is already loaded. To reload it, use:\n",
      "  %reload_ext autoreload\n"
     ]
    }
   ],
   "source": [
    "%matplotlib inline\n",
    "%load_ext autoreload\n",
    "%autoreload 2"
   ]
  },
  {
   "cell_type": "code",
   "execution_count": 6,
   "metadata": {},
   "outputs": [
    {
     "name": "stderr",
     "output_type": "stream",
     "text": [
      "GPU available: True, used: True\n",
      "No environment variable for node rank defined. Set as 0.\n",
      "CUDA_VISIBLE_DEVICES: [0]\n"
     ]
    }
   ],
   "source": [
    "import numpy as np\n",
    "import pandas as pd\n",
    "import torch\n",
    "from pytorch_lightning import Trainer\n",
    "\n",
    "from dhdrnet.model_lut import DHDRNet\n",
    "\n",
    "gpu_available = \"0\" if torch.cuda.is_available() else None\n",
    "\n",
    "trainer = Trainer(gpus=gpu_available)\n",
    "model = DHDRNet()"
   ]
  },
  {
   "cell_type": "code",
   "execution_count": 7,
   "metadata": {},
   "outputs": [
    {
     "name": "stderr",
     "output_type": "stream",
     "text": [
      "\n",
      "    | Name                                   | Type             | Params\n",
      "------------------------------------------------------------------------\n",
      "0   | feature_extractor                      | MobileNetV2      | 2 M   \n",
      "1   | feature_extractor.features             | Sequential       | 2 M   \n",
      "2   | feature_extractor.features.0           | ConvBNReLU       | 928   \n",
      "3   | feature_extractor.features.0.0         | Conv2d           | 864   \n",
      "4   | feature_extractor.features.0.1         | BatchNorm2d      | 64    \n",
      "5   | feature_extractor.features.0.2         | ReLU6            | 0     \n",
      "6   | feature_extractor.features.1           | InvertedResidual | 896   \n",
      "7   | feature_extractor.features.1.conv      | Sequential       | 896   \n",
      "8   | feature_extractor.features.1.conv.0    | ConvBNReLU       | 352   \n",
      "9   | feature_extractor.features.1.conv.0.0  | Conv2d           | 288   \n",
      "10  | feature_extractor.features.1.conv.0.1  | BatchNorm2d      | 64    \n",
      "11  | feature_extractor.features.1.conv.0.2  | ReLU6            | 0     \n",
      "12  | feature_extractor.features.1.conv.1    | Conv2d           | 512   \n",
      "13  | feature_extractor.features.1.conv.2    | BatchNorm2d      | 32    \n",
      "14  | feature_extractor.features.2           | InvertedResidual | 5 K   \n",
      "15  | feature_extractor.features.2.conv      | Sequential       | 5 K   \n",
      "16  | feature_extractor.features.2.conv.0    | ConvBNReLU       | 1 K   \n",
      "17  | feature_extractor.features.2.conv.0.0  | Conv2d           | 1 K   \n",
      "18  | feature_extractor.features.2.conv.0.1  | BatchNorm2d      | 192   \n",
      "19  | feature_extractor.features.2.conv.0.2  | ReLU6            | 0     \n",
      "20  | feature_extractor.features.2.conv.1    | ConvBNReLU       | 1 K   \n",
      "21  | feature_extractor.features.2.conv.1.0  | Conv2d           | 864   \n",
      "22  | feature_extractor.features.2.conv.1.1  | BatchNorm2d      | 192   \n",
      "23  | feature_extractor.features.2.conv.1.2  | ReLU6            | 0     \n",
      "24  | feature_extractor.features.2.conv.2    | Conv2d           | 2 K   \n",
      "25  | feature_extractor.features.2.conv.3    | BatchNorm2d      | 48    \n",
      "26  | feature_extractor.features.3           | InvertedResidual | 8 K   \n",
      "27  | feature_extractor.features.3.conv      | Sequential       | 8 K   \n",
      "28  | feature_extractor.features.3.conv.0    | ConvBNReLU       | 3 K   \n",
      "29  | feature_extractor.features.3.conv.0.0  | Conv2d           | 3 K   \n",
      "30  | feature_extractor.features.3.conv.0.1  | BatchNorm2d      | 288   \n",
      "31  | feature_extractor.features.3.conv.0.2  | ReLU6            | 0     \n",
      "32  | feature_extractor.features.3.conv.1    | ConvBNReLU       | 1 K   \n",
      "33  | feature_extractor.features.3.conv.1.0  | Conv2d           | 1 K   \n",
      "34  | feature_extractor.features.3.conv.1.1  | BatchNorm2d      | 288   \n",
      "35  | feature_extractor.features.3.conv.1.2  | ReLU6            | 0     \n",
      "36  | feature_extractor.features.3.conv.2    | Conv2d           | 3 K   \n",
      "37  | feature_extractor.features.3.conv.3    | BatchNorm2d      | 48    \n",
      "38  | feature_extractor.features.4           | InvertedResidual | 10 K  \n",
      "39  | feature_extractor.features.4.conv      | Sequential       | 10 K  \n",
      "40  | feature_extractor.features.4.conv.0    | ConvBNReLU       | 3 K   \n",
      "41  | feature_extractor.features.4.conv.0.0  | Conv2d           | 3 K   \n",
      "42  | feature_extractor.features.4.conv.0.1  | BatchNorm2d      | 288   \n",
      "43  | feature_extractor.features.4.conv.0.2  | ReLU6            | 0     \n",
      "44  | feature_extractor.features.4.conv.1    | ConvBNReLU       | 1 K   \n",
      "45  | feature_extractor.features.4.conv.1.0  | Conv2d           | 1 K   \n",
      "46  | feature_extractor.features.4.conv.1.1  | BatchNorm2d      | 288   \n",
      "47  | feature_extractor.features.4.conv.1.2  | ReLU6            | 0     \n",
      "48  | feature_extractor.features.4.conv.2    | Conv2d           | 4 K   \n",
      "49  | feature_extractor.features.4.conv.3    | BatchNorm2d      | 64    \n",
      "50  | feature_extractor.features.5           | InvertedResidual | 14 K  \n",
      "51  | feature_extractor.features.5.conv      | Sequential       | 14 K  \n",
      "52  | feature_extractor.features.5.conv.0    | ConvBNReLU       | 6 K   \n",
      "53  | feature_extractor.features.5.conv.0.0  | Conv2d           | 6 K   \n",
      "54  | feature_extractor.features.5.conv.0.1  | BatchNorm2d      | 384   \n",
      "55  | feature_extractor.features.5.conv.0.2  | ReLU6            | 0     \n",
      "56  | feature_extractor.features.5.conv.1    | ConvBNReLU       | 2 K   \n",
      "57  | feature_extractor.features.5.conv.1.0  | Conv2d           | 1 K   \n",
      "58  | feature_extractor.features.5.conv.1.1  | BatchNorm2d      | 384   \n",
      "59  | feature_extractor.features.5.conv.1.2  | ReLU6            | 0     \n",
      "60  | feature_extractor.features.5.conv.2    | Conv2d           | 6 K   \n",
      "61  | feature_extractor.features.5.conv.3    | BatchNorm2d      | 64    \n",
      "62  | feature_extractor.features.6           | InvertedResidual | 14 K  \n",
      "63  | feature_extractor.features.6.conv      | Sequential       | 14 K  \n",
      "64  | feature_extractor.features.6.conv.0    | ConvBNReLU       | 6 K   \n",
      "65  | feature_extractor.features.6.conv.0.0  | Conv2d           | 6 K   \n",
      "66  | feature_extractor.features.6.conv.0.1  | BatchNorm2d      | 384   \n",
      "67  | feature_extractor.features.6.conv.0.2  | ReLU6            | 0     \n",
      "68  | feature_extractor.features.6.conv.1    | ConvBNReLU       | 2 K   \n",
      "69  | feature_extractor.features.6.conv.1.0  | Conv2d           | 1 K   \n",
      "70  | feature_extractor.features.6.conv.1.1  | BatchNorm2d      | 384   \n",
      "71  | feature_extractor.features.6.conv.1.2  | ReLU6            | 0     \n",
      "72  | feature_extractor.features.6.conv.2    | Conv2d           | 6 K   \n",
      "73  | feature_extractor.features.6.conv.3    | BatchNorm2d      | 64    \n",
      "74  | feature_extractor.features.7           | InvertedResidual | 21 K  \n",
      "75  | feature_extractor.features.7.conv      | Sequential       | 21 K  \n",
      "76  | feature_extractor.features.7.conv.0    | ConvBNReLU       | 6 K   \n",
      "77  | feature_extractor.features.7.conv.0.0  | Conv2d           | 6 K   \n",
      "78  | feature_extractor.features.7.conv.0.1  | BatchNorm2d      | 384   \n",
      "79  | feature_extractor.features.7.conv.0.2  | ReLU6            | 0     \n",
      "80  | feature_extractor.features.7.conv.1    | ConvBNReLU       | 2 K   \n",
      "81  | feature_extractor.features.7.conv.1.0  | Conv2d           | 1 K   \n",
      "82  | feature_extractor.features.7.conv.1.1  | BatchNorm2d      | 384   \n",
      "83  | feature_extractor.features.7.conv.1.2  | ReLU6            | 0     \n",
      "84  | feature_extractor.features.7.conv.2    | Conv2d           | 12 K  \n",
      "85  | feature_extractor.features.7.conv.3    | BatchNorm2d      | 128   \n",
      "86  | feature_extractor.features.8           | InvertedResidual | 54 K  \n",
      "87  | feature_extractor.features.8.conv      | Sequential       | 54 K  \n",
      "88  | feature_extractor.features.8.conv.0    | ConvBNReLU       | 25 K  \n",
      "89  | feature_extractor.features.8.conv.0.0  | Conv2d           | 24 K  \n",
      "90  | feature_extractor.features.8.conv.0.1  | BatchNorm2d      | 768   \n",
      "91  | feature_extractor.features.8.conv.0.2  | ReLU6            | 0     \n",
      "92  | feature_extractor.features.8.conv.1    | ConvBNReLU       | 4 K   \n",
      "93  | feature_extractor.features.8.conv.1.0  | Conv2d           | 3 K   \n",
      "94  | feature_extractor.features.8.conv.1.1  | BatchNorm2d      | 768   \n",
      "95  | feature_extractor.features.8.conv.1.2  | ReLU6            | 0     \n",
      "96  | feature_extractor.features.8.conv.2    | Conv2d           | 24 K  \n",
      "97  | feature_extractor.features.8.conv.3    | BatchNorm2d      | 128   \n",
      "98  | feature_extractor.features.9           | InvertedResidual | 54 K  \n",
      "99  | feature_extractor.features.9.conv      | Sequential       | 54 K  \n",
      "100 | feature_extractor.features.9.conv.0    | ConvBNReLU       | 25 K  \n",
      "101 | feature_extractor.features.9.conv.0.0  | Conv2d           | 24 K  \n",
      "102 | feature_extractor.features.9.conv.0.1  | BatchNorm2d      | 768   \n",
      "103 | feature_extractor.features.9.conv.0.2  | ReLU6            | 0     \n",
      "104 | feature_extractor.features.9.conv.1    | ConvBNReLU       | 4 K   \n",
      "105 | feature_extractor.features.9.conv.1.0  | Conv2d           | 3 K   \n",
      "106 | feature_extractor.features.9.conv.1.1  | BatchNorm2d      | 768   \n",
      "107 | feature_extractor.features.9.conv.1.2  | ReLU6            | 0     \n",
      "108 | feature_extractor.features.9.conv.2    | Conv2d           | 24 K  \n",
      "109 | feature_extractor.features.9.conv.3    | BatchNorm2d      | 128   \n",
      "110 | feature_extractor.features.10          | InvertedResidual | 54 K  \n",
      "111 | feature_extractor.features.10.conv     | Sequential       | 54 K  \n",
      "112 | feature_extractor.features.10.conv.0   | ConvBNReLU       | 25 K  \n",
      "113 | feature_extractor.features.10.conv.0.0 | Conv2d           | 24 K  \n",
      "114 | feature_extractor.features.10.conv.0.1 | BatchNorm2d      | 768   \n",
      "115 | feature_extractor.features.10.conv.0.2 | ReLU6            | 0     \n",
      "116 | feature_extractor.features.10.conv.1   | ConvBNReLU       | 4 K   \n",
      "117 | feature_extractor.features.10.conv.1.0 | Conv2d           | 3 K   \n",
      "118 | feature_extractor.features.10.conv.1.1 | BatchNorm2d      | 768   \n",
      "119 | feature_extractor.features.10.conv.1.2 | ReLU6            | 0     \n",
      "120 | feature_extractor.features.10.conv.2   | Conv2d           | 24 K  \n",
      "121 | feature_extractor.features.10.conv.3   | BatchNorm2d      | 128   \n",
      "122 | feature_extractor.features.11          | InvertedResidual | 66 K  \n",
      "123 | feature_extractor.features.11.conv     | Sequential       | 66 K  \n",
      "124 | feature_extractor.features.11.conv.0   | ConvBNReLU       | 25 K  \n",
      "125 | feature_extractor.features.11.conv.0.0 | Conv2d           | 24 K  \n",
      "126 | feature_extractor.features.11.conv.0.1 | BatchNorm2d      | 768   \n",
      "127 | feature_extractor.features.11.conv.0.2 | ReLU6            | 0     \n",
      "128 | feature_extractor.features.11.conv.1   | ConvBNReLU       | 4 K   \n",
      "129 | feature_extractor.features.11.conv.1.0 | Conv2d           | 3 K   \n",
      "130 | feature_extractor.features.11.conv.1.1 | BatchNorm2d      | 768   \n",
      "131 | feature_extractor.features.11.conv.1.2 | ReLU6            | 0     \n",
      "132 | feature_extractor.features.11.conv.2   | Conv2d           | 36 K  \n",
      "133 | feature_extractor.features.11.conv.3   | BatchNorm2d      | 192   \n",
      "134 | feature_extractor.features.12          | InvertedResidual | 118 K \n",
      "135 | feature_extractor.features.12.conv     | Sequential       | 118 K \n",
      "136 | feature_extractor.features.12.conv.0   | ConvBNReLU       | 56 K  \n",
      "137 | feature_extractor.features.12.conv.0.0 | Conv2d           | 55 K  \n",
      "138 | feature_extractor.features.12.conv.0.1 | BatchNorm2d      | 1 K   \n",
      "139 | feature_extractor.features.12.conv.0.2 | ReLU6            | 0     \n",
      "140 | feature_extractor.features.12.conv.1   | ConvBNReLU       | 6 K   \n",
      "141 | feature_extractor.features.12.conv.1.0 | Conv2d           | 5 K   \n",
      "142 | feature_extractor.features.12.conv.1.1 | BatchNorm2d      | 1 K   \n",
      "143 | feature_extractor.features.12.conv.1.2 | ReLU6            | 0     \n",
      "144 | feature_extractor.features.12.conv.2   | Conv2d           | 55 K  \n",
      "145 | feature_extractor.features.12.conv.3   | BatchNorm2d      | 192   \n",
      "146 | feature_extractor.features.13          | InvertedResidual | 118 K \n",
      "147 | feature_extractor.features.13.conv     | Sequential       | 118 K \n",
      "148 | feature_extractor.features.13.conv.0   | ConvBNReLU       | 56 K  \n",
      "149 | feature_extractor.features.13.conv.0.0 | Conv2d           | 55 K  \n",
      "150 | feature_extractor.features.13.conv.0.1 | BatchNorm2d      | 1 K   \n",
      "151 | feature_extractor.features.13.conv.0.2 | ReLU6            | 0     \n",
      "152 | feature_extractor.features.13.conv.1   | ConvBNReLU       | 6 K   \n",
      "153 | feature_extractor.features.13.conv.1.0 | Conv2d           | 5 K   \n",
      "154 | feature_extractor.features.13.conv.1.1 | BatchNorm2d      | 1 K   \n",
      "155 | feature_extractor.features.13.conv.1.2 | ReLU6            | 0     \n",
      "156 | feature_extractor.features.13.conv.2   | Conv2d           | 55 K  \n",
      "157 | feature_extractor.features.13.conv.3   | BatchNorm2d      | 192   \n",
      "158 | feature_extractor.features.14          | InvertedResidual | 155 K \n",
      "159 | feature_extractor.features.14.conv     | Sequential       | 155 K \n",
      "160 | feature_extractor.features.14.conv.0   | ConvBNReLU       | 56 K  \n",
      "161 | feature_extractor.features.14.conv.0.0 | Conv2d           | 55 K  \n",
      "162 | feature_extractor.features.14.conv.0.1 | BatchNorm2d      | 1 K   \n",
      "163 | feature_extractor.features.14.conv.0.2 | ReLU6            | 0     \n",
      "164 | feature_extractor.features.14.conv.1   | ConvBNReLU       | 6 K   \n",
      "165 | feature_extractor.features.14.conv.1.0 | Conv2d           | 5 K   \n",
      "166 | feature_extractor.features.14.conv.1.1 | BatchNorm2d      | 1 K   \n",
      "167 | feature_extractor.features.14.conv.1.2 | ReLU6            | 0     \n",
      "168 | feature_extractor.features.14.conv.2   | Conv2d           | 92 K  \n",
      "169 | feature_extractor.features.14.conv.3   | BatchNorm2d      | 320   \n",
      "170 | feature_extractor.features.15          | InvertedResidual | 320 K \n",
      "171 | feature_extractor.features.15.conv     | Sequential       | 320 K \n",
      "172 | feature_extractor.features.15.conv.0   | ConvBNReLU       | 155 K \n",
      "173 | feature_extractor.features.15.conv.0.0 | Conv2d           | 153 K \n",
      "174 | feature_extractor.features.15.conv.0.1 | BatchNorm2d      | 1 K   \n",
      "175 | feature_extractor.features.15.conv.0.2 | ReLU6            | 0     \n",
      "176 | feature_extractor.features.15.conv.1   | ConvBNReLU       | 10 K  \n",
      "177 | feature_extractor.features.15.conv.1.0 | Conv2d           | 8 K   \n",
      "178 | feature_extractor.features.15.conv.1.1 | BatchNorm2d      | 1 K   \n",
      "179 | feature_extractor.features.15.conv.1.2 | ReLU6            | 0     \n",
      "180 | feature_extractor.features.15.conv.2   | Conv2d           | 153 K \n",
      "181 | feature_extractor.features.15.conv.3   | BatchNorm2d      | 320   \n",
      "182 | feature_extractor.features.16          | InvertedResidual | 320 K \n",
      "183 | feature_extractor.features.16.conv     | Sequential       | 320 K \n",
      "184 | feature_extractor.features.16.conv.0   | ConvBNReLU       | 155 K \n",
      "185 | feature_extractor.features.16.conv.0.0 | Conv2d           | 153 K \n",
      "186 | feature_extractor.features.16.conv.0.1 | BatchNorm2d      | 1 K   \n",
      "187 | feature_extractor.features.16.conv.0.2 | ReLU6            | 0     \n",
      "188 | feature_extractor.features.16.conv.1   | ConvBNReLU       | 10 K  \n",
      "189 | feature_extractor.features.16.conv.1.0 | Conv2d           | 8 K   \n",
      "190 | feature_extractor.features.16.conv.1.1 | BatchNorm2d      | 1 K   \n",
      "191 | feature_extractor.features.16.conv.1.2 | ReLU6            | 0     \n",
      "192 | feature_extractor.features.16.conv.2   | Conv2d           | 153 K \n",
      "193 | feature_extractor.features.16.conv.3   | BatchNorm2d      | 320   \n",
      "194 | feature_extractor.features.17          | InvertedResidual | 473 K \n",
      "195 | feature_extractor.features.17.conv     | Sequential       | 473 K \n",
      "196 | feature_extractor.features.17.conv.0   | ConvBNReLU       | 155 K \n",
      "197 | feature_extractor.features.17.conv.0.0 | Conv2d           | 153 K \n",
      "198 | feature_extractor.features.17.conv.0.1 | BatchNorm2d      | 1 K   \n",
      "199 | feature_extractor.features.17.conv.0.2 | ReLU6            | 0     \n",
      "200 | feature_extractor.features.17.conv.1   | ConvBNReLU       | 10 K  \n",
      "201 | feature_extractor.features.17.conv.1.0 | Conv2d           | 8 K   \n",
      "202 | feature_extractor.features.17.conv.1.1 | BatchNorm2d      | 1 K   \n",
      "203 | feature_extractor.features.17.conv.1.2 | ReLU6            | 0     \n",
      "204 | feature_extractor.features.17.conv.2   | Conv2d           | 307 K \n",
      "205 | feature_extractor.features.17.conv.3   | BatchNorm2d      | 640   \n",
      "206 | feature_extractor.features.18          | ConvBNReLU       | 412 K \n",
      "207 | feature_extractor.features.18.0        | Conv2d           | 409 K \n",
      "208 | feature_extractor.features.18.1        | BatchNorm2d      | 2 K   \n",
      "209 | feature_extractor.features.18.2        | ReLU6            | 0     \n",
      "210 | feature_extractor.classifier           | Sequential       | 46 K  \n",
      "211 | feature_extractor.classifier.0         | Dropout          | 0     \n",
      "212 | feature_extractor.classifier.1         | Linear           | 46 K  \n",
      "213 | criterion                              | CrossEntropyLoss | 0     \n"
     ]
    },
    {
     "data": {
      "application/vnd.jupyter.widget-view+json": {
       "model_id": "",
       "version_major": 2,
       "version_minor": 0
      },
      "text/plain": [
       "HBox(children=(FloatProgress(value=1.0, bar_style='info', description='Validation sanity check', layout=Layout…"
      ]
     },
     "metadata": {},
     "output_type": "display_data"
    },
    {
     "data": {
      "application/vnd.jupyter.widget-view+json": {
       "model_id": "08239affeaea463d9d5d63dc6e60889d",
       "version_major": 2,
       "version_minor": 0
      },
      "text/plain": [
       "HBox(children=(FloatProgress(value=1.0, bar_style='info', description='Training', layout=Layout(flex='2'), max…"
      ]
     },
     "metadata": {},
     "output_type": "display_data"
    },
    {
     "data": {
      "application/vnd.jupyter.widget-view+json": {
       "model_id": "",
       "version_major": 2,
       "version_minor": 0
      },
      "text/plain": [
       "HBox(children=(FloatProgress(value=1.0, bar_style='info', description='Validating', layout=Layout(flex='2'), m…"
      ]
     },
     "metadata": {},
     "output_type": "display_data"
    },
    {
     "name": "stderr",
     "output_type": "stream",
     "text": [
      "/home/shane/.cache/pypoetry/virtualenvs/dhdrnet-md5k9ngR-py3.8/lib/python3.8/site-packages/pytorch_lightning/utilities/distributed.py:23: UserWarning: Did not find hyperparameters at model hparams. Saving checkpoint without hyperparameters.\n",
      "  warnings.warn(*args, **kwargs)\n",
      "Detected KeyboardInterrupt, attempting graceful shutdown...\n"
     ]
    },
    {
     "name": "stdout",
     "output_type": "stream",
     "text": [
      "\n"
     ]
    },
    {
     "data": {
      "text/plain": [
       "1"
      ]
     },
     "execution_count": 7,
     "metadata": {},
     "output_type": "execute_result"
    }
   ],
   "source": [
    "trainer.fit(model)"
   ]
  },
  {
   "cell_type": "code",
   "execution_count": null,
   "metadata": {},
   "outputs": [],
   "source": [
    "from torch import nn\n",
    "\n",
    "input = torch.randn(20,16,50,32)\n",
    "print(f\"{input.shape=}\")\n",
    "\n",
    "m = nn.AvgPool2d(3)\n",
    "output = m(input)\n",
    "print(f\"{output.shape=}\")"
   ]
  },
  {
   "cell_type": "code",
   "execution_count": null,
   "metadata": {},
   "outputs": [],
   "source": [
    "50 // "
   ]
  },
  {
   "cell_type": "code",
   "execution_count": null,
   "metadata": {},
   "outputs": [],
   "source": []
  }
 ],
 "metadata": {
  "kernelspec": {
   "display_name": "DHDRNet",
   "language": "python",
   "name": "dhdrnet"
  },
  "language_info": {
   "codemirror_mode": {
    "name": "ipython",
    "version": 3
   },
   "file_extension": ".py",
   "mimetype": "text/x-python",
   "name": "python",
   "nbconvert_exporter": "python",
   "pygments_lexer": "ipython3",
   "version": "3.8.5"
  }
 },
 "nbformat": 4,
 "nbformat_minor": 4
}
