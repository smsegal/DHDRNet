{
 "cells": [
  {
   "cell_type": "code",
   "execution_count": 1,
   "metadata": {
    "collapsed": false,
    "jupyter": {
     "outputs_hidden": false
    }
   },
   "outputs": [],
   "source": [
    "from pathlib import Path\n",
    "\n",
    "import cv2 as cv\n",
    "import exposure_fusion as ef\n",
    "import matplotlib.pyplot as plt\n",
    "import numpy as np\n",
    "\n",
    "from dhdrnet.util import DATA_DIR, ROOT_DIR\n",
    "\n",
    "figdir = ROOT_DIR / \"figures\"\n",
    "\n",
    "%load_ext autoreload\n",
    "%autoreload 2\n",
    "%matplotlib inline"
   ]
  },
  {
   "cell_type": "markdown",
   "metadata": {},
   "source": [
    "4KK2_20150910_151036_908.png\n",
    "\n",
    "0037_20160716_115039_415.png\n",
    "\n",
    "0094_20150412_110436_460.png\n"
   ]
  },
  {
   "cell_type": "code",
   "execution_count": 2,
   "metadata": {
    "collapsed": false,
    "jupyter": {
     "outputs_hidden": false
    }
   },
   "outputs": [
    {
     "ename": "FileNotFoundError",
     "evalue": "[Errno 2] No such file or directory: '/home/shane/src/DHDRNet/fastdata/dngs'",
     "output_type": "error",
     "traceback": [
      "\u001b[0;31m---------------------------------------------------------------------------\u001b[0m",
      "\u001b[0;31mFileNotFoundError\u001b[0m                         Traceback (most recent call last)",
      "\u001b[0;32m<ipython-input-2-b899f46e5263>\u001b[0m in \u001b[0;36m<module>\u001b[0;34m\u001b[0m\n\u001b[1;32m     30\u001b[0m \u001b[0;32mfrom\u001b[0m \u001b[0mdhdrnet\u001b[0m\u001b[0;34m.\u001b[0m\u001b[0mgen_pairs\u001b[0m \u001b[0;32mimport\u001b[0m \u001b[0mGenAllPairs\u001b[0m\u001b[0;34m\u001b[0m\u001b[0;34m\u001b[0m\u001b[0m\n\u001b[1;32m     31\u001b[0m \u001b[0;34m\u001b[0m\u001b[0m\n\u001b[0;32m---> 32\u001b[0;31m generator = GenAllPairs(\n\u001b[0m\u001b[1;32m     33\u001b[0m     \u001b[0mraw_path\u001b[0m\u001b[0;34m=\u001b[0m\u001b[0mDATA_DIR\u001b[0m \u001b[0;34m/\u001b[0m \u001b[0;34m\"dngs\"\u001b[0m\u001b[0;34m,\u001b[0m\u001b[0;34m\u001b[0m\u001b[0;34m\u001b[0m\u001b[0m\n\u001b[1;32m     34\u001b[0m     \u001b[0mout_path\u001b[0m\u001b[0;34m=\u001b[0m\u001b[0mDATA_DIR\u001b[0m \u001b[0;34m/\u001b[0m \u001b[0;34m\"correct_exposures\"\u001b[0m\u001b[0;34m,\u001b[0m\u001b[0;34m\u001b[0m\u001b[0;34m\u001b[0m\u001b[0m\n",
      "\u001b[0;32m~/src/DHDRNet/dhdrnet/gen_pairs.py\u001b[0m in \u001b[0;36m__init__\u001b[0;34m(self, raw_path, out_path, store_path, compute_scores, exp_min, exp_max, exp_step, single_threaded, image_names)\u001b[0m\n\u001b[1;32m     75\u001b[0m \u001b[0;34m\u001b[0m\u001b[0m\n\u001b[1;32m     76\u001b[0m         \u001b[0;32mif\u001b[0m \u001b[0mimage_names\u001b[0m \u001b[0;32mis\u001b[0m \u001b[0;32mNone\u001b[0m\u001b[0;34m:\u001b[0m\u001b[0;34m\u001b[0m\u001b[0;34m\u001b[0m\u001b[0m\n\u001b[0;32m---> 77\u001b[0;31m             \u001b[0mself\u001b[0m\u001b[0;34m.\u001b[0m\u001b[0mimage_names\u001b[0m \u001b[0;34m=\u001b[0m \u001b[0;34m[\u001b[0m\u001b[0mp\u001b[0m\u001b[0;34m.\u001b[0m\u001b[0mstem\u001b[0m \u001b[0;32mfor\u001b[0m \u001b[0mp\u001b[0m \u001b[0;32min\u001b[0m \u001b[0;34m(\u001b[0m\u001b[0mDATA_DIR\u001b[0m \u001b[0;34m/\u001b[0m \u001b[0;34m\"dngs\"\u001b[0m\u001b[0;34m)\u001b[0m\u001b[0;34m.\u001b[0m\u001b[0miterdir\u001b[0m\u001b[0;34m(\u001b[0m\u001b[0;34m)\u001b[0m\u001b[0;34m]\u001b[0m\u001b[0;34m\u001b[0m\u001b[0;34m\u001b[0m\u001b[0m\n\u001b[0m\u001b[1;32m     78\u001b[0m         \u001b[0;32melse\u001b[0m\u001b[0;34m:\u001b[0m\u001b[0;34m\u001b[0m\u001b[0;34m\u001b[0m\u001b[0m\n\u001b[1;32m     79\u001b[0m             \u001b[0mself\u001b[0m\u001b[0;34m.\u001b[0m\u001b[0mimage_names\u001b[0m \u001b[0;34m=\u001b[0m \u001b[0mlist\u001b[0m\u001b[0;34m(\u001b[0m\u001b[0mflatten\u001b[0m\u001b[0;34m(\u001b[0m\u001b[0mpd\u001b[0m\u001b[0;34m.\u001b[0m\u001b[0mread_csv\u001b[0m\u001b[0;34m(\u001b[0m\u001b[0mimage_names\u001b[0m\u001b[0;34m)\u001b[0m\u001b[0;34m.\u001b[0m\u001b[0mto_numpy\u001b[0m\u001b[0;34m(\u001b[0m\u001b[0;34m)\u001b[0m\u001b[0;34m)\u001b[0m\u001b[0;34m)\u001b[0m\u001b[0;34m\u001b[0m\u001b[0;34m\u001b[0m\u001b[0m\n",
      "\u001b[0;32m~/src/DHDRNet/dhdrnet/gen_pairs.py\u001b[0m in \u001b[0;36m<listcomp>\u001b[0;34m(.0)\u001b[0m\n\u001b[1;32m     75\u001b[0m \u001b[0;34m\u001b[0m\u001b[0m\n\u001b[1;32m     76\u001b[0m         \u001b[0;32mif\u001b[0m \u001b[0mimage_names\u001b[0m \u001b[0;32mis\u001b[0m \u001b[0;32mNone\u001b[0m\u001b[0;34m:\u001b[0m\u001b[0;34m\u001b[0m\u001b[0;34m\u001b[0m\u001b[0m\n\u001b[0;32m---> 77\u001b[0;31m             \u001b[0mself\u001b[0m\u001b[0;34m.\u001b[0m\u001b[0mimage_names\u001b[0m \u001b[0;34m=\u001b[0m \u001b[0;34m[\u001b[0m\u001b[0mp\u001b[0m\u001b[0;34m.\u001b[0m\u001b[0mstem\u001b[0m \u001b[0;32mfor\u001b[0m \u001b[0mp\u001b[0m \u001b[0;32min\u001b[0m \u001b[0;34m(\u001b[0m\u001b[0mDATA_DIR\u001b[0m \u001b[0;34m/\u001b[0m \u001b[0;34m\"dngs\"\u001b[0m\u001b[0;34m)\u001b[0m\u001b[0;34m.\u001b[0m\u001b[0miterdir\u001b[0m\u001b[0;34m(\u001b[0m\u001b[0;34m)\u001b[0m\u001b[0;34m]\u001b[0m\u001b[0;34m\u001b[0m\u001b[0;34m\u001b[0m\u001b[0m\n\u001b[0m\u001b[1;32m     78\u001b[0m         \u001b[0;32melse\u001b[0m\u001b[0;34m:\u001b[0m\u001b[0;34m\u001b[0m\u001b[0;34m\u001b[0m\u001b[0m\n\u001b[1;32m     79\u001b[0m             \u001b[0mself\u001b[0m\u001b[0;34m.\u001b[0m\u001b[0mimage_names\u001b[0m \u001b[0;34m=\u001b[0m \u001b[0mlist\u001b[0m\u001b[0;34m(\u001b[0m\u001b[0mflatten\u001b[0m\u001b[0;34m(\u001b[0m\u001b[0mpd\u001b[0m\u001b[0;34m.\u001b[0m\u001b[0mread_csv\u001b[0m\u001b[0;34m(\u001b[0m\u001b[0mimage_names\u001b[0m\u001b[0;34m)\u001b[0m\u001b[0;34m.\u001b[0m\u001b[0mto_numpy\u001b[0m\u001b[0;34m(\u001b[0m\u001b[0;34m)\u001b[0m\u001b[0;34m)\u001b[0m\u001b[0;34m)\u001b[0m\u001b[0;34m\u001b[0m\u001b[0;34m\u001b[0m\u001b[0m\n",
      "\u001b[0;32m/usr/lib/python3.8/pathlib.py\u001b[0m in \u001b[0;36miterdir\u001b[0;34m(self)\u001b[0m\n\u001b[1;32m   1119\u001b[0m         \u001b[0;32mif\u001b[0m \u001b[0mself\u001b[0m\u001b[0;34m.\u001b[0m\u001b[0m_closed\u001b[0m\u001b[0;34m:\u001b[0m\u001b[0;34m\u001b[0m\u001b[0;34m\u001b[0m\u001b[0m\n\u001b[1;32m   1120\u001b[0m             \u001b[0mself\u001b[0m\u001b[0;34m.\u001b[0m\u001b[0m_raise_closed\u001b[0m\u001b[0;34m(\u001b[0m\u001b[0;34m)\u001b[0m\u001b[0;34m\u001b[0m\u001b[0;34m\u001b[0m\u001b[0m\n\u001b[0;32m-> 1121\u001b[0;31m         \u001b[0;32mfor\u001b[0m \u001b[0mname\u001b[0m \u001b[0;32min\u001b[0m \u001b[0mself\u001b[0m\u001b[0;34m.\u001b[0m\u001b[0m_accessor\u001b[0m\u001b[0;34m.\u001b[0m\u001b[0mlistdir\u001b[0m\u001b[0;34m(\u001b[0m\u001b[0mself\u001b[0m\u001b[0;34m)\u001b[0m\u001b[0;34m:\u001b[0m\u001b[0;34m\u001b[0m\u001b[0;34m\u001b[0m\u001b[0m\n\u001b[0m\u001b[1;32m   1122\u001b[0m             \u001b[0;32mif\u001b[0m \u001b[0mname\u001b[0m \u001b[0;32min\u001b[0m \u001b[0;34m{\u001b[0m\u001b[0;34m'.'\u001b[0m\u001b[0;34m,\u001b[0m \u001b[0;34m'..'\u001b[0m\u001b[0;34m}\u001b[0m\u001b[0;34m:\u001b[0m\u001b[0;34m\u001b[0m\u001b[0;34m\u001b[0m\u001b[0m\n\u001b[1;32m   1123\u001b[0m                 \u001b[0;31m# Yielding a path object for these makes little sense\u001b[0m\u001b[0;34m\u001b[0m\u001b[0;34m\u001b[0m\u001b[0;34m\u001b[0m\u001b[0m\n",
      "\u001b[0;31mFileNotFoundError\u001b[0m: [Errno 2] No such file or directory: '/home/shane/src/DHDRNet/fastdata/dngs'"
     ]
    }
   ],
   "source": [
    "from random import sample\n",
    "\n",
    "image_names = [\n",
    "    \"4KK2_20150910_151036_908\",\n",
    "    \"0037_20160716_115039_415\",\n",
    "    \"0094_20150412_110436_460\",\n",
    "    \"33TJ_20150810_173750_121\",\n",
    "    \"0009_20160710_122940_904\",\n",
    "    \"33TJ_20150731_191218_412\",\n",
    "    \"0830_20151120_140458_302\",\n",
    "    \"6G7M_20150403_181933_693\",\n",
    "]\n",
    "# image_names = [\n",
    "#     p.stem\n",
    "#     for p in sample(\n",
    "#         list((DATA_DIR / \"correct_exposures\" / \"ground_truth\").iterdir()), k=5\n",
    "#     )\n",
    "# ]\n",
    "exposure_files = [\n",
    "    (DATA_DIR / \"correct_exposures\" / \"exposures\").glob(f\"{name}*\")\n",
    "    for name in image_names\n",
    "]\n",
    "\n",
    "ev_list = [-4.0, -2.0, 0.0, 2.0, 4.0]\n",
    "exposure_files = [\n",
    "    [file for file in files if any(f\"[{ev}]\" in file.name for ev in ev_list)]\n",
    "    for files in exposure_files\n",
    "]\n",
    "exposure_files\n",
    "from dhdrnet.gen_pairs import GenAllPairs\n",
    "\n",
    "generator = GenAllPairs(\n",
    "    raw_path=DATA_DIR / \"dngs\",\n",
    "    out_path=DATA_DIR / \"correct_exposures\",\n",
    "    store_path=None,\n",
    "    compute_scores=False,\n",
    ")"
   ]
  },
  {
   "cell_type": "code",
   "execution_count": null,
   "metadata": {
    "collapsed": false,
    "jupyter": {
     "outputs_hidden": false
    }
   },
   "outputs": [],
   "source": [
    "loaded_image_groups = [\n",
    "    [cv.imread(str(im_path)) for im_path in exp_group] for exp_group in exposure_files\n",
    "]\n",
    "weight_maps_per_image = [\n",
    "    ef.compute_weights(images, None) for images in loaded_image_groups\n",
    "]\n",
    "fused_images = [generator.get_fused(name, ev_list=ev_list) for name in image_names]"
   ]
  },
  {
   "cell_type": "code",
   "execution_count": null,
   "metadata": {
    "collapsed": false,
    "jupyter": {
     "outputs_hidden": false
    }
   },
   "outputs": [],
   "source": [
    "from more_itertools import one\n",
    "\n",
    "# from PIL import Image\n",
    "from skimage.io import imsave\n",
    "from skimage.util import img_as_ubyte\n",
    "\n",
    "from dhdrnet.util import dprint\n",
    "from dhdrnet.vis_util import binarize_weights, recolour_image\n",
    "\n",
    "binarized_wms = [[binarize_weights(wm) for wm in wms] for wms in weight_maps_per_image]\n",
    "cmaps = [\"orange\", \"purple\", \"green\", \"orangered\", \"royalblue\"]\n",
    "for weight_maps, fused, name in zip(weight_maps_per_image, fused_images, image_names):\n",
    "\n",
    "    fig_namedir = figdir / \"weight_maps\" / name\n",
    "    fig_namedir.mkdir(exist_ok=True)\n",
    "\n",
    "    fig, axs = plt.subplots(2, 6, sharex=True, sharey=True, figsize=(14, 4))\n",
    "    coloured_wms, fused_wm = recolour_image(weight_maps, cmaps)\n",
    "\n",
    "    fig.tight_layout()\n",
    "    for ev, wm, ax in zip(ev_list, coloured_wms, np.ravel(axs)):\n",
    "        ax.imshow(\n",
    "            wm,\n",
    "            interpolation=None,\n",
    "        )\n",
    "        ax.set_xlabel(f\"EV {ev}\")\n",
    "        ax.set_xticks([])\n",
    "        ax.set_yticks([])\n",
    "        imsave(fig_namedir / f\"wm_{ev}.png\", wm)\n",
    "\n",
    "    exp_im_zip = zip(\n",
    "        ev_list,\n",
    "        generator.get_exposures(name, ev_list),\n",
    "        np.ravel(axs)[1 + len(ev_list) :],\n",
    "    )\n",
    "    for ev, exp_im, ax in exp_im_zip:\n",
    "        exp_im = exp_im[..., [2, 1, 0]]\n",
    "        ax.imshow(exp_im)\n",
    "        ax.set_xlabel(f\"EV {ev}\")\n",
    "        ax.set_xticks([])\n",
    "        ax.set_yticks([])\n",
    "\n",
    "        imsave(fig_namedir / f\"img_{ev}.png\", img_as_ubyte(exp_im))\n",
    "\n",
    "    axs[0, 5].imshow(fused_wm)\n",
    "    axs[0, 5].set_xlabel(\"Fused Image Components\")\n",
    "    axs[0, 5].set_xticks([])\n",
    "    axs[0, 5].set_yticks([])\n",
    "    imsave(fig_namedir / \"fused_weightmaps.png\", fused_wm)\n",
    "\n",
    "    axs[1, 5].imshow(fused[..., [2, 1, 0]])\n",
    "    axs[1, 5].set_xlabel(\"Fused Image\")\n",
    "    axs[1, 5].set_xticks([])\n",
    "    axs[1, 5].set_yticks([])\n",
    "\n",
    "    fig.savefig(figdir / \"weight_maps\" / f\"wm_fused_colours_{name}.pdf\")"
   ]
  },
  {
   "cell_type": "code",
   "execution_count": null,
   "metadata": {},
   "outputs": [],
   "source": []
  }
 ],
 "metadata": {
  "kernelspec": {
   "display_name": "DHDRNet",
   "language": "python",
   "name": "dhdrnet"
  },
  "language_info": {
   "codemirror_mode": {
    "name": "ipython",
    "version": 3
   },
   "file_extension": ".py",
   "mimetype": "text/x-python",
   "name": "python",
   "nbconvert_exporter": "python",
   "pygments_lexer": "ipython3",
   "version": "3.8.6"
  },
  "name": "fusion weight maps.ipynb"
 },
 "nbformat": 4,
 "nbformat_minor": 4
}
