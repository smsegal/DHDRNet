{
 "cells": [
  {
   "cell_type": "code",
   "execution_count": null,
   "metadata": {},
   "outputs": [],
   "source": [
    "import os\n",
    "import sys\n",
    "module_path = os.path.abspath(os.path.join('../..'))\n",
    "\n",
    "if module_path not in sys.path:\n",
    "    sys.path.append(module_path)\n",
    "    \n",
    "from pathlib import Path\n",
    "import matplotlib.pyplot as plt\n",
    "%load_ext autoreload\n",
    "%autoreload 2"
   ]
  },
  {
   "cell_type": "code",
   "execution_count": null,
   "metadata": {},
   "outputs": [],
   "source": [
    "from dhdrnet import util\n",
    "from dhdrnet.Dataset import HDRDataset\n",
    "import numpy as np\n",
    "\n",
    "data_dir = util.get_project_root() / \"data\"\n",
    "dataset = HDRDataset(\n",
    "    data_dir/\"merged\"/\"mertens\", \n",
    "    exp_dir=data_dir/\"processed\"\n",
    ")\n"
   ]
  },
  {
   "cell_type": "code",
   "execution_count": null,
   "metadata": {
    "jupyter": {
     "outputs_hidden": true
    }
   },
   "outputs": [],
   "source": [
    "for im1, im2 in list(sorted_matched(raw_dir,merged_dir,\"mertens\"))[:5]:\n",
    "    util.show_image_pair(plt.imread(im1),plt.imread(im2))"
   ]
  },
  {
   "cell_type": "code",
   "execution_count": null,
   "metadata": {},
   "outputs": [],
   "source": [
    "def imread_n(imgpaths,indices):\n",
    "    return [plt.imread(imp) for imp in np.array(imgpaths)[[tuple(indices)]]]\n",
    "\n",
    "            \n",
    "raw, merged = zip(*sorted_matched(raw_dir,merged_dir,\"mertens\"))\n",
    "raw = list(raw)\n",
    "rand_ind = np.random.randint(0,len(raw),10)\n",
    "util.show_image_groups(imread_n(raw,rand_ind),imread_n(merged,rand_ind))"
   ]
  },
  {
   "cell_type": "code",
   "execution_count": null,
   "metadata": {},
   "outputs": [],
   "source": []
  }
 ],
 "metadata": {
  "kernelspec": {
   "display_name": "dhdrnet",
   "language": "python",
   "name": "dhdrnet"
  },
  "language_info": {
   "codemirror_mode": {
    "name": "ipython",
    "version": 3
   },
   "file_extension": ".py",
   "mimetype": "text/x-python",
   "name": "python",
   "nbconvert_exporter": "python",
   "pygments_lexer": "ipython3",
   "version": "3.8.2"
  }
 },
 "nbformat": 4,
 "nbformat_minor": 4
}
