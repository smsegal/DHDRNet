{
 "cells": [
  {
   "cell_type": "code",
   "execution_count": null,
   "metadata": {},
   "outputs": [],
   "source": [
    "def test_sample_load():\n",
    "    dataset = HDRDataset(gt_dir=DATA_DIR / \"merged\", raw_dir=DATA_DIR / \"dngs\")\n",
    "    sample_size = 100\n",
    "    for i in np.random.choice(len(dataset), size=sample_size):\n",
    "        sample = dataset[i]\n",
    "        exposures, gt, _name = sample.values()\n",
    "        exposure_shapes = [e.shape for e in exposures]\n",
    "        for e_shape in exposure_shapes:\n",
    "            assert e_shape == gt.shape"
   ]
  }
 ],
 "metadata": {
  "kernelspec": {
   "display_name": "DHDRNet",
   "language": "python",
   "name": "dhdrnet"
  },
  "language_info": {
   "codemirror_mode": {
    "name": "ipython",
    "version": 3
   },
   "file_extension": ".py",
   "mimetype": "text/x-python",
   "name": "python",
   "nbconvert_exporter": "python",
   "pygments_lexer": "ipython3",
   "version": "3.8.2"
  }
 },
 "nbformat": 4,
 "nbformat_minor": 4
}
